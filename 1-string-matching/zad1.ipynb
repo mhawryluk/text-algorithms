{
 "cells": [
  {
   "cell_type": "markdown",
   "metadata": {},
   "source": [
    "# <center>Zadanie nr 1 - Algorytmy dopasowywania wzorców do tekstu</center>"
   ]
  },
  {
   "cell_type": "code",
   "execution_count": 1,
   "metadata": {},
   "outputs": [],
   "source": [
    "from time import time\n",
    "import matplotlib.pyplot as plt"
   ]
  },
  {
   "cell_type": "markdown",
   "metadata": {},
   "source": [
    "## 0. Implementacja algorytmów"
   ]
  },
  {
   "cell_type": "markdown",
   "metadata": {},
   "source": [
    "Funkcje zwracają listę poprawnych przesunięć."
   ]
  },
  {
   "cell_type": "markdown",
   "metadata": {},
   "source": [
    "#### algorytm naiwny"
   ]
  },
  {
   "cell_type": "code",
   "execution_count": 2,
   "metadata": {},
   "outputs": [],
   "source": [
    "def naive(text, pattern):\n",
    "    result = []\n",
    "\n",
    "    pattern_length = len(pattern)\n",
    "    text_length = len(text)\n",
    "\n",
    "    for i in range(text_length - pattern_length + 1):\n",
    "        if text[i:i + pattern_length] == pattern:\n",
    "            result.append(i)\n",
    "\n",
    "    return result"
   ]
  },
  {
   "cell_type": "markdown",
   "metadata": {},
   "source": [
    "#### algorytm automatu skończonego"
   ]
  },
  {
   "cell_type": "code",
   "execution_count": 3,
   "metadata": {},
   "outputs": [],
   "source": [
    "def finite_automaton(text, delta):\n",
    "    result = []\n",
    "\n",
    "    pattern_length = len(delta) - 1\n",
    "    state = 0\n",
    "\n",
    "    for i, char in enumerate(text):\n",
    "        if char in delta[0]:\n",
    "            state = delta[state][char]\n",
    "            if state == pattern_length:\n",
    "                result.append(i - pattern_length + 1)\n",
    "        else:\n",
    "            state = 0\n",
    "\n",
    "    return result"
   ]
  },
  {
   "cell_type": "code",
   "execution_count": 4,
   "metadata": {},
   "outputs": [],
   "source": [
    "def transition_table(pattern):\n",
    "    result = []\n",
    "    alphabet = set([c for c in pattern])\n",
    "    \n",
    "    for q in range(len(pattern) + 1):\n",
    "        result.append({})\n",
    "        \n",
    "        for a in alphabet:\n",
    "            k = min(len(pattern), q + 1)\n",
    "\n",
    "            current_pattern = pattern[:q] + a\n",
    "            \n",
    "            while k > 0 and pattern[:k] != current_pattern[q - k + 1:]:\n",
    "                k -= 1\n",
    "\n",
    "            result[q][a] = k\n",
    "\n",
    "    return result"
   ]
  },
  {
   "cell_type": "markdown",
   "metadata": {},
   "source": [
    "#### algorytm Knutha-Morrisa-Pratta"
   ]
  },
  {
   "cell_type": "code",
   "execution_count": 5,
   "metadata": {},
   "outputs": [],
   "source": [
    "def kmp(text, pattern, prefix_function):\n",
    "    result = []\n",
    "    \n",
    "    pattern_length = len(pattern)\n",
    "    text_length = len(text)\n",
    "\n",
    "    pi = prefix_function\n",
    "    q = 0\n",
    "\n",
    "    for i in range(len(text)):\n",
    "        while q > 0 and pattern[q] != text[i]:\n",
    "            q = pi[q - 1]\n",
    "\n",
    "        if pattern[q] == text[i]:\n",
    "            q += 1\n",
    "\n",
    "        if q == len(pattern):\n",
    "            result.append(i + 1 - q)\n",
    "            q = pi[q - 1]\n",
    "\n",
    "    return result"
   ]
  },
  {
   "cell_type": "code",
   "execution_count": 6,
   "metadata": {},
   "outputs": [],
   "source": [
    "def prefix_function(pattern):\n",
    "    pi = [0]\n",
    "    k = 0\n",
    "\n",
    "    for q in range(1, len(pattern)):\n",
    "        while k > 0 and pattern[k] != pattern[q]:\n",
    "            k = pi[k - 1]\n",
    "\n",
    "        if pattern[k] == pattern[q]:\n",
    "            k += 1\n",
    "\n",
    "        pi.append(k)\n",
    "\n",
    "    return pi"
   ]
  },
  {
   "cell_type": "markdown",
   "metadata": {},
   "source": [
    "## 1. Testy czasu działania algorytmów"
   ]
  },
  {
   "cell_type": "markdown",
   "metadata": {},
   "source": [
    "* Zaimplementuj testy porównujące szybkość działania (osobno czas pre-processingu oraz czas dopasowania) wyżej wymienionych algorytmów."
   ]
  },
  {
   "cell_type": "code",
   "execution_count": 7,
   "metadata": {},
   "outputs": [],
   "source": [
    "def compare_time(text, pattern):\n",
    "    \n",
    "    # algorytm naiwny\n",
    "    start = time()\n",
    "    naive_result = naive(text, pattern)\n",
    "    end = time()\n",
    "    \n",
    "    naive_time = end - start\n",
    "    \n",
    "    print(f'naive algorithm:\\n\\tpreprocessing: 0s\\n\\t     matching: {naive_time}s')\n",
    "    \n",
    "    # algorytm automatu skończonego\n",
    "    preprocessing_start = time()\n",
    "    delta = transition_table(pattern)\n",
    "    preprocessing_end = time()\n",
    "    \n",
    "    automaton_pre_time = preprocessing_end - preprocessing_start\n",
    "    \n",
    "    start = time()\n",
    "    automaton_result = finite_automaton(text, delta)\n",
    "    end = time()\n",
    "    automaton_time = end - start\n",
    "    \n",
    "    print(f'finite automaton algorithm:\\n\\tpreprocessing: {automaton_pre_time}s\\n\\t     matching: {automaton_time}s')\n",
    "    \n",
    "    # algorytm KMP\n",
    "    preprocessing_start = time()\n",
    "    prefix_func = prefix_function(pattern)\n",
    "    preprocessing_end = time()\n",
    "    kmp_pre_time = preprocessing_end - preprocessing_start\n",
    "          \n",
    "    start = time()\n",
    "    kmp_result = kmp(text, pattern, prefix_func)\n",
    "    end = time()\n",
    "    kmp_time = end - start\n",
    "    \n",
    "    print(f'kmp algorithm:\\n\\tpreprocessing: {kmp_pre_time}s\\n\\t     matching: {kmp_time}s')\n",
    "    \n",
    "    # diagram słupkowy\n",
    "    fig, ax = plt.subplots()\n",
    "    x_axis = [\"naive\", \"automaton\", \"kmp\"]\n",
    "\n",
    "    preprocessing_times = [0, automaton_pre_time, kmp_pre_time]\n",
    "    ax.bar(x_axis, preprocessing_times)\n",
    "    \n",
    "    matching_times = [naive_time, automaton_time, kmp_time]\n",
    "    ax.bar(x_axis, matching_times, bottom=preprocessing_times)\n",
    "    \n",
    "    ax.legend(labels=[\"preprocessing\", \"matching\"])\n",
    "    plt.show()"
   ]
  },
  {
   "cell_type": "code",
   "execution_count": 8,
   "metadata": {},
   "outputs": [
    {
     "name": "stdout",
     "output_type": "stream",
     "text": [
      "naive algorithm:\n",
      "\tpreprocessing: 0s\n",
      "\t     matching: 8.344650268554688e-06s\n",
      "finite automaton algorithm:\n",
      "\tpreprocessing: 3.24249267578125e-05s\n",
      "\t     matching: 8.344650268554688e-06s\n",
      "kmp algorithm:\n",
      "\tpreprocessing: 5.4836273193359375e-06s\n",
      "\t     matching: 9.775161743164062e-06s\n"
     ]
    },
    {
     "data": {
      "image/png": "[encoded data removed]",
      "text/plain": [
       "<Figure size 432x288 with 1 Axes>"
      ]
     },
     "metadata": {
      "needs_background": "light"
     },
     "output_type": "display_data"
    }
   ],
   "source": [
    "compare_time(\"abcabcabbabc\", \"abc\")"
   ]
  },
  {
   "cell_type": "markdown",
   "metadata": {},
   "source": [
    "## 2. Przykład działania programu - wyszukanie wzorca \"art\" w ustawie"
   ]
  },
  {
   "cell_type": "markdown",
   "metadata": {},
   "source": [
    "* Znajdź wszystkie wystąpienia wzorca \"art\" w załączonej ustawie, za pomocą każdego algorytmu."
   ]
  },
  {
   "cell_type": "code",
   "execution_count": 9,
   "metadata": {},
   "outputs": [
    {
     "name": "stdout",
     "output_type": "stream",
     "text": [
      "273\n",
      "273\n",
      "273\n"
     ]
    }
   ],
   "source": [
    "with open(\"ustawa.txt\", \"r\") as file:\n",
    "    text = \"\".join(file)\n",
    "    \n",
    "print(len(naive(text, \"art\")))\n",
    "print(len(finite_automaton(text, transition_table(\"art\"))))\n",
    "print(len(kmp(text, \"art\", prefix_function(\"art\"))))"
   ]
  },
  {
   "cell_type": "markdown",
   "metadata": {},
   "source": [
    "Wszystkie trzy algorytmy poprawnie odnalazały wszystkie wystąpienia wzorca \"art\" w załączonej ustawie."
   ]
  },
  {
   "cell_type": "markdown",
   "metadata": {},
   "source": [
    "## 3. Porównanie czasu działania algorytmów w punkcie 2."
   ]
  },
  {
   "cell_type": "markdown",
   "metadata": {},
   "source": [
    "* Porównaj szybkość działania algorytmów dla problemu z p. 2."
   ]
  },
  {
   "cell_type": "code",
   "execution_count": 11,
   "metadata": {},
   "outputs": [
    {
     "name": "stdout",
     "output_type": "stream",
     "text": [
      "naive algorithm:\n",
      "\tpreprocessing: 0s\n",
      "\t     matching: 0.03664755821228027s\n",
      "finite automaton algorithm:\n",
      "\tpreprocessing: 1.7881393432617188e-05s\n",
      "\t     matching: 0.014523029327392578s\n",
      "kmp algorithm:\n",
      "\tpreprocessing: 5.4836273193359375e-06s\n",
      "\t     matching: 0.022025108337402344s\n"
     ]
    },
    {
     "data": {
      "image/png": "[encoded data removed]",
      "text/plain": [
       "<Figure size 432x288 with 1 Axes>"
      ]
     },
     "metadata": {
      "needs_background": "light"
     },
     "output_type": "display_data"
    }
   ],
   "source": [
    "compare_time(text, \"art\")"
   ]
  },
  {
   "cell_type": "markdown",
   "metadata": {},
   "source": [
    "Najwolniejszy okazał się algorytm naiwny. Lepiej poradziły sobie pozostałe dwa algorytmy, z których najmniejszy czas uzyskał algorytm automatu skończonego. Różnica w czasach jest jednak niewielka, co wynika z małej długości wzorca. Z tego powodu również czas preprocessingu jest zaniedbywalnie mały."
   ]
  },
  {
   "cell_type": "markdown",
   "metadata": {},
   "source": [
    "## 4. Niekorzystność algorytmu naiwnego - przykład"
   ]
  },
  {
   "cell_type": "markdown",
   "metadata": {},
   "source": [
    "* Zaproponuj tekst oraz wzorzec, dla którego zmierzony czas działania algorytmów (uwzględniający tylko dopasowanie, bez pre-processingu) automatu skończonego oraz KMP będzie co najmniej 5-krotnie krótszy niż dla algorytmu naiwnego."
   ]
  },
  {
   "cell_type": "code",
   "execution_count": 12,
   "metadata": {},
   "outputs": [
    {
     "name": "stdout",
     "output_type": "stream",
     "text": [
      "naive algorithm:\n",
      "\tpreprocessing: 0s\n",
      "\t     matching: 3.0433154106140137s\n",
      "finite automaton algorithm:\n",
      "\tpreprocessing: 0.30975818634033203s\n",
      "\t     matching: 0.15352797508239746s\n",
      "kmp algorithm:\n",
      "\tpreprocessing: 0.013246536254882812s\n",
      "\t     matching: 0.26661086082458496s\n"
     ]
    },
    {
     "data": {
      "image/png": "[encoded data removed]",
      "text/plain": [
       "<Figure size 432x288 with 1 Axes>"
      ]
     },
     "metadata": {
      "needs_background": "light"
     },
     "output_type": "display_data"
    }
   ],
   "source": [
    "compare_time(text='A'*1_000_000+'B', pattern='A'*100_000)"
   ]
  },
  {
   "cell_type": "markdown",
   "metadata": {},
   "source": [
    "<p style=\"text-align: justify\">Złożoność algorytmu naiwnego to O(m*n), gdzie m - długość wzorca, a n - długość tekstu; natomiast złożoność dopasowywania w przypadku pozostałych dwóch to O(n). W związku z tym, im dłuższy wzorzec, tym większa przewaga algorytmów o złożoności O(n) w sytuacji niekorzystnej dla algorytmu naiwnego. Tak jak w wybranym przykładzie, algorytm naiwny dla każdego przesunięcia będzie porównywał wszystkie znaki wzorca, natomiast pozostałe algorytmy, dzięki utworzonym strukturom, nie będą musiały się cofać. </p>"
   ]
  },
  {
   "cell_type": "markdown",
   "metadata": {},
   "source": [
    "## 5. Czasy preprocessingu - przykład"
   ]
  },
  {
   "cell_type": "markdown",
   "metadata": {},
   "source": [
    "* Zaproponuj wzorzec, dla którego zmierzony czas obliczenia tablicy przejścia automatu skończonego będzie co najmniej 5-krotnie dłuższy niż czas potrzebny na utworzenie funkcji przejścia w algorytmie KMP."
   ]
  },
  {
   "cell_type": "code",
   "execution_count": 13,
   "metadata": {},
   "outputs": [
    {
     "name": "stdout",
     "output_type": "stream",
     "text": [
      "naive algorithm:\n",
      "\tpreprocessing: 0s\n",
      "\t     matching: 6.67572021484375e-06s\n",
      "finite automaton algorithm:\n",
      "\tpreprocessing: 20.81950616836548s\n",
      "\t     matching: 8.344650268554688e-06s\n",
      "kmp algorithm:\n",
      "\tpreprocessing: 0.00031304359436035156s\n",
      "\t     matching: 3.337860107421875e-06s\n"
     ]
    },
    {
     "data": {
      "image/png": "[encoded data removed]",
      "text/plain": [
       "<Figure size 432x288 with 1 Axes>"
      ]
     },
     "metadata": {
      "needs_background": "light"
     },
     "output_type": "display_data"
    }
   ],
   "source": [
    "compare_time(\"a\", \"abcdefghijklmnopqrstuvwxyz\"*100)"
   ]
  },
  {
   "cell_type": "markdown",
   "metadata": {},
   "source": [
    "<p style=\"text-align: justify\">Złożoność funkcji generującej tablicę przejścia dla algorytmu automatu skończonego w uzytej implementacji to O(m<sup>3</sup>|Σ|), gdzie Σ to liczebność alfabetu (w alfabecie uwzględnione są tylko symbole występujące we wzorcu). Natomiast, koszt obliczeniowy tablicy prefiksów dla algorytmu KMP to O(m). W większości przypadków czas wykonania pierwszej z tych funkcji był dużo większy, w szczególności dla powyższej sytuacji, czyli dla dużej liczby różnych znaków we wzorcu i dużej długości wzorca.</p>"
   ]
  },
  {
   "cell_type": "markdown",
   "metadata": {},
   "source": [
    "## 6.  Wnioski"
   ]
  },
  {
   "cell_type": "markdown",
   "metadata": {},
   "source": [
    "* Dla małej długości wzorca wszystkie trzy algorytmy znajdują wystąpienia w podobnym czasie, jednak algorytm naiwny na ogół wypada najgorzej.\n",
    "* Dla długiego wzorca bardziej skomplikowane algorytmy dają dużo krótszy czas wyszukiwania, lecz czas preprocessingu jest znaczący.\n",
    "* Czas preprocessingu dla algorytmu automatu skończonego jest często dużo większy niż ten dla algorytmu KMP oraz wymaga większych zasobów pamięci."
   ]
  },
  {
   "cell_type": "markdown",
   "metadata": {},
   "source": [
    "Marcin Hawryluk, 19.03.2021"
   ]
  }
 ],
 "metadata": {
  "kernelspec": {
   "display_name": "Python 3",
   "language": "python",
   "name": "python3"
  },
  "language_info": {
   "codemirror_mode": {
    "name": "ipython",
    "version": 3
   },
   "file_extension": ".py",
   "mimetype": "text/x-python",
   "name": "python",
   "nbconvert_exporter": "python",
   "pygments_lexer": "ipython3",
   "version": "3.8.6"
  }
 },
 "nbformat": 4,
 "nbformat_minor": 2
}
