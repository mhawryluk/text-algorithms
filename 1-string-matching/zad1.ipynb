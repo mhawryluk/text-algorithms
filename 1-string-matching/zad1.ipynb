{
 "cells": [
  {
   "cell_type": "markdown",
   "metadata": {},
   "source": [
    "# Zadanie nr 1 - Dopasowywanie wzorca"
   ]
  },
  {
   "cell_type": "code",
   "execution_count": 45,
   "metadata": {},
   "outputs": [],
   "source": [
    "from time import time\n",
    "import re\n",
    "import matplotlib.pyplot as plt"
   ]
  },
  {
   "cell_type": "markdown",
   "metadata": {},
   "source": [
    "## 0. Implementacja algorytmów"
   ]
  },
  {
   "cell_type": "markdown",
   "metadata": {},
   "source": [
    "#### algorytm naiwny"
   ]
  },
  {
   "cell_type": "code",
   "execution_count": 8,
   "metadata": {},
   "outputs": [],
   "source": [
    "def naive(text, pattern):\n",
    "    result = []\n",
    "\n",
    "    pattern_length = len(pattern)\n",
    "    text_length = len(text)\n",
    "\n",
    "    for i in range(text_length - pattern_length + 1):\n",
    "        if text[i:i + pattern_length] == pattern:\n",
    "            result.append(i)\n",
    "\n",
    "    return result"
   ]
  },
  {
   "cell_type": "markdown",
   "metadata": {},
   "source": [
    "#### algorytm automatu skończonego"
   ]
  },
  {
   "cell_type": "code",
   "execution_count": 10,
   "metadata": {},
   "outputs": [],
   "source": [
    "def finite_automaton(text, delta):\n",
    "    result = []\n",
    "\n",
    "    pattern_length = len(delta) - 1\n",
    "    state = 0\n",
    "\n",
    "    for i, char in enumerate(text):\n",
    "        if char in delta[0]:\n",
    "            state = delta[state][char]\n",
    "            if state == pattern_length:\n",
    "                result.append(i - pattern_length + 1)\n",
    "        else:\n",
    "            state = 0\n",
    "\n",
    "    return result"
   ]
  },
  {
   "cell_type": "code",
   "execution_count": 13,
   "metadata": {},
   "outputs": [],
   "source": [
    "def transition_table(pattern):\n",
    "    result = []\n",
    "    alphabet = set([c for c in pattern])\n",
    "\n",
    "    for q in range(0, len(pattern) + 1):\n",
    "        result.append({})\n",
    "        for a in alphabet:\n",
    "            k = min(len(pattern), q + 1)\n",
    "\n",
    "            while True:\n",
    "                if re.search(f\"{pattern[:k]}$\", pattern[:q] + a):\n",
    "                    break\n",
    "                k -= 1\n",
    "\n",
    "            result[q][a] = k\n",
    "\n",
    "    return result"
   ]
  },
  {
   "cell_type": "markdown",
   "metadata": {},
   "source": [
    "#### algorytm KMP"
   ]
  },
  {
   "cell_type": "code",
   "execution_count": 14,
   "metadata": {},
   "outputs": [],
   "source": [
    "def kmp(text, pattern, prefix_function):\n",
    "    result = []\n",
    "    \n",
    "    pattern_length = len(pattern)\n",
    "    text_length = len(text)\n",
    "\n",
    "    pi = prefix_function\n",
    "    q = 0\n",
    "\n",
    "    for i in range(len(text)):\n",
    "        while q > 0 and pattern[q] != text[i]:\n",
    "            q = pi[q-1]\n",
    "\n",
    "        if pattern[q] == text[i]:\n",
    "            q += 1\n",
    "\n",
    "        if q == len(pattern):\n",
    "            result.append(i + 1 - q)\n",
    "            q = pi[q-1]\n",
    "\n",
    "    return result"
   ]
  },
  {
   "cell_type": "code",
   "execution_count": 16,
   "metadata": {},
   "outputs": [],
   "source": [
    "def prefix_function(pattern):\n",
    "    pi = [0]\n",
    "    k = 0\n",
    "\n",
    "    for q in range(1, len(pattern)):\n",
    "        while(k > 0 and pattern[k] != pattern[q]):\n",
    "            k = pi[k-1]\n",
    "\n",
    "        if(pattern[k] == pattern[q]):\n",
    "            k += 1\n",
    "\n",
    "        pi.append(k)\n",
    "\n",
    "    return pi"
   ]
  },
  {
   "cell_type": "markdown",
   "metadata": {},
   "source": [
    "## 1. Testy czasu działania algorytmów"
   ]
  },
  {
   "cell_type": "markdown",
   "metadata": {},
   "source": [
    "* Zaimplementuj testy porównujące szybkość działania (osobno czas pre-processingu oraz czas dopasowania) wyżej wymienionych algorytmów."
   ]
  },
  {
   "cell_type": "code",
   "execution_count": 72,
   "metadata": {},
   "outputs": [],
   "source": [
    "def compare_time(text, pattern):\n",
    "    start = time()\n",
    "    naive_result = naive(text, pattern)\n",
    "    end = time()\n",
    "    \n",
    "    naive_time = end - start\n",
    "    \n",
    "    print(f'naive algorithm:\\n\\tpreprocessing: 0s\\n\\tmatching: {naive_time}s')\n",
    "      \n",
    "    preprocessing_start = time()\n",
    "    delta = transition_table(pattern)\n",
    "    preprocessing_end = time()\n",
    "    \n",
    "    automaton_pre_time = preprocessing_end - preprocessing_start\n",
    "    \n",
    "    start = time()\n",
    "    automaton_result = finite_automaton(text, delta)\n",
    "    end = time()\n",
    "    automaton_time = end - start\n",
    "    \n",
    "    print(f'finite automaton algorithm:\\n\\tpreprocessing: {automaton_pre_time}s\\n\\tmatching: {automaton_time}s')\n",
    "        \n",
    "    preprocessing_start = time()\n",
    "    prefix_func = prefix_function(pattern)\n",
    "    preprocessing_end = time()\n",
    "    kmp_pre_time = preprocessing_end - preprocessing_start\n",
    "          \n",
    "    start = time()\n",
    "    kmp_result = kmp(text, pattern, prefix_func)\n",
    "    end = time()\n",
    "    kmp_time = end - start\n",
    "    \n",
    "    print(f'kmp algorithm:\\n\\tpreprocessing: {kmp_pre_time}s\\n\\tmatching: {kmp_time}s')\n",
    "    \n",
    "    fig, ax = plt.subplots()\n",
    "    x_axis = [\"naive\", \"automaton\", \"kmp\"]\n",
    "\n",
    "    preprocessing_times = [0, automaton_pre_time, kmp_pre_time]\n",
    "    ax.bar(x_axis, preprocessing_times)\n",
    "    \n",
    "    matching_times = [naive_time, automaton_time, kmp_time]\n",
    "    ax.bar(x_axis, matching_times, bottom=preprocessing_times)\n",
    "    \n",
    "    ax.legend(labels=[\"preprocessing\", \"matching\"])\n",
    "    plt.show()"
   ]
  },
  {
   "cell_type": "code",
   "execution_count": 73,
   "metadata": {},
   "outputs": [
    {
     "name": "stdout",
     "output_type": "stream",
     "text": [
      "naive algorithm:\n",
      "\tpreprocessing: 0s\n",
      "\tmatching: 8.58306884765625e-06s\n",
      "finite automaton algorithm:\n",
      "\tpreprocessing: 7.963180541992188e-05s\n",
      "\tmatching: 8.58306884765625e-06s\n",
      "kmp algorithm:\n",
      "\tpreprocessing: 4.5299530029296875e-06s\n",
      "\tmatching: 9.059906005859375e-06s\n"
     ]
    },
    {
     "data": {
      "image/png": "[encoded data removed]",
      "text/plain": [
       "<Figure size 432x288 with 1 Axes>"
      ]
     },
     "metadata": {
      "needs_background": "light"
     },
     "output_type": "display_data"
    }
   ],
   "source": [
    "compare_time(\"abcabcabbabc\", \"abc\")"
   ]
  },
  {
   "cell_type": "markdown",
   "metadata": {},
   "source": [
    "## 2. Przykład działania programu - wyszukanie wzorca \"art\" w ustawie"
   ]
  },
  {
   "cell_type": "markdown",
   "metadata": {},
   "source": [
    "* Znajdź wszystkie wystąpienia wzorca \"art\" w załączonej ustawie, za pomocą każdego algorytmu."
   ]
  },
  {
   "cell_type": "code",
   "execution_count": 108,
   "metadata": {},
   "outputs": [
    {
     "name": "stdout",
     "output_type": "stream",
     "text": [
      "273\n",
      "273\n",
      "273\n"
     ]
    }
   ],
   "source": [
    "with open(\"ustawa.txt\", \"r\") as file:\n",
    "    text = \"\".join(file)\n",
    "    \n",
    "print(len(naive(text, \"art\")))\n",
    "print(len(finite_automaton(text, transition_table(\"art\"))))\n",
    "print(len(kmp(text, \"art\", prefix_function(\"art\"))))"
   ]
  },
  {
   "cell_type": "markdown",
   "metadata": {},
   "source": [
    "## 3. Porównanie czasu działania algorytmów w punkcie 2."
   ]
  },
  {
   "cell_type": "markdown",
   "metadata": {},
   "source": [
    "* Porównaj szybkość działania algorytmów dla problemu z p. 2."
   ]
  },
  {
   "cell_type": "code",
   "execution_count": 82,
   "metadata": {},
   "outputs": [
    {
     "name": "stdout",
     "output_type": "stream",
     "text": [
      "naive algorithm:\n",
      "\tpreprocessing: 0s\n",
      "\tmatching: 0.04301261901855469s\n",
      "finite automaton algorithm:\n",
      "\tpreprocessing: 4.982948303222656e-05s\n",
      "\tmatching: 0.015055179595947266s\n",
      "kmp algorithm:\n",
      "\tpreprocessing: 5.4836273193359375e-06s\n",
      "\tmatching: 0.023117542266845703s\n"
     ]
    },
    {
     "data": {
      "image/png": "[encoded data removed]",
      "text/plain": [
       "<Figure size 432x288 with 1 Axes>"
      ]
     },
     "metadata": {
      "needs_background": "light"
     },
     "output_type": "display_data"
    }
   ],
   "source": [
    "compare_time(text, \"art\")"
   ]
  },
  {
   "cell_type": "markdown",
   "metadata": {},
   "source": [
    "## 4. Niekorzystność algorytmu naiwnego - przykład"
   ]
  },
  {
   "cell_type": "markdown",
   "metadata": {},
   "source": [
    "* Zaproponuj tekst oraz wzorzec, dla którego zmierzony czas działania algorytmów (uwzględniający tylko dopasowanie, bez pre-processingu) automatu skończonego oraz KMP będzie co najmniej 5-krotnie krótszy niż dla algorytmu naiwnego."
   ]
  },
  {
   "cell_type": "code",
   "execution_count": 105,
   "metadata": {},
   "outputs": [],
   "source": [
    "#TODO"
   ]
  },
  {
   "cell_type": "markdown",
   "metadata": {},
   "source": [
    "## 5. Czasy preprocessingu - przykład"
   ]
  },
  {
   "cell_type": "markdown",
   "metadata": {},
   "source": [
    "* Zaproponuj wzorzec, dla którego zmierzony czas obliczenia tablicy przejścia automatu skończonego będzie co najmniej 5-krotnie dłuższy, niż czas potrzebny na utworzenie funkcji przejścia w algorytmie KMP."
   ]
  },
  {
   "cell_type": "code",
   "execution_count": 106,
   "metadata": {},
   "outputs": [
    {
     "name": "stdout",
     "output_type": "stream",
     "text": [
      "naive algorithm:\n",
      "\tpreprocessing: 0s\n",
      "\tmatching: 9.298324584960938e-06s\n",
      "finite automaton algorithm:\n",
      "\tpreprocessing: 1.4537067413330078s\n",
      "\tmatching: 1.1682510375976562e-05s\n",
      "kmp algorithm:\n",
      "\tpreprocessing: 6.246566772460938e-05s\n",
      "\tmatching: 5.245208740234375e-06s\n"
     ]
    },
    {
     "data": {
      "image/png": "[encoded data removed]",
      "text/plain": [
       "<Figure size 432x288 with 1 Axes>"
      ]
     },
     "metadata": {
      "needs_background": "light"
     },
     "output_type": "display_data"
    }
   ],
   "source": [
    "compare_time(\"a\", \"abcdefghijklmnopqrstuvwxyz\"*10)"
   ]
  },
  {
   "cell_type": "markdown",
   "metadata": {},
   "source": [
    "## 6. Wnioski"
   ]
  },
  {
   "cell_type": "code",
   "execution_count": 83,
   "metadata": {},
   "outputs": [
    {
     "data": {
      "text/plain": [
       "'abab'"
      ]
     },
     "execution_count": 83,
     "metadata": {},
     "output_type": "execute_result"
    }
   ],
   "source": []
  },
  {
   "cell_type": "markdown",
   "metadata": {},
   "source": [
    "Marcin Hawryluk, 19.03.2020"
   ]
  },
  {
   "cell_type": "code",
   "execution_count": null,
   "metadata": {},
   "outputs": [],
   "source": []
  }
 ],
 "metadata": {
  "kernelspec": {
   "display_name": "Python 3",
   "language": "python",
   "name": "python3"
  },
  "language_info": {
   "codemirror_mode": {
    "name": "ipython",
    "version": 3
   },
   "file_extension": ".py",
   "mimetype": "text/x-python",
   "name": "python",
   "nbconvert_exporter": "python",
   "pygments_lexer": "ipython3",
   "version": "3.8.6"
  }
 },
 "nbformat": 4,
 "nbformat_minor": 2
}
