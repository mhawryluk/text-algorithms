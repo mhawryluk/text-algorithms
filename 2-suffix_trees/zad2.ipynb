{
 "cells": [
  {
   "cell_type": "markdown",
   "metadata": {},
   "source": [
    "# Zadanie nr 2 - Trie i drzewa suffiksów"
   ]
  },
  {
   "cell_type": "code",
   "execution_count": 5,
   "metadata": {},
   "outputs": [],
   "source": [
    "from treelib import Tree\n",
    "from time import time\n",
    "import matplotlib.pyplot as plt"
   ]
  },
  {
   "cell_type": "markdown",
   "metadata": {},
   "source": [
    "1. Przyjmij następujący zbiór danych wejściowych:\n",
    ">* bbbd\n",
    ">* aabbabd\n",
    ">* ababcd\n",
    ">* abcbccd\n",
    ">* załączony plik."
   ]
  },
  {
   "cell_type": "code",
   "execution_count": 6,
   "metadata": {},
   "outputs": [],
   "source": [
    "test_data = ['bbbd', 'aabbabd', 'ababcd', 'abcabccd']\n",
    "\n",
    "with open('1997_714_head.txt', 'r') as file:\n",
    "    text = \"\".join(file)\n",
    "    test_data.append(text)"
   ]
  },
  {
   "cell_type": "markdown",
   "metadata": {},
   "source": [
    "2. Upewnij się, że każdy łańcuch na końcu posiada unikalny znak (marker), a jeśli go nie ma, to dodaj ten znak."
   ]
  },
  {
   "cell_type": "markdown",
   "metadata": {},
   "source": [
    "Do każdego łańcucha dodaję na końcu znak \"$\", aby było spełnione powyższe kryterium."
   ]
  },
  {
   "cell_type": "markdown",
   "metadata": {},
   "source": [
    "3. Zaimplementuj algorytm konstruujący strukturę trie, która przechowuje wszystkie sufiksy łańcucha danego na wejściu."
   ]
  },
  {
   "cell_type": "code",
   "execution_count": null,
   "metadata": {},
   "outputs": [],
   "source": [
    "class TrieNode:\n",
    "    def __init__(self, char):\n",
    "        self.char = char\n",
    "        self.children = {}\n",
    "\n",
    "    def __str__(self):\n",
    "        return self.char\n",
    "\n",
    "    def __lt__(self, other):\n",
    "        return self.char < other.char"
   ]
  },
  {
   "cell_type": "code",
   "execution_count": null,
   "metadata": {},
   "outputs": [],
   "source": [
    "def build_trie(text):\n",
    "    text += '\\$'\n",
    "    head = TrieNode(\"\")\n",
    "\n",
    "    for i in range(len(text)):\n",
    "        current_node = head\n",
    "        for j, char in enumerate(text[i:]):\n",
    "            if char in current_node.children:\n",
    "                current_node = current_node.children[char]\n",
    "            else:\n",
    "                for k, char in enumerate(text[i+j:]):\n",
    "                    new_node = TrieNode(char)\n",
    "                    current_node.children[char] = new_node\n",
    "                    current_node = new_node\n",
    "                break\n",
    "\n",
    "    return head"
   ]
  },
  {
   "cell_type": "code",
   "execution_count": null,
   "metadata": {},
   "outputs": [],
   "source": [
    "def show_trie(text):\n",
    "    tree = Tree()\n",
    "    head = build_trie(text)\n",
    "    tree.create_node(head, head, parent=None)\n",
    "\n",
    "    def create_tree(node):\n",
    "        for child in node.children.values():\n",
    "            tree.create_node(child, child, parent=node)\n",
    "            create_tree(child)\n",
    "\n",
    "    create_tree(head)\n",
    "    tree.show()"
   ]
  },
  {
   "cell_type": "markdown",
   "metadata": {},
   "source": [
    "\n",
    "4. Zaimplementuj algorytm konstruujący drzewo sufiksów.\n",
    "Upewnij się, że powstałe struktury danych są poprawne. Możesz np. sprawdzić, czy struktura zawiera jakiś ciąg znaków i porównać wyniki z algorytmem wyszukiwania wzorców.\n"
   ]
  },
  {
   "cell_type": "code",
   "execution_count": 7,
   "metadata": {},
   "outputs": [],
   "source": [
    "class TreeNode:\n",
    "    def __init__(self, range):\n",
    "        self.range = range\n",
    "        self.children = set()\n",
    "\n",
    "    def __str__(self):\n",
    "        str = \"\"\n",
    "        for i in range(self.range[0], self.range[1]+1):\n",
    "            str += TreeNode.text[i]\n",
    "        return str\n",
    "\n",
    "    def __repr__(self):\n",
    "        str = \"\"\n",
    "        for i in range(self.range[0], self.range[1]+1):\n",
    "            str += TreeNode.text[i]\n",
    "        return str\n",
    "\n",
    "    def __lt__(self, other):\n",
    "        return str(self) < str(other)"
   ]
  },
  {
   "cell_type": "code",
   "execution_count": null,
   "metadata": {},
   "outputs": [],
   "source": [
    "def build_tree(text):\n",
    "    text += '$'\n",
    "    head = TreeNode(range=(0, -1))\n",
    "\n",
    "    for suffix_index in range(len(text)):\n",
    "        current_node = head\n",
    "        current_index = suffix_index\n",
    "        found = 0\n",
    "        while current_index < len(text) and not found:\n",
    "            skip = 0\n",
    "            for child in current_node.children:\n",
    "                common = 0\n",
    "\n",
    "                for k in range(child.range[0], child.range[1]+1):\n",
    "                    if text[suffix_index+common] == text[k]:\n",
    "                        common += 1\n",
    "                    else:\n",
    "                        break\n",
    "\n",
    "                if common == child.range[1] - child.range[0] + 1:\n",
    "                    current_node = child\n",
    "                    current_index += common\n",
    "                    skip = 1\n",
    "\n",
    "                elif common > 0:\n",
    "                    new_child_1 = TreeNode(\n",
    "                        range=(child.range[0]+common, child.range[1]))\n",
    "                    new_child_2 = TreeNode(\n",
    "                        range=(current_index+common, len(text)-1))\n",
    "\n",
    "                    new_child_1.children = child.children\n",
    "\n",
    "                    child.range = (\n",
    "                        child.range[0], child.range[0]+common-1)\n",
    "                    child.children = {new_child_1, new_child_2}\n",
    "                    found = 1\n",
    "                    break\n",
    "\n",
    "            if not found and not skip:\n",
    "                new_child = TreeNode(range=(current_index, len(text)-1))\n",
    "                current_node.children.add(new_child)\n",
    "                break\n",
    "\n",
    "    return head"
   ]
  },
  {
   "cell_type": "code",
   "execution_count": null,
   "metadata": {},
   "outputs": [],
   "source": [
    "def show_trie(text):\n",
    "    tree = Tree()\n",
    "    head = build_trie(text)\n",
    "    tree.create_node(head, head, parent=None)\n",
    "\n",
    "    def create_tree(node):\n",
    "        for child in node.children.values():\n",
    "            tree.create_node(child, child, parent=node)\n",
    "            create_tree(child)\n",
    "\n",
    "    create_tree(head)\n",
    "    tree.show()"
   ]
  },
  {
   "cell_type": "markdown",
   "metadata": {},
   "source": [
    "5. Porównaj szybkość działania algorytmów konstruujących struktury danych dla danych z p. 1 w następujących wariantach:\n",
    "    * Trie (1 pkt) - czas budowy drzewa O(n^2), rozmiar drzewa O(n^2), n - długość tekstu, przy założeniu, że rozmiar alfabetu jest stały\n",
    "    * Drzewo sufiksów bez wykorzystania procedury fast_find oraz elementów \"link\" (2 pkt) - czas budowy O(n^2), rozmiar drzewa O(n)"
   ]
  },
  {
   "cell_type": "markdown",
   "metadata": {},
   "source": [
    "\n",
    "6. Dla zinteresowanych: implementacja i testy w opraciu o algorytm McCreighta lub Ukkonena (+2 pkt) (czas budowy i rozmiar drzewa O(n))."
   ]
  },
  {
   "cell_type": "code",
   "execution_count": null,
   "metadata": {},
   "outputs": [],
   "source": []
  },
  {
   "cell_type": "markdown",
   "metadata": {},
   "source": [
    "Marcin Hawryluk, 03.04.2021"
   ]
  },
  {
   "cell_type": "code",
   "execution_count": null,
   "metadata": {},
   "outputs": [],
   "source": []
  }
 ],
 "metadata": {
  "kernelspec": {
   "display_name": "Python 3.8.6 64-bit",
   "metadata": {
    "interpreter": {
     "hash": "31f2aee4e71d21fbe5cf8b01ff0e069b9275f58929596ceb00d14d90e3e16cd6"
    }
   },
   "name": "python3"
  },
  "language_info": {
   "codemirror_mode": {
    "name": "ipython",
    "version": 3
   },
   "file_extension": ".py",
   "mimetype": "text/x-python",
   "name": "python",
   "nbconvert_exporter": "python",
   "pygments_lexer": "ipython3",
   "version": "3.8.6"
  },
  "orig_nbformat": 2
 },
 "nbformat": 4,
 "nbformat_minor": 2
}