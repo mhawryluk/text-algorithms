{
 "cells": [
  {
   "cell_type": "markdown",
   "metadata": {},
   "source": [
    "# Zadanie nr 2 - Trie i drzewa sufiksów"
   ]
  },
  {
   "cell_type": "code",
   "execution_count": 1,
   "metadata": {},
   "outputs": [],
   "source": [
    "#!pip install treelib\n",
    "from treelib import Tree"
   ]
  },
  {
   "cell_type": "code",
   "execution_count": 2,
   "metadata": {},
   "outputs": [],
   "source": [
    "from time import time\n",
    "import matplotlib.pyplot as plt"
   ]
  },
  {
   "cell_type": "markdown",
   "metadata": {},
   "source": [
    "## 1. Przygotowanie zestawu danych"
   ]
  },
  {
   "cell_type": "markdown",
   "metadata": {},
   "source": [
    "<i>1. Przyjmij następujący zbiór danych wejściowych: </i>\n",
    ">* bbbd\n",
    ">* aabbabd\n",
    ">* ababcd\n",
    ">* abcbccd\n",
    ">* załączony plik. "
   ]
  },
  {
   "cell_type": "code",
   "execution_count": 3,
   "metadata": {},
   "outputs": [],
   "source": [
    "test_data = ['bbbd', 'aabbabd', 'ababcd', 'abcabccd']\n",
    "\n",
    "with open('1997_714_head.txt', 'r') as file:\n",
    "    text = \"\".join(file)\n",
    "    test_data.append(text)"
   ]
  },
  {
   "cell_type": "markdown",
   "metadata": {},
   "source": [
    "<i>2. Upewnij się, że każdy łańcuch na końcu posiada unikalny znak (marker), a jeśli go nie ma, to dodaj ten znak.</i>"
   ]
  },
  {
   "cell_type": "code",
   "execution_count": 4,
   "metadata": {},
   "outputs": [],
   "source": [
    "def unique_last_character(text):\n",
    "    is_unique = text[-1] not in text[:-1]\n",
    "    \n",
    "    if is_unique:\n",
    "        return text\n",
    "    \n",
    "    for i in range(36, 1000):\n",
    "        if chr(i) not in text:\n",
    "            return text + chr(i)"
   ]
  },
  {
   "cell_type": "code",
   "execution_count": 5,
   "metadata": {},
   "outputs": [
    {
     "name": "stdout",
     "output_type": "stream",
     "text": [
      "abc -> abc\n",
      "abb -> abb$\n"
     ]
    }
   ],
   "source": [
    "print(\"abc ->\", unique_last_character(\"abc\"))\n",
    "print(\"abb ->\", unique_last_character(\"abb\"))"
   ]
  },
  {
   "cell_type": "markdown",
   "metadata": {},
   "source": [
    "## 2. Implementacja struktury drzewa Trie"
   ]
  },
  {
   "cell_type": "markdown",
   "metadata": {},
   "source": [
    "<i>3. Zaimplementuj algorytm konstruujący strukturę trie, która przechowuje wszystkie sufiksy łańcucha danego na wejściu.</i>"
   ]
  },
  {
   "cell_type": "code",
   "execution_count": 6,
   "metadata": {},
   "outputs": [],
   "source": [
    "class TrieNode:\n",
    "    def __init__(self, char):\n",
    "        self.char = char\n",
    "        self.children = {}\n",
    "\n",
    "    def __str__(self):\n",
    "        return self.char\n",
    "\n",
    "    def __lt__(self, other):\n",
    "        return self.char < other.char"
   ]
  },
  {
   "cell_type": "code",
   "execution_count": 7,
   "metadata": {},
   "outputs": [],
   "source": [
    "def build_trie(text):\n",
    "    text = unique_last_character(text)\n",
    "    head = TrieNode(\"\")\n",
    "\n",
    "    for suffix_index in range(len(text)):\n",
    "        current_node = head\n",
    "        for char_index, char in enumerate(text[suffix_index:]):\n",
    "            if char in current_node.children:\n",
    "                current_node = current_node.children[char]\n",
    "            else:\n",
    "                for k, char in enumerate(text[suffix_index+char_index:]):\n",
    "                    new_node = TrieNode(char)\n",
    "                    current_node.children[char] = new_node\n",
    "                    current_node = new_node\n",
    "                break\n",
    "                \n",
    "    return head"
   ]
  },
  {
   "cell_type": "markdown",
   "metadata": {},
   "source": [
    "#### wizualizacja za pomocą biblioteki treelib"
   ]
  },
  {
   "cell_type": "code",
   "execution_count": 8,
   "metadata": {},
   "outputs": [],
   "source": [
    "def show_trie(text):\n",
    "    tree = Tree()\n",
    "    head = build_trie(text)\n",
    "    tree.create_node(head, head, parent=None)\n",
    "\n",
    "    def create_tree(node):\n",
    "        for child in node.children.values():\n",
    "            tree.create_node(child, child, parent=node)\n",
    "            create_tree(child)\n",
    "\n",
    "    create_tree(head)\n",
    "    print(\"trie for the word: \", unique_last_character(text))\n",
    "    tree.show()"
   ]
  },
  {
   "cell_type": "code",
   "execution_count": 9,
   "metadata": {},
   "outputs": [
    {
     "name": "stdout",
     "output_type": "stream",
     "text": [
      "trie for the word:  bbbd\n",
      "\n",
      "├── b\n",
      "│   ├── b\n",
      "│   │   ├── b\n",
      "│   │   │   └── d\n",
      "│   │   └── d\n",
      "│   └── d\n",
      "└── d\n",
      "\n"
     ]
    }
   ],
   "source": [
    "show_trie(test_data[0])"
   ]
  },
  {
   "cell_type": "code",
   "execution_count": 10,
   "metadata": {},
   "outputs": [
    {
     "name": "stdout",
     "output_type": "stream",
     "text": [
      "trie for the word:  aabbabd\n",
      "\n",
      "├── a\n",
      "│   ├── a\n",
      "│   │   └── b\n",
      "│   │       └── b\n",
      "│   │           └── a\n",
      "│   │               └── b\n",
      "│   │                   └── d\n",
      "│   └── b\n",
      "│       ├── b\n",
      "│       │   └── a\n",
      "│       │       └── b\n",
      "│       │           └── d\n",
      "│       └── d\n",
      "├── b\n",
      "│   ├── a\n",
      "│   │   └── b\n",
      "│   │       └── d\n",
      "│   ├── b\n",
      "│   │   └── a\n",
      "│   │       └── b\n",
      "│   │           └── d\n",
      "│   └── d\n",
      "└── d\n",
      "\n"
     ]
    }
   ],
   "source": [
    "show_trie(test_data[1])"
   ]
  },
  {
   "cell_type": "code",
   "execution_count": 11,
   "metadata": {},
   "outputs": [
    {
     "name": "stdout",
     "output_type": "stream",
     "text": [
      "trie for the word:  ababcd\n",
      "\n",
      "├── a\n",
      "│   └── b\n",
      "│       ├── a\n",
      "│       │   └── b\n",
      "│       │       └── c\n",
      "│       │           └── d\n",
      "│       └── c\n",
      "│           └── d\n",
      "├── b\n",
      "│   ├── a\n",
      "│   │   └── b\n",
      "│   │       └── c\n",
      "│   │           └── d\n",
      "│   └── c\n",
      "│       └── d\n",
      "├── c\n",
      "│   └── d\n",
      "└── d\n",
      "\n"
     ]
    }
   ],
   "source": [
    "show_trie(test_data[2])"
   ]
  },
  {
   "cell_type": "code",
   "execution_count": 12,
   "metadata": {},
   "outputs": [
    {
     "name": "stdout",
     "output_type": "stream",
     "text": [
      "trie for the word:  abcabccd\n",
      "\n",
      "├── a\n",
      "│   └── b\n",
      "│       └── c\n",
      "│           ├── a\n",
      "│           │   └── b\n",
      "│           │       └── c\n",
      "│           │           └── c\n",
      "│           │               └── d\n",
      "│           └── c\n",
      "│               └── d\n",
      "├── b\n",
      "│   └── c\n",
      "│       ├── a\n",
      "│       │   └── b\n",
      "│       │       └── c\n",
      "│       │           └── c\n",
      "│       │               └── d\n",
      "│       └── c\n",
      "│           └── d\n",
      "├── c\n",
      "│   ├── a\n",
      "│   │   └── b\n",
      "│   │       └── c\n",
      "│   │           └── c\n",
      "│   │               └── d\n",
      "│   ├── c\n",
      "│   │   └── d\n",
      "│   └── d\n",
      "└── d\n",
      "\n"
     ]
    }
   ],
   "source": [
    "show_trie(test_data[3])"
   ]
  },
  {
   "cell_type": "markdown",
   "metadata": {},
   "source": [
    "## 3. Implementacja struktury Drzewa Sufiksów "
   ]
  },
  {
   "cell_type": "markdown",
   "metadata": {},
   "source": [
    "<i>4. Zaimplementuj algorytm konstruujący drzewo sufiksów.\n",
    "Upewnij się, że powstałe struktury danych są poprawne. Możesz np. sprawdzić, czy struktura zawiera jakiś ciąg znaków i porównać wyniki z algorytmem wyszukiwania wzorców.</i>\n"
   ]
  },
  {
   "cell_type": "code",
   "execution_count": 13,
   "metadata": {},
   "outputs": [],
   "source": [
    "class TreeNode:\n",
    "    def __init__(self, range):\n",
    "        self.range = range\n",
    "        self.children = set()\n",
    "        self.suffix_number = None\n",
    "\n",
    "    def __str__(self):\n",
    "        string = \"\"\n",
    "        if self.range[0] < 0:\n",
    "            return \"\"\n",
    "        for i in range(self.range[0], self.range[1]+1):\n",
    "            string += TreeNode.text[i]\n",
    "        \n",
    "        if not self.children:\n",
    "            string += ' (' + str(self.suffix_number) + ')'\n",
    "            \n",
    "        return string\n",
    "\n",
    "    def __repr__(self):\n",
    "        return str(self)\n",
    "\n",
    "    def __lt__(self, other):\n",
    "        return str(self) < str(other)"
   ]
  },
  {
   "cell_type": "code",
   "execution_count": 14,
   "metadata": {},
   "outputs": [],
   "source": [
    "def build_tree(text):\n",
    "    text = unique_last_character(text)\n",
    "    head = TreeNode(range=(0, -1))\n",
    "\n",
    "    for suffix_index in range(len(text)):\n",
    "        current_node = head\n",
    "        current_index = suffix_index\n",
    "        found = 0\n",
    "        while current_index < len(text) and not found:\n",
    "            skip = 0\n",
    "            for child in current_node.children:\n",
    "                common = 0\n",
    "\n",
    "                for k in range(child.range[0], child.range[1]+1):\n",
    "                    if text[current_index+common] == text[k]:\n",
    "                        common += 1\n",
    "                    else:\n",
    "                        break\n",
    "\n",
    "                if common == child.range[1] - child.range[0] + 1:\n",
    "                    current_node = child\n",
    "                    current_index += common\n",
    "                    skip = 1\n",
    "                    break\n",
    "\n",
    "                elif common > 0:\n",
    "                    new_child_1 = TreeNode(\n",
    "                        range=(child.range[0]+common, child.range[1]))\n",
    "                    new_child_2 = TreeNode(\n",
    "                        range=(current_index+common, len(text)-1))\n",
    "\n",
    "                    new_child_1.children = child.children\n",
    "                    new_child_1.suffix_number = child.suffix_number\n",
    "                    current_node = new_child_2\n",
    "\n",
    "                    child.range = (\n",
    "                        child.range[0], child.range[0]+common-1)\n",
    "                    child.children = {new_child_1, new_child_2}\n",
    "                    found = 1\n",
    "                    break\n",
    "\n",
    "            if not found and not skip:\n",
    "                new_child = TreeNode(range=(current_index, len(text)-1))\n",
    "                current_node.children.add(new_child)\n",
    "                current_node = new_child\n",
    "                break\n",
    "        \n",
    "        current_node.suffix_number = suffix_index\n",
    "\n",
    "    return head"
   ]
  },
  {
   "cell_type": "markdown",
   "metadata": {},
   "source": [
    "#### wizualizacja za pomocą biblioteki treelib"
   ]
  },
  {
   "cell_type": "code",
   "execution_count": 15,
   "metadata": {},
   "outputs": [],
   "source": [
    "def show_tree(text, head=None):   \n",
    "    TreeNode.text = unique_last_character(text)\n",
    "    if head is None:\n",
    "        head = build_tree(text)\n",
    "        \n",
    "    tree = Tree()\n",
    "    tree.create_node(head, head, parent=None)\n",
    "\n",
    "    def create_tree(node):\n",
    "        for child in node.children:\n",
    "            tree.create_node(child, child, parent=node)\n",
    "            create_tree(child)\n",
    "\n",
    "    create_tree(head)\n",
    "    print(\"suffix tree for the word: \", unique_last_character(text))\n",
    "    tree.show()"
   ]
  },
  {
   "cell_type": "code",
   "execution_count": 16,
   "metadata": {},
   "outputs": [
    {
     "name": "stdout",
     "output_type": "stream",
     "text": [
      "suffix tree for the word:  bbbd\n",
      "\n",
      "├── b\n",
      "│   ├── b\n",
      "│   │   ├── bd (0)\n",
      "│   │   └── d (1)\n",
      "│   └── d (2)\n",
      "└── d (3)\n",
      "\n"
     ]
    }
   ],
   "source": [
    "show_tree(test_data[0])"
   ]
  },
  {
   "cell_type": "code",
   "execution_count": 17,
   "metadata": {},
   "outputs": [
    {
     "name": "stdout",
     "output_type": "stream",
     "text": [
      "suffix tree for the word:  aabbabd\n",
      "\n",
      "├── a\n",
      "│   ├── abbabd (0)\n",
      "│   └── b\n",
      "│       ├── babd (1)\n",
      "│       └── d (4)\n",
      "├── b\n",
      "│   ├── abd (3)\n",
      "│   ├── babd (2)\n",
      "│   └── d (5)\n",
      "└── d (6)\n",
      "\n"
     ]
    }
   ],
   "source": [
    "show_tree(test_data[1])"
   ]
  },
  {
   "cell_type": "code",
   "execution_count": 18,
   "metadata": {},
   "outputs": [
    {
     "name": "stdout",
     "output_type": "stream",
     "text": [
      "suffix tree for the word:  ababcd\n",
      "\n",
      "├── ab\n",
      "│   ├── abcd (0)\n",
      "│   └── cd (2)\n",
      "├── b\n",
      "│   ├── abcd (1)\n",
      "│   └── cd (3)\n",
      "├── cd (4)\n",
      "└── d (5)\n",
      "\n"
     ]
    }
   ],
   "source": [
    "show_tree(test_data[2])"
   ]
  },
  {
   "cell_type": "code",
   "execution_count": 19,
   "metadata": {},
   "outputs": [
    {
     "name": "stdout",
     "output_type": "stream",
     "text": [
      "suffix tree for the word:  abcabccd\n",
      "\n",
      "├── abc\n",
      "│   ├── abccd (0)\n",
      "│   └── cd (3)\n",
      "├── bc\n",
      "│   ├── abccd (1)\n",
      "│   └── cd (4)\n",
      "├── c\n",
      "│   ├── abccd (2)\n",
      "│   ├── cd (5)\n",
      "│   └── d (6)\n",
      "└── d (7)\n",
      "\n"
     ]
    }
   ],
   "source": [
    "show_tree(test_data[3])"
   ]
  },
  {
   "cell_type": "markdown",
   "metadata": {},
   "source": [
    "## 4. Testy poprawności"
   ]
  },
  {
   "cell_type": "markdown",
   "metadata": {},
   "source": [
    "Aby sprawdzić poprawność zaimplementowanych struktur, szukam wystąpienia podanego wzorca w tekście i rezultat weryfikuję funkcją dopasowywania wzorca, implementującą algorytm KMP."
   ]
  },
  {
   "cell_type": "code",
   "execution_count": 20,
   "metadata": {},
   "outputs": [],
   "source": [
    "def kmp(text, pattern):\n",
    "    result = []\n",
    "\n",
    "    pi = prefix_function(pattern)\n",
    "    q = 0\n",
    "\n",
    "    for i in range(0, len(text)):\n",
    "        while q > 0 and pattern[q] != text[i]:\n",
    "            q = pi[q-1]\n",
    "\n",
    "        if pattern[q] == text[i]:\n",
    "            q = q + 1\n",
    "\n",
    "        if q == len(pattern):\n",
    "            result.append(i + 1 - q)\n",
    "            q = pi[q-1]\n",
    "\n",
    "    return result\n",
    "\n",
    "\n",
    "def prefix_function(pattern):\n",
    "    pi = [0]\n",
    "    k = 0\n",
    "\n",
    "    for q in range(1, len(pattern)):\n",
    "        while(k > 0 and pattern[k] != pattern[q]):\n",
    "            k = pi[k-1]\n",
    "\n",
    "        if(pattern[k] == pattern[q]):\n",
    "            k = k + 1\n",
    "\n",
    "        pi.append(k)\n",
    "\n",
    "    return pi"
   ]
  },
  {
   "cell_type": "code",
   "execution_count": 21,
   "metadata": {},
   "outputs": [],
   "source": [
    "def string_match_trie(text, pattern):\n",
    "    node = build_trie(text)\n",
    "    \n",
    "    for char in pattern:\n",
    "        if char in node.children:\n",
    "            node = node.children[char]\n",
    "        else:\n",
    "            return False\n",
    "        \n",
    "    return True"
   ]
  },
  {
   "cell_type": "code",
   "execution_count": 22,
   "metadata": {},
   "outputs": [
    {
     "name": "stdout",
     "output_type": "stream",
     "text": [
      "True\n",
      "True\n"
     ]
    }
   ],
   "source": [
    "text = \"aabaabaaaba\"\n",
    "pattern = \"aaab\"\n",
    "print(string_match_trie(text, pattern))\n",
    "print(bool(kmp(text, pattern)))"
   ]
  },
  {
   "cell_type": "code",
   "execution_count": 23,
   "metadata": {},
   "outputs": [
    {
     "name": "stdout",
     "output_type": "stream",
     "text": [
      "False\n",
      "False\n"
     ]
    }
   ],
   "source": [
    "text = \"aabaabaaaba\"\n",
    "pattern = \"aaaab\"\n",
    "print(string_match_trie(text, pattern))\n",
    "print(bool(kmp(text, pattern)))"
   ]
  },
  {
   "cell_type": "code",
   "execution_count": 24,
   "metadata": {},
   "outputs": [],
   "source": [
    "def string_match_tree(text, pattern):\n",
    "    node = build_tree(text)\n",
    "    text = unique_last_character(text)\n",
    "    \n",
    "    i = 0\n",
    "    while i < len(pattern):\n",
    "        for child in node.children:\n",
    "            for k in range(child.range[0], child.range[1]+1):\n",
    "                if pattern[i] == text[k]:\n",
    "                    i += 1\n",
    "                    if i == len(pattern):\n",
    "                        return True\n",
    "                else:\n",
    "                    break\n",
    "            else:\n",
    "                node = child\n",
    "                break\n",
    "        else:\n",
    "            return False"
   ]
  },
  {
   "cell_type": "code",
   "execution_count": 25,
   "metadata": {},
   "outputs": [
    {
     "name": "stdout",
     "output_type": "stream",
     "text": [
      "True\n",
      "True\n"
     ]
    }
   ],
   "source": [
    "text = \"aabaabaaaba\"\n",
    "pattern = \"aaab\"\n",
    "print(string_match_tree(text, pattern))\n",
    "print(bool(kmp(text, pattern)))"
   ]
  },
  {
   "cell_type": "code",
   "execution_count": 26,
   "metadata": {},
   "outputs": [
    {
     "name": "stdout",
     "output_type": "stream",
     "text": [
      "False\n",
      "False\n"
     ]
    }
   ],
   "source": [
    "text = \"aabaabaaaba\"\n",
    "pattern = \"aaaab\"\n",
    "print(string_match_tree(text, pattern))\n",
    "print(bool(kmp(text, pattern)))"
   ]
  },
  {
   "cell_type": "markdown",
   "metadata": {},
   "source": [
    "Dla przeprowadzonych testów obie struktury działały poprawnie."
   ]
  },
  {
   "cell_type": "markdown",
   "metadata": {},
   "source": [
    "## 5. Porównanie czasów"
   ]
  },
  {
   "cell_type": "markdown",
   "metadata": {},
   "source": [
    "<i>5. Porównaj szybkość działania algorytmów konstruujących struktury danych dla danych z p. 1 w następujących wariantach: </i>\n",
    "> - Trie (1 pkt) - czas budowy drzewa O(n^2), rozmiar drzewa O(n^2), n - długość tekstu, przy założeniu, że rozmiar alfabetu jest stały\n",
    "> - Drzewo sufiksów bez wykorzystania procedury fast_find oraz elementów \"link\" (2 pkt) - czas budowy O(n^2), rozmiar drzewa O(n) "
   ]
  },
  {
   "cell_type": "code",
   "execution_count": 27,
   "metadata": {},
   "outputs": [],
   "source": [
    "def compare_times(text):\n",
    "    start = time()\n",
    "    build_trie(text)\n",
    "    end = time()\n",
    "    \n",
    "    trie_time = end - start\n",
    "    \n",
    "    start = time()\n",
    "    build_tree(text)\n",
    "    end = time()\n",
    "    \n",
    "    tree_time = end - start\n",
    "    \n",
    "    print(f'trie building time: {trie_time:.3}s')\n",
    "    print(f'tree building time: {tree_time:.3}s\\n')\n",
    "    \n",
    "    fig, ax = plt.subplots()\n",
    "    ax.bar([\"TRIE\", \"TREE\"], [trie_time, tree_time], color=\"darkseagreen\")\n",
    "    plt.show()"
   ]
  },
  {
   "cell_type": "code",
   "execution_count": 28,
   "metadata": {
    "scrolled": false
   },
   "outputs": [
    {
     "name": "stdout",
     "output_type": "stream",
     "text": [
      "text: bbbd\n",
      "trie building time: 1.53e-05s\n",
      "tree building time: 1.55e-05s\n",
      "\n"
     ]
    },
    {
     "data": {
      "image/png": "[encoded data removed]",
      "text/plain": [
       "<Figure size 432x288 with 1 Axes>"
      ]
     },
     "metadata": {
      "needs_background": "light"
     },
     "output_type": "display_data"
    },
    {
     "name": "stdout",
     "output_type": "stream",
     "text": [
      "---\n",
      "text: aabbabd\n",
      "trie building time: 1.65e-05s\n",
      "tree building time: 2.15e-05s\n",
      "\n"
     ]
    },
    {
     "data": {
      "image/png": "[encoded data removed]",
      "text/plain": [
       "<Figure size 432x288 with 1 Axes>"
      ]
     },
     "metadata": {
      "needs_background": "light"
     },
     "output_type": "display_data"
    },
    {
     "name": "stdout",
     "output_type": "stream",
     "text": [
      "---\n",
      "text: ababcd\n",
      "trie building time: 1.93e-05s\n",
      "tree building time: 2.03e-05s\n",
      "\n"
     ]
    },
    {
     "data": {
      "image/png": "[encoded data removed]",
      "text/plain": [
       "<Figure size 432x288 with 1 Axes>"
      ]
     },
     "metadata": {
      "needs_background": "light"
     },
     "output_type": "display_data"
    },
    {
     "name": "stdout",
     "output_type": "stream",
     "text": [
      "---\n",
      "text: abcabccd\n",
      "trie building time: 3.24e-05s\n",
      "tree building time: 4.03e-05s\n",
      "\n"
     ]
    },
    {
     "data": {
      "image/png": "[encoded data removed]",
      "text/plain": [
       "<Figure size 432x288 with 1 Axes>"
      ]
     },
     "metadata": {
      "needs_background": "light"
     },
     "output_type": "display_data"
    },
    {
     "name": "stdout",
     "output_type": "stream",
     "text": [
      "---\n",
      "text: Dz.U. z 1998 r. (...)\n",
      "trie building time: 5.37s\n",
      "tree building time: 0.0565s\n",
      "\n"
     ]
    },
    {
     "data": {
      "image/png": "[encoded data removed]",
      "text/plain": [
       "<Figure size 432x288 with 1 Axes>"
      ]
     },
     "metadata": {
      "needs_background": "light"
     },
     "output_type": "display_data"
    },
    {
     "name": "stdout",
     "output_type": "stream",
     "text": [
      "---\n"
     ]
    }
   ],
   "source": [
    "for text in test_data:\n",
    "    text_excerpt = text if len(text) < 20 else text[:20].strip() + ' (...)'\n",
    "    print(f'text: {text_excerpt}')\n",
    "    compare_times(text)\n",
    "    print('---')"
   ]
  },
  {
   "cell_type": "markdown",
   "metadata": {},
   "source": [
    "Dla krótkich łańcuchów znaków czas potrzebny do budowy struktur był porównywalny. Dla długiego tekstu znacznie szybszy okazał się algorytm tworzenia drzewa sufiksowego, lecz obie implementacje mają złożoność O(n^2)."
   ]
  },
  {
   "cell_type": "markdown",
   "metadata": {},
   "source": [
    "## Wnioski\n",
    " - Struktury Trie oraz Drzewa Sufiksów pozwalają na odnalezienie wystąpienia wzorca w tekście w czasie proporcjonalnym do długości wzorca.\n",
    " - Czas potrzebny do budowy struktur zależy od implementacji. Naiwne podejście daje złożoność O(n^2), sprawdzającą się dla krótkich tekstów, jednak istnieją algorytmy liniowe budowy drzewa sufiksów.\n",
    " - Złożoność pamięciowa trie to O(n^2), a drzewa sufiksów O(n)."
   ]
  },
  {
   "cell_type": "markdown",
   "metadata": {},
   "source": [
    "M. Hawryluk, 08.04.2021"
   ]
  }
 ],
 "metadata": {
  "kernelspec": {
   "display_name": "Python 3",
   "language": "python",
   "name": "python3"
  },
  "language_info": {
   "codemirror_mode": {
    "name": "ipython",
    "version": 3
   },
   "file_extension": ".py",
   "mimetype": "text/x-python",
   "name": "python",
   "nbconvert_exporter": "python",
   "pygments_lexer": "ipython3",
   "version": "3.8.6"
  }
 },
 "nbformat": 4,
 "nbformat_minor": 2
}
