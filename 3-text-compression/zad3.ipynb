{
 "cells": [
  {
   "cell_type": "markdown",
   "id": "original-answer",
   "metadata": {},
   "source": [
    "# Zadanie nr 3 - Kompresja tekstu"
   ]
  },
  {
   "cell_type": "markdown",
   "id": "plain-agency",
   "metadata": {},
   "source": [
    "Zadanie polega na implementacji dwóch algorytmów kompresji:\n",
    "\n",
    "* statycznego algorytmu Huffmana\n",
    "* dynamicznego algorytmu Huffmana"
   ]
  },
  {
   "cell_type": "markdown",
   "id": "amended-apple",
   "metadata": {},
   "source": [
    "## 1. Statyczny algorytm Huffmana"
   ]
  },
  {
   "cell_type": "code",
   "execution_count": 1,
   "id": "going-whole",
   "metadata": {},
   "outputs": [],
   "source": [
    "class Node:\n",
    "    def __init__(self, *args, **kwargs):\n",
    "        self.weight = args[-1]\n",
    "        self.elements = args[:-1]\n",
    "\n",
    "    def __str__(self):\n",
    "        string = \"\"\n",
    "        for element in self.elements:\n",
    "            string += str(element)\n",
    "        return string\n",
    "\n",
    "    def __repr__(self):\n",
    "        return str(self)\n",
    "\n",
    "    def __lt__(self, other):\n",
    "        return self.weight < other.weight"
   ]
  },
  {
   "cell_type": "code",
   "execution_count": 2,
   "id": "conservative-hurricane",
   "metadata": {},
   "outputs": [],
   "source": [
    "def huffman(letter_counts):\n",
    "    nodes = []\n",
    "    for a, weight in letter_counts.items():\n",
    "        nodes.append(Node(a, weight))\n",
    "\n",
    "    internal_nodes = []\n",
    "    leafs = sorted(nodes, key=lambda n: n.weight)\n",
    "\n",
    "    while(len(leafs) + len(internal_nodes) > 1):\n",
    "        element_1 = get_lowest_weight_node(leafs, internal_nodes)\n",
    "        element_2 = get_lowest_weight_node(leafs, internal_nodes)\n",
    "\n",
    "        internal_nodes.append(\n",
    "            Node(element_1, element_2, element_1.weight + element_2.weight))\n",
    "\n",
    "    return internal_nodes[0]\n",
    "\n",
    "\n",
    "def get_lowest_weight_node(leafs, internal):\n",
    "    if not internal or (leafs and leafs[0].weight < internal[0].weight):\n",
    "        return leafs.pop(0)\n",
    "    return internal.pop(0)"
   ]
  },
  {
   "cell_type": "code",
   "execution_count": 3,
   "id": "divided-blogger",
   "metadata": {},
   "outputs": [],
   "source": [
    "def huffman_heap(letter_counts):\n",
    "    heap = []\n",
    "    for a, weight in letter_counts.items():\n",
    "        heappush(heap, Node(a, weight))\n",
    "\n",
    "    while(len(heap) > 1):\n",
    "        element_1 = heappop(heap)\n",
    "        element_2 = heappop(heap)\n",
    "\n",
    "        heappush(heap, Node(element_1, element_2,\n",
    "                 element_1.weight + element_2.weight))\n",
    "\n",
    "    return heappop(heap)"
   ]
  },
  {
   "cell_type": "code",
   "execution_count": 4,
   "id": "conscious-respondent",
   "metadata": {},
   "outputs": [],
   "source": [
    "def get_codes(head):\n",
    "    codes = {}\n",
    "    head.code = ''\n",
    "\n",
    "    def walk_tree(node):\n",
    "        for i, child in enumerate(node.elements):\n",
    "            child.code = node.code + str(i)\n",
    "\n",
    "            if len(child.elements) > 1:\n",
    "                walk_tree(child)\n",
    "            else:\n",
    "                codes[child.elements[0]] = bitarray(child.code)\n",
    "\n",
    "    walk_tree(head)\n",
    "    return codes"
   ]
  },
  {
   "cell_type": "code",
   "execution_count": 5,
   "id": "suspected-devil",
   "metadata": {},
   "outputs": [],
   "source": [
    "def show_tree(head):\n",
    "    tree = Tree()\n",
    "    tree.create_node(str(head) + ' weight: ' +\n",
    "                     str(head.weight), head, parent=None)\n",
    "    head.code = ''\n",
    "\n",
    "    def create_tree(node):\n",
    "        for i, child in enumerate(node.elements):\n",
    "            child.code = node.code + str(i)\n",
    "            tree.create_node(str(child) + ' weight: ' + str(child.weight) + ' code: ' + str(child.code),\n",
    "                             child, parent=node)\n",
    "            if len(child.elements) > 1:\n",
    "                create_tree(child)\n",
    "\n",
    "    create_tree(head)\n",
    "    tree.show()"
   ]
  },
  {
   "cell_type": "markdown",
   "id": "proved-eugene",
   "metadata": {},
   "source": [
    "### kompresja i dekompresja"
   ]
  },
  {
   "cell_type": "markdown",
   "id": "ranking-sampling",
   "metadata": {},
   "source": [
    "1. Opracować format pliku przechowującego dane.\n",
    "2. Zaimplementować algorytm kompresji i dekompresji danych dla tego formatu pliku."
   ]
  },
  {
   "cell_type": "code",
   "execution_count": 6,
   "id": "supposed-feeding",
   "metadata": {},
   "outputs": [],
   "source": [
    "def encode(text, file):\n",
    "    node = huffman(Counter(text))\n",
    "    codes = get_codes(node)\n",
    "    encoded_text = bitarray()\n",
    "    encoded_text.encode(codes, text)\n",
    "\n",
    "    mapping = bitarray()\n",
    "\n",
    "    for letter, code in codes.items():\n",
    "        letter_utf = bitarray()\n",
    "        letter_utf.frombytes(letter.encode('utf-32'))\n",
    "        # print(letter, letter_utf)\n",
    "\n",
    "        code_len = bitarray()\n",
    "        code_len.frombytes(len(code).to_bytes(1, 'big'))\n",
    "        mapping += letter_utf + code_len + code\n",
    "\n",
    "    letters_count = bitarray()\n",
    "    letters_count.frombytes(len(codes).to_bytes(4, 'big'))\n",
    "    text_bit_size = bitarray()\n",
    "    text_bit_size.frombytes(len(encoded_text).to_bytes(4, 'big'))\n",
    "\n",
    "    bit_seq = bitarray()\n",
    "    bit_seq = letters_count + mapping + text_bit_size + encoded_text\n",
    "\n",
    "    with open(file, 'wb') as f:\n",
    "        bit_seq.tofile(f)\n",
    "\n",
    "\n",
    "def decode(file):\n",
    "    with open(file, 'rb') as f:\n",
    "        bit_seq = bitarray()\n",
    "        bit_seq.fromfile(f)\n",
    "\n",
    "    letters_count = ba2int(bit_seq[:32])\n",
    "    decode_dict = {}\n",
    "    i = 32\n",
    "\n",
    "    for _ in range(letters_count):\n",
    "        # print(bit_seq[i:i+64])\n",
    "        letter = bit_seq[i:i+64].tobytes().decode('utf-32')\n",
    "        # print(letter)\n",
    "        i += 64\n",
    "        code_len = ba2int(bit_seq[i:i+8])\n",
    "        i += 8\n",
    "        code = bit_seq[i:i+code_len]\n",
    "        i += code_len\n",
    "\n",
    "        decode_dict[letter] = code\n",
    "\n",
    "    text_len = ba2int(bit_seq[i:i+32])\n",
    "    i += 32\n",
    "\n",
    "    decode_tree = decodetree(decode_dict)\n",
    "    text = ''.join(bit_seq[i:i+text_len].decode(decode_tree))\n",
    "    return text"
   ]
  },
  {
   "cell_type": "markdown",
   "id": "limited-twelve",
   "metadata": {},
   "source": [
    "## 2. Dynamiczny algorytm Huffmana"
   ]
  },
  {
   "cell_type": "markdown",
   "id": "accepting-university",
   "metadata": {},
   "source": [
    "## 3. Testy"
   ]
  },
  {
   "cell_type": "markdown",
   "id": "iraqi-responsibility",
   "metadata": {},
   "source": [
    "3. Zmierzyć współczynnik kompresji (wyrażone w procentach: 1 - plik_skompresowany / plik_nieskompresowany) dla plików tekstowych o rozmiarach: 1kB, 10kB, 100kB, 1MB, dla różnych typów plików: plik tekstowy z portalu Guttenberga, plik źródłowy z Githubu, plik ze znakami losowanymi z rozkładu jednostajnego."
   ]
  },
  {
   "cell_type": "markdown",
   "id": "secondary-grammar",
   "metadata": {},
   "source": [
    "4. Zmierzyć czas kompresji i dekompresji dla plików z punktu 3 dla każdego algorytmu."
   ]
  },
  {
   "cell_type": "markdown",
   "id": "quantitative-miracle",
   "metadata": {},
   "source": [
    "## 4. Wnioski"
   ]
  },
  {
   "cell_type": "markdown",
   "id": "precise-above",
   "metadata": {},
   "source": [
    "- \n",
    "- "
   ]
  },
  {
   "cell_type": "markdown",
   "id": "sound-recall",
   "metadata": {},
   "source": [
    "M. Hawryluk 23.04.2021"
   ]
  }
 ],
 "metadata": {
  "kernelspec": {
   "display_name": "Python 3",
   "language": "python",
   "name": "python3"
  },
  "language_info": {
   "codemirror_mode": {
    "name": "ipython",
    "version": 3
   },
   "file_extension": ".py",
   "mimetype": "text/x-python",
   "name": "python",
   "nbconvert_exporter": "python",
   "pygments_lexer": "ipython3",
   "version": "3.8.6"
  }
 },
 "nbformat": 4,
 "nbformat_minor": 5
}
