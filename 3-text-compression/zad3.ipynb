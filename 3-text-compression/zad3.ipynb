{
 "cells": [
  {
   "cell_type": "markdown",
   "id": "original-answer",
   "metadata": {},
   "source": [
    "# Zadanie nr 3 - Kompresja tekstu"
   ]
  },
  {
   "cell_type": "code",
   "execution_count": 99,
   "id": "average-surface",
   "metadata": {},
   "outputs": [],
   "source": [
    "from collections import defaultdict\n",
    "from treelib import Tree\n",
    "from heapq import heappush, heappop\n",
    "from collections import Counter\n",
    "from bitarray import bitarray, decodetree\n",
    "from bitarray.util import *\n",
    "from queue import Queue\n",
    "import os\n",
    "from random import shuffle\n",
    "import numpy as np\n",
    "import matplotlib.pyplot as plt\n",
    "from time import time"
   ]
  },
  {
   "cell_type": "markdown",
   "id": "plain-agency",
   "metadata": {},
   "source": [
    "Zadanie polega na implementacji dwóch algorytmów kompresji:\n",
    "\n",
    "* statycznego algorytmu Huffmana\n",
    "* dynamicznego algorytmu Huffmana"
   ]
  },
  {
   "cell_type": "markdown",
   "id": "amended-apple",
   "metadata": {},
   "source": [
    "## 1. Statyczny algorytm Huffmana"
   ]
  },
  {
   "cell_type": "code",
   "execution_count": 1,
   "id": "going-whole",
   "metadata": {},
   "outputs": [],
   "source": [
    "class Node:\n",
    "    def __init__(self, *args, **kwargs):\n",
    "        self.weight = args[-1]\n",
    "        self.elements = args[:-1]\n",
    "\n",
    "    def __str__(self):\n",
    "        string = \"\"\n",
    "        for element in self.elements:\n",
    "            string += str(element)\n",
    "        return string\n",
    "\n",
    "    def __repr__(self):\n",
    "        return str(self)\n",
    "\n",
    "    def __lt__(self, other):\n",
    "        return self.weight < other.weight"
   ]
  },
  {
   "cell_type": "code",
   "execution_count": 2,
   "id": "conservative-hurricane",
   "metadata": {},
   "outputs": [],
   "source": [
    "def huffman(letter_counts):\n",
    "    nodes = []\n",
    "    for a, weight in letter_counts.items():\n",
    "        nodes.append(Node(a, weight))\n",
    "\n",
    "    internal_nodes = []\n",
    "    leafs = sorted(nodes, key=lambda n: n.weight)\n",
    "\n",
    "    while(len(leafs) + len(internal_nodes) > 1):\n",
    "        element_1 = get_lowest_weight_node(leafs, internal_nodes)\n",
    "        element_2 = get_lowest_weight_node(leafs, internal_nodes)\n",
    "\n",
    "        internal_nodes.append(\n",
    "            Node(element_1, element_2, element_1.weight + element_2.weight))\n",
    "\n",
    "    return internal_nodes[0]\n",
    "\n",
    "\n",
    "def get_lowest_weight_node(leafs, internal):\n",
    "    if not internal or (leafs and leafs[0].weight < internal[0].weight):\n",
    "        return leafs.pop(0)\n",
    "    return internal.pop(0)"
   ]
  },
  {
   "cell_type": "code",
   "execution_count": 3,
   "id": "divided-blogger",
   "metadata": {},
   "outputs": [],
   "source": [
    "def huffman_heap(letter_counts):\n",
    "    heap = []\n",
    "    for a, weight in letter_counts.items():\n",
    "        heappush(heap, Node(a, weight))\n",
    "\n",
    "    while(len(heap) > 1):\n",
    "        element_1 = heappop(heap)\n",
    "        element_2 = heappop(heap)\n",
    "\n",
    "        heappush(heap, Node(element_1, element_2,\n",
    "                 element_1.weight + element_2.weight))\n",
    "\n",
    "    return heappop(heap)"
   ]
  },
  {
   "cell_type": "code",
   "execution_count": 4,
   "id": "conscious-respondent",
   "metadata": {},
   "outputs": [],
   "source": [
    "def get_codes(head):\n",
    "    codes = {}\n",
    "    head.code = ''\n",
    "\n",
    "    def walk_tree(node):\n",
    "        for i, child in enumerate(node.elements):\n",
    "            child.code = node.code + str(i)\n",
    "\n",
    "            if len(child.elements) > 1:\n",
    "                walk_tree(child)\n",
    "            else:\n",
    "                codes[child.elements[0]] = bitarray(child.code)\n",
    "\n",
    "    walk_tree(head)\n",
    "    return codes"
   ]
  },
  {
   "cell_type": "code",
   "execution_count": 5,
   "id": "suspected-devil",
   "metadata": {},
   "outputs": [],
   "source": [
    "def show_tree(head):\n",
    "    tree = Tree()\n",
    "    tree.create_node(str(head) + ' weight: ' +\n",
    "                     str(head.weight), head, parent=None)\n",
    "    head.code = ''\n",
    "\n",
    "    def create_tree(node):\n",
    "        for i, child in enumerate(node.elements):\n",
    "            child.code = node.code + str(i)\n",
    "            tree.create_node(str(child) + ' weight: ' + str(child.weight) + ' code: ' + str(child.code),\n",
    "                             child, parent=node)\n",
    "            if len(child.elements) > 1:\n",
    "                create_tree(child)\n",
    "\n",
    "    create_tree(head)\n",
    "    tree.show()"
   ]
  },
  {
   "cell_type": "markdown",
   "id": "proved-eugene",
   "metadata": {},
   "source": [
    "### kompresja i dekompresja"
   ]
  },
  {
   "cell_type": "markdown",
   "id": "ranking-sampling",
   "metadata": {},
   "source": [
    "1. Opracować format pliku przechowującego dane.\n",
    "2. Zaimplementować algorytm kompresji i dekompresji danych dla tego formatu pliku."
   ]
  },
  {
   "cell_type": "code",
   "execution_count": 6,
   "id": "supposed-feeding",
   "metadata": {},
   "outputs": [],
   "source": [
    "def encode(text, file):\n",
    "    node = huffman(Counter(text))\n",
    "    codes = get_codes(node)\n",
    "    encoded_text = bitarray()\n",
    "    encoded_text.encode(codes, text)\n",
    "\n",
    "    mapping = bitarray()\n",
    "\n",
    "    for letter, code in codes.items():\n",
    "        letter_utf = bitarray()\n",
    "        letter_utf.frombytes(letter.encode('utf-32'))\n",
    "        # print(letter, letter_utf)\n",
    "\n",
    "        code_len = bitarray()\n",
    "        code_len.frombytes(len(code).to_bytes(1, 'big'))\n",
    "        mapping += letter_utf + code_len + code\n",
    "\n",
    "    letters_count = bitarray()\n",
    "    letters_count.frombytes(len(codes).to_bytes(4, 'big'))\n",
    "    text_bit_size = bitarray()\n",
    "    text_bit_size.frombytes(len(encoded_text).to_bytes(4, 'big'))\n",
    "\n",
    "    bit_seq = bitarray()\n",
    "    bit_seq = letters_count + mapping + text_bit_size + encoded_text\n",
    "\n",
    "    with open(file, 'wb') as f:\n",
    "        bit_seq.tofile(f)\n",
    "\n",
    "\n",
    "def decode(file):\n",
    "    with open(file, 'rb') as f:\n",
    "        bit_seq = bitarray()\n",
    "        bit_seq.fromfile(f)\n",
    "\n",
    "    letters_count = ba2int(bit_seq[:32])\n",
    "    decode_dict = {}\n",
    "    i = 32\n",
    "\n",
    "    for _ in range(letters_count):\n",
    "        # print(bit_seq[i:i+64])\n",
    "        letter = bit_seq[i:i+64].tobytes().decode('utf-32')\n",
    "        # print(letter)\n",
    "        i += 64\n",
    "        code_len = ba2int(bit_seq[i:i+8])\n",
    "        i += 8\n",
    "        code = bit_seq[i:i+code_len]\n",
    "        i += code_len\n",
    "\n",
    "        decode_dict[letter] = code\n",
    "\n",
    "    text_len = ba2int(bit_seq[i:i+32])\n",
    "    i += 32\n",
    "\n",
    "    decode_tree = decodetree(decode_dict)\n",
    "    text = ''.join(bit_seq[i:i+text_len].decode(decode_tree))\n",
    "    return text"
   ]
  },
  {
   "cell_type": "markdown",
   "id": "limited-twelve",
   "metadata": {},
   "source": [
    "## 2. Dynamiczny algorytm Huffmana"
   ]
  },
  {
   "cell_type": "markdown",
   "id": "considerable-anxiety",
   "metadata": {},
   "source": [
    "## 3. Testy"
   ]
  },
  {
   "cell_type": "markdown",
   "id": "iraqi-responsibility",
   "metadata": {},
   "source": [
    "3. Zmierzyć współczynnik kompresji (wyrażone w procentach: 1 - plik_skompresowany / plik_nieskompresowany) dla plików tekstowych o rozmiarach: 1kB, 10kB, 100kB, 1MB, dla różnych typów plików: plik tekstowy z portalu Guttenberga, plik źródłowy z Githubu, plik ze znakami losowanymi z rozkładu jednostajnego."
   ]
  },
  {
   "cell_type": "markdown",
   "id": "alone-resort",
   "metadata": {},
   "source": [
    "#### łańcuchy znaków do testów"
   ]
  },
  {
   "cell_type": "code",
   "execution_count": 36,
   "id": "interim-bunch",
   "metadata": {},
   "outputs": [
    {
     "name": "stdout",
     "output_type": "stream",
     "text": [
      "9674+1 records in\n",
      "9674+1 records out\n",
      "4953149 bytes (5,0 MB, 4,7 MiB) copied, 0,0230552 s, 215 MB/s\n",
      "200+0 records in\n",
      "200+0 records out\n",
      "102400 bytes (102 kB, 100 KiB) copied, 0,000850192 s, 120 MB/s\n",
      "20+0 records in\n",
      "20+0 records out\n",
      "10240 bytes (10 kB, 10 KiB) copied, 0,000526402 s, 19,5 MB/s\n",
      "2+0 records in\n",
      "2+0 records out\n",
      "1024 bytes (1,0 kB, 1,0 KiB) copied, 0,000401524 s, 2,6 MB/s\n"
     ]
    }
   ],
   "source": [
    "# normal distribution random\n",
    "alphabet = list(range(48, 126))\n",
    "shuffle(alphabet)\n",
    "\n",
    "with open('text_files/random_normal_full.txt', 'w') as f:\n",
    "    for _ in range(5000000):\n",
    "        random_index = round(np.random.normal(len(alphabet)//2, len(alphabet)//5))\n",
    "        if random_index < 0 or random_index >= len(alphabet):\n",
    "            continue\n",
    "        f.write(chr(alphabet[random_index]))\n",
    "        \n",
    "!dd if=text_files/random_normal_full.txt of=text_files/random_normal_1MB.txt skip=0 count=11048576  iflag=skip_bytes,count_bytes\n",
    "!dd if=text_files/random_normal_full.txt of=text_files/random_normal_100kB.txt skip=2048 count=102400  iflag=skip_bytes,count_bytes\n",
    "!dd if=text_files/random_normal_full.txt of=text_files/random_normal_10kB.txt skip=4096 count=10240  iflag=skip_bytes,count_bytes\n",
    "!dd if=text_files/random_normal_full.txt of=text_files/random_normal_1kB.txt skip=800 count=1024  iflag=skip_bytes,count_bytes"
   ]
  },
  {
   "cell_type": "code",
   "execution_count": 39,
   "id": "dramatic-candle",
   "metadata": {},
   "outputs": [
    {
     "name": "stdout",
     "output_type": "stream",
     "text": [
      "Counter({'D': 38, 'b': 35, 'h': 34, '3': 32, 'X': 32, '?': 31, 'N': 29, '\\\\': 29, 'x': 29, 'A': 28, '8': 27, ';': 27, 'p': 26, 'M': 25, 'H': 23, 'k': 23, 'P': 23, '1': 23, 'Q': 23, 'J': 22, 'K': 22, 'R': 21, 'V': 18, 'l': 18, '2': 18, '{': 16, '>': 16, '=': 15, '^': 15, 'o': 15, '_': 15, '7': 14, 'd': 14, '0': 13, 'g': 13, 'Y': 13, 'u': 12, 'L': 11, 'q': 10, 'r': 10, '|': 10, 'a': 9, 'T': 9, ']': 9, 'B': 9, '5': 8, 'n': 8, 'e': 8, '9': 7, 'O': 7, 'S': 7, 'w': 7, 'F': 7, '}': 6, '`': 5, 'j': 5, 's': 4, '<': 4, '[': 4, ':': 4, 'f': 4, 'C': 4, 'y': 3, 'm': 3, 'z': 3, 'i': 2, 'Z': 2, '4': 2, 'W': 2, 'G': 2, 'c': 1, '@': 1})\n",
      "t\n"
     ]
    }
   ],
   "source": [
    "sizes = ['1kB', '10kB', '100kB', '1MB']\n",
    "\n",
    "# powieść z portalu Guttenberg\n",
    "book_files = [f'text_files/anna_karenina_{size}.txt' for size in sizes]\n",
    "\n",
    "books = []\n",
    "for book_file in book_files:\n",
    "    with open(book_file, 'r') as f:\n",
    "        books.append(''.join(f).replace('#', '^'))\n",
    "    \n",
    "# linux source code\n",
    "source_code_files = [f'text_files/source_code_{size}.c' for size in sizes]\n",
    "source_codes = []\n",
    "for source_file in source_code_files:\n",
    "    with open(source_file, 'r') as f:\n",
    "        source_codes.append(''.join(f).replace('#', '^'))\n",
    "        \n",
    "\n",
    "# normal distribution random\n",
    "random_normal_files = [f'text_files/random_normal_{size}.txt' for size in sizes]\n",
    "random_normals = []\n",
    "for random_normal in random_normal_files:\n",
    "    with open(random_normal, 'r') as f:\n",
    "        random_normals.append(''.join(f).replace('#', '^'))\n",
    "        \n",
    "print(Counter(random_normals[0]))\n",
    "print(random_normal[0])"
   ]
  },
  {
   "cell_type": "code",
   "execution_count": 40,
   "id": "animated-bridge",
   "metadata": {},
   "outputs": [],
   "source": [
    "def get_compression_rate(file, text):\n",
    "    file_size = os.path.getsize(file)\n",
    "    encode(text, 'encoded')\n",
    "    encoded_size = os.path.getsize('encoded')\n",
    "    return encoded_size/file_size"
   ]
  },
  {
   "cell_type": "code",
   "execution_count": 97,
   "id": "dressed-serbia",
   "metadata": {},
   "outputs": [],
   "source": [
    "def plot_compression_rate(rates_info, title, sizes):\n",
    "    fig, ax = plt.subplots(1, len(rates_info), figsize=(12, 5))\n",
    "    \n",
    "    for i, rates in enumerate(rates_info):\n",
    "        ax.set_title(title)\n",
    "        ax.bar(sizes, rates[0], color='tan')"
   ]
  },
  {
   "cell_type": "code",
   "execution_count": 98,
   "id": "reasonable-music",
   "metadata": {},
   "outputs": [
    {
     "name": "stdout",
     "output_type": "stream",
     "text": [
      "--text_files/anna_karenina--\n",
      "STATIC HUFFMAN COMPRESSION\n",
      "1kB: 97.363281%\n",
      "10kB: 60.341797%\n",
      "100kB: 55.174805%\n",
      "1MB: 54.174805%\n",
      "\n",
      "--text_files/source_code--\n",
      "STATIC HUFFMAN COMPRESSION\n",
      "1kB: 123.046875%\n",
      "10kB: 70.175781%\n",
      "100kB: 64.644531%\n",
      "1MB: 65.202045%\n",
      "\n",
      "--text_files/random_normal--\n",
      "STATIC HUFFMAN COMPRESSION\n",
      "1kB: 142.773438%\n",
      "10kB: 81.494141%\n",
      "100kB: 74.766602%\n",
      "1MB: 74.090321%\n",
      "\n"
     ]
    },
    {
     "data": {
      "image/png": "[encoded data removed]",
      "text/plain": [
       "<Figure size 864x360 with 1 Axes>"
      ]
     },
     "metadata": {
      "needs_background": "light"
     },
     "output_type": "display_data"
    },
    {
     "data": {
      "image/png": "[encoded data removed]",
      "text/plain": [
       "<Figure size 864x360 with 1 Axes>"
      ]
     },
     "metadata": {
      "needs_background": "light"
     },
     "output_type": "display_data"
    },
    {
     "data": {
      "image/png": "[encoded data removed]",
      "text/plain": [
       "<Figure size 864x360 with 1 Axes>"
      ]
     },
     "metadata": {
      "needs_background": "light"
     },
     "output_type": "display_data"
    }
   ],
   "source": [
    "for files, texts in zip([book_files, source_code_files, random_normal_files], [books, source_codes, random_normals]):\n",
    "    file_type = f'--{\"_\".join(files[0].split(\"_\")[:3])}--'\n",
    "    print(file_type)\n",
    "    \n",
    "    print('static huffman compression'.upper())\n",
    "    rates_static = []\n",
    "    for i, size in enumerate(sizes):\n",
    "        rates_static.append(get_compression_rate(files[i], texts[i]))\n",
    "        print(f'{size}: {rates_static[-1]:%}')\n",
    "    \n",
    "    plot_compression_rate([[rates_static, 'static']], file_type, sizes)\n",
    "    print()"
   ]
  },
  {
   "cell_type": "markdown",
   "id": "secondary-grammar",
   "metadata": {},
   "source": [
    "4. Zmierzyć czas kompresji i dekompresji dla plików z punktu 3 dla każdego algorytmu."
   ]
  },
  {
   "cell_type": "code",
   "execution_count": 101,
   "id": "minor-thriller",
   "metadata": {},
   "outputs": [],
   "source": [
    "def count_time(text):\n",
    "    encode_start = time()\n",
    "    encode(text, 'encoded')\n",
    "    encode_end = time()\n",
    "    \n",
    "    decode_start = time()\n",
    "    decode('encoded')\n",
    "    decode_end = time()\n",
    "    \n",
    "    return encode_end - encode_start, decode_end - decode_start"
   ]
  },
  {
   "cell_type": "code",
   "execution_count": 119,
   "id": "retired-letters",
   "metadata": {},
   "outputs": [],
   "source": [
    "def plot_time(encode_time, decode_time, title, sizes):\n",
    "    fig, ax = plt.subplots(1, 1, figsize=(12, 5))\n",
    "    \n",
    "    ax.set_title(title)\n",
    "    ax.bar(sizes, encode_times, color='mediumturquoise')\n",
    "    ax.bar(sizes, decode_times, bottom=encode_times, color='aquamarine')\n",
    "    ax.legend(labels=[\"encoding\", \"decoding\"])\n",
    "    \n",
    "    plt.show()"
   ]
  },
  {
   "cell_type": "code",
   "execution_count": 120,
   "id": "modern-charter",
   "metadata": {},
   "outputs": [
    {
     "name": "stdout",
     "output_type": "stream",
     "text": [
      "--text_files/anna_karenina--\n",
      "STATIC HUFFMAN COMPRESSION\n",
      "1kB: encoding: 0.00073 decoding: 0.00037\n",
      "10kB: encoding: 0.00221 decoding: 0.00073\n",
      "100kB: encoding: 0.00867 decoding: 0.00405\n",
      "1MB: encoding: 0.08213 decoding: 0.03808\n"
     ]
    },
    {
     "data": {
      "image/png": "[encoded data removed]",
      "text/plain": [
       "<Figure size 864x360 with 1 Axes>"
      ]
     },
     "metadata": {
      "needs_background": "light"
     },
     "output_type": "display_data"
    },
    {
     "name": "stdout",
     "output_type": "stream",
     "text": [
      "\n",
      "--text_files/source_code--\n",
      "STATIC HUFFMAN COMPRESSION\n",
      "1kB: encoding: 0.00097 decoding: 0.00025\n",
      "10kB: encoding: 0.00158 decoding: 0.00070\n",
      "100kB: encoding: 0.00944 decoding: 0.00423\n",
      "1MB: encoding: 0.08799 decoding: 0.03851\n"
     ]
    },
    {
     "data": {
      "image/png": "[encoded data removed]",
      "text/plain": [
       "<Figure size 864x360 with 1 Axes>"
      ]
     },
     "metadata": {
      "needs_background": "light"
     },
     "output_type": "display_data"
    },
    {
     "name": "stdout",
     "output_type": "stream",
     "text": [
      "\n",
      "--text_files/random_normal--\n",
      "STATIC HUFFMAN COMPRESSION\n",
      "1kB: encoding: 0.00087 decoding: 0.00025\n",
      "10kB: encoding: 0.00162 decoding: 0.00074\n",
      "100kB: encoding: 0.00974 decoding: 0.00461\n",
      "1MB: encoding: 0.41395 decoding: 0.23124\n"
     ]
    },
    {
     "data": {
      "image/png": "[encoded data removed]",
      "text/plain": [
       "<Figure size 864x360 with 1 Axes>"
      ]
     },
     "metadata": {
      "needs_background": "light"
     },
     "output_type": "display_data"
    },
    {
     "name": "stdout",
     "output_type": "stream",
     "text": [
      "\n"
     ]
    }
   ],
   "source": [
    "for files, texts in zip([book_files, source_code_files, random_normal_files], [books, source_codes, random_normals]):\n",
    "    file_type = f'--{\"_\".join(files[0].split(\"_\")[:3])}--'\n",
    "    print(file_type)\n",
    "    \n",
    "    print('static huffman compression'.upper())\n",
    "    encode_times = []\n",
    "    decode_times = []\n",
    "    \n",
    "    for i, size in enumerate(sizes):\n",
    "        encode_time, decode_time = count_time(texts[i])\n",
    "        encode_times.append(encode_time)\n",
    "        decode_times.append(decode_time)\n",
    "        print(f'{size}: encoding: {encode_time:.5f} decoding: {decode_time:.5f}')\n",
    "    plot_time(encode_times, decode_times, file_type, sizes)\n",
    "        \n",
    "    print()"
   ]
  },
  {
   "cell_type": "markdown",
   "id": "quantitative-miracle",
   "metadata": {},
   "source": [
    "## 4. Wnioski"
   ]
  },
  {
   "cell_type": "markdown",
   "id": "precise-above",
   "metadata": {},
   "source": [
    "- \n",
    "- "
   ]
  },
  {
   "cell_type": "markdown",
   "id": "sound-recall",
   "metadata": {},
   "source": [
    "M. Hawryluk 23.04.2021"
   ]
  }
 ],
 "metadata": {
  "kernelspec": {
   "display_name": "Python 3",
   "language": "python",
   "name": "python3"
  },
  "language_info": {
   "codemirror_mode": {
    "name": "ipython",
    "version": 3
   },
   "file_extension": ".py",
   "mimetype": "text/x-python",
   "name": "python",
   "nbconvert_exporter": "python",
   "pygments_lexer": "ipython3",
   "version": "3.8.6"
  }
 },
 "nbformat": 4,
 "nbformat_minor": 5
}
