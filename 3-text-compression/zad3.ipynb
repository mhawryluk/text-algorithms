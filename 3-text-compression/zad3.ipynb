{
 "cells": [
  {
   "cell_type": "markdown",
   "id": "original-answer",
   "metadata": {},
   "source": [
    "# Zadanie nr 3 - Kompresja tekstu"
   ]
  },
  {
   "cell_type": "code",
   "execution_count": 20,
   "id": "average-surface",
   "metadata": {},
   "outputs": [],
   "source": [
    "from collections import defaultdict\n",
    "from treelib import Tree\n",
    "from heapq import heappush, heappop\n",
    "from collections import Counter\n",
    "from bitarray import bitarray, decodetree\n",
    "from bitarray.util import *\n",
    "from queue import Queue\n",
    "import os\n",
    "from random import shuffle\n",
    "import numpy as np"
   ]
  },
  {
   "cell_type": "markdown",
   "id": "plain-agency",
   "metadata": {},
   "source": [
    "Zadanie polega na implementacji dwóch algorytmów kompresji:\n",
    "\n",
    "* statycznego algorytmu Huffmana\n",
    "* dynamicznego algorytmu Huffmana"
   ]
  },
  {
   "cell_type": "markdown",
   "id": "amended-apple",
   "metadata": {},
   "source": [
    "## 1. Statyczny algorytm Huffmana"
   ]
  },
  {
   "cell_type": "code",
   "execution_count": 1,
   "id": "going-whole",
   "metadata": {},
   "outputs": [],
   "source": [
    "class Node:\n",
    "    def __init__(self, *args, **kwargs):\n",
    "        self.weight = args[-1]\n",
    "        self.elements = args[:-1]\n",
    "\n",
    "    def __str__(self):\n",
    "        string = \"\"\n",
    "        for element in self.elements:\n",
    "            string += str(element)\n",
    "        return string\n",
    "\n",
    "    def __repr__(self):\n",
    "        return str(self)\n",
    "\n",
    "    def __lt__(self, other):\n",
    "        return self.weight < other.weight"
   ]
  },
  {
   "cell_type": "code",
   "execution_count": 2,
   "id": "conservative-hurricane",
   "metadata": {},
   "outputs": [],
   "source": [
    "def huffman(letter_counts):\n",
    "    nodes = []\n",
    "    for a, weight in letter_counts.items():\n",
    "        nodes.append(Node(a, weight))\n",
    "\n",
    "    internal_nodes = []\n",
    "    leafs = sorted(nodes, key=lambda n: n.weight)\n",
    "\n",
    "    while(len(leafs) + len(internal_nodes) > 1):\n",
    "        element_1 = get_lowest_weight_node(leafs, internal_nodes)\n",
    "        element_2 = get_lowest_weight_node(leafs, internal_nodes)\n",
    "\n",
    "        internal_nodes.append(\n",
    "            Node(element_1, element_2, element_1.weight + element_2.weight))\n",
    "\n",
    "    return internal_nodes[0]\n",
    "\n",
    "\n",
    "def get_lowest_weight_node(leafs, internal):\n",
    "    if not internal or (leafs and leafs[0].weight < internal[0].weight):\n",
    "        return leafs.pop(0)\n",
    "    return internal.pop(0)"
   ]
  },
  {
   "cell_type": "code",
   "execution_count": 3,
   "id": "divided-blogger",
   "metadata": {},
   "outputs": [],
   "source": [
    "def huffman_heap(letter_counts):\n",
    "    heap = []\n",
    "    for a, weight in letter_counts.items():\n",
    "        heappush(heap, Node(a, weight))\n",
    "\n",
    "    while(len(heap) > 1):\n",
    "        element_1 = heappop(heap)\n",
    "        element_2 = heappop(heap)\n",
    "\n",
    "        heappush(heap, Node(element_1, element_2,\n",
    "                 element_1.weight + element_2.weight))\n",
    "\n",
    "    return heappop(heap)"
   ]
  },
  {
   "cell_type": "code",
   "execution_count": 4,
   "id": "conscious-respondent",
   "metadata": {},
   "outputs": [],
   "source": [
    "def get_codes(head):\n",
    "    codes = {}\n",
    "    head.code = ''\n",
    "\n",
    "    def walk_tree(node):\n",
    "        for i, child in enumerate(node.elements):\n",
    "            child.code = node.code + str(i)\n",
    "\n",
    "            if len(child.elements) > 1:\n",
    "                walk_tree(child)\n",
    "            else:\n",
    "                codes[child.elements[0]] = bitarray(child.code)\n",
    "\n",
    "    walk_tree(head)\n",
    "    return codes"
   ]
  },
  {
   "cell_type": "code",
   "execution_count": 5,
   "id": "suspected-devil",
   "metadata": {},
   "outputs": [],
   "source": [
    "def show_tree(head):\n",
    "    tree = Tree()\n",
    "    tree.create_node(str(head) + ' weight: ' +\n",
    "                     str(head.weight), head, parent=None)\n",
    "    head.code = ''\n",
    "\n",
    "    def create_tree(node):\n",
    "        for i, child in enumerate(node.elements):\n",
    "            child.code = node.code + str(i)\n",
    "            tree.create_node(str(child) + ' weight: ' + str(child.weight) + ' code: ' + str(child.code),\n",
    "                             child, parent=node)\n",
    "            if len(child.elements) > 1:\n",
    "                create_tree(child)\n",
    "\n",
    "    create_tree(head)\n",
    "    tree.show()"
   ]
  },
  {
   "cell_type": "markdown",
   "id": "proved-eugene",
   "metadata": {},
   "source": [
    "### kompresja i dekompresja"
   ]
  },
  {
   "cell_type": "markdown",
   "id": "ranking-sampling",
   "metadata": {},
   "source": [
    "1. Opracować format pliku przechowującego dane.\n",
    "2. Zaimplementować algorytm kompresji i dekompresji danych dla tego formatu pliku."
   ]
  },
  {
   "cell_type": "code",
   "execution_count": 6,
   "id": "supposed-feeding",
   "metadata": {},
   "outputs": [],
   "source": [
    "def encode(text, file):\n",
    "    node = huffman(Counter(text))\n",
    "    codes = get_codes(node)\n",
    "    encoded_text = bitarray()\n",
    "    encoded_text.encode(codes, text)\n",
    "\n",
    "    mapping = bitarray()\n",
    "\n",
    "    for letter, code in codes.items():\n",
    "        letter_utf = bitarray()\n",
    "        letter_utf.frombytes(letter.encode('utf-32'))\n",
    "        # print(letter, letter_utf)\n",
    "\n",
    "        code_len = bitarray()\n",
    "        code_len.frombytes(len(code).to_bytes(1, 'big'))\n",
    "        mapping += letter_utf + code_len + code\n",
    "\n",
    "    letters_count = bitarray()\n",
    "    letters_count.frombytes(len(codes).to_bytes(4, 'big'))\n",
    "    text_bit_size = bitarray()\n",
    "    text_bit_size.frombytes(len(encoded_text).to_bytes(4, 'big'))\n",
    "\n",
    "    bit_seq = bitarray()\n",
    "    bit_seq = letters_count + mapping + text_bit_size + encoded_text\n",
    "\n",
    "    with open(file, 'wb') as f:\n",
    "        bit_seq.tofile(f)\n",
    "\n",
    "\n",
    "def decode(file):\n",
    "    with open(file, 'rb') as f:\n",
    "        bit_seq = bitarray()\n",
    "        bit_seq.fromfile(f)\n",
    "\n",
    "    letters_count = ba2int(bit_seq[:32])\n",
    "    decode_dict = {}\n",
    "    i = 32\n",
    "\n",
    "    for _ in range(letters_count):\n",
    "        # print(bit_seq[i:i+64])\n",
    "        letter = bit_seq[i:i+64].tobytes().decode('utf-32')\n",
    "        # print(letter)\n",
    "        i += 64\n",
    "        code_len = ba2int(bit_seq[i:i+8])\n",
    "        i += 8\n",
    "        code = bit_seq[i:i+code_len]\n",
    "        i += code_len\n",
    "\n",
    "        decode_dict[letter] = code\n",
    "\n",
    "    text_len = ba2int(bit_seq[i:i+32])\n",
    "    i += 32\n",
    "\n",
    "    decode_tree = decodetree(decode_dict)\n",
    "    text = ''.join(bit_seq[i:i+text_len].decode(decode_tree))\n",
    "    return text"
   ]
  },
  {
   "cell_type": "markdown",
   "id": "limited-twelve",
   "metadata": {},
   "source": [
    "## 2. Dynamiczny algorytm Huffmana"
   ]
  },
  {
   "cell_type": "markdown",
   "id": "considerable-anxiety",
   "metadata": {},
   "source": [
    "## 3. Testy"
   ]
  },
  {
   "cell_type": "markdown",
   "id": "iraqi-responsibility",
   "metadata": {},
   "source": [
    "3. Zmierzyć współczynnik kompresji (wyrażone w procentach: 1 - plik_skompresowany / plik_nieskompresowany) dla plików tekstowych o rozmiarach: 1kB, 10kB, 100kB, 1MB, dla różnych typów plików: plik tekstowy z portalu Guttenberga, plik źródłowy z Githubu, plik ze znakami losowanymi z rozkładu jednostajnego."
   ]
  },
  {
   "cell_type": "markdown",
   "id": "alone-resort",
   "metadata": {},
   "source": [
    "#### łańcuchy znaków do testów"
   ]
  },
  {
   "cell_type": "markdown",
   "id": "fossil-layout",
   "metadata": {},
   "source": [
    "dd if=source_code.c of=source_code_1kB.c skip=8000 count=1024 iflag=skip_bytes,count_bytes"
   ]
  },
  {
   "cell_type": "code",
   "execution_count": 27,
   "id": "dramatic-candle",
   "metadata": {},
   "outputs": [
    {
     "name": "stdout",
     "output_type": "stream",
     "text": [
      "Counter({'o': 26, ';': 22, 'B': 22, 'k': 21, 'l': 20, 'H': 19, ']': 19, '[': 19, 'y': 19, 'w': 18, 'F': 18, 'm': 18, '|': 18, 'n': 17, 'Z': 17, 'E': 17, '6': 16, 'b': 16, 'M': 16, '2': 16, '9': 16, 'u': 15, 'd': 15, 'f': 15, 'W': 15, 'O': 15, '@': 14, '5': 14, 'G': 14, 'r': 14, ':': 14, 't': 14, '<': 14, 'N': 14, '7': 13, 'R': 13, 'D': 13, '>': 13, 'j': 13, '1': 13, 'V': 13, 'X': 13, 'T': 13, 'e': 12, '=': 12, '0': 12, '{': 12, 'S': 12, 's': 12, 'c': 12, '\\\\': 12, 'L': 12, 'h': 11, 'K': 11, 'a': 11, '?': 10, 'v': 10, 'z': 10, 'C': 10, '_': 10, '}': 10, 'U': 9, 'g': 9, '`': 9, 'p': 9, '4': 9, 'Q': 8, 'i': 8, '3': 8, 'J': 8, '^': 8, 'x': 8, 'A': 7, '8': 7, 'P': 6, 'q': 6, 'I': 5, 'Y': 5})\n"
     ]
    }
   ],
   "source": [
    "sizes = ['1kB', '10kB', '100kB', '1MB']\n",
    "\n",
    "# powieść z portalu Guttenberg\n",
    "book_files = [f'text_files/anna_karenina_{size}.txt' for size in sizes]\n",
    "\n",
    "books = []\n",
    "for book_file in book_files:\n",
    "    with open(book_file, 'r') as f:\n",
    "        books.append(''.join(f).replace('#', '^'))\n",
    "    \n",
    "# linux source code\n",
    "source_code_files = [f'text_files/source_code_{size}.c' for size in sizes]\n",
    "source_codes = []\n",
    "for source_file in source_code_files:\n",
    "    with open(source_file, 'r') as f:\n",
    "        source_codes.append(''.join(f).replace('#', '^'))\n",
    "        \n",
    "\n",
    "# normal distribution random\n",
    "random_normal_files = [f'text_files/random_normal_{size}.txt' for size in sizes]\n",
    "random_normals = []\n",
    "for random_normal in random_normal_files:\n",
    "    with open(random_normal, 'r') as f:\n",
    "        random_normals.append(''.join(f).replace('#', '^'))"
   ]
  },
  {
   "cell_type": "code",
   "execution_count": 24,
   "id": "interim-bunch",
   "metadata": {},
   "outputs": [],
   "source": [
    "##### normal distribution random\n",
    "alphabet = list(range(48, 126))\n",
    "shuffle(alphabet)\n",
    "\n",
    "with open('text_files/random_normal_full.txt', 'w') as f:\n",
    "    for _ in range(5000000):\n",
    "        random_index = round(np.random.normal(len(alphabet)//2, len(alphabet)//2))\n",
    "        if random_index < 0 or random_index >= len(alphabet):\n",
    "            continue\n",
    "        f.write(chr(alphabet[random_index]))"
   ]
  },
  {
   "cell_type": "markdown",
   "id": "secondary-grammar",
   "metadata": {},
   "source": [
    "4. Zmierzyć czas kompresji i dekompresji dla plików z punktu 3 dla każdego algorytmu."
   ]
  },
  {
   "cell_type": "markdown",
   "id": "quantitative-miracle",
   "metadata": {},
   "source": [
    "## 4. Wnioski"
   ]
  },
  {
   "cell_type": "markdown",
   "id": "precise-above",
   "metadata": {},
   "source": [
    "- \n",
    "- "
   ]
  },
  {
   "cell_type": "markdown",
   "id": "sound-recall",
   "metadata": {},
   "source": [
    "M. Hawryluk 23.04.2021"
   ]
  }
 ],
 "metadata": {
  "kernelspec": {
   "display_name": "Python 3",
   "language": "python",
   "name": "python3"
  },
  "language_info": {
   "codemirror_mode": {
    "name": "ipython",
    "version": 3
   },
   "file_extension": ".py",
   "mimetype": "text/x-python",
   "name": "python",
   "nbconvert_exporter": "python",
   "pygments_lexer": "ipython3",
   "version": "3.8.6"
  }
 },
 "nbformat": 4,
 "nbformat_minor": 5
}
