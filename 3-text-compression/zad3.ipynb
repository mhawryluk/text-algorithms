{
 "cells": [
  {
   "cell_type": "markdown",
   "id": "original-answer",
   "metadata": {},
   "source": [
    "# Zadanie nr 3 - Kompresja tekstu"
   ]
  },
  {
   "cell_type": "code",
   "execution_count": 137,
   "id": "average-surface",
   "metadata": {},
   "outputs": [],
   "source": [
    "from treelib import Tree\n",
    "from heapq import heappush, heappop\n",
    "from collections import Counter\n",
    "from bitarray import bitarray, decodetree\n",
    "from bitarray.util import *\n",
    "import os\n",
    "from random import shuffle\n",
    "import numpy as np\n",
    "import matplotlib.pyplot as plt\n",
    "from time import time"
   ]
  },
  {
   "cell_type": "markdown",
   "id": "plain-agency",
   "metadata": {},
   "source": [
    "Zadanie polega na implementacji dwóch algorytmów kompresji:\n",
    "\n",
    "* statycznego algorytmu Huffmana\n",
    "* dynamicznego algorytmu Huffmana"
   ]
  },
  {
   "cell_type": "markdown",
   "id": "amended-apple",
   "metadata": {},
   "source": [
    "## 1. Statyczny algorytm Huffmana"
   ]
  },
  {
   "cell_type": "code",
   "execution_count": 138,
   "id": "going-whole",
   "metadata": {},
   "outputs": [],
   "source": [
    "class Node:\n",
    "    def __init__(self, *args, **kwargs):\n",
    "        self.weight = args[-1]\n",
    "        self.elements = args[:-1]\n",
    "\n",
    "    def __str__(self):\n",
    "        string = \"\"\n",
    "        for element in self.elements:\n",
    "            string += str(element)\n",
    "        return string\n",
    "\n",
    "    def __repr__(self):\n",
    "        return str(self)\n",
    "\n",
    "    def __lt__(self, other):\n",
    "        return self.weight < other.weight"
   ]
  },
  {
   "cell_type": "code",
   "execution_count": 139,
   "id": "conservative-hurricane",
   "metadata": {},
   "outputs": [],
   "source": [
    "def huffman(letter_counts):\n",
    "    nodes = []\n",
    "    for a, weight in letter_counts.items():\n",
    "        nodes.append(Node(a, weight))\n",
    "\n",
    "    internal_nodes = []\n",
    "    leafs = sorted(nodes, key=lambda n: n.weight)\n",
    "\n",
    "    while(len(leafs) + len(internal_nodes) > 1):\n",
    "        element_1 = get_lowest_weight_node(leafs, internal_nodes)\n",
    "        element_2 = get_lowest_weight_node(leafs, internal_nodes)\n",
    "\n",
    "        internal_nodes.append(\n",
    "            Node(element_1, element_2, element_1.weight + element_2.weight))\n",
    "\n",
    "    return internal_nodes[0]\n",
    "\n",
    "\n",
    "def get_lowest_weight_node(leafs, internal):\n",
    "    if not internal or (leafs and leafs[0].weight < internal[0].weight):\n",
    "        return leafs.pop(0)\n",
    "    return internal.pop(0)"
   ]
  },
  {
   "cell_type": "code",
   "execution_count": 140,
   "id": "divided-blogger",
   "metadata": {},
   "outputs": [],
   "source": [
    "def huffman_heap(letter_counts):\n",
    "    heap = []\n",
    "    for a, weight in letter_counts.items():\n",
    "        heappush(heap, Node(a, weight))\n",
    "\n",
    "    while(len(heap) > 1):\n",
    "        element_1 = heappop(heap)\n",
    "        element_2 = heappop(heap)\n",
    "\n",
    "        heappush(heap, Node(element_1, element_2,\n",
    "                 element_1.weight + element_2.weight))\n",
    "\n",
    "    return heappop(heap)"
   ]
  },
  {
   "cell_type": "code",
   "execution_count": 141,
   "id": "conscious-respondent",
   "metadata": {},
   "outputs": [],
   "source": [
    "def get_codes(head):\n",
    "    codes = {}\n",
    "    head.code = ''\n",
    "\n",
    "    def walk_tree(node):\n",
    "        for i, child in enumerate(node.elements):\n",
    "            child.code = node.code + str(i)\n",
    "\n",
    "            if len(child.elements) > 1:\n",
    "                walk_tree(child)\n",
    "            else:\n",
    "                codes[child.elements[0]] = bitarray(child.code)\n",
    "\n",
    "    walk_tree(head)\n",
    "    return codes"
   ]
  },
  {
   "cell_type": "markdown",
   "id": "colonial-drain",
   "metadata": {},
   "source": [
    "#### wizualizacja drzewa"
   ]
  },
  {
   "cell_type": "code",
   "execution_count": 142,
   "id": "suspected-devil",
   "metadata": {},
   "outputs": [],
   "source": [
    "def show_tree(head):\n",
    "    tree = Tree()\n",
    "    tree.create_node(str(head) + ' weight: ' +\n",
    "                     str(head.weight), head, parent=None)\n",
    "    head.code = ''\n",
    "\n",
    "    def create_tree(node):\n",
    "        for i, child in enumerate(node.elements):\n",
    "            child.code = node.code + str(i)\n",
    "            tree.create_node(str(child) + ' weight: ' + str(child.weight) + ' code: ' + str(child.code),\n",
    "                             child, parent=node)\n",
    "            if len(child.elements) > 1:\n",
    "                create_tree(child)\n",
    "\n",
    "    create_tree(head)\n",
    "    tree.show()"
   ]
  },
  {
   "cell_type": "code",
   "execution_count": 143,
   "id": "violent-setting",
   "metadata": {},
   "outputs": [
    {
     "name": "stdout",
     "output_type": "stream",
     "text": [
      "arcdb weight: 11\n",
      "├── a weight: 5 code: 0\n",
      "└── rcdb weight: 6 code: 1\n",
      "    ├── cdb weight: 4 code: 11\n",
      "    │   ├── b weight: 2 code: 111\n",
      "    │   └── cd weight: 2 code: 110\n",
      "    │       ├── c weight: 1 code: 1100\n",
      "    │       └── d weight: 1 code: 1101\n",
      "    └── r weight: 2 code: 10\n",
      "\n"
     ]
    }
   ],
   "source": [
    "text = 'abracadabra'\n",
    "head = huffman(Counter(text))\n",
    "show_tree(head)"
   ]
  },
  {
   "cell_type": "markdown",
   "id": "proved-eugene",
   "metadata": {},
   "source": [
    "#### kompresja i dekompresja"
   ]
  },
  {
   "cell_type": "markdown",
   "id": "ranking-sampling",
   "metadata": {},
   "source": [
    "1. Opracować format pliku przechowującego dane.\n",
    "2. Zaimplementować algorytm kompresji i dekompresji danych dla tego formatu pliku."
   ]
  },
  {
   "cell_type": "code",
   "execution_count": 144,
   "id": "supposed-feeding",
   "metadata": {},
   "outputs": [],
   "source": [
    "def encode(text, file):\n",
    "    node = huffman(Counter(text))\n",
    "    codes = get_codes(node)\n",
    "    encoded_text = bitarray()\n",
    "    encoded_text.encode(codes, text)\n",
    "\n",
    "    mapping = bitarray()\n",
    "\n",
    "    for letter, code in codes.items():\n",
    "        letter_utf = bitarray()\n",
    "        letter_utf.frombytes(letter.encode('utf-32'))\n",
    "        # print(letter, letter_utf)\n",
    "\n",
    "        code_len = bitarray()\n",
    "        code_len.frombytes(len(code).to_bytes(1, 'big'))\n",
    "        mapping += letter_utf + code_len + code\n",
    "\n",
    "    letters_count = bitarray()\n",
    "    letters_count.frombytes(len(codes).to_bytes(4, 'big'))\n",
    "    text_bit_size = bitarray()\n",
    "    text_bit_size.frombytes(len(encoded_text).to_bytes(4, 'big'))\n",
    "\n",
    "    bit_seq = bitarray()\n",
    "    bit_seq = letters_count + mapping + text_bit_size + encoded_text\n",
    "\n",
    "    with open(file, 'wb') as f:\n",
    "        bit_seq.tofile(f)\n",
    "\n",
    "\n",
    "def decode(file):\n",
    "    with open(file, 'rb') as f:\n",
    "        bit_seq = bitarray()\n",
    "        bit_seq.fromfile(f)\n",
    "\n",
    "    letters_count = ba2int(bit_seq[:32])\n",
    "    decode_dict = {}\n",
    "    i = 32\n",
    "\n",
    "    for _ in range(letters_count):\n",
    "        # print(bit_seq[i:i+64])\n",
    "        letter = bit_seq[i:i+64].tobytes().decode('utf-32')\n",
    "        # print(letter)\n",
    "        i += 64\n",
    "        code_len = ba2int(bit_seq[i:i+8])\n",
    "        i += 8\n",
    "        code = bit_seq[i:i+code_len]\n",
    "        i += code_len\n",
    "\n",
    "        decode_dict[letter] = code\n",
    "\n",
    "    text_len = ba2int(bit_seq[i:i+32])\n",
    "    i += 32\n",
    "\n",
    "    decode_tree = decodetree(decode_dict)\n",
    "    text = ''.join(bit_seq[i:i+text_len].decode(decode_tree))\n",
    "    return text"
   ]
  },
  {
   "cell_type": "markdown",
   "id": "limited-twelve",
   "metadata": {},
   "source": [
    "## 2. Dynamiczny algorytm Huffmana"
   ]
  },
  {
   "cell_type": "code",
   "execution_count": 145,
   "id": "egyptian-phone",
   "metadata": {},
   "outputs": [],
   "source": [
    "class AdaptiveNode:\n",
    "    def __init__(self, char, weight=0, parent=None):\n",
    "        self.char = char\n",
    "        self.weight = weight\n",
    "        self.parent = parent\n",
    "        self.children = [None, None]\n",
    "        self.index = -1\n",
    "\n",
    "    def __str__(self):\n",
    "        return f'{self.char} {self.weight} {self.code()}'\n",
    "\n",
    "    def __repr__(self):\n",
    "        return self.__str__()\n",
    "\n",
    "    def __lt__(self, other):\n",
    "        return self.weight < other.weight\n",
    "\n",
    "    def code(self):\n",
    "        if self.parent is None:\n",
    "            return bitarray()\n",
    "        if self == self.parent.children[0]:\n",
    "            return self.parent.code() + bitarray('0')\n",
    "        else:\n",
    "            return self.parent.code() + bitarray('1')\n",
    "\n",
    "    def add_child(self, index, child):\n",
    "        self.children[index] = child\n",
    "        child.parent = self\n",
    "\n",
    "    def find_next_at_level(self, level):\n",
    "        if level == 0:\n",
    "            return self\n",
    "\n",
    "        if self.children[0] is not None:\n",
    "            found = self.children[0].find_next_at_level(level+1)\n",
    "            if found is not None:\n",
    "                return found\n",
    "\n",
    "            found = self.children[1].find_next_at_level(level+1)\n",
    "\n",
    "            if found is not None:\n",
    "                return found\n",
    "\n",
    "        return None\n",
    "\n",
    "    def right_sibling(self):\n",
    "        current_node = self\n",
    "        level = 0\n",
    "\n",
    "        while current_node.parent is not None:\n",
    "            if current_node == current_node.parent.children[0]:\n",
    "                found = current_node.parent.children[1].find_next_at_level(\n",
    "                    level)\n",
    "                if found is not None:\n",
    "                    return found\n",
    "\n",
    "            current_node = current_node.parent\n",
    "            level -= 1\n",
    "\n",
    "        current_node = self\n",
    "        depth = 0\n",
    "\n",
    "        while current_node.parent is not None:\n",
    "            current_node = current_node.parent\n",
    "            depth += 1\n",
    "\n",
    "        found = current_node.find_next_at_level(-depth + 1)\n",
    "\n",
    "        if found is not None:\n",
    "            return found\n",
    "\n",
    "        return None\n",
    "\n",
    "    def increment(self):\n",
    "        self.weight += 1\n",
    "\n",
    "        if self.parent:\n",
    "            right_sib = self.right_sibling()\n",
    "\n",
    "            if right_sib.weight < self.weight:\n",
    "                while True:\n",
    "                    next_sib = right_sib.right_sibling()\n",
    "                    if next_sib is None or right_sib.weight != next_sib.weight:\n",
    "                        break\n",
    "                    else:\n",
    "                        right_sib = next_sib\n",
    "\n",
    "                if right_sib != self.parent:\n",
    "                    swap(self, right_sib)\n",
    "\n",
    "            self.parent.increment()\n",
    "\n",
    "def swap(node1, node2):\n",
    "    node1.parent, node2.parent = node2.parent, node1.parent\n",
    "    if node1.parent.children[0] == node2:\n",
    "        node1.parent.children[0] = node1\n",
    "    else:\n",
    "        node1.parent.children[1] = node1\n",
    "\n",
    "    if node2.parent.children[0] == node1:\n",
    "        node2.parent.children[0] = node2\n",
    "    else:\n",
    "        node2.parent.children[1] = node2"
   ]
  },
  {
   "cell_type": "code",
   "execution_count": 195,
   "id": "italic-visibility",
   "metadata": {},
   "outputs": [],
   "source": [
    "def adaptive_huffman(text):\n",
    "    AdaptiveNode.nodes = []\n",
    "    nodes = {\"#\": AdaptiveNode(\"#\", weight=0)}\n",
    "    head = nodes[\"#\"]\n",
    "\n",
    "    bits = bitarray()\n",
    "\n",
    "    for letter in text:\n",
    "        #show_tree_adaptive(head)\n",
    "        if letter in nodes:\n",
    "            node = nodes[letter]\n",
    "            #print(node.code(), end=' <--')\n",
    "            # print(node.char)\n",
    "            bits += node.code()\n",
    "            #update_tree(node, head)\n",
    "            node.increment()\n",
    "        else:\n",
    "            updated_node = nodes[\"#\"]\n",
    "            #print(\"{0:b}\".format(ord(letter)) + ' ' + letter)\n",
    "            letter_bits = bitarray()\n",
    "            letter_bits.frombytes(letter.encode('utf-32'))\n",
    "            # print(updated_node.code(), end=' <- ')\n",
    "            # print(updated_node.char)\n",
    "            bits += updated_node.code()\n",
    "            bits += letter_bits\n",
    "            #print(letter, letter_bits)\n",
    "            node = AdaptiveNode(letter, parent=updated_node, weight=1)\n",
    "            nodes[letter] = node\n",
    "            del nodes[\"#\"]\n",
    "            zero_node = AdaptiveNode(\"#\", parent=updated_node, weight=0)\n",
    "            updated_node.add_child(0, zero_node)\n",
    "            updated_node.add_child(1, node)\n",
    "            nodes[\"#\"] = zero_node\n",
    "            #update_tree(updated_node, head)\n",
    "            updated_node.increment()\n",
    "\n",
    "    #print(bits)\n",
    "    return head, bits"
   ]
  },
  {
   "cell_type": "markdown",
   "id": "driven-montana",
   "metadata": {},
   "source": [
    "#### wizualizacja drzewa"
   ]
  },
  {
   "cell_type": "code",
   "execution_count": 147,
   "id": "indoor-pound",
   "metadata": {},
   "outputs": [],
   "source": [
    "def show_tree_adaptive(head):\n",
    "    tree = Tree()\n",
    "    tree.create_node(str(head), head, parent=None)\n",
    "\n",
    "    def create_tree(node):\n",
    "        for i, child in enumerate(node.children):\n",
    "            tree.create_node(str(child),\n",
    "                             child, parent=node)\n",
    "\n",
    "            if child and child.children[0] and child.children[1]:\n",
    "                create_tree(child)\n",
    "\n",
    "    create_tree(head)\n",
    "    tree.show()"
   ]
  },
  {
   "cell_type": "code",
   "execution_count": 148,
   "id": "radio-elephant",
   "metadata": {},
   "outputs": [
    {
     "name": "stdout",
     "output_type": "stream",
     "text": [
      "# 11 bitarray()\n",
      "├── # 6 bitarray('1')\n",
      "│   ├── # 2 bitarray('10')\n",
      "│   │   ├── # 1 bitarray('100')\n",
      "│   │   │   ├── # 0 bitarray('1000')\n",
      "│   │   │   └── d 1 bitarray('1001')\n",
      "│   │   └── c 1 bitarray('101')\n",
      "│   └── # 4 bitarray('11')\n",
      "│       ├── b 2 bitarray('111')\n",
      "│       └── r 2 bitarray('110')\n",
      "└── a 5 bitarray('0')\n",
      "\n"
     ]
    }
   ],
   "source": [
    "text = 'abracadabra'\n",
    "head, bits = adaptive_huffman(text)\n",
    "show_tree_adaptive(head)"
   ]
  },
  {
   "cell_type": "markdown",
   "id": "cellular-occupation",
   "metadata": {},
   "source": [
    "#### kompresja i dekompresja"
   ]
  },
  {
   "cell_type": "code",
   "execution_count": 160,
   "id": "level-composite",
   "metadata": {},
   "outputs": [],
   "source": [
    "def encode_adaptive(text, file):\n",
    "    head, bits = adaptive_huffman(text)\n",
    "    \n",
    "    with open(file, 'wb') as f:\n",
    "        bits.tofile(f)"
   ]
  },
  {
   "cell_type": "code",
   "execution_count": 196,
   "id": "western-colleague",
   "metadata": {},
   "outputs": [],
   "source": [
    "def decode_adaptive(file):\n",
    "    with open(file, 'rb') as f:\n",
    "        bits = bitarray()\n",
    "        bits.fromfile(f)\n",
    "        \n",
    "    decoded = \"\"\n",
    "    nodes = {\"#\": AdaptiveNode(\"#\", weight=0)}\n",
    "    head = nodes[\"#\"]\n",
    "    current_node = head\n",
    "    index = 0\n",
    "\n",
    "    while index <= len(bits):\n",
    "        #show_tree_adaptive(head)\n",
    "\n",
    "        if current_node.children[0] is None and current_node.children[1] is None:\n",
    "            if current_node.char != \"#\":\n",
    "                decoded += current_node.char\n",
    "                # print(current_node.char)\n",
    "                current_node.increment()\n",
    "\n",
    "            else:\n",
    "                #print(bits[index:index+8])\n",
    "                letter = bits[index:index+64].tobytes().decode('utf-32')\n",
    "                #print(bits[index:index+8], letter)\n",
    "\n",
    "                index += 64\n",
    "\n",
    "                decoded += letter\n",
    "                node = AdaptiveNode(letter, weight=1)\n",
    "                nodes[letter] = node\n",
    "\n",
    "                zero_node = AdaptiveNode(\"#\")\n",
    "                current_node.add_child(0, zero_node)\n",
    "                current_node.add_child(1, node)\n",
    "                nodes[\"#\"] = zero_node\n",
    "                current_node.increment()\n",
    "\n",
    "            current_node = head\n",
    "\n",
    "        if index < len(bits):\n",
    "            current_node = current_node.children[1] if bits[index] == 1 else current_node.children[0]\n",
    "\n",
    "        index += 1\n",
    "\n",
    "    return decoded"
   ]
  },
  {
   "cell_type": "markdown",
   "id": "considerable-anxiety",
   "metadata": {},
   "source": [
    "## 3. Testy"
   ]
  },
  {
   "cell_type": "markdown",
   "id": "iraqi-responsibility",
   "metadata": {},
   "source": [
    "3. Zmierzyć współczynnik kompresji (wyrażone w procentach: 1 - plik_skompresowany / plik_nieskompresowany) dla plików tekstowych o rozmiarach: 1kB, 10kB, 100kB, 1MB, dla różnych typów plików: plik tekstowy z portalu Guttenberga, plik źródłowy z Githubu, plik ze znakami losowanymi z rozkładu jednostajnego."
   ]
  },
  {
   "cell_type": "markdown",
   "id": "alone-resort",
   "metadata": {},
   "source": [
    "#### łańcuchy znaków do testów"
   ]
  },
  {
   "cell_type": "code",
   "execution_count": 185,
   "id": "interim-bunch",
   "metadata": {},
   "outputs": [
    {
     "name": "stdout",
     "output_type": "stream",
     "text": [
      "9674+1 records in\n",
      "9674+1 records out\n",
      "4953343 bytes (5,0 MB, 4,7 MiB) copied, 0,0229418 s, 216 MB/s\n",
      "200+0 records in\n",
      "200+0 records out\n",
      "102400 bytes (102 kB, 100 KiB) copied, 0,00115181 s, 88,9 MB/s\n",
      "20+0 records in\n",
      "20+0 records out\n",
      "10240 bytes (10 kB, 10 KiB) copied, 0,000494403 s, 20,7 MB/s\n",
      "2+0 records in\n",
      "2+0 records out\n",
      "1024 bytes (1,0 kB, 1,0 KiB) copied, 0,000372391 s, 2,7 MB/s\n"
     ]
    }
   ],
   "source": [
    "# normal distribution random\n",
    "alphabet = list(range(48, 126))\n",
    "shuffle(alphabet)\n",
    "\n",
    "with open('text_files/random_normal_full.txt', 'w') as f:\n",
    "    for _ in range(5000000):\n",
    "        random_index = round(np.random.normal(len(alphabet)//2, len(alphabet)//5))\n",
    "        if random_index < 0 or random_index >= len(alphabet):\n",
    "            continue\n",
    "        f.write(chr(alphabet[random_index]))\n",
    "        \n",
    "!dd if=text_files/random_normal_full.txt of=text_files/random_normal_1MB.txt skip=0 count=11048576  iflag=skip_bytes,count_bytes\n",
    "!dd if=text_files/random_normal_full.txt of=text_files/random_normal_100kB.txt skip=2048 count=102400  iflag=skip_bytes,count_bytes\n",
    "!dd if=text_files/random_normal_full.txt of=text_files/random_normal_10kB.txt skip=4096 count=10240  iflag=skip_bytes,count_bytes\n",
    "!dd if=text_files/random_normal_full.txt of=text_files/random_normal_1kB.txt skip=800 count=1024  iflag=skip_bytes,count_bytes"
   ]
  },
  {
   "cell_type": "code",
   "execution_count": 186,
   "id": "dramatic-candle",
   "metadata": {},
   "outputs": [
    {
     "name": "stdout",
     "output_type": "stream",
     "text": [
      "Counter({'_': 39, 'l': 36, 'C': 34, 'J': 30, 'y': 29, '>': 29, 'D': 29, 'i': 28, 'I': 28, 'g': 27, '?': 27, ':': 25, 'E': 25, '@': 24, 'U': 24, 'Y': 22, '`': 22, '7': 22, '{': 21, '3': 20, 'b': 19, 'd': 19, '1': 19, 'f': 19, 'T': 18, 'q': 18, '}': 18, '<': 18, 'r': 17, 'O': 17, '9': 16, ']': 15, 'j': 15, 'u': 14, 'c': 14, 'n': 14, 'B': 13, '^': 13, 'v': 13, 'A': 12, 'M': 10, 'R': 10, 'x': 9, 's': 9, 'N': 9, 'Z': 9, 'G': 8, 'Q': 8, 'K': 7, 'W': 7, 'S': 7, 'e': 7, 'X': 6, '2': 5, '|': 5, '4': 4, '\\\\': 4, '5': 4, '8': 3, 'L': 3, '[': 3, 'p': 3, 't': 3, 'o': 3, 'F': 2, '6': 2, 'h': 2, 'k': 2, 'w': 2, 'V': 2, 'a': 2, '=': 1, '0': 1})\n",
      "t\n"
     ]
    }
   ],
   "source": [
    "sizes = ['1kB', '10kB', '100kB', '1MB']\n",
    "\n",
    "# powieść z portalu Guttenberg\n",
    "book_files = [f'text_files/anna_karenina_{size}.txt' for size in sizes]\n",
    "\n",
    "books = []\n",
    "for book_file in book_files:\n",
    "    with open(book_file, 'r') as f:\n",
    "        books.append(''.join(f).replace('#', '^'))\n",
    "    \n",
    "# linux source code\n",
    "source_code_files = [f'text_files/source_code_{size}.c' for size in sizes]\n",
    "source_codes = []\n",
    "for source_file in source_code_files:\n",
    "    with open(source_file, 'r') as f:\n",
    "        source_codes.append(''.join(f).replace('#', '^'))\n",
    "        \n",
    "\n",
    "# normal distribution random\n",
    "random_normal_files = [f'text_files/random_normal_{size}.txt' for size in sizes]\n",
    "random_normals = []\n",
    "for random_normal in random_normal_files:\n",
    "    with open(random_normal, 'r') as f:\n",
    "        random_normals.append(''.join(f).replace('#', '^'))\n",
    "        \n",
    "print(Counter(random_normals[0]))\n",
    "print(random_normal[0])"
   ]
  },
  {
   "cell_type": "code",
   "execution_count": 189,
   "id": "local-packet",
   "metadata": {},
   "outputs": [],
   "source": [
    "def get_compression_rate(file, text, static=True):\n",
    "    file_size = os.path.getsize(file)\n",
    "    if static:\n",
    "        encode(text, 'encoded')\n",
    "    else:\n",
    "        encode_adaptive(text, 'encoded')\n",
    "        \n",
    "    encoded_size = os.path.getsize('encoded')\n",
    "    return encoded_size/file_size"
   ]
  },
  {
   "cell_type": "code",
   "execution_count": 190,
   "id": "theoretical-recall",
   "metadata": {},
   "outputs": [],
   "source": [
    "def plot_compression_rate(rates_static, rates_adaptive, title, sizes):\n",
    "    fig, ax = plt.subplots(1, 2, figsize=(12, 5))\n",
    "    \n",
    "    ax[0].set_title(title + ' STATIC')\n",
    "    ax[0].bar(sizes, rates_static, color='tan')\n",
    "    \n",
    "    ax[1].set_title(title + ' ADAPTIVE')\n",
    "    ax[1].bar(sizes, rates_adaptive, color='sienna')\n",
    "    \n",
    "    plt.show()"
   ]
  },
  {
   "cell_type": "code",
   "execution_count": 191,
   "id": "falling-desktop",
   "metadata": {},
   "outputs": [
    {
     "name": "stdout",
     "output_type": "stream",
     "text": [
      "--text_files/anna_karenina--\n",
      "STATIC HUFFMAN COMPRESSION\n",
      "1kB: 97.363281%\n",
      "10kB: 60.341797%\n",
      "100kB: 55.174805%\n",
      "1MB: 54.174805%\n",
      "\n",
      "ADAPTIVE HUFFMAN COMPRESSION\n",
      "1kB: 60.058594%\n",
      "10kB: 55.117188%\n",
      "100kB: 54.439453%\n",
      "1MB: 54.100037%\n"
     ]
    },
    {
     "data": {
      "image/png": "[encoded data removed]",
      "text/plain": [
       "<Figure size 864x360 with 2 Axes>"
      ]
     },
     "metadata": {
      "needs_background": "light"
     },
     "output_type": "display_data"
    },
    {
     "name": "stdout",
     "output_type": "stream",
     "text": [
      "\n",
      "--text_files/source_code--\n",
      "STATIC HUFFMAN COMPRESSION\n",
      "1kB: 123.046875%\n",
      "10kB: 70.175781%\n",
      "100kB: 64.644531%\n",
      "1MB: 65.202045%\n",
      "\n",
      "ADAPTIVE HUFFMAN COMPRESSION\n",
      "1kB: 69.531250%\n",
      "10kB: 62.685547%\n",
      "100kB: 63.846680%\n",
      "1MB: 65.127087%\n"
     ]
    },
    {
     "data": {
      "image/png": "[encoded data removed]",
      "text/plain": [
       "<Figure size 864x360 with 2 Axes>"
      ]
     },
     "metadata": {
      "needs_background": "light"
     },
     "output_type": "display_data"
    },
    {
     "name": "stdout",
     "output_type": "stream",
     "text": [
      "\n",
      "--text_files/random_normal--\n",
      "STATIC HUFFMAN COMPRESSION\n",
      "1kB: 143.945312%\n",
      "10kB: 81.562500%\n",
      "100kB: 74.875977%\n",
      "1MB: 74.081868%\n",
      "\n",
      "ADAPTIVE HUFFMAN COMPRESSION\n",
      "1kB: 81.640625%\n",
      "10kB: 75.048828%\n",
      "100kB: 74.252930%\n",
      "1MB: 74.081605%\n"
     ]
    },
    {
     "data": {
      "image/png": "[encoded data removed]",
      "text/plain": [
       "<Figure size 864x360 with 2 Axes>"
      ]
     },
     "metadata": {
      "needs_background": "light"
     },
     "output_type": "display_data"
    },
    {
     "name": "stdout",
     "output_type": "stream",
     "text": [
      "\n"
     ]
    }
   ],
   "source": [
    "for files, texts in zip([book_files, source_code_files, random_normal_files], [books, source_codes, random_normals]):\n",
    "    file_type = f'--{\"_\".join(files[0].split(\"_\")[:3])}--'\n",
    "    print(file_type)\n",
    "    \n",
    "    print('static huffman compression'.upper())\n",
    "    rates_static = []\n",
    "    for i, size in enumerate(sizes):\n",
    "        rates_static.append(get_compression_rate(files[i], texts[i]))\n",
    "        print(f'{size}: {rates_static[-1]:%}')\n",
    "    \n",
    "    print('\\nadaptive huffman compression'.upper())\n",
    "    rates_adaptive = []\n",
    "    for i, size in enumerate(sizes):\n",
    "        rates_adaptive.append(get_compression_rate(files[i], texts[i], static=False))\n",
    "        print(f'{size}: {rates_adaptive[-1]:%}')\n",
    "    \n",
    "    \n",
    "    plot_compression_rate(rates_static, rates_adaptive, file_type, sizes)\n",
    "    print()"
   ]
  },
  {
   "cell_type": "markdown",
   "id": "secondary-grammar",
   "metadata": {},
   "source": [
    "4. Zmierzyć czas kompresji i dekompresji dla plików z punktu 3 dla każdego algorytmu."
   ]
  },
  {
   "cell_type": "code",
   "execution_count": 192,
   "id": "robust-breach",
   "metadata": {},
   "outputs": [],
   "source": [
    "def count_time(text, static=True):\n",
    "    if static:\n",
    "        encode_start = time()\n",
    "        encode(text, 'encoded')\n",
    "        encode_end = time()\n",
    "\n",
    "        decode_start = time()\n",
    "        decode('encoded')\n",
    "        decode_end = time()\n",
    "    else:\n",
    "        encode_start = time()\n",
    "        encode_adaptive(text, 'encoded')\n",
    "        encode_end = time()\n",
    "\n",
    "        decode_start = time()\n",
    "        decode_adaptive('encoded')\n",
    "        decode_end = time()\n",
    "    \n",
    "    return encode_end - encode_start, decode_end - decode_start"
   ]
  },
  {
   "cell_type": "code",
   "execution_count": 193,
   "id": "distinguished-better",
   "metadata": {},
   "outputs": [],
   "source": [
    "def plot_time(static_times, adaptive_times, title, sizes):\n",
    "    fig, ax = plt.subplots(1, 2, figsize=(12, 5))\n",
    "    \n",
    "    ax[0].set_title(title)\n",
    "    ax[0].bar(sizes, static_times[0], color='mediumturquoise')\n",
    "    ax[0].bar(sizes, static_times[1], bottom=static_times[0], color='aquamarine')\n",
    "    ax[0].legend(labels=[\"encoding\", \"decoding\"])\n",
    "    \n",
    "    ax[1].set_title(title)\n",
    "    ax[1].bar(sizes, adaptive_times[0], color='plum')\n",
    "    ax[1].bar(sizes, adaptive_times[1], bottom=adaptive_times[0], color='slateblue')\n",
    "    ax[1].legend(labels=[\"encoding\", \"decoding\"])\n",
    "    \n",
    "    plt.show()"
   ]
  },
  {
   "cell_type": "code",
   "execution_count": 199,
   "id": "controversial-timing",
   "metadata": {},
   "outputs": [
    {
     "name": "stdout",
     "output_type": "stream",
     "text": [
      "--text_files/anna_karenina--\n",
      "STATIC HUFFMAN COMPRESSION\n",
      "1kB: encoding: 0.00151 decoding: 0.00024\n",
      "10kB: encoding: 0.00182 decoding: 0.00074\n",
      "100kB: encoding: 0.00907 decoding: 0.00408\n",
      "1MB: encoding: 0.08640 decoding: 0.03776\n",
      "\n",
      "ADAPTIVE HUFFMAN COMPRESSION\n",
      "1kB: encoding: 0.00822 decoding: 0.00667\n",
      "10kB: encoding: 0.06147 decoding: 0.06965\n",
      "100kB: encoding: 0.56665 decoding: 0.49074\n",
      "1MB: encoding: 5.65556 decoding: 4.92196\n"
     ]
    },
    {
     "data": {
      "image/png": "[encoded data removed]",
      "text/plain": [
       "<Figure size 864x360 with 2 Axes>"
      ]
     },
     "metadata": {
      "needs_background": "light"
     },
     "output_type": "display_data"
    },
    {
     "name": "stdout",
     "output_type": "stream",
     "text": [
      "\n",
      "--text_files/source_code--\n",
      "STATIC HUFFMAN COMPRESSION\n",
      "1kB: encoding: 0.00145 decoding: 0.00042\n",
      "10kB: encoding: 0.00352 decoding: 0.00201\n",
      "100kB: encoding: 0.00931 decoding: 0.00462\n",
      "1MB: encoding: 0.09208 decoding: 0.04110\n",
      "\n",
      "ADAPTIVE HUFFMAN COMPRESSION\n",
      "1kB: encoding: 0.01089 decoding: 0.00967\n",
      "10kB: encoding: 0.07649 decoding: 0.06623\n",
      "100kB: encoding: 0.66342 decoding: 0.58215\n",
      "1MB: encoding: 6.68006 decoding: 5.84625\n"
     ]
    },
    {
     "data": {
      "image/png": "[encoded data removed]",
      "text/plain": [
       "<Figure size 864x360 with 2 Axes>"
      ]
     },
     "metadata": {
      "needs_background": "light"
     },
     "output_type": "display_data"
    },
    {
     "name": "stdout",
     "output_type": "stream",
     "text": [
      "\n",
      "--text_files/random_normal--\n",
      "STATIC HUFFMAN COMPRESSION\n",
      "1kB: encoding: 0.00109 decoding: 0.00047\n",
      "10kB: encoding: 0.00297 decoding: 0.00148\n",
      "100kB: encoding: 0.01273 decoding: 0.00468\n",
      "1MB: encoding: 0.44064 decoding: 0.21090\n",
      "\n",
      "ADAPTIVE HUFFMAN COMPRESSION\n",
      "1kB: encoding: 0.01415 decoding: 0.01270\n",
      "10kB: encoding: 0.08794 decoding: 0.07887\n",
      "100kB: encoding: 0.76065 decoding: 0.66412\n",
      "1MB: encoding: 35.46407 decoding: 30.89093\n"
     ]
    },
    {
     "data": {
      "image/png": "[encoded data removed]",
      "text/plain": [
       "<Figure size 864x360 with 2 Axes>"
      ]
     },
     "metadata": {
      "needs_background": "light"
     },
     "output_type": "display_data"
    },
    {
     "name": "stdout",
     "output_type": "stream",
     "text": [
      "\n"
     ]
    }
   ],
   "source": [
    "for files, texts in zip([book_files, source_code_files, random_normal_files], [books, source_codes, random_normals]):\n",
    "    file_type = f'--{\"_\".join(files[0].split(\"_\")[:3])}--'\n",
    "    print(file_type)\n",
    "    \n",
    "    static_times = [[], []]\n",
    "    adaptive_times = [[], []]\n",
    "    \n",
    "    print('static huffman compression'.upper())\n",
    "    for i, size in enumerate(sizes):\n",
    "        encode_time, decode_time = count_time(texts[i])\n",
    "        static_times[0].append(encode_time)\n",
    "        static_times[1].append(decode_time)\n",
    "        \n",
    "        print(f'{size}: encoding: {encode_time:.5f} decoding: {decode_time:.5f}')\n",
    "    \n",
    "    print('\\nadaptive huffman compression'.upper())\n",
    "    for i, size in enumerate(sizes):\n",
    "        encode_time, decode_time = count_time(texts[i], static=False)\n",
    "        adaptive_times[0].append(encode_time)\n",
    "        adaptive_times[1].append(decode_time)\n",
    "        \n",
    "        print(f'{size}: encoding: {encode_time:.5f} decoding: {decode_time:.5f}')\n",
    "    \n",
    "    plot_time(static_times, adaptive_times, file_type, sizes)\n",
    "    print()"
   ]
  },
  {
   "cell_type": "markdown",
   "id": "quantitative-miracle",
   "metadata": {},
   "source": [
    "## 4. Wnioski"
   ]
  },
  {
   "cell_type": "markdown",
   "id": "precise-above",
   "metadata": {},
   "source": [
    "- \n",
    "- "
   ]
  },
  {
   "cell_type": "markdown",
   "id": "sound-recall",
   "metadata": {},
   "source": [
    "M. Hawryluk 23.04.2021"
   ]
  }
 ],
 "metadata": {
  "kernelspec": {
   "display_name": "Python 3",
   "language": "python",
   "name": "python3"
  },
  "language_info": {
   "codemirror_mode": {
    "name": "ipython",
    "version": 3
   },
   "file_extension": ".py",
   "mimetype": "text/x-python",
   "name": "python",
   "nbconvert_exporter": "python",
   "pygments_lexer": "ipython3",
   "version": "3.8.6"
  }
 },
 "nbformat": 4,
 "nbformat_minor": 5
}
