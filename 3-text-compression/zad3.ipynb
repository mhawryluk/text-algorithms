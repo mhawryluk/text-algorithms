{
 "cells": [
  {
   "cell_type": "markdown",
   "id": "original-answer",
   "metadata": {},
   "source": [
    "# Zadanie nr 3 - Kompresja tekstu"
   ]
  },
  {
   "cell_type": "code",
   "execution_count": 1,
   "id": "average-surface",
   "metadata": {},
   "outputs": [],
   "source": [
    "from treelib import Tree\n",
    "from heapq import heappush, heappop\n",
    "from collections import Counter\n",
    "from bitarray import bitarray, decodetree\n",
    "from bitarray.util import *\n",
    "from random import shuffle\n",
    "import numpy as np\n",
    "import matplotlib.pyplot as plt\n",
    "from time import time\n",
    "import os"
   ]
  },
  {
   "cell_type": "markdown",
   "id": "plain-agency",
   "metadata": {},
   "source": [
    "Zadanie polega na implementacji dwóch algorytmów kompresji:\n",
    "\n",
    "* statycznego algorytmu Huffmana\n",
    "* dynamicznego algorytmu Huffmana"
   ]
  },
  {
   "cell_type": "markdown",
   "id": "amended-apple",
   "metadata": {},
   "source": [
    "## 1. Statyczny algorytm Huffmana"
   ]
  },
  {
   "cell_type": "code",
   "execution_count": 2,
   "id": "going-whole",
   "metadata": {},
   "outputs": [],
   "source": [
    "class Node:\n",
    "    def __init__(self, *args, **kwargs):\n",
    "        self.weight = args[-1]\n",
    "        self.elements = args[:-1]\n",
    "\n",
    "    def __str__(self):\n",
    "        string = \"\"\n",
    "        for element in self.elements:\n",
    "            string += str(element)\n",
    "        return string\n",
    "\n",
    "    def __repr__(self):\n",
    "        return str(self)\n",
    "\n",
    "    def __lt__(self, other):\n",
    "        return self.weight < other.weight"
   ]
  },
  {
   "cell_type": "markdown",
   "id": "polished-anger",
   "metadata": {},
   "source": [
    "wersja niekorzystająca z pomocniczych struktur:"
   ]
  },
  {
   "cell_type": "code",
   "execution_count": 3,
   "id": "conservative-hurricane",
   "metadata": {},
   "outputs": [],
   "source": [
    "def huffman(letter_counts):\n",
    "    nodes = []\n",
    "    for a, weight in letter_counts.items():\n",
    "        nodes.append(Node(a, weight))\n",
    "\n",
    "    internal_nodes = []\n",
    "    leafs = sorted(nodes, key=lambda n: n.weight)\n",
    "\n",
    "    while(len(leafs) + len(internal_nodes) > 1):\n",
    "        element_1 = get_lowest_weight_node(leafs, internal_nodes)\n",
    "        element_2 = get_lowest_weight_node(leafs, internal_nodes)\n",
    "\n",
    "        internal_nodes.append(\n",
    "            Node(element_1, element_2, element_1.weight + element_2.weight))\n",
    "\n",
    "    return internal_nodes[0]\n",
    "\n",
    "\n",
    "def get_lowest_weight_node(leafs, internal):\n",
    "    if not internal or (leafs and leafs[0].weight < internal[0].weight):\n",
    "        return leafs.pop(0)\n",
    "    return internal.pop(0)"
   ]
  },
  {
   "cell_type": "markdown",
   "id": "subsequent-sleeping",
   "metadata": {},
   "source": [
    "implementacja wykorzystująca kopiec (kod bardziej zwięzły kosztem nieznacznego spowolnienia):"
   ]
  },
  {
   "cell_type": "code",
   "execution_count": 4,
   "id": "divided-blogger",
   "metadata": {},
   "outputs": [],
   "source": [
    "def huffman_heap(letter_counts):\n",
    "    heap = []\n",
    "    for a, weight in letter_counts.items():\n",
    "        heappush(heap, Node(a, weight))\n",
    "\n",
    "    while(len(heap) > 1):\n",
    "        element_1 = heappop(heap)\n",
    "        element_2 = heappop(heap)\n",
    "\n",
    "        heappush(heap, Node(element_1, element_2,\n",
    "                 element_1.weight + element_2.weight))\n",
    "\n",
    "    return heappop(heap)"
   ]
  },
  {
   "cell_type": "code",
   "execution_count": 5,
   "id": "conscious-respondent",
   "metadata": {},
   "outputs": [],
   "source": [
    "def get_codes(head):\n",
    "    codes = {}\n",
    "    head.code = ''\n",
    "\n",
    "    def walk_tree(node):\n",
    "        for i, child in enumerate(node.elements):\n",
    "            child.code = node.code + str(i)\n",
    "\n",
    "            if len(child.elements) > 1:\n",
    "                walk_tree(child)\n",
    "            else:\n",
    "                codes[child.elements[0]] = bitarray(child.code)\n",
    "\n",
    "    walk_tree(head)\n",
    "    return codes"
   ]
  },
  {
   "cell_type": "markdown",
   "id": "facial-cambodia",
   "metadata": {},
   "source": [
    "#### wizualizacja drzewa"
   ]
  },
  {
   "cell_type": "markdown",
   "id": "large-description",
   "metadata": {},
   "source": [
    "Do wizualizacji drzewa wykorzystałem pomocniczą bibliotekę treelib:"
   ]
  },
  {
   "cell_type": "code",
   "execution_count": 6,
   "id": "suspected-devil",
   "metadata": {},
   "outputs": [],
   "source": [
    "def show_tree(head):\n",
    "    tree = Tree()\n",
    "    tree.create_node(str(head) + ' weight: ' +\n",
    "                     str(head.weight), head, parent=None)\n",
    "    head.code = ''\n",
    "\n",
    "    def create_tree(node):\n",
    "        for i, child in enumerate(node.elements):\n",
    "            child.code = node.code + str(i)\n",
    "            tree.create_node(str(child) + ' weight: ' + str(child.weight) + ' code: ' + str(child.code),\n",
    "                             child, parent=node)\n",
    "            if len(child.elements) > 1:\n",
    "                create_tree(child)\n",
    "\n",
    "    create_tree(head)\n",
    "    tree.show()"
   ]
  },
  {
   "cell_type": "code",
   "execution_count": 7,
   "id": "hollow-court",
   "metadata": {},
   "outputs": [
    {
     "name": "stdout",
     "output_type": "stream",
     "text": [
      "arcdb weight: 11\n",
      "├── a weight: 5 code: 0\n",
      "└── rcdb weight: 6 code: 1\n",
      "    ├── cdb weight: 4 code: 11\n",
      "    │   ├── b weight: 2 code: 111\n",
      "    │   └── cd weight: 2 code: 110\n",
      "    │       ├── c weight: 1 code: 1100\n",
      "    │       └── d weight: 1 code: 1101\n",
      "    └── r weight: 2 code: 10\n",
      "\n"
     ]
    }
   ],
   "source": [
    "text = 'abracadabra'\n",
    "head = huffman(Counter(text))\n",
    "show_tree(head)"
   ]
  },
  {
   "cell_type": "markdown",
   "id": "proved-eugene",
   "metadata": {},
   "source": [
    "#### kompresja i dekompresja"
   ]
  },
  {
   "cell_type": "markdown",
   "id": "neither-seeking",
   "metadata": {},
   "source": [
    "Skompresowany plik ma następującą postać:\n",
    "* Pierwsze 4 bajty określają liczbę znaków w alfabecie.\n",
    "* Następnie, dla każdego znaku z alfabetu zapisujemy ten znak w kodzie utf-32, potem (na jednym bajcie) długość kodu Huffmana dla znaku i na koniec tenże kod.\n",
    "* Po tym zapisujemy liczbę bitów znaczących zakodowanego tekstu (na 4 bajtach), a następnie zakodowany tekst.\n",
    "\n",
    "W nagłówku skorzystałem z kodowania znaków utf-32, gdyż kodowanie to cechuje stała liczba bitów, co jest wygodne w odkodowywaniu. Można by zaoszczędzić trochę miejsca zapisując dodatkowo długość znaku w bajtach, korzystając np. z utf-8."
   ]
  },
  {
   "cell_type": "code",
   "execution_count": 30,
   "id": "supposed-feeding",
   "metadata": {},
   "outputs": [],
   "source": [
    "def encode(text, file):\n",
    "    node = huffman(Counter(text))\n",
    "    codes = get_codes(node)\n",
    "    encoded_text = bitarray()\n",
    "    encoded_text.encode(codes, text)\n",
    "\n",
    "    mapping = bitarray()\n",
    "\n",
    "    for letter, code in codes.items():\n",
    "        letter_utf = bitarray()\n",
    "        letter_utf.frombytes(letter.encode('utf-32'))\n",
    "\n",
    "        code_len = bitarray()\n",
    "        code_len.frombytes(len(code).to_bytes(1, 'big'))\n",
    "        mapping += letter_utf + code_len + code\n",
    "\n",
    "    letters_count = bitarray()\n",
    "    letters_count.frombytes(len(codes).to_bytes(4, 'big'))\n",
    "    text_bit_size = bitarray()\n",
    "    text_bit_size.frombytes(len(encoded_text).to_bytes(4, 'big'))\n",
    "\n",
    "    bit_seq = bitarray()\n",
    "    bit_seq = letters_count + mapping + text_bit_size + encoded_text\n",
    "\n",
    "    with open(file, 'wb') as f:\n",
    "        bit_seq.tofile(f)\n",
    "\n",
    "\n",
    "def decode(file):\n",
    "    with open(file, 'rb') as f:\n",
    "        bit_seq = bitarray()\n",
    "        bit_seq.fromfile(f)\n",
    "\n",
    "    letters_count = ba2int(bit_seq[:32])\n",
    "    decode_dict = {}\n",
    "    i = 32\n",
    "\n",
    "    for _ in range(letters_count):\n",
    "        letter = bit_seq[i:i+64].tobytes().decode('utf-32')\n",
    "        i += 64\n",
    "        code_len = ba2int(bit_seq[i:i+8])\n",
    "        i += 8\n",
    "        code = bit_seq[i:i+code_len]\n",
    "        i += code_len\n",
    "\n",
    "        decode_dict[letter] = code\n",
    "\n",
    "    text_len = ba2int(bit_seq[i:i+32])\n",
    "    i += 32\n",
    "\n",
    "    decode_tree = decodetree(decode_dict)\n",
    "    text = ''.join(bit_seq[i:i+text_len].decode(decode_tree))\n",
    "    return text"
   ]
  },
  {
   "cell_type": "markdown",
   "id": "patent-lodge",
   "metadata": {},
   "source": [
    "proste testy poprawności:"
   ]
  },
  {
   "cell_type": "code",
   "execution_count": 34,
   "id": "complicated-california",
   "metadata": {},
   "outputs": [
    {
     "name": "stdout",
     "output_type": "stream",
     "text": [
      "abracadabra\n",
      "ż,ó,ł,ć\n"
     ]
    }
   ],
   "source": [
    "text = 'abracadabra'\n",
    "encode(text, 'encoded')\n",
    "print(decode('encoded'))\n",
    "\n",
    "text = 'ż,ó,ł,ć'\n",
    "encode(text, 'encoded')\n",
    "print(decode('encoded'))"
   ]
  },
  {
   "cell_type": "markdown",
   "id": "limited-twelve",
   "metadata": {},
   "source": [
    "## 2. Dynamiczny algorytm Huffmana"
   ]
  },
  {
   "cell_type": "code",
   "execution_count": 53,
   "id": "tropical-situation",
   "metadata": {},
   "outputs": [],
   "source": [
    "class AdaptiveNode:\n",
    "    def __init__(self, char, weight=0):\n",
    "        self.char = char\n",
    "        self.weight = weight\n",
    "        self.parent = None\n",
    "        self.children = [None, None]\n",
    "\n",
    "    def get_code(self):\n",
    "        if not self.parent:\n",
    "            return bitarray()\n",
    "        if self == self.parent.children[0]:\n",
    "            return self.parent.get_code() + bitarray('0')\n",
    "        else:\n",
    "            return self.parent.get_code() + bitarray('1')\n",
    "\n",
    "    def add_child(self, index, child):\n",
    "        self.children[index] = child\n",
    "        child.parent = self\n",
    "\n",
    "    def get_char_repr(self):\n",
    "        if not self.children[0]:\n",
    "            return self.char\n",
    "\n",
    "        return self.children[0].get_char_repr() + self.children[1].get_char_repr()\n",
    "\n",
    "    def get_sibling(self):\n",
    "        node = self\n",
    "        levels_change = 0\n",
    "\n",
    "        while node.parent:\n",
    "            if node == node.parent.children[0]:\n",
    "                sibling = node.parent.children[1].next_in_line(\n",
    "                    0, levels_change)\n",
    "                if sibling:\n",
    "                    return sibling\n",
    "\n",
    "            node = node.parent\n",
    "            levels_change += 1\n",
    "\n",
    "        return node.next_in_line(0, levels_change - 1)\n",
    "\n",
    "    def next_in_line(self, current_level, end_level):\n",
    "        if current_level == end_level:\n",
    "            return self\n",
    "        if not self.children[0]:\n",
    "            return None\n",
    "        return self.children[0].next_in_line(current_level + 1, end_level) or \\\n",
    "            self.children[1].next_in_line(current_level + 1, end_level)\n",
    "\n",
    "    def increment(self):\n",
    "        self.weight += 1\n",
    "\n",
    "        if self.parent:\n",
    "            sibling = self.get_sibling()\n",
    "            if sibling:\n",
    "                if self.weight > sibling.weight:\n",
    "                    next_sibling = sibling.get_sibling()\n",
    "\n",
    "                    while next_sibling and sibling.weight == next_sibling.weight:\n",
    "                        sibling = next_sibling\n",
    "                        next_sibling = sibling.get_sibling()\n",
    "\n",
    "                    if sibling != self.parent:\n",
    "                        swap_nodes(self, sibling)\n",
    "\n",
    "            self.parent.increment()\n",
    "\n",
    "    def __str__(self):\n",
    "        return f'char(s): {\"\".join(sorted(self.get_char_repr()))}, \\\n",
    "weight: {self.weight}, \\\n",
    "code:{\"\".join(list(map(str, self.get_code())))}'\n",
    "\n",
    "    def __repr__(self):\n",
    "        return str(self)\n",
    "\n",
    "    def __lt__(self, other):\n",
    "        return self.weight < other.weight\n",
    "\n",
    "\n",
    "def swap_nodes(node_1, node_2):\n",
    "    node_1.parent, node_2.parent = node_2.parent, node_1.parent\n",
    "\n",
    "    if node_2 == node_1.parent.children[0]:\n",
    "        node_1.parent.children[0] = node_1\n",
    "    else:\n",
    "        node_1.parent.children[1] = node_1\n",
    "\n",
    "    if node_1 == node_2.parent.children[0]:\n",
    "        node_2.parent.children[0] = node_2\n",
    "    else:\n",
    "        node_2.parent.children[1] = node_2"
   ]
  },
  {
   "cell_type": "code",
   "execution_count": 54,
   "id": "absolute-province",
   "metadata": {},
   "outputs": [],
   "source": [
    "def adaptive_huffman(text):\n",
    "    nodes = {\"#\": AdaptiveNode(\"#\", weight=0)}\n",
    "    head = nodes[\"#\"]\n",
    "    bit_seq = bitarray()\n",
    "\n",
    "    for letter in text:\n",
    "        if letter in nodes:\n",
    "            node = nodes[letter]\n",
    "            bit_seq += node.get_code()\n",
    "            node.increment()\n",
    "        else:\n",
    "            updated_node = nodes[\"#\"]\n",
    "            bit_seq += updated_node.get_code()\n",
    "\n",
    "            letter_bits = bitarray()\n",
    "            letter_bits.frombytes(letter.encode('utf-32'))\n",
    "            bit_seq += letter_bits\n",
    "\n",
    "            node = AdaptiveNode(letter, weight=1)\n",
    "            nodes[letter] = node\n",
    "            del nodes[\"#\"]\n",
    "            zero_node = AdaptiveNode(\"#\", weight=0)\n",
    "            updated_node.add_child(0, zero_node)\n",
    "            updated_node.add_child(1, node)\n",
    "            nodes[\"#\"] = zero_node\n",
    "\n",
    "            updated_node.increment()\n",
    "\n",
    "    return head, bit_seq"
   ]
  },
  {
   "cell_type": "markdown",
   "id": "sound-thong",
   "metadata": {},
   "source": [
    "#### wizualizacja drzewa"
   ]
  },
  {
   "cell_type": "code",
   "execution_count": 55,
   "id": "agricultural-representative",
   "metadata": {},
   "outputs": [],
   "source": [
    "def show_tree_adaptive(head):\n",
    "    tree = Tree()\n",
    "    tree.create_node(str(head), head, parent=None)\n",
    "\n",
    "    def create_tree(node):\n",
    "        for i, child in enumerate(node.children):\n",
    "            tree.create_node(str(child),\n",
    "                             child, parent=node)\n",
    "\n",
    "            if child and child.children[0] and child.children[1]:\n",
    "                create_tree(child)\n",
    "\n",
    "    create_tree(head)\n",
    "    tree.show()"
   ]
  },
  {
   "cell_type": "code",
   "execution_count": 56,
   "id": "removable-central",
   "metadata": {},
   "outputs": [
    {
     "name": "stdout",
     "output_type": "stream",
     "text": [
      "char(s): #abcdr, weight: 11, code:\n",
      "├── char(s): #bcdr, weight: 6, code:1\n",
      "│   ├── char(s): #cd, weight: 2, code:10\n",
      "│   │   ├── char(s): #d, weight: 1, code:100\n",
      "│   │   │   ├── char(s): #, weight: 0, code:1000\n",
      "│   │   │   └── char(s): d, weight: 1, code:1001\n",
      "│   │   └── char(s): c, weight: 1, code:101\n",
      "│   └── char(s): br, weight: 4, code:11\n",
      "│       ├── char(s): b, weight: 2, code:111\n",
      "│       └── char(s): r, weight: 2, code:110\n",
      "└── char(s): a, weight: 5, code:0\n",
      "\n"
     ]
    }
   ],
   "source": [
    "text = 'abracadabra'\n",
    "head, bits = adaptive_huffman(text)\n",
    "show_tree_adaptive(head)"
   ]
  },
  {
   "cell_type": "markdown",
   "id": "million-today",
   "metadata": {},
   "source": [
    "#### kompresja i dekompresja"
   ]
  },
  {
   "cell_type": "markdown",
   "id": "little-soviet",
   "metadata": {},
   "source": [
    "W tym przypadku również na początku zapisałem na 4 bajtach liczbę bitów znaczących, aby nie interpretować zer, które na końcu pojawiają się z uwagi na zapis pełnych bajtów w pliku."
   ]
  },
  {
   "cell_type": "code",
   "execution_count": 46,
   "id": "chinese-membership",
   "metadata": {},
   "outputs": [],
   "source": [
    "def encode_adaptive(text, file):\n",
    "    head, bits = adaptive_huffman(text)\n",
    "    \n",
    "    bit_size = bitarray()\n",
    "    bit_size.frombytes(len(bits).to_bytes(4, 'big'))\n",
    "    \n",
    "    bits = bit_size + bits\n",
    "    \n",
    "    with open(file, 'wb') as f:\n",
    "        bits.tofile(f)"
   ]
  },
  {
   "cell_type": "code",
   "execution_count": 47,
   "id": "naval-engagement",
   "metadata": {},
   "outputs": [],
   "source": [
    "def decode_adaptive(file):\n",
    "    with open(file, 'rb') as f:\n",
    "        bit_seq = bitarray()\n",
    "        bit_seq.fromfile(f)\n",
    "        \n",
    "    text = \"\"\n",
    "    letters_count = ba2int(bit_seq[:32])\n",
    "    nodes = {\"#\": AdaptiveNode(\"#\", weight=0)}\n",
    "    head = nodes[\"#\"]\n",
    "    current_node = head\n",
    "    i = 32\n",
    "\n",
    "    while i <= letters_count+32:\n",
    "        if not current_node.children[0]:\n",
    "            if current_node.char != \"#\":\n",
    "                text += current_node.char\n",
    "                current_node.increment()\n",
    "\n",
    "            else:\n",
    "                letter = bit_seq[i:i+64].tobytes().decode('utf-32')\n",
    "                i += 64\n",
    "                text += letter\n",
    "                \n",
    "                node = AdaptiveNode(letter, weight=1)\n",
    "                nodes[letter] = node\n",
    "                del nodes[\"#\"]\n",
    "                zero_node = AdaptiveNode(\"#\")\n",
    "                current_node.add_child(0, zero_node)\n",
    "                current_node.add_child(1, node)\n",
    "                nodes[\"#\"] = zero_node\n",
    "                current_node.increment()\n",
    "\n",
    "            current_node = head\n",
    "\n",
    "        if i < letters_count+32:\n",
    "            current_node = current_node.children[1] if bit_seq[i] == 1 else current_node.children[0]\n",
    "\n",
    "        i += 1\n",
    "\n",
    "    return text"
   ]
  },
  {
   "cell_type": "markdown",
   "id": "solar-fireplace",
   "metadata": {},
   "source": [
    "proste testy poprawności:"
   ]
  },
  {
   "cell_type": "code",
   "execution_count": 48,
   "id": "infrared-cleaner",
   "metadata": {},
   "outputs": [
    {
     "name": "stdout",
     "output_type": "stream",
     "text": [
      "abracadabra\n",
      "żółć\n"
     ]
    }
   ],
   "source": [
    "text = 'abracadabra'\n",
    "encode_adaptive(text, 'encoded')\n",
    "print(decode_adaptive('encoded'))\n",
    "\n",
    "text = 'żółć'\n",
    "encode_adaptive(text, 'encoded')\n",
    "print(decode_adaptive('encoded'))"
   ]
  },
  {
   "cell_type": "markdown",
   "id": "considerable-anxiety",
   "metadata": {},
   "source": [
    "## 3. Testy"
   ]
  },
  {
   "cell_type": "markdown",
   "id": "iraqi-responsibility",
   "metadata": {},
   "source": [
    "Zmierzyć współczynnik kompresji (wyrażone w procentach: 1 - plik_skompresowany / plik_nieskompresowany) dla plików tekstowych o rozmiarach: 1kB, 10kB, 100kB, 1MB, dla różnych typów plików: plik tekstowy z portalu Guttenberga, plik źródłowy z Githubu, plik ze znakami losowanymi z rozkładu jednostajnego."
   ]
  },
  {
   "cell_type": "markdown",
   "id": "alone-resort",
   "metadata": {},
   "source": [
    "#### łańcuchy znaków do testów"
   ]
  },
  {
   "cell_type": "markdown",
   "id": "coordinated-desktop",
   "metadata": {},
   "source": [
    "W celu pozyskania łańcuchów znaków do testów, pobrałem duże pliki z portalu Guttenberga i Githuba, a następnie wyciąłem z nich fragmenty o zadanej wielkości za pomocą komendy dd w terminalu linuxa. Plik ze znakami z rozkładu jednostajnego wygenerowałem z użyciem biblioteki numpy, a następnie pociąłem poleceniem dd."
   ]
  },
  {
   "cell_type": "code",
   "execution_count": 58,
   "id": "interim-bunch",
   "metadata": {},
   "outputs": [
    {
     "name": "stdout",
     "output_type": "stream",
     "text": [
      "9765+1 records in\n",
      "9765+1 records out\n",
      "5000000 bytes (5,0 MB, 4,8 MiB) copied, 0,0265645 s, 188 MB/s\n",
      "200+0 records in\n",
      "200+0 records out\n",
      "102400 bytes (102 kB, 100 KiB) copied, 0,00129869 s, 78,8 MB/s\n",
      "20+0 records in\n",
      "20+0 records out\n",
      "10240 bytes (10 kB, 10 KiB) copied, 0,000306672 s, 33,4 MB/s\n",
      "2+0 records in\n",
      "2+0 records out\n",
      "1024 bytes (1,0 kB, 1,0 KiB) copied, 0,000642887 s, 1,6 MB/s\n"
     ]
    }
   ],
   "source": [
    "# normal distribution random\n",
    "alphabet = list(range(48, 126))\n",
    "shuffle(alphabet)\n",
    "\n",
    "with open('text_files/random_normal_full.txt', 'w') as f:\n",
    "    for _ in range(5000000):\n",
    "        random_index = round(np.random.normal(len(alphabet)//2, 2))\n",
    "        if random_index < 0 or random_index >= len(alphabet):\n",
    "            continue\n",
    "        f.write(chr(alphabet[random_index]))\n",
    "        \n",
    "!dd if=text_files/random_normal_full.txt of=text_files/random_normal_1MB.txt skip=0 count=11048576  iflag=skip_bytes,count_bytes\n",
    "!dd if=text_files/random_normal_full.txt of=text_files/random_normal_100kB.txt skip=2048 count=102400  iflag=skip_bytes,count_bytes\n",
    "!dd if=text_files/random_normal_full.txt of=text_files/random_normal_10kB.txt skip=4096 count=10240  iflag=skip_bytes,count_bytes\n",
    "!dd if=text_files/random_normal_full.txt of=text_files/random_normal_1kB.txt skip=800 count=1024  iflag=skip_bytes,count_bytes"
   ]
  },
  {
   "cell_type": "code",
   "execution_count": 59,
   "id": "dramatic-candle",
   "metadata": {},
   "outputs": [],
   "source": [
    "sizes = ['1kB', '10kB', '100kB', '1MB']\n",
    "\n",
    "# powieść z portalu Guttenberg\n",
    "book_files = [f'text_files/anna_karenina_{size}.txt' for size in sizes]\n",
    "\n",
    "books = []\n",
    "for book_file in book_files:\n",
    "    with open(book_file, 'r') as f:\n",
    "        books.append(''.join(f).replace('#', '^'))\n",
    "    \n",
    "# kod źródłowy\n",
    "source_code_files = [f'text_files/source_code_{size}.c' for size in sizes]\n",
    "source_codes = []\n",
    "for source_file in source_code_files:\n",
    "    with open(source_file, 'r') as f:\n",
    "        source_codes.append(''.join(f).replace('#', '^'))\n",
    "        \n",
    "\n",
    "# normal distribution random\n",
    "random_normal_files = [f'text_files/random_normal_{size}.txt' for size in sizes]\n",
    "random_normals = []\n",
    "for random_normal in random_normal_files:\n",
    "    with open(random_normal, 'r') as f:\n",
    "        random_normals.append(''.join(f).replace('#', '^'))"
   ]
  },
  {
   "cell_type": "markdown",
   "id": "spiritual-science",
   "metadata": {},
   "source": [
    "#### współczynnik kompresji"
   ]
  },
  {
   "cell_type": "code",
   "execution_count": 60,
   "id": "animal-liabilities",
   "metadata": {},
   "outputs": [],
   "source": [
    "def get_compression_rate(file, text, static=True):\n",
    "    file_size = os.path.getsize(file)\n",
    "    if static:\n",
    "        encode(text, 'encoded')\n",
    "    else:\n",
    "        encode_adaptive(text, 'encoded')\n",
    "        \n",
    "    encoded_size = os.path.getsize('encoded')\n",
    "    return 1 - encoded_size/file_size"
   ]
  },
  {
   "cell_type": "code",
   "execution_count": 21,
   "id": "grand-packet",
   "metadata": {},
   "outputs": [],
   "source": [
    "def plot_compression_rate(rates_static, rates_adaptive, title, sizes):\n",
    "    fig, ax = plt.subplots(1, 2, figsize=(12, 5))\n",
    "    \n",
    "    ax[0].set_title(title + ' STATIC')\n",
    "    ax[0].bar(sizes, rates_static, color='tan')\n",
    "    \n",
    "    ax[1].set_title(title + ' ADAPTIVE')\n",
    "    ax[1].bar(sizes, rates_adaptive, color='sienna')\n",
    "    \n",
    "    plt.show()"
   ]
  },
  {
   "cell_type": "code",
   "execution_count": 65,
   "id": "frozen-shelf",
   "metadata": {},
   "outputs": [
    {
     "name": "stdout",
     "output_type": "stream",
     "text": [
      "--text_files/anna_karenina--\n",
      "STATIC HUFFMAN COMPRESSION\n",
      "1kB: 2.636719%\n",
      "10kB: 39.658203%\n",
      "100kB: 44.825195%\n",
      "1MB: 45.825195%\n",
      "\n",
      "ADAPTIVE HUFFMAN COMPRESSION\n",
      "1kB: 10.253906%\n",
      "10kB: 40.751953%\n",
      "100kB: 44.989258%\n",
      "1MB: 45.842171%\n"
     ]
    },
    {
     "data": {
      "image/png": "[encoded data removed]",
      "text/plain": [
       "<Figure size 864x360 with 2 Axes>"
      ]
     },
     "metadata": {
      "needs_background": "light"
     },
     "output_type": "display_data"
    },
    {
     "name": "stdout",
     "output_type": "stream",
     "text": [
      "\n",
      "--text_files/source_code--\n",
      "STATIC HUFFMAN COMPRESSION\n",
      "1kB: -23.046875%\n",
      "10kB: 29.824219%\n",
      "100kB: 35.355469%\n",
      "1MB: 34.797955%\n",
      "\n",
      "ADAPTIVE HUFFMAN COMPRESSION\n",
      "1kB: -12.304688%\n",
      "10kB: 31.328125%\n",
      "100kB: 35.500000%\n",
      "1MB: 34.809113%\n"
     ]
    },
    {
     "data": {
      "image/png": "[encoded data removed]",
      "text/plain": [
       "<Figure size 864x360 with 2 Axes>"
      ]
     },
     "metadata": {
      "needs_background": "light"
     },
     "output_type": "display_data"
    },
    {
     "name": "stdout",
     "output_type": "stream",
     "text": [
      "\n",
      "--text_files/random_normal--\n",
      "STATIC HUFFMAN COMPRESSION\n",
      "1kB: 45.898438%\n",
      "10kB: 59.550781%\n",
      "100kB: 60.875000%\n",
      "1MB: 61.034340%\n",
      "\n",
      "ADAPTIVE HUFFMAN COMPRESSION\n",
      "1kB: 48.437500%\n",
      "10kB: 59.824219%\n",
      "100kB: 60.897461%\n",
      "1MB: 61.034260%\n"
     ]
    },
    {
     "data": {
      "image/png": "[encoded data removed]",
      "text/plain": [
       "<Figure size 864x360 with 2 Axes>"
      ]
     },
     "metadata": {
      "needs_background": "light"
     },
     "output_type": "display_data"
    },
    {
     "name": "stdout",
     "output_type": "stream",
     "text": [
      "\n"
     ]
    }
   ],
   "source": [
    "for files, texts in zip([book_files, source_code_files, random_normal_files], [books, source_codes, random_normals]):\n",
    "    file_type = f'--{\"_\".join(files[0].split(\"_\")[:3])}--'\n",
    "    print(file_type)\n",
    "    \n",
    "    print('static huffman compression'.upper())\n",
    "    rates_static = []\n",
    "    for i, size in enumerate(sizes):\n",
    "        rates_static.append(get_compression_rate(files[i], texts[i]))\n",
    "        print(f'{size}: {rates_static[-1]:%}')\n",
    "    \n",
    "    print('\\nadaptive huffman compression'.upper())\n",
    "    rates_adaptive = []\n",
    "    for i, size in enumerate(sizes):\n",
    "        rates_adaptive.append(get_compression_rate(files[i], texts[i], static=False))\n",
    "        print(f'{size}: {rates_adaptive[-1]:%}')\n",
    "    \n",
    "    \n",
    "    plot_compression_rate(rates_static, rates_adaptive, file_type, sizes)\n",
    "    print()"
   ]
  },
  {
   "cell_type": "markdown",
   "id": "stupid-payroll",
   "metadata": {},
   "source": [
    "Współczynnik rośnie wraz ze wzrostem rozmiaru pliku. Dla bardzo krótkich plików, kodowanie słownika w nagłówku było na tyle ekstensywne, że współczynnik okazał się ujemny. Zależność zachowuje się podobnie dla każdego typu tekstu."
   ]
  },
  {
   "cell_type": "markdown",
   "id": "secondary-grammar",
   "metadata": {},
   "source": [
    "4. Zmierzyć czas kompresji i dekompresji dla plików z punktu 3 dla każdego algorytmu."
   ]
  },
  {
   "cell_type": "code",
   "execution_count": 23,
   "id": "political-translator",
   "metadata": {},
   "outputs": [],
   "source": [
    "def count_time(text, static=True):\n",
    "    if static:\n",
    "        encode_start = time()\n",
    "        encode(text, 'encoded')\n",
    "        encode_end = time()\n",
    "\n",
    "        decode_start = time()\n",
    "        decode('encoded')\n",
    "        decode_end = time()\n",
    "    else:\n",
    "        encode_start = time()\n",
    "        encode_adaptive(text, 'encoded')\n",
    "        encode_end = time()\n",
    "\n",
    "        decode_start = time()\n",
    "        decode_adaptive('encoded')\n",
    "        decode_end = time()\n",
    "    \n",
    "    return encode_end - encode_start, decode_end - decode_start"
   ]
  },
  {
   "cell_type": "code",
   "execution_count": 66,
   "id": "frequent-ocean",
   "metadata": {},
   "outputs": [],
   "source": [
    "def plot_time(static_times, adaptive_times, title, sizes):\n",
    "    fig, ax = plt.subplots(1, 2, figsize=(12, 5))\n",
    "    \n",
    "    ax[0].set_title(title + ' STATIC')\n",
    "    ax[0].bar(sizes, static_times[0], color='mediumturquoise')\n",
    "    ax[0].bar(sizes, static_times[1], bottom=static_times[0], color='aquamarine')\n",
    "    ax[0].legend(labels=[\"encoding\", \"decoding\"])\n",
    "    ax[0].set_ylim(0, 1)\n",
    "    \n",
    "    ax[1].set_title(title + ' ADAPTIVE')\n",
    "    ax[1].bar(sizes, adaptive_times[0], color='plum')\n",
    "    ax[1].bar(sizes, adaptive_times[1], bottom=adaptive_times[0], color='slateblue')\n",
    "    ax[1].legend(labels=[\"encoding\", \"decoding\"])\n",
    "    ax[1].set_ylim(0, 1)\n",
    "    \n",
    "    plt.show()"
   ]
  },
  {
   "cell_type": "code",
   "execution_count": 67,
   "id": "lightweight-coating",
   "metadata": {},
   "outputs": [
    {
     "name": "stdout",
     "output_type": "stream",
     "text": [
      "--text_files/anna_karenina--\n",
      "STATIC HUFFMAN COMPRESSION\n",
      "1kB: encoding: 0.00193 decoding: 0.00038\n",
      "10kB: encoding: 0.00168 decoding: 0.00167\n",
      "100kB: encoding: 0.01178 decoding: 0.00394\n",
      "1MB: encoding: 0.08102 decoding: 0.03639\n",
      "\n",
      "ADAPTIVE HUFFMAN COMPRESSION\n",
      "1kB: encoding: 0.00771 decoding: 0.00612\n",
      "10kB: encoding: 0.05947 decoding: 0.04819\n",
      "100kB: encoding: 0.54559 decoding: 0.44019\n",
      "1MB: encoding: 5.35582 decoding: 4.30919\n"
     ]
    },
    {
     "data": {
      "image/png": "[encoded data removed]",
      "text/plain": [
       "<Figure size 864x360 with 2 Axes>"
      ]
     },
     "metadata": {
      "needs_background": "light"
     },
     "output_type": "display_data"
    },
    {
     "name": "stdout",
     "output_type": "stream",
     "text": [
      "\n",
      "--text_files/source_code--\n",
      "STATIC HUFFMAN COMPRESSION\n",
      "1kB: encoding: 0.00187 decoding: 0.00049\n",
      "10kB: encoding: 0.00279 decoding: 0.00125\n",
      "100kB: encoding: 0.01185 decoding: 0.00412\n",
      "1MB: encoding: 0.08917 decoding: 0.03929\n",
      "\n",
      "ADAPTIVE HUFFMAN COMPRESSION\n",
      "1kB: encoding: 0.01036 decoding: 0.00897\n",
      "10kB: encoding: 0.08220 decoding: 0.05898\n",
      "100kB: encoding: 0.64594 decoding: 0.52058\n",
      "1MB: encoding: 6.42764 decoding: 5.20771\n"
     ]
    },
    {
     "data": {
      "image/png": "[encoded data removed]",
      "text/plain": [
       "<Figure size 864x360 with 2 Axes>"
      ]
     },
     "metadata": {
      "needs_background": "light"
     },
     "output_type": "display_data"
    },
    {
     "name": "stdout",
     "output_type": "stream",
     "text": [
      "\n",
      "--text_files/random_normal--\n",
      "STATIC HUFFMAN COMPRESSION\n",
      "1kB: encoding: 0.00041 decoding: 0.00015\n",
      "10kB: encoding: 0.00215 decoding: 0.00035\n",
      "100kB: encoding: 0.00661 decoding: 0.00216\n",
      "1MB: encoding: 0.30325 decoding: 0.10687\n",
      "\n",
      "ADAPTIVE HUFFMAN COMPRESSION\n",
      "1kB: encoding: 0.00492 decoding: 0.00348\n",
      "10kB: encoding: 0.03927 decoding: 0.03120\n",
      "100kB: encoding: 0.38417 decoding: 0.30323\n",
      "1MB: encoding: 18.40388 decoding: 14.66428\n"
     ]
    },
    {
     "data": {
      "image/png": "[encoded data removed]",
      "text/plain": [
       "<Figure size 864x360 with 2 Axes>"
      ]
     },
     "metadata": {
      "needs_background": "light"
     },
     "output_type": "display_data"
    },
    {
     "name": "stdout",
     "output_type": "stream",
     "text": [
      "\n"
     ]
    }
   ],
   "source": [
    "for files, texts in zip([book_files, source_code_files, random_normal_files], [books, source_codes, random_normals]):\n",
    "    file_type = f'--{\"_\".join(files[0].split(\"_\")[:3])}--'\n",
    "    print(file_type)\n",
    "    \n",
    "    static_times = [[], []]\n",
    "    adaptive_times = [[], []]\n",
    "    \n",
    "    print('static huffman compression'.upper())\n",
    "    for i, size in enumerate(sizes):\n",
    "        encode_time, decode_time = count_time(texts[i])\n",
    "        static_times[0].append(encode_time)\n",
    "        static_times[1].append(decode_time)\n",
    "        \n",
    "        print(f'{size}: encoding: {encode_time:.5f} decoding: {decode_time:.5f}')\n",
    "    \n",
    "    print('\\nadaptive huffman compression'.upper())\n",
    "    for i, size in enumerate(sizes):\n",
    "        encode_time, decode_time = count_time(texts[i], static=False)\n",
    "        adaptive_times[0].append(encode_time)\n",
    "        adaptive_times[1].append(decode_time)\n",
    "        \n",
    "        print(f'{size}: encoding: {encode_time:.5f} decoding: {decode_time:.5f}')\n",
    "    \n",
    "    plot_time(static_times, adaptive_times, file_type, sizes)\n",
    "    print()"
   ]
  },
  {
   "cell_type": "markdown",
   "id": "quantitative-miracle",
   "metadata": {},
   "source": [
    "## 4. Wnioski"
   ]
  },
  {
   "cell_type": "markdown",
   "id": "precise-above",
   "metadata": {},
   "source": [
    "- Kodowanie Huffmana ma sens szczególnie dla tekstów długich, gdyż współczynnik kompresji jest dla nich na ogół największy; oraz dla tekstów, w których występowanie poszczególnych znaków jest bardzo nierównomierne.\n",
    "\n",
    "- Kodowane adaptacyjne daje większy współczynnik korelacji dla krótszych tekstów niż algorytm statyczny. Wynika to głównie z zaproponowanego sposobu zapisywania klucza potrzebnego do odkodowania pliku dla wersji statycznej. Dla dłuższych tekstów obie wersje osiągały podobne wartości współczynnika.\n",
    "\n",
    "- Kodowanie dynamiczne okazało się dużo wolniejsze od statycznego, szczególnie jeśli chodzi o czas dekompresji."
   ]
  },
  {
   "cell_type": "markdown",
   "id": "sound-recall",
   "metadata": {},
   "source": [
    "M. Hawryluk 23.04.2021"
   ]
  }
 ],
 "metadata": {
  "kernelspec": {
   "display_name": "Python 3",
   "language": "python",
   "name": "python3"
  },
  "language_info": {
   "codemirror_mode": {
    "name": "ipython",
    "version": 3
   },
   "file_extension": ".py",
   "mimetype": "text/x-python",
   "name": "python",
   "nbconvert_exporter": "python",
   "pygments_lexer": "ipython3",
   "version": "3.8.6"
  }
 },
 "nbformat": 4,
 "nbformat_minor": 5
}
