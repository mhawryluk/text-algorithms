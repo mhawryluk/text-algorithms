{
 "cells": [
  {
   "cell_type": "markdown",
   "id": "productive-integral",
   "metadata": {},
   "source": [
    "# Zadanie nr 5 - metryki w przestrzeni napisów"
   ]
  },
  {
   "cell_type": "code",
   "execution_count": 91,
   "id": "front-directory",
   "metadata": {},
   "outputs": [],
   "source": [
    "from collections import Counter\n",
    "from itertools import product\n",
    "import sklearn.cluster\n",
    "from math import inf"
   ]
  },
  {
   "cell_type": "markdown",
   "id": "choice-morocco",
   "metadata": {},
   "source": [
    "## 1. Metryki"
   ]
  },
  {
   "cell_type": "markdown",
   "id": "hired-internet",
   "metadata": {},
   "source": [
    "<i>1. Zaimplementuj przynajmniej 3 metryki spośród wymienionych: cosinusowa, LCS, DICE, euklidesowa.</i>"
   ]
  },
  {
   "cell_type": "markdown",
   "id": "talented-musician",
   "metadata": {},
   "source": [
    "* lcs"
   ]
  },
  {
   "cell_type": "code",
   "execution_count": 2,
   "id": "quality-elements",
   "metadata": {},
   "outputs": [],
   "source": [
    "def lcs(x, y):\n",
    "    common = [[0 for _ in range(len(y)+1)] for _ in range(len(x)+1)]\n",
    "    max_lcs = 0\n",
    "\n",
    "    for i in range(1, len(x) + 1):\n",
    "        for j in range(1, len(y)+1):\n",
    "            common[i][j] = common[i-1][j-1] + 1 if x[i-1] == y[j-1] else 0\n",
    "            max_lcs = max(max_lcs, common[i][j])\n",
    "\n",
    "    return 1 - max_lcs/max(len(x), len(y))"
   ]
  },
  {
   "cell_type": "markdown",
   "id": "taken-penny",
   "metadata": {},
   "source": [
    "#### ngramy"
   ]
  },
  {
   "cell_type": "code",
   "execution_count": 3,
   "id": "separate-accused",
   "metadata": {},
   "outputs": [],
   "source": [
    "def ngram(x, n):\n",
    "    ngrams = [x[i:i+n] for i in range(len(x)-n+1)]\n",
    "    return Counter(ngrams)"
   ]
  },
  {
   "cell_type": "markdown",
   "id": "coastal-detector",
   "metadata": {},
   "source": [
    "* dice"
   ]
  },
  {
   "cell_type": "code",
   "execution_count": 4,
   "id": "august-producer",
   "metadata": {},
   "outputs": [],
   "source": [
    "def dice(x, y, n=2):\n",
    "    ngrams_x, ngrams_y = set(ngram(x, n).keys()), set(ngram(y, n).keys())\n",
    "    return 1 - 2*len(ngrams_x & ngrams_y)/(len(ngrams_x)+len(ngrams_y))"
   ]
  },
  {
   "cell_type": "markdown",
   "id": "private-oklahoma",
   "metadata": {},
   "source": [
    "* euklidesowa"
   ]
  },
  {
   "cell_type": "code",
   "execution_count": 5,
   "id": "naughty-feature",
   "metadata": {},
   "outputs": [],
   "source": [
    "def euclides(x, y):\n",
    "    ngrams_x, ngrams_y = ngram(x, 2), ngram(y, 2)\n",
    "\n",
    "    keys = set(ngrams_x.keys()) | set(ngrams_y.keys())\n",
    "    dist = 0\n",
    "\n",
    "    for key in keys:\n",
    "        value_x = ngrams_x.get(key, 0)\n",
    "        value_y = ngrams_y.get(key, 0)\n",
    "\n",
    "        dist += (value_x - value_y)**2\n",
    "\n",
    "    return dist**0.5"
   ]
  },
  {
   "cell_type": "markdown",
   "id": "crucial-circuit",
   "metadata": {},
   "source": [
    "* levensheit"
   ]
  },
  {
   "cell_type": "code",
   "execution_count": 6,
   "id": "pointed-witness",
   "metadata": {},
   "outputs": [],
   "source": [
    "def levensheit(text_a, text_b):\n",
    "    edit = [[None for _ in range(len(text_b) + 1)]\n",
    "            for _ in range(len(text_a) + 1)]\n",
    "\n",
    "    def delta(char_a, char_b): return 0 if char_a == char_b else 1\n",
    "\n",
    "    for i in range(len(text_a) + 1):\n",
    "        edit[i][0] = i\n",
    "\n",
    "    for j in range(1, len(text_b) + 1):\n",
    "        edit[0][j] = j\n",
    "\n",
    "    for i in range(1, len(text_a)+1):\n",
    "        for j in range(1, len(text_b)+1):\n",
    "            edit[i][j] = min(edit[i-1][j] + 1, edit[i][j-1] + 1,\n",
    "                       edit[i-1][j-1] + delta(text_a[i-1], text_b[j-1]))\n",
    "\n",
    "    return edit[len(text_a)][len(text_b)]"
   ]
  },
  {
   "cell_type": "code",
   "execution_count": 7,
   "id": "ranging-mississippi",
   "metadata": {},
   "outputs": [
    {
     "name": "stdout",
     "output_type": "stream",
     "text": [
      "0.5\n",
      "0.5\n",
      "2.0\n"
     ]
    }
   ],
   "source": [
    "x = 'BCDF'\n",
    "y = 'ABCDEF'\n",
    "print(lcs(x, y))\n",
    "print(dice(x, y))\n",
    "print(euclides(x, y))"
   ]
  },
  {
   "cell_type": "markdown",
   "id": "explicit-soldier",
   "metadata": {},
   "source": [
    "## 2. Sposoby oceny jakości klasteryzacji"
   ]
  },
  {
   "cell_type": "markdown",
   "id": "postal-spare",
   "metadata": {},
   "source": [
    "<i>2. Zaimplementuj przynajmniej 2 sposoby oceny jakości klasteryzacji (np. indeks Daviesa-Bouldina).</i>"
   ]
  },
  {
   "cell_type": "code",
   "execution_count": 110,
   "id": "absent-wisdom",
   "metadata": {},
   "outputs": [],
   "source": [
    "def sigma(cluster, metric):\n",
    "    sum_ = 0\n",
    "    n = len(cluster)\n",
    "    if n == 1:\n",
    "        return 0\n",
    "    \n",
    "    for i, text_i in enumerate(cluster):\n",
    "        for text_j in cluster[i+1:]:\n",
    "                sum_ += metric(text_i, text_j)\n",
    "                \n",
    "    return sum_ / (n*(n-1)/2)\n",
    "\n",
    "def d(cluster_a, cluster_b, metric):\n",
    "    sum_ = 0\n",
    "    \n",
    "    for text_a in cluster_a:\n",
    "        for text_b in cluster_b:\n",
    "            sum_ += metric(text_a, text_b)\n",
    "    \n",
    "    return sum_/(len(cluster_a)*len(cluster_b))\n",
    "\n",
    "def d_prim(cluster, metric):\n",
    "    max_ = 0\n",
    "    n = len(cluster)\n",
    "    if n == 1:\n",
    "        return 0\n",
    "    \n",
    "    for i, text_i in enumerate(cluster):\n",
    "        for text_j in cluster[i+1:]:\n",
    "                max_ = max(max_, metric(text_i, text_j))\n",
    "                \n",
    "    return max_"
   ]
  },
  {
   "cell_type": "code",
   "execution_count": 111,
   "id": "discrete-reynolds",
   "metadata": {},
   "outputs": [],
   "source": [
    "def davies_bouldin(clusters, metric):\n",
    "    db = 0\n",
    "    sigmas = [sigma(cluster, metric) for cluster in clusters]\n",
    "    for i, cluster_i in enumerate(clusters):\n",
    "        max_ = 0\n",
    "        for j, cluster_j in enumerate(clusters[i+1:]):\n",
    "            max_ = max(max_, (sigmas[i] + sigmas[j])/d(cluster_i, cluster_j, metric))\n",
    "        db += max_\n",
    "        \n",
    "    return db/len(clusters)        "
   ]
  },
  {
   "cell_type": "code",
   "execution_count": 112,
   "id": "medical-import",
   "metadata": {},
   "outputs": [],
   "source": [
    "def dunn(clusters, metric):\n",
    "    min_dist = min((d(cluster_a, cluster_b, metric) for cluster_a in clusters for cluster_b in clusters if cluster_a != cluster_b))\n",
    "    max_size = max((d_prim(cluster, metric) for cluster in clusters))\n",
    "    return min_dist/max_size"
   ]
  },
  {
   "cell_type": "markdown",
   "id": "listed-daughter",
   "metadata": {},
   "source": [
    "## 3. Stoplista"
   ]
  },
  {
   "cell_type": "markdown",
   "id": "soviet-blowing",
   "metadata": {},
   "source": [
    "<i>3. Stwórz stoplistę najczęściej występujących słów. </i>"
   ]
  },
  {
   "cell_type": "code",
   "execution_count": 85,
   "id": "meaningful-escape",
   "metadata": {},
   "outputs": [],
   "source": [
    "def get_most_common_words(text, num):\n",
    "    words_stats = list(Counter(text.split(' ')).items())\n",
    "    words_stats.sort(reverse=True)\n",
    "    return [word for word in words_stats[:num]]"
   ]
  },
  {
   "cell_type": "code",
   "execution_count": 86,
   "id": "contemporary-colon",
   "metadata": {},
   "outputs": [],
   "source": [
    "def remove_common(text, num):\n",
    "    common = get_most_common_words(text, num)\n",
    "    return [x for x in text if x not in common]"
   ]
  },
  {
   "cell_type": "markdown",
   "id": "dental-secretary",
   "metadata": {},
   "source": [
    "## 4. Klasteryzacja"
   ]
  },
  {
   "cell_type": "markdown",
   "id": "accepted-adapter",
   "metadata": {},
   "source": [
    "<i>4. Wykonaj klasteryzację zawartości załączonego pliku (lines.txt) przy użyciu przynajmniej 2 algorytmów oraz metryk zaimplementowanych w pkt. 1. i metryki Levenshteina. Każda linia to adres pocztowy firmy, różne sposoby zapisu tego samego adresu powinny się znaleźć w jednym klastrze. </i>"
   ]
  },
  {
   "cell_type": "code",
   "execution_count": 191,
   "id": "younger-climb",
   "metadata": {},
   "outputs": [],
   "source": [
    "def cluster(texts, metric, eps):\n",
    "    distances = [[metric(texts[i], texts[j]) for i in range(len(texts))] for j in range(len(texts))]\n",
    "#     print(distances)\n",
    "    clustering = sklearn.cluster.DBSCAN(eps=eps, min_samples=1).fit(distances)\n",
    "    return clustering.labels_"
   ]
  },
  {
   "cell_type": "markdown",
   "id": "otherwise-mills",
   "metadata": {},
   "source": [
    "## 5. Testy"
   ]
  },
  {
   "cell_type": "markdown",
   "id": "applied-night",
   "metadata": {},
   "source": [
    "<i> 5. Porównaj jakość wyników sposobami zaimplementowanymi w pkt. 2. </i>"
   ]
  },
  {
   "cell_type": "code",
   "execution_count": 168,
   "id": "horizontal-marshall",
   "metadata": {},
   "outputs": [],
   "source": [
    "def get_example_lines(num):\n",
    "    with open('lines.txt', 'r') as file:\n",
    "        lines = list(file)\n",
    "    lines = lines[:num]\n",
    "\n",
    "    with open('clusters.txt', 'r') as file:\n",
    "        clusters = list(file)\n",
    "    \n",
    "    correct_clustering = []\n",
    "    cluster_num = 0\n",
    "    for line in lines:\n",
    "        cluster = 0\n",
    "        for cluster_line in clusters:\n",
    "            if cluster_line[0] == '#':\n",
    "                cluster += 1\n",
    "            elif cluster_line == line:\n",
    "                correct_clustering.append(cluster)\n",
    "    \n",
    "    return lines, correct_clustering"
   ]
  },
  {
   "cell_type": "code",
   "execution_count": 169,
   "id": "advised-recruitment",
   "metadata": {},
   "outputs": [],
   "source": [
    "lines, correct_labels = get_example_lines(200)"
   ]
  },
  {
   "cell_type": "code",
   "execution_count": 170,
   "id": "wound-annex",
   "metadata": {},
   "outputs": [],
   "source": [
    "labels = cluster(lines, euclides)"
   ]
  },
  {
   "cell_type": "code",
   "execution_count": 171,
   "id": "monthly-richmond",
   "metadata": {},
   "outputs": [
    {
     "name": "stdout",
     "output_type": "stream",
     "text": [
      "[  0   1   2   3   4   5   6   7   8   9  10  11  12  13  14  15  16  17\n",
      "  18  19  20  21  22  23  24  25  26  27  28  29  30  31  32  33  34  35\n",
      "  36  37  38  39  40  41  42  43  44  45  46  47  48  49  50  51  52  53\n",
      "  54  55  56  57  58  59  60  61  62  63  64  65  66  67  68  69  70  71\n",
      "  72  73  74  75  76  77  78  79  80  81  82  83  84  85  86  87  88  89\n",
      "  90  91  92  93  94  95  96  97  98  99 100 101 102 103 104 105 106 107\n",
      " 108 109 110 111 112 113 114 115 116 117 118 119 120 121 122 123 124 125\n",
      " 126 127 128 129 130 131 132 133 134 135 136 137 138 139 140 141 142 143\n",
      " 144 145 146 147 148 149 150 151 152 153 154 155 156 157 158 159 160 161\n",
      " 162 163 164 165 166 167 168 169 170 171 172 173 174 175 176 177 178 179\n",
      " 180 181 182 183 184 185 186 187 188 189 190 191 192 193 194 195 196 197\n",
      " 198 199]\n"
     ]
    }
   ],
   "source": [
    "print(labels)"
   ]
  },
  {
   "cell_type": "code",
   "execution_count": 172,
   "id": "western-writer",
   "metadata": {},
   "outputs": [],
   "source": [
    "def renumber_labels(labels):\n",
    "    seen = {}\n",
    "    current = 0\n",
    "    new_labels = []\n",
    "    for label in labels:\n",
    "        if label in seen:\n",
    "            new_labels.append(seen[label])\n",
    "        else:\n",
    "            new_labels.append(current)\n",
    "            seen[label] = current\n",
    "            current += 1\n",
    "    \n",
    "    return new_labels      "
   ]
  },
  {
   "cell_type": "code",
   "execution_count": 173,
   "id": "occupied-nebraska",
   "metadata": {},
   "outputs": [],
   "source": [
    "def get_clusters_from_labels(lines, labels):\n",
    "    clusters = {}\n",
    "    for i, label in enumerate(labels):\n",
    "        clusters[label] = clusters.get(label, []) + [lines[i]]\n",
    "        \n",
    "    return list(clusters.values())"
   ]
  },
  {
   "cell_type": "code",
   "execution_count": 174,
   "id": "collectible-first",
   "metadata": {
    "scrolled": true
   },
   "outputs": [
    {
     "name": "stdout",
     "output_type": "stream",
     "text": [
      "[0, 1, 2, 2, 3, 4, 5, 6, 7, 8, 9, 10, 11, 11, 11, 11, 11, 11, 11, 12, 12, 13, 14, 14, 15, 16, 17, 18, 18, 19, 20, 21, 22, 22, 23, 24, 25, 26, 27, 28, 29, 29, 30, 31, 32, 33, 34, 35, 36, 36, 37, 38, 38, 38, 39, 39, 39, 39, 40, 40, 40, 40, 40, 40, 41, 41, 41, 42, 42, 42, 43, 44, 45, 46, 47, 48, 49, 50, 51, 52, 53, 54, 55, 56, 56, 57, 58, 59, 2, 60, 61, 62, 63, 64, 63, 64, 65, 65, 65, 65, 65, 66, 67, 3, 3, 3, 3, 3, 3, 3, 3, 3, 3, 3, 68, 69, 70, 70, 70, 71, 72, 73, 74, 74, 75, 76, 77, 78, 79, 80, 81, 82, 83, 84, 85, 86, 87, 88, 89, 89, 90, 91, 27, 27, 26, 26, 26, 26, 26, 92, 93, 6, 6, 94, 53, 95, 27, 27, 26, 26, 96, 91, 91, 91, 91, 91, 91, 97, 98, 99, 99, 100, 99, 101, 102, 102, 102, 102, 102, 103, 102, 53, 104, 105, 105, 105, 106, 106, 106, 106, 106, 106, 107, 107, 93, 108, 109, 26, 110, 111]\n"
     ]
    }
   ],
   "source": [
    "print(renumber_labels(correct_labels))"
   ]
  },
  {
   "cell_type": "code",
   "execution_count": 175,
   "id": "anonymous-mention",
   "metadata": {},
   "outputs": [],
   "source": [
    "clusters = get_clusters_from_labels(lines, labels)"
   ]
  },
  {
   "cell_type": "code",
   "execution_count": 176,
   "id": "nonprofit-examination",
   "metadata": {},
   "outputs": [
    {
     "name": "stdout",
     "output_type": "stream",
     "text": [
      "[['/11692589 RD TUNA CANNERS, LTD. PORTION 1004, SIAR NORTH COAST ROAD, P.O.BOX 2113, MADANG, PAPUA NEW GUINEA\\n'], [\"''PA INTERIOR'' LTD BOLSHAYA LUBYANKA STREET, 16/4 MOSCOW, 101000, RUSSIA INN/KPP 7704550148//770801001 495-984-8611\\n\"], [\"''SSONTEX''  Sp.ZO.O.IMPORT-EXPORTUL:PRZECLAWSKA 5 03-879 WARSZAWA,POLAND NIP 113-01-17-669\\n\"], [\"''SSONTEX''SP.ZO.O.IMPORT-EXPORT UL:PRZECLAWSKA 5 03-879 WARSZAWA,POLAND NIP 113-01-17-669 TEL./FAX.:0048(022)217 6532--\\n\"], [\"''TOPEX SP. Z O.O.'' SPOLKA KOMANDYTOWA UL. POGRANICZNA 2/4  02-285 WARSZAWA POLAND\\n\"], [\"'MASTER PLUS CO.,LTD.' 143000,RUSSIA,MO,ODINSOVO, MOJAISKOE, SHOSSE,153G TEL:+7495 7273939\\n\"], ['\"2TIGERS GROUP LIMITED\"  ROOM 504 JINSHAZHOU SHANGSHUI ROAD,  GUANGZHOU 510160\\n'], ['\"ALDETRANS\" LLC, 105066, MOSCOW, RUSSIA, TOKMAKOV LANE, 11. TEL:+7(495)641-03-89\\n'], ['\"A-LIFT\",JSC 1 PROSPEKT MARSHALA ZHUKOVA,MOSCOW 123308,RUSSIA  T: +7(495)784-7961\\n'], ['\"ALISA\" LTD, 1/5 Derbenevskaya str., Moscow, Russia Tel./Fax: (495) 987-13-07 postal code: 115114\\n'], ['\"ALLIANCE-TRADE\" LLC INN: 7816391055 / KPP: 784601001 190020, Saint Petersburg, quay of the Obvodny channel, 138, bulk 1, liter.B\\n'], ['\"ALTAIR\" LIMITED COMPANY 199004,SAINT-PETERSBURG, 1 LINE,H.20 LIT A,OF.8-H\\n'], ['\"ARIVIST\", 198035,RUSSIA,SAINT-PETERSBURG, GAPSALSKAYA STR.,5,OFFICE 1-3; TEL:+78123277732,FAX:+781 23277729.VOLOKNO@YAHOO.COM\\n'], ['\"ARIVIST\", 198035,RUSSIA,SAINT-PETERSBURG, GAPSALSKAYA STR.,5,OFFICE 1-3; TEL.:+78123277732,FAX+ 78123277729.\\n'], ['\"ARIVIST\", 198035,RUSSIA,SAINT-PETERSBURG,  GAPSALSKAYA STR.,5,OFFICE1-3; TEL.:+78123277732,FAX+ 78123277729.\\n'], ['\"ARIVIST\", 198035,RUSSIA,SAINT-PETERSBURG,  GAPSALSKAYA STR.,5,OFFICE1-3; TEL.:+78123277732,FAX + 78123277729.\\n'], ['\"ARIVIST\", 198035, RUSSIA,  SAINT-PETERSBURG,  GAPSALSKAYA STR.,5,OFFICE1-3;  TEL.+78123277732, FAX  +78123277729.\\n'], ['\"ARIVIST\", 198035, RUSSIA, SAINT-PETERSBURG, GAPSALSKAYA STR.,5, OFFICE1-3; TEL.+78123277732, FAX +78123277729. VOLOKNO@YAHOO.COM\\n'], ['\"ARIVIST\", 198035, RUSSIA, SAINT-PETERSBURG. GAPSALSKAYA STR.,5. OFFICE1-3; TEL.+78123277732, FAX+78123277729. VOLOKNO@YAHOO.COM\\n'], ['\"AVANPORT\"  LLC INN: 7839413675 KPP: 783901001 190020, SAINT PETERSBURG, QUAY OF THE OBVODNY CHANNEL, 134-136-138, BUILD. 101, LIT. A\"\\n'], ['\"AVANPORT\"  LLC INN: 7839413675 KPP: 783901001 190020, SAINT PETERSBURG, QUAY OF  THE OBVODNY CHANNEL,134-136-138,  BUILD. 101, LIT. A\"\\n'], ['\"AVENTA\"LTD. ADDRESS:129 110,MOSCOW,PROSPEKT MIRA,H.52,STR.3,POM,III Tel: 8-968-808-80-11\\n'], ['\"AVSON-GROUP\" COMPANY LIMITED 190008, ST. PETERSBURG,  RIMSKOGO-KORSAKOVA,  73/33, LIT. A-1\\n'], ['\"Avson-group\" Company Limited  190008, St. Petersburg, Rimskogo-Korsakova, 73/33, lit. A-1\\n'], ['\"BIO plus LTD\" INN 7805166210 198303, S-Petersburg, Leninskiy Pr.,110/1, lit B, app.53-H, RUSSIA\\n'], ['\"CARGOIMPORT\" LTD VNUKOVSKAYA STREET, BUILDING 2, R.43-H-1, SAINT-PETERSBURG, RUSSIA .\\n'], ['\"COLOS\"COMPLEX LOGISTICS,SOLUTIONSPIOTR KACZMAREK I PAWEL WILK SP.J.ZACHODNIA STREET NO 3 55-011 SIECHNICE POLAND\\n'], ['\"ELECTROGROUP\" (OOO),190068.RUSSIA,SAINT-PETERSBURG,UL.BOLSHAYA PODYACHESKAYA,5,LIT.A,POM.4-N\\n'], ['\"ELECTROGROUP\" (OOO),190068.RUSSIA,SAINT-PETERSBURG,UL.BOLSHAYA  PODYACHESKAYA,5,LIT.A,POM.4-N\\n'], ['\"ELEKTROAPPARAT\" PLC   24th LiniyaV.O.,St.Petersburg. Sup.office No.1of Kirovsky RUSSIA TEL: 0079-219646264\\n'], ['\"ENS\" LTD ADDRESS: STAROPETROVSKIYPASSAGE, BLD 7A,  CONSTRUCTION 3 125130, MOSCOW, RUSSIA TEL: (499) 130-7336\\n'], ['\"EVROTRANSIT\" LLC 105005, RUSSIAN FEDERATION, MOSCOW, BAUMANSKAYA STR., 33/2, BLD.1 E-MAIL:EVROTRANZIT-LOGL@INBOX.RU TEL:8-495-665-34-68\\n'], ['\"EXPRESS CO. LTD.\" RUSSIA 155101 IVANOVSKAYA REGION, LEZHNEVSKIY RAION, D. KOROVIHA, CENTRALNAYA STR. 4ARUSSIA\\n'], ['\"EXPRESS CO. LTD.\"  RUSSIA 155101 IVANOVSKAYA REGION, LEZHNEVSKIY RAION, D. KOROVIHA, CENTRALNAYA STR. 4ARUSSIA\\n'], ['\"FILITA\" LTD, UKRAINE, 83004, DONETSK, ARTEMA STR. 193G    TEL/FAX:+380563705563\\n'], ['\"FILLOGISTIK\" PP ZHOVKIVSKA 22 STREET 79019 LVOV,UKRAINE TEL:+380322458030 FAX:+380322458030\\n'], ['\"FINANS AKTIV\",LTD. 111250,RUSSIA,MOSCOW, KRASNOKAZARMENNAYA STR.11+7495 665 6001\\n'], ['\"FMG SHIPPING AND FORWARDING, LTD.\"190020, SAINT PETERSBURG,LIFLYANDSKAYA STR., 6,LITERA \"A\",BUILDING 31H,OFFICE 310 POST CODE:190020 TEL:+7 812 448 82 83 FAX:+7 812 448 04 9\\n'], ['\"FMG SHIPPING AND FORWARDING, LTD.\"190020 ST.PETERSBURG, RUSSIA BUMAZHNAYA STR., 18, OFF. 310\\n'], ['\"FORWARD EXPEDITION LIMITED HKG\" SUCCES COMM.BLDG.,6B,251, HENNESSY ROAD, HONGKONG ARRIVAL@FORWARD-HKG.COM\\n'], ['\"FRUITIMPEX\" LLC 121170, Moscow, Russia, Kulneva st, 3 bld. 1 INN 7737514219 KPP773001001\\n'], ['\"FRUITIMPEX\" LLC TEL. (495) 926-74-49\\n'], ['\"FT-LINE\"LLC RUSSIA 115230,MOSCOW,ELECTROLYTNIY PROEZD,3G/2 TEL:+79851607522\\n'], ['\"GARANTTRANS SERVICE\" MOSCOW,RUSSIAUl.GILYAROVSKOGO,57.OFFICE 514 TEL:(495) 748 02 87 FAX:(495) 684 12 01\\n'], ['\"Goldens\" LLC\\n'], ['\"INTERLINK LTD SP ZOO UI.  POMORSKA50A 81-314 GDYNIA BIELSKA@INTERLINK.BIZ.PL SIEJKOWSKA@INTERLINK.BIZ.PL...+++\\n'], ['\"INTERTRANS\" CO LTD. ST.PETERSBURG,198035,RUSSIA GAPSALSKAIA STREET,OFFICE 502, TEL 3242144, FAX:3242145\\n'], ['\"KM\" LTD 197183 RUSSIA,ST. PETERSBURG,SABIROVSKAYA STR.,50,OFF,115 OLEG TEREKHOV ZIP CODE:197183 PHONE:7911239-3109  FAX:7911239-3109\\n'], ['\"KOBI-LIGHT\" SPOLKA KOMANDYTOWA UL.T.BOYA ZELENSKIEGO 25 35-105 RZESZOW,POLAND NIP:813-34-99-669\\n'], ['\"KOBI-LIGHT\" SPOLKA KOMANDYTOWA UL.T.BOYA ZELENSKIEGO 25 35-105 RZESZOW,POLAND NIP:813-34-99-699\\n'], ['\"KONTUR\" LLC STR. SHPALERNAYA 51, LIT. A, APP. 2-N 191015 ST. PETERSBURG, RUSSIA INN 7842437789\\n'], ['\"LIGA-IMPORT\" LTD DOROGA NA TURUHTANNIE OSTROVA, D.24, KORP.5, SAINT-PETERSBURG, 198096, RUSSIA\\n'], ['\"LIGA-IMPORT\" LTD DOROGA NA TURUHTANNIE OSTROVA, D.24, KORP.5, SAINT-PETERSBURG, 198096, RUSSIA TEL/FAX:+7 (911) 812 89 88\\n'], ['\"LIGA-IMPORT\" LTD DOROGA NA TURUHTANNIE OSTROVA, D. 24, KORP. 5, SAINT-PETERSBURG, 198096, RUSSIA TEL/FAX:+7 (911) 812 89 88\\n'], ['\"LTC SOLUTION OY\" FINLAND, HAMINA 49420, PILARITIE 2 ON BEHALF \"AETZ REKORD\" CO., LTD 2, GAGARINA STR., ALEXANDROV,--\\n'], ['\"LTC SOLUTION OY\" FINLAND, HAMINA 49420, PILARITIE 2 TEL. +358 (0) 522-66-130 FAX: +358 (0) 522-66-120\\n'], ['\"LTC SOLUTION OY\" FINLAND, HAMINA 49420, SYVASATAMANTIE 18 ON BEHALF \"AETZ REKORD\" CO., LTD--\\n'], ['\"LTC SOLUTION OY\" FINLAND, HAMINA 49420, SYVASATAMANTIE 18 TEL. +358 (0) 522-66-130 FAX: +358 (0) 522-66-120\\n'], ['\"MEAT TRADE COMPANY \"ST.PETERSBURG\"LTD.  191015 SAINT-PETERSBURG, SHPALERNAYA STREET, 51 RUSSIAN FEDERATION\\n'], ['\"MEAT TRADE COMPANY \"ST.PETERSBURG\"LTD. 191015 SAINT-PETERSBURG,  SHPALERNAYA STREET, 51 RUSSIAN FEDERATION TEL +7 (812) 329-42-62 PYLAEVATATIANA\\n'], ['\"MEAT TRADE COMPANY \"ST.PETERSBURG\"LTD 191015 SAINT-PETERSBURG, SHPALERNAYA STREET, 51 RUSSIAN FEDERATION\\n'], ['\"MEAT TRADE COMPANY \"ST.PETERSBURG\"LTD 191015 SAINT-PETERSBURG, SHPALERNAYA STREET, 51 RUSSIAN FEDERATION INN 7842339206\\n'], ['\"MEAT TRADE COMPANY \"ST.PETERSBURG\"LTD 191015 SAINT-PETERSBURG, SHPALERNAYA STREET, 51 RUSSIAN FEDERATION TEL +7 (812) 329-42-62 PASHKEVICHANNA\\n'], ['\"MEAT TRADE COMPANY \"ST.PETERSBURG\"LTD 191015 SAINT-PETERSBURG, SHPALERNAYA STREET, 51 RUSSIAN FEDERATION TEL +7 (812) 329-42-62 PYLAEVA TATIANA\\n'], ['\"NFC\" LTD GAPSALSKAYA STR., 5 198035 ST. PETERSBURG, RUSSIA TEL: +7 812 327 77 41  FAX: +7 812 327 77 29\\n'], ['\"NFC\"LTD GAPSALSKAYA STR., 5 198035ST.PETERSBURG,RUSSIA TEL.+78123277741 FAX +78123277729\\n'], ['\"NFC\" LTD GAPSALSKAYA STR., 5 198035 ST.PETERSBURG, RUSSIA TEL. +7 812327 77 41 FAX +7 812 327 77 29\\n'], ['\"OCEAN WORLD\" LLC 198099 RUSSIA, ST.PETERSBURG KALININ STREET, 57, LIT.A, OF.307 LEDENEVA ELENA. TEL./FAX.+7-812-336-65-88\\n'], ['\"OCEAN WORLD\" LLC KALININ STREET, 57, LIT. A, OFFICE 307, ST. PETERSBURG, RUSSIA, 198099 LEDENEVA ELENA.TEL./FAX.+7-812-336-65-88\\n'], ['\"OCEAN WORLD\" LLC LIT A, OF 307, 57KALININ STREET ST PETERSBURG 198099, RUSSIA MERKOVA MARIYA TEL/FAX: +7-812-336-65-88\\n'], ['\"OMEGA TOYS GRUP\"CO.,LTD. AVTOZAVODSKAY STR.23,STRUCTURE 8 MOSCOW,RUSSIAN FEDERATION,P.O.X:115280 TEL/FAX:+7-495-674-60-62 TITARENKO ALEXANDR E-mail serinity-toys@mail.ru INN\\n'], ['\"OOO\" BALTIYSKIY EKSPEDITOR\" EUGENIY KOMRAKOV (812) 676-16-03\"\\n'], ['\"OOO\" TECHNOLINE\" 191123,ST.-PETERSBURG,UL. FURSCHTATSKAYA 48,LITER A\"\\n'], ['\"OTL\" LLC KOROTIN@OTLSPB.RU TEL: +7(812) 326-42-52 VIP 13171-1 ST.PETERSBURG\\n'], ['\"OY VAER LOG LTD\"  Y-TUNNUS:2066533-3  Adres: Merituulentie, 424  48310, Kotka  TEL: +358 5 21 21 33  Fax: +358 5 21 21 30  Vanhala Olga  Ershova Ekaterina\\n'], ['\"PARTNER\" LTD INN/KPP 7801080258/780101001 POM/1-N, HOUSE 1-2, 1-LINE;V. 0. , ST. PETERSBURG, 199053, RUSSIA TEL. : +7 812 600 20 22 FAX: +7 812 600 20 33\\n'], ['\"PETERSBURG CHEMICAL COMPANY\" COMPANY LIMITED(<<PCC>>CO.,LTD.) 197374,RUSSIAN FEDERATION,SAINT PETERSBURG,TORFYANAYA ROAD, 7,LIT.F OFFICE 925.\\n'], ['\"PO\"SVET \"LTD PODREZOVA STR.,16,LIT.A,ROOM 5-H 197136 SAINT-PETERSBURG,RUSSIA. ITN 7813445827 TEL:+7-812-716-21-76\\n'], ['\"PRANT\" LLC 603159 RUSSIA, NIZHNY NOVGOROD AKIMOVA-STR. 41, SUITE 63 INN 5257120394 KPP 525701001 TEL/FAX. +7 (831) 423-45-33\\n'], ['\"Rimal\" LTD \"Grazdansky prospect, 22.  St. Petersburg, 195220,  Russian Federation\"\\n'], ['\"SAME AS CONSIGNEE\"\\n'], ['\"SAME AS CONSIGNEE\"  AS AGENT OF BLUE ANCHOR LINE\\n'], ['\"SERVICE-EXPRESS\" LTD 197110, RUSSIA, SAINT-PETERSBURG, GLUHAYA ZELENINA STREET,H.4, LIT B,OFFICE 19-H\\n'], ['\"SEVROLL-SYSTEM\" SP.Z O.O. PLAC CZERWCA 1976 ROKU NR 1B  02-495 WARSZAWA URSUS  TEL: (022) 312-31-39\\n'], ['\"SEVROLL-SYSTEM\" SP.Z O.O. PLAC CZERWCA 1976 ROKU NR 1B  02-495 WARSZAWA URSUS   TEL: (022) 312-31-39\\n'], ['\"SHIP-MASTER DELTA\"LLC RIGSKY PR.,19,SAINT-PETERSBURG, 190103,RUSSIA TEL:+7(812)251-81-11; +7(812)575-33-38;+7(812)251-73-03 FAX: +7 (812) 575-33-40\\n'], ['\"SILMET\" COMPANY LIMITED 196084, RUSSIA, ST.PETERSBURG, ZAOZERNAYA STR., 4. LETTER A, 9H. TEL /FAX: 7 812334 35 74\\n'], ['\"Spike Rus\" Limited Liability Company, The Yakovlevskyi per., H.8 a of. 5-n, 196105 S.Petersburg, Russia.TEL: 007-812-476-15-62 FAX: 007-812-476-15-62\\n'], ['\"SSONTEX\" SP.ZO.O IMPORT-EXPORT 03-879 WARSZAWA UL PRZECLAWSKA 5 NIP:113-01-17-669\\n'], ['\"STEP TRADE\" LLC KUBINSKAYA ST., 38, BUILDING A, ROOM 4-H,ST.PETERSBURG, 196247, RUSSIAN FEDERATION\\n'], ['\"STEVECO OY\" STEVECO LOGISTICS MERITUULENTIE 424 48310 KOTKA, FONLANDPIC: ANNE LEPPANEN\\n'], ['\"STUDIO MODERNA\" UL. PERERVA 54 109369 MOSCOW RUSSIA\\n'], ['\"SUNTIRE\" CO. LTD, M. BALKANSKAYA STREET, 58, LIT.A 192289, ST.-PETERSBURG, RUSSIA\\n'], ['\"SUNTIRE\" CO. LTD. TEL.: + 7 (812)458 54 38 E-MAIL: CLIENT@S-LOGISTIC.RU\\n'], ['\"SUNTIRE\"CO.LTD M.BALKANSKAYA STREET,58,LIT.A 192289,ST.PETERSBURG,RUSSIA\\n'], ['\"SUNTIRE\"CO.LTD TEL:+7(812)458 54 38 E-MAIL:CLIENT@S-LOGISTIC.RU\\n'], ['\"TC \"\"UNOTRANS\"\" LTD\" \"190020 ST.PETERSBURG,\" \"BUMAZHNAYA STR.9, K.1,OFFICE 305\" \"TEL/FAX: +7 812 445 2843\"\\n'], ['\"TC\"UNOTRANS\"LTD 190020 ST.PETERSBURG,BUMAZHNAYA STR.9,K.1,OFF.305 TEL/FAX:+7 812 445 28 43\\n'], ['\"TC\"UNOTRANS\"LTD 190020 ST.PETERSBURG, BUMAZHNAYA STR.9,K.1,OFF.305 TEL/FAX:+7 812 445 28 43\\n'], ['\"TC \"UNOTRANS\" LTD 190020 ST.PETERSBURG, BUMAZHNAYA STR.9, K.1, OFF. 305 TEL/FAX: +7 812 445 28 43\\n'], ['\"TC \"UNOTRANS\" LTD 190020 ST.PETERSBURG, BUMAZHNAYA STR.9, K.1, OFFICE305 TEL/FAX: +7 812 445 28 43\\n'], ['\"TC\"UNOTRANS\" LTD ZIP CODE:190020 ST.PETERSBURG, BUMAZHNAYA STR.9, K.1, LIT.A OFF.305 TEL:+7 812 445 28 42\\n'], ['\"TEHIMEKS\"LLC 107497, BAIKALSKAYA STR., 1/3, BLD.1, MOSCOW, RUSSIA TEL(495)745-88-88 FAX:(495)380-01-24\\n'], ['\"TOPEX SP.Z.O.O.\"SP.K. UL.POGRANICZNA 2/4, 02-285 WARSZAWA.POLAND\\n'], ['\"TOPEX SP.Z.O.O.\"SP.K. UL.POGRANICZNA 2/4,02-285 WARSZAWA POLAND\\n'], ['\"TOPEX SP.Z O.O.\"SP.K. UL,POGRANICZNA 2/4 02-285 WARSZAWA\\n'], ['\"TOPEX SP.Z O.O.\"SP.K. UL.POGRANICZNA 2/4,02--285 WARSZAWA\\n'], ['\"TOPEX SP. Z O. O.\" SP. K. UL.POGRANICZNA 2/4,02-285 WARSZAWA,POLAND\\n'], ['\"TOPEX SP.Z O.O.\"SP.K. UL.POGRANICZNA 2/4,02-285 WARSZAWA T:0048 225730397 F:0048 2257 30400\\n'], ['\"TOPEX SP.Z O.O.\"SP.K. UL.POGRANICZNA 2/4 02-285 WARSZAWA POLAND\\n'], ['\"TOPEX SP. Z O.O.\" SP.K. UL.POGRANICZNA 2/4 02-285 WARSZAWA POLAND\\n'], ['\"TOPEX SP.Z O.O.\" SPOLKA KOMANDYTOWA UL. POGRANICZNA 2/4,02-285 WARSZAWA TEL:(+48 22) 57 30 300, FAX:(+4822 ) 57 30 400\\n'], ['\"TOPEX SP.ZO.O.\"SPOLKA  KOMANDYTOWAUL.POGRANICZNA 2/4 02-285  WARSZAWA POLAND\\n'], ['\"TOPEX SP.ZO.O.\" SPOLKA KOMANDYTOWAUL.POGRANICZNA 2/4  02-285 WARSZAWA POLAND\\n'], ['\"TORGOVAYA COMPANY MIRAZH LTD\" 2 KADASHEVSKIY LANE, 12, STR. 1 MOSCOW,115035, RUSSIA CONTACT: MR.PETER GRACHEV; TEL: + 7 950 027 03 12\\n'], ['\"TOYOTA MATERIAL HANDLING POLSKASP. Z O.O.\" UL.WIEJSKA 4 05-077PRUSZKOW POLAND\\n'], ['\"TRADE HOUSE \"PIROFF\"\" LTD 14, OBRAZTSOVA STR., MOSCOW, RUSSIAN FEDERATION,   127055 TEL/FAX:   +7   (495)   980  89  91\\n'], ['\"TRADE HOUSE \"PIROFF\"\" LTD  14, OBRAZTSOVA  STR.,  MOSCOW, RUSSIAN  FEDERATION,   127055  TEL/FAX:   +7(495)   980  89  91\\n'], ['\"TRADE HOUSE \"PIROFF\"\" LTD   14, OBRAZTSOVA  STR.,  MOSCOW, RUSSIANFEDERATION,   127055  TEL/FAX:  +7(495)   980  89  91\\n'], ['\"TVA\" DUNTES STR 23A,OFFICE 301, LV1005 R IGA, LATVIA RIGA RIX 36309 LATVIA T: +371 (6) 770-9141 F: + 371(6) 738-2375\\n'], ['\"TVA LOGISTIC OY\",AS AGENT, MERITUULENTIE 424,OFFICE 4039,48310 KOTKA,FINLAND, EORI FI2409840-1\\n'], ['\"UNIMASTER\"LTD. PROSPECT MIRA 104 129626 MOSCOW,RUSSIA TEL:007(495)5433343\\n'], ['\"UNITREID\" LLC SADOVAYA STR., BLD.128, LETTER A, OFFICE 7H 190121, ST.-PETERSBURG, RUSSIA TEL.: + 7 (812)458 54 38++\\n'], ['\"UNITREID\" LLC SADOVAYA STR., BLD.128, LETTER A , OFFICE 7H 190121, ST.-PETERSBURG, RUSSIA TEL.: + 7 (812) 458 54 38+++\\n'], ['\"VANDER\" ALEKSANDER LIS UL KRAKOWSKA 156 A 35-506 RZESZOW, POLAND\\n'], ['\"WT-IMPEX\" LIMITED ADDRESS: 109428,MOSCOW, STAHANOVSKAYA STREET,22,BUILD.2 TEL:+7-495-739-35-61\\n'], ['\"ZAWA\" SPOLKA ZOO UL:NOWOGRODZKA 50LOK.515 00-695 WARSZAWA TEL/FAX:0048-222951246\\n'], ['(YUNFU) NEW SHANCHENG STONE CARVINGFACTORY ADD:YONGFENG BRIDGE,HEKOUTOWN,YUNFU DISTRICT,YUNFU CITY,GUANGDONG PROVINCE,CHINA\\n'], ['<<CHANGSHU FOREIGN TRADE CORPORATION>>\\n'], ['<<FAVORIT>>LLC SEDOVA STR.,BUILDING37,LIT.A,OFFICE 16N, SAINT-PETERSBURG,RUSSIAN FEDERATION,192148 TEL:+7 (812) 448-65-73 FAX:+7 (812) 448-65-73\\n'], ['<<IMPEX-PROF>>COMPANY LIMITED 4-H,LIT. A, LIGOVSKIJ PR. 93, SPB, RUSSIA, 191119. TEL/FAX 8(812)680 07 81\\n'], ['<<IMPORTGROUP>>LLC RUSSIA,SAINT-PETERSBURG 196210,VNUKOVSKAYA STR.,B.2B,R.402B TEL:812-3855149\\n'], ['<<MATTINO EXIM>>LLC  INN 7720534383  105120, MOSCOW, GJELSKIY PEREULOK, 19/2\\n'], ['<<TEKHTORG>>LTD 123056,RUSSIA,MOSCOW,BOLSHAYA GRUZINSKAYA STREET,42,OFFICE 20\\n'], ['<<VNESHTECHTORG>>LLC  107076, RUSSIA, MOSCOW  KRASNOBOGATIRSKAYA STR., 44, BLD. 1\\n'], ['<<WILD FISH>>LLC 10 PROSPEKT POBEDI, KALININGRAD REGION, KALININGRAD,236010, RUSSIA.\\n'], ['<PISHEPROMSYRYO>CO.,LTD. GILIAROVSKOGO STR.57,OFFICE 701,107996,MOSCOW,RUSSIA\\n'], ['<TORGOVIY SOYUZ>LENSOVETA STR., 16, LIT. A, APP.  4-N SAINT-PETERSBURG, 196135, RUSSIA\\n'], ['<TROYA>CO.,LTD 198255,ST.PETERSBURG,PROSPECT DACHNIY, 9/2,LIT.A,OFFICE15-N INN 7805558954\\n'], ['<TROYA>CO. LTD 198255, ST.PETERSBURG,PROSPECT DACHNIY, 9/2,LIT.A,OFFICE 15-N INN 7805558954 TEL:+78123092424--\\n'], ['000\"ZOLDEN\" 125565,RUSSIA,MOSCOW,PULKOVSKAYA STR.,H.3,BLD.2 INN7743791179 KPP774301001\\n'], ['1,FORWARD EXPEDITION LIMITED HKG MOSCOW REPRESENTATION, 121069,MOSCOW,NOVINSKIY BULVAR, 20 A, BLD.8 PIC:KSENIA GUSKOVA TEL/FAX+7(+++\\n'], ['1/FMG SHIPPING AND FORWARDING LTD 190020, SAINT PETERSBURG, LIFLYANDSKAYA STR., 6, LITERA \"A\",\\n'], ['1/FMG SHIPPING AND FORWARDING  LTD190020, SAINT PETERSBURG, LIFLYANDSKAYA STR., 6, LITERA \"A \",+++\\n'], ['1/FMG SHIPPING AND FORWARDING LTD 190020, SAINT PETERSBURG, LIFLYANDSKAYA STR., 6, LITERA \"A\", BUILDING 31??, OFFICE 310\\n'], ['1/FMG SHIPPING AND FORWARDING  LTD190020, SAINT PETERSBURG, LIFLYANDSKAYA  STR., 6, LITERA \"A\", BUILDING31H, +++\\n'], ['1/FMG Shipping and Forwarding Ltd 190020, Saint Petersburg, Liflyandskaya str., 6, litera \"A\", building 31H, office 310 +++\\n'], ['1/FMG Shipping and Forwarding Ltd190020, Saint Petersburg,  Liflyandskaya str., 6, litera A,building 31, office 310\\n'], ['1/FMG SHIPPING AND FORWARDING  LTD190020, SAINT PETERSBURG, LIFLYANDSKAYA STR., 6, LITERA A 2/<TORGOVIYSOYUZ>LENSOVETA +++\\n'], ['1/ SAME AS CONSIGNEE. ( STORE 310)\\n'], ['1.AGENCJA CELNA HAUSE UL.BIALOWIESKA 1, 54-234 WROCLAW    ATTN JACEK BOROWSKI; EMAIL:JACEK.BOROWSKI@HAUSE.COM.PL; TEL./FAX +4871352684, MOBILE 600052696\\n'], ['1.ALDETRANS LLC,105066,MOSCOW, RUSSIA, TOKMAKOV LANE,11. TEL: +7(495)641-03-89\\n'], ['1.ALDETRANS LLC, 105066, MOSCOW, RUSSIA,TOKMAKOV LANE,11. TEL: +7(495)641-03-89\\n'], ['1.APL LOGISTICS DEUTSCHLAND GMBH&CO.KG AM SANDTORKAI 50 20457 HAMBURG-GERMANY ATTN:MAIK NUERNBERGER\\n'], ['1.AS CONSIGNEE.\\n'], ['1.BRANCH OF CJSC JOHNSON CONTROLS INTERNATIONAL IN ST.- PETERSBURG, RUSSIA 196626,ST.-PETERSBURG, SHUSHARY,MOSKOVSKOE HIGHWAY,70/4, LIT.V\\n'], ['1.FMG SHIPPING AND FORWARDING  LTD190020, SAINT PETERSBURG, LIFLYANDSKAYA STR., 6, LITERA \"A \",+++\\n'], ['1.FMG SHIPPING AND FORWARDING  LTD190020, SAINT PETERSBURG, LIFLYANDSKAYA STR.,6,LITERA \"A\",BUILDING +++\\n'], ['1.FMG SHIPPING AND FORWARDING LTD 190020, SAINT PETERSBURG, LIFLYANDSKAYA STR.,6,LITERA \"A\",BUILDING 31H,OFFICE 310 POST CODE:190020 TEL:+7812 448 82 83+\\n'], ['1.FMG SHIPPING AND FORWARDING LTD 190020, SAINT PETERSBURG, LIFLYANDSKAYA STR.,6,LITERA \"A\",BUILDING 31H,OFFICE 310 POST CODE:190020 TEL:+7812 448 82 83++\\n'], ['1. FM LOGISTIC SIDOROVO (STU)     ZAVODSKAYA STREET, BLDG,     VLA 142842 VILL.     OKTYABARSKIY RUSSIA FED\\n'], ['1.FORWARD EXPEDITION LIMITED HKG,MOSCOW REPRESENTATION,111033, MOSCOW, ZOLOTOROZHSKIY VAL STR,32/6-2,2FLOOR,OF 3,PIC:ALEXANDER\\n'], ['1.FORWARD EXPEDITION LIMITED HKG,MOSCOW REPRESENTATION, 111033,MOSCOW, ZOLOTOROZHSKIY VAL STR.32/6-2,\\n'], ['1.Forward Expedition Limited HKG, Moscow Representation, 111033,Moscow, Zolotorozhskiy val str.32/6-2, 2floor, of.3, PIC: Alexander Slisenko Tel/Fax +7(495) 665 63 67+++\\n'], ['1.Forward Expedition Limited HKG, Moscow Representation, 111033,Moscow, Zolotorozhskiy val str.32/6-2, 2floor, of.3, PIC: Alexander Slisenko Tel/Fax +7(495) 665 63 67 +++\\n'], ['1.Forward Expedition Limited HKG,Moscow Representation, 111033,Moscow,Zolotorozhskiy val str.32/6-2, 2 floor, of.3,  PIC: Alexander Slisenko  Tel/Fax +7(495) 665 63 67 e-mail\\n'], ['1.FORWARD EXPEDITION LIMITED HKG, MOSCOW REPRESENTATION, 111033,MOSCOW, ZOLOTOROZHSKIY VAL STR.32/6-2, 2FLOOR, OF.3, PIC: ALEXANDER SLISENKO TEL/FAX +7(495) 665 63 67 E-MAIL:\\n'], ['1.LLC<<MORPORTSERVICE>>No.168 LENINSkY PR., ST-PETERSBURG, 196191, +7 (812) 3279363\\n'], ['1.MARITIME TRANSPORT RU,MOSCOW,RUSSIA\\n'], ['1.MCT\\n'], ['1. MCT\\n'], ['1. MCT 2.NIKITIN ILYA +7 (812) 448-58-95 ULOGEX@MAIL.RU\\n'], ['1.MCT 2.VKASPB@GMAIL.COM\\n'], ['1.OOO \"LAROSS-T\",RUSSIA, SAINT-PERERSBURG,SCHERBAKOV PER. 17A,2ND FLOOR TEL:+7 812 3229123, FAX:+7 812 3229127\\n'], ['1.OOO SILMAR SPB,  198035,RUSSIA,ST. PETERSBURG,UL.DVINSKAYA 16/2,CONTACT PERSON: ALEXEY YASHIN,TEL:+7812495 8527  2.LOADSTAR LTD 6TH FLOOR,GATE 7,BLDNG 4-6,13TH LINE OF VASI\\n'], ['1.OOO SILMAR SPB,198035, RUSSIA , ST. PETERSBURG UL. DVINSKAYA 16/2, CONTACT PERSON:ALEXEY YASHIN TEL: +7812 495 8527\\n'], ['1.OOO SILMAR SPB,198035, RUSSIA , ST. PETERSBURG UL. DVINSKAYA 16/2, CONTACT PERSON: ALEXEY YASHIN TEL: +7812 495 8527\\n'], ['1.OOO SILMAR SPB,198035, RUSSIA , ST. PETERSBURG UL.DVINSKAYA 16/2 TEL: +7812 495 8527\\n'], ['1. OOO SILMAR SPB 198035, RUSSIA ,ST. PETERSBURG UL. DVINSKAYA 16/2 TEL: +7812 495 8527\\n'], ['1. OOO SILMAR SPB 198035, RUSSIA ,ST. PETERSBURG UL. DVINSKAYA 16/2 TEL: +7812 495 8527 2. MORSKOE AGENTSTVO \"SILMAR\" COMPANY LIMITED RUSSIA 198035, SAINT-PETERSBURG, UL.DVIN\\n'], ['1.OOO SILMAR SPB 198035, RUSSIA, STPETERSBURG UL. DVINSKAYA 16/2 CONTACT PERSON: YASHIN ALEXEY PHONE: +7812 495 8527---\\n'], ['1.SAME AS CONSIGNEE\\n'], ['1.TRANSMARE LOGISTICS OY VANHA TALVITIE 19B, 00580 HELSINKI TEL.+358 97599 3520 FAX.+358 9 7599 3535  2.Railship (Contract 413059)\\n'], ['1.VIAMEX OY MERITUULENTIE 424,3RD FLOOR FI-48310 KOTKA,FINLAND CTC:NATALIA(MOB:+358 46 814 14 14) TEL:+358 5 230 83 00, FAX:+358 5 230 83 20EORI# FI1925411-5\\n'], ['1.VIAMEX OY MERITUULENTIE 424,3RD FLOOR FI-48310 KOTKA,FINLAND CTC:NATALIA(MOB: +358 46 814 14 14) TEL:+358 5 230 83 00, FAX:+358 5 230 83 20 EORI# FI1925411-5\\n'], ['1.VIAMEX OY MERITUULENTIE 424, 3RDFLOOR FI-48310 KOTKA, FINLAND CTC:NATALIA (MOB: +358 46 814 14 14) TEL: +358 5 230 83 00, FAX: +358 5 230 83 20 EORI# FI1925411-5\\n'], ['1)AFTRANS LLC-512913 ZIP:111116,MOSCOW, ENERGETICHESKAYA STR., 6,INN 7729418215  TEL/FAX +7(495)742-53-82 SHULEVA@AFTR.RU - MS. ELIZAVETA\\n'], ['1)AFTRANS LLC-512913 ZIP:111116,MOSCOW, ENERGETICHESKAYA STR.,  6,INN 7729418215  TEL/FAX +7(495)742-53-82 SHULEVA@AFTR.RU - MS. ELIZAVETA\\n'], ['1) AFTRANS LLC-512913 ZIP:111116, MOSCOW, ENERGETICHESKAYA STR., 6 INN7729418215 EKATERINA KONYAHINA---\\n'], ['1)AFTRANS LLC-512913 ZIP:111116, MOSCOW,ENERGETICHESKAYA STR.,6 INN 7729418215 TEL/FAX +7(495)742-53-82\\n'], ['1) AFTRANS LLC-512913     ZIP:111116, Moscow, Energeticheskaya str.,6INN 7729418215     Tel/Fax +7(495)742-53-82\\n'], ['1) AFTRANS LLC-512913  ZIP:111116,Moscow, Energeticheskaya str., 6 INN 7729418215  Tel/Fax +7(495)742-53-82  shuleva@aftr.ru - Ms. Elizaveta Shuleva, konyahina@aftr.ru - Ms.\\n'], ['1) AF Trans LLC BC \"BARKLAY-PLAZA\"Moscow, Barklaya street  6,  building 5 floor 5th  offices B524 B528 C526  +7(495)742-53-82\\n'], ['1)AF TRANS LLC BC\"BARKLAY-PLAZA\" MOSCOW, BARKLAYA STREET  6,BUILDING 5FLOOR 5TH  OFFICES B524 B528 C526+7 (495) 742-53-82  CH@AFTR.RU\\n'], ['1)AGENCJA CELNA HAUSE    UL.BIALOWIESKA 1, 54-234 WROCLAW    ATTN JACEK BOROWSKI;    E-MAIL:JACEK.BOROWSKI@HAUSE.COM.PL;    TEL./FAX +4871352684,MOBILE 600052696\\n'], ['1)AQUAMARINE TRANS LLC FAX:+7(812)6771127\\n'], ['1)CENTROTRADE DEUTSCHLAND KOELNER STR 10 B 65760 ESCHBORN - GERMANY 2)KABAT SPOLKA JAWNA UL GUMOWA 6 64-840 BUDZYN - POLAND EORI NR:PL766100691900000\\n'], ['1)FMG Shipping and Forwarding Ltd190020, Saint Petersburg, Liflyandskaya str., 6, litera A,  building 31, office 310  2)MAXCOM TRADING, RUSSIA, EFIMOVA STR., 4-A, ZIP CODE:1\\n'], ['1)HUSQVARNA AB EM-FHR (ZENOAH BRANDED) 561 82 HUSKVARNA SWEDENATTN. ANDERS FORSBERG TEL:  46 36 3645500 FAX:   46 36 146080\\n'], ['1) INTER CARS S.A.64, POWSINSKA STREET 02-903 WARSAWTEL : 48 22 730 83 98FAX : 48 22 730 83 45\\n']]\n"
     ]
    }
   ],
   "source": [
    "print(clusters)"
   ]
  },
  {
   "cell_type": "code",
   "execution_count": 209,
   "id": "alternate-ordinance",
   "metadata": {},
   "outputs": [
    {
     "name": "stdout",
     "output_type": "stream",
     "text": [
      "0.0\n"
     ]
    }
   ],
   "source": [
    "print(davies_bouldin(clusters, euclides))"
   ]
  },
  {
   "cell_type": "code",
   "execution_count": 210,
   "id": "shared-consultancy",
   "metadata": {},
   "outputs": [
    {
     "ename": "ZeroDivisionError",
     "evalue": "float division by zero",
     "output_type": "error",
     "traceback": [
      "\u001b[0;31m---------------------------------------------------------------------------\u001b[0m",
      "\u001b[0;31mZeroDivisionError\u001b[0m                         Traceback (most recent call last)",
      "\u001b[0;32m<ipython-input-210-99eb8194ce3f>\u001b[0m in \u001b[0;36m<module>\u001b[0;34m\u001b[0m\n\u001b[0;32m----> 1\u001b[0;31m \u001b[0mprint\u001b[0m\u001b[0;34m(\u001b[0m\u001b[0mdunn\u001b[0m\u001b[0;34m(\u001b[0m\u001b[0mclusters\u001b[0m\u001b[0;34m,\u001b[0m \u001b[0meuclides\u001b[0m\u001b[0;34m)\u001b[0m\u001b[0;34m)\u001b[0m\u001b[0;34m\u001b[0m\u001b[0;34m\u001b[0m\u001b[0m\n\u001b[0m",
      "\u001b[0;32m<ipython-input-112-715d18fed595>\u001b[0m in \u001b[0;36mdunn\u001b[0;34m(clusters, metric)\u001b[0m\n\u001b[1;32m      2\u001b[0m     \u001b[0mmin_dist\u001b[0m \u001b[0;34m=\u001b[0m \u001b[0mmin\u001b[0m\u001b[0;34m(\u001b[0m\u001b[0;34m(\u001b[0m\u001b[0md\u001b[0m\u001b[0;34m(\u001b[0m\u001b[0mcluster_a\u001b[0m\u001b[0;34m,\u001b[0m \u001b[0mcluster_b\u001b[0m\u001b[0;34m,\u001b[0m \u001b[0mmetric\u001b[0m\u001b[0;34m)\u001b[0m \u001b[0;32mfor\u001b[0m \u001b[0mcluster_a\u001b[0m \u001b[0;32min\u001b[0m \u001b[0mclusters\u001b[0m \u001b[0;32mfor\u001b[0m \u001b[0mcluster_b\u001b[0m \u001b[0;32min\u001b[0m \u001b[0mclusters\u001b[0m \u001b[0;32mif\u001b[0m \u001b[0mcluster_a\u001b[0m \u001b[0;34m!=\u001b[0m \u001b[0mcluster_b\u001b[0m\u001b[0;34m)\u001b[0m\u001b[0;34m)\u001b[0m\u001b[0;34m\u001b[0m\u001b[0;34m\u001b[0m\u001b[0m\n\u001b[1;32m      3\u001b[0m     \u001b[0mmax_size\u001b[0m \u001b[0;34m=\u001b[0m \u001b[0mmax\u001b[0m\u001b[0;34m(\u001b[0m\u001b[0;34m(\u001b[0m\u001b[0md_prim\u001b[0m\u001b[0;34m(\u001b[0m\u001b[0mcluster\u001b[0m\u001b[0;34m,\u001b[0m \u001b[0mmetric\u001b[0m\u001b[0;34m)\u001b[0m \u001b[0;32mfor\u001b[0m \u001b[0mcluster\u001b[0m \u001b[0;32min\u001b[0m \u001b[0mclusters\u001b[0m\u001b[0;34m)\u001b[0m\u001b[0;34m)\u001b[0m\u001b[0;34m\u001b[0m\u001b[0;34m\u001b[0m\u001b[0m\n\u001b[0;32m----> 4\u001b[0;31m     \u001b[0;32mreturn\u001b[0m \u001b[0mmin_dist\u001b[0m\u001b[0;34m/\u001b[0m\u001b[0mmax_size\u001b[0m\u001b[0;34m\u001b[0m\u001b[0;34m\u001b[0m\u001b[0m\n\u001b[0m",
      "\u001b[0;31mZeroDivisionError\u001b[0m: float division by zero"
     ]
    }
   ],
   "source": [
    "print(dunn(clusters, euclides))"
   ]
  },
  {
   "cell_type": "code",
   "execution_count": 202,
   "id": "paperback-permit",
   "metadata": {},
   "outputs": [],
   "source": [
    "def test(lines, metric, eps):\n",
    "    print(metric.__name__)\n",
    "    labels = cluster(lines, metric, eps)\n",
    "#     print(labels)\n",
    "    clusters = get_clusters_from_labels(lines, labels)\n",
    "#     print_clustering(clusters)\n",
    "    print('\\tdavies-bouldin index: ', davies_bouldin(clusters, metric))\n",
    "    print('\\t          dunn index: ', dunn(clusters, metric))"
   ]
  },
  {
   "cell_type": "code",
   "execution_count": 203,
   "id": "blessed-silver",
   "metadata": {},
   "outputs": [],
   "source": [
    "metrics = [dice, levensheit, lcs, euclides]"
   ]
  },
  {
   "cell_type": "code",
   "execution_count": 204,
   "id": "canadian-advance",
   "metadata": {},
   "outputs": [],
   "source": [
    "def print_clustering(clusters):\n",
    "    for cluster in clusters:\n",
    "        print('##########')\n",
    "        for line in cluster:\n",
    "            print(line)"
   ]
  },
  {
   "cell_type": "code",
   "execution_count": 205,
   "id": "alleged-ceramic",
   "metadata": {},
   "outputs": [
    {
     "name": "stdout",
     "output_type": "stream",
     "text": [
      "euclides\n",
      "\tdavies-bouldin index:  0.8636511180480038\n",
      "\t          dunn index:  0.40096450118311855\n"
     ]
    }
   ],
   "source": [
    "test(lines, euclides, 20)"
   ]
  },
  {
   "cell_type": "code",
   "execution_count": 206,
   "id": "parental-middle",
   "metadata": {},
   "outputs": [
    {
     "name": "stdout",
     "output_type": "stream",
     "text": [
      "dice\n",
      "\tdavies-bouldin index:  0.30896614847536097\n",
      "\t          dunn index:  0.5064456721915285\n"
     ]
    }
   ],
   "source": [
    "test(lines, dice, 0.5)"
   ]
  },
  {
   "cell_type": "code",
   "execution_count": 207,
   "id": "appointed-explosion",
   "metadata": {},
   "outputs": [
    {
     "name": "stdout",
     "output_type": "stream",
     "text": [
      "lcs\n",
      "\tdavies-bouldin index:  0.32026010636128127\n",
      "\t          dunn index:  0.7792207792207794\n"
     ]
    }
   ],
   "source": [
    "test(lines, lcs, 0.5)"
   ]
  },
  {
   "cell_type": "code",
   "execution_count": 208,
   "id": "straight-segment",
   "metadata": {},
   "outputs": [
    {
     "name": "stdout",
     "output_type": "stream",
     "text": [
      "levensheit\n",
      "\tdavies-bouldin index:  0.009609929166675748\n",
      "\t          dunn index:  1.0\n"
     ]
    }
   ],
   "source": [
    "test(lines, levensheit, 10)"
   ]
  },
  {
   "cell_type": "markdown",
   "id": "accredited-clause",
   "metadata": {},
   "source": [
    "<i>6. Czy masz jakiś pomysł na poprawę jakości klasteryzacji w tym zadaniu? </i>"
   ]
  },
  {
   "cell_type": "markdown",
   "id": "temporal-ambassador",
   "metadata": {},
   "source": [
    "Sprawozdanie powinno zawierać porównanie wyników wszystkich metryk z użyciem stoplisty i bez.\n",
    "Można jako wzorcową klasteryzację użyć pliku clusters.txt."
   ]
  },
  {
   "cell_type": "markdown",
   "id": "liked-concert",
   "metadata": {},
   "source": [
    "## Wnioski"
   ]
  },
  {
   "cell_type": "markdown",
   "id": "formed-hurricane",
   "metadata": {},
   "source": [
    "- skuteczność klasyfikacji zależą od doboru metryki i parametrów dobranych do tejże metryki\n",
    "- "
   ]
  },
  {
   "cell_type": "markdown",
   "id": "explicit-anime",
   "metadata": {},
   "source": [
    "M. Hawryluk 15.05.2021"
   ]
  }
 ],
 "metadata": {
  "kernelspec": {
   "display_name": "Python 3",
   "language": "python",
   "name": "python3"
  },
  "language_info": {
   "codemirror_mode": {
    "name": "ipython",
    "version": 3
   },
   "file_extension": ".py",
   "mimetype": "text/x-python",
   "name": "python",
   "nbconvert_exporter": "python",
   "pygments_lexer": "ipython3",
   "version": "3.8.6"
  }
 },
 "nbformat": 4,
 "nbformat_minor": 5
}
