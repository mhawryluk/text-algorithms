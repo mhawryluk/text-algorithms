{
 "cells": [
  {
   "cell_type": "markdown",
   "id": "productive-integral",
   "metadata": {},
   "source": [
    "# Zadanie nr 5 - metryki w przestrzeni napisów"
   ]
  },
  {
   "cell_type": "code",
   "execution_count": 1,
   "id": "front-directory",
   "metadata": {},
   "outputs": [],
   "source": [
    "from collections import Counter\n",
    "import sklearn.cluster"
   ]
  },
  {
   "cell_type": "markdown",
   "id": "choice-morocco",
   "metadata": {},
   "source": [
    "## 1. Metryki"
   ]
  },
  {
   "cell_type": "markdown",
   "id": "hired-internet",
   "metadata": {},
   "source": [
    "<i>1. Zaimplementuj przynajmniej 3 metryki spośród wymienionych: cosinusowa, LCS, DICE, euklidesowa.</i>"
   ]
  },
  {
   "cell_type": "markdown",
   "id": "talented-musician",
   "metadata": {},
   "source": [
    "* lcs"
   ]
  },
  {
   "cell_type": "code",
   "execution_count": 2,
   "id": "quality-elements",
   "metadata": {},
   "outputs": [],
   "source": [
    "def lcs(x, y):\n",
    "    common = [[0 for _ in range(len(y)+1)] for _ in range(len(x)+1)]\n",
    "    max_lcs = 0\n",
    "\n",
    "    for i in range(1, len(x) + 1):\n",
    "        for j in range(1, len(y)+1):\n",
    "            common[i][j] = common[i-1][j-1] + 1 if x[i-1] == y[j-1] else 0\n",
    "            max_lcs = max(max_lcs, common[i][j])\n",
    "\n",
    "    return 1 - max_lcs/max(len(x), len(y))"
   ]
  },
  {
   "cell_type": "markdown",
   "id": "taken-penny",
   "metadata": {},
   "source": [
    "#### ngramy"
   ]
  },
  {
   "cell_type": "code",
   "execution_count": 3,
   "id": "separate-accused",
   "metadata": {},
   "outputs": [],
   "source": [
    "def ngram(x, n):\n",
    "    ngrams = [x[i:i+n] for i in range(len(x)-n+1)]\n",
    "    return Counter(ngrams)"
   ]
  },
  {
   "cell_type": "markdown",
   "id": "coastal-detector",
   "metadata": {},
   "source": [
    "* dice"
   ]
  },
  {
   "cell_type": "code",
   "execution_count": 4,
   "id": "august-producer",
   "metadata": {},
   "outputs": [],
   "source": [
    "def dice(x, y, n=2):\n",
    "    ngrams_x, ngrams_y = set(ngram(x, n).keys()), set(ngram(y, n).keys())\n",
    "    return 1 - 2*len(ngrams_x & ngrams_y)/(len(ngrams_x)+len(ngrams_y))"
   ]
  },
  {
   "cell_type": "markdown",
   "id": "private-oklahoma",
   "metadata": {},
   "source": [
    "* euklidesowa"
   ]
  },
  {
   "cell_type": "code",
   "execution_count": 5,
   "id": "naughty-feature",
   "metadata": {},
   "outputs": [],
   "source": [
    "def euclides(x, y):\n",
    "    ngrams_x, ngrams_y = ngram(x, 2), ngram(y, 2)\n",
    "\n",
    "    keys = set(ngrams_x.keys()) | set(ngrams_y.keys())\n",
    "    dist = 0\n",
    "\n",
    "    for key in keys:\n",
    "        value_x = ngrams_x.get(key, 0)\n",
    "        value_y = ngrams_y.get(key, 0)\n",
    "\n",
    "        dist += (value_x - value_y)**2\n",
    "\n",
    "    return dist**0.5"
   ]
  },
  {
   "cell_type": "markdown",
   "id": "crucial-circuit",
   "metadata": {},
   "source": [
    "* levensheit"
   ]
  },
  {
   "cell_type": "code",
   "execution_count": 41,
   "id": "pointed-witness",
   "metadata": {},
   "outputs": [],
   "source": [
    "def levensheit(text_a, text_b):\n",
    "    edit = [[None for _ in range(len(text_b) + 1)]\n",
    "            for _ in range(len(text_a) + 1)]\n",
    "\n",
    "    def delta(char_a, char_b): return 0 if char_a == char_b else 1\n",
    "\n",
    "    for i in range(len(text_a) + 1):\n",
    "        edit[i][0] = i\n",
    "\n",
    "    for j in range(1, len(text_b) + 1):\n",
    "        edit[0][j] = j\n",
    "\n",
    "    for i in range(1, len(text_a)+1):\n",
    "        for j in range(1, len(text_b)+1):\n",
    "            edit[i][j] = min(edit[i-1][j] + 1, edit[i][j-1] + 1,\n",
    "                       edit[i-1][j-1] + delta(text_a[i-1], text_b[j-1]))\n",
    "\n",
    "    return edit[len(text_a)][len(text_b)]"
   ]
  },
  {
   "cell_type": "code",
   "execution_count": 42,
   "id": "ranging-mississippi",
   "metadata": {},
   "outputs": [
    {
     "name": "stdout",
     "output_type": "stream",
     "text": [
      "0.5\n",
      "0.5\n",
      "2.0\n"
     ]
    }
   ],
   "source": [
    "x = 'BCDF'\n",
    "y = 'ABCDEF'\n",
    "print(lcs(x, y))\n",
    "print(dice(x, y))\n",
    "print(euclides(x, y))"
   ]
  },
  {
   "cell_type": "markdown",
   "id": "explicit-soldier",
   "metadata": {},
   "source": [
    "## 2. Sposoby oceny jakości klasteryzacji"
   ]
  },
  {
   "cell_type": "markdown",
   "id": "postal-spare",
   "metadata": {},
   "source": [
    "<i>2. Zaimplementuj przynajmniej 2 sposoby oceny jakości klasteryzacji (np. indeks Daviesa-Bouldina).</i>"
   ]
  },
  {
   "cell_type": "code",
   "execution_count": 45,
   "id": "discrete-reynolds",
   "metadata": {},
   "outputs": [],
   "source": [
    "def davies_bouldin(clusters):\n",
    "    pass"
   ]
  },
  {
   "cell_type": "code",
   "execution_count": 46,
   "id": "medical-import",
   "metadata": {},
   "outputs": [],
   "source": [
    "def dunn(clusters):\n",
    "    pass"
   ]
  },
  {
   "cell_type": "markdown",
   "id": "listed-daughter",
   "metadata": {},
   "source": [
    "## 3. Stoplista"
   ]
  },
  {
   "cell_type": "markdown",
   "id": "soviet-blowing",
   "metadata": {},
   "source": [
    "<i>3. Stwórz stoplistę najczęściej występujących słów. </i>"
   ]
  },
  {
   "cell_type": "code",
   "execution_count": 7,
   "id": "meaningful-escape",
   "metadata": {},
   "outputs": [],
   "source": [
    "def get_most_common_words(text, num):\n",
    "    words_stats = list(Counter(text.split(' ')).items())\n",
    "    words_stats.sort(reverse=True)\n",
    "    return [word for word in words_stats[:num]]"
   ]
  },
  {
   "cell_type": "markdown",
   "id": "dental-secretary",
   "metadata": {},
   "source": [
    "## 4. Klasteryzacja"
   ]
  },
  {
   "cell_type": "markdown",
   "id": "accepted-adapter",
   "metadata": {},
   "source": [
    "<i>4. Wykonaj klasteryzację zawartości załączonego pliku (lines.txt) przy użyciu przynajmniej 2 algorytmów oraz metryk zaimplementowanych w pkt. 1. i metryki Levenshteina. Każda linia to adres pocztowy firmy, różne sposoby zapisu tego samego adresu powinny się znaleźć w jednym klastrze. </i>"
   ]
  },
  {
   "cell_type": "code",
   "execution_count": 29,
   "id": "younger-climb",
   "metadata": {},
   "outputs": [],
   "source": [
    "def cluster(texts, metric):\n",
    "    distances = [[metric(texts[i], texts[j]) for i in range(len(texts))] for j in range(len(texts))]\n",
    "    clustering = sklearn.cluster.DBSCAN(eps=20, min_samples=1).fit(distances)\n",
    "    return clustering.labels_"
   ]
  },
  {
   "cell_type": "markdown",
   "id": "otherwise-mills",
   "metadata": {},
   "source": [
    "## 5. Testy"
   ]
  },
  {
   "cell_type": "markdown",
   "id": "applied-night",
   "metadata": {},
   "source": [
    "<i> 5. Porównaj jakość wyników sposobami zaimplementowanymi w pkt. 2. </i>"
   ]
  },
  {
   "cell_type": "code",
   "execution_count": 30,
   "id": "horizontal-marshall",
   "metadata": {},
   "outputs": [],
   "source": [
    "def get_example_lines(num):\n",
    "    with open('lines.txt', 'r') as file:\n",
    "        lines = list(file)\n",
    "    lines = lines[:num]\n",
    "\n",
    "    with open('clusters.txt', 'r') as file:\n",
    "        clusters = list(file)\n",
    "    \n",
    "    correct_clustering = []\n",
    "    cluster_num = 0\n",
    "    for line in lines:\n",
    "        cluster = 0\n",
    "        for cluster_line in clusters:\n",
    "            if cluster_line[0] == '#':\n",
    "                cluster += 1\n",
    "            elif cluster_line == line:\n",
    "                correct_clustering.append(cluster)\n",
    "    \n",
    "    return lines, correct_clustering"
   ]
  },
  {
   "cell_type": "code",
   "execution_count": 31,
   "id": "advised-recruitment",
   "metadata": {},
   "outputs": [],
   "source": [
    "lines, correct_labels = get_example_lines(500)"
   ]
  },
  {
   "cell_type": "code",
   "execution_count": 32,
   "id": "wound-annex",
   "metadata": {},
   "outputs": [],
   "source": [
    "labels = cluster(lines, euclides)"
   ]
  },
  {
   "cell_type": "code",
   "execution_count": 33,
   "id": "monthly-richmond",
   "metadata": {},
   "outputs": [
    {
     "name": "stdout",
     "output_type": "stream",
     "text": [
      "[  0   1   2   3   4   5   6   7   8   9  10  11  12  12  12  12  12  12\n",
      "  12  13  13  14  15  16  17   8  18  19  19  20  21  22  23  23  24  25\n",
      "   8  26   8  27  17   8   8  28   8  29  30  31  32  32   8  33  34  34\n",
      "  35  36  37  36  38  39  38  38  39  39  40  41  40  42  42  42  43  44\n",
      "  45  45  46  47  48  49  50  51   8  52   8  53  53  54  55  56   2  57\n",
      "  58   8   8   8   8   8  59  60  60  60  60  60  61   4   4   4   4   4\n",
      "  62   4   4  63   4   4  64  65  66  67  67  68  58   8  69  69  70  71\n",
      "  72  73   8  74  75  45  76   8  77  78   8   8  79  79  80  81  82  82\n",
      "  83  83  84  84  83   8  85   7   7  86   8  87  82  82  88  88  89  90\n",
      "  91  92  92  92  93  45   8   8   8   8   8  94  95  96  96  97  97  98\n",
      "  96   8  99 100 100 100 101 101 101 101 102 103 104 105 106   8 107 108\n",
      " 109 110 111 112   8 113 113   8 114 115 115 116 116 116 117 118 119 120\n",
      " 121   8 122 122 122  90  93 123 123 123 123   8   8 124 125  52 126 127\n",
      " 127 128 126 126 127 129 130 130 129 129 129 129 129   8 131 131 132 132\n",
      " 132 132 132 132 132 133 133 134 135 136 137 134 138 139 139 140 141 141\n",
      " 142 143 142 144 145 145   8 146 147 148 149 149 150   8   8 151 152 153\n",
      " 154   8   8   8   8   8   8   8   8   8 130   8 155   8   8   8   8   8\n",
      "   8   8 156 157 157 158 159   8   8   8   8   8 160   8   8   8   8 161\n",
      " 161 162 163 163 163 164 165 166 167 168 101 101 101 101 101 101 169 103\n",
      " 170 101 101 171 115 115 172 173  85 174 175 174 175 175 176 177 178 179\n",
      " 180 178 181 182 179 183 183 184 185 186   8 187 188 189 190 191 132 192\n",
      " 193 140 194   8 195 196 197   8 198   8 199 199 200   8   8 201   8 202\n",
      " 203 202 203 204 205 206 206 206 206 206 206 207 208 209 208 207 210 211\n",
      " 211 211   8 207 212   8   8   8   8   8 213   8 214   8 215   8   8 216\n",
      " 217 216 218 219   8 220 220 221 220 220 220 220 222 222 222 223 223 220\n",
      " 220   8 224 225   8 226 227 228 229 230 231 231 232 232 232 233 234 234\n",
      " 235 236   8   8 237 238   8 239 239   8   8 240   8   8 241 242 243 244\n",
      " 245 245 246 247 248 249  45 250 251 252 252 253 254 255]\n"
     ]
    }
   ],
   "source": [
    "print(labels)"
   ]
  },
  {
   "cell_type": "code",
   "execution_count": 35,
   "id": "western-writer",
   "metadata": {},
   "outputs": [],
   "source": [
    "def renumber_labels(labels):\n",
    "    seen = {}\n",
    "    current = 0\n",
    "    new_labels = []\n",
    "    for label in labels:\n",
    "        if label in seen:\n",
    "            new_labels.append(seen[label])\n",
    "        else:\n",
    "            new_labels.append(current)\n",
    "            seen[label] = current\n",
    "            current += 1\n",
    "    \n",
    "    return new_labels      "
   ]
  },
  {
   "cell_type": "code",
   "execution_count": 36,
   "id": "collectible-first",
   "metadata": {
    "scrolled": true
   },
   "outputs": [
    {
     "name": "stdout",
     "output_type": "stream",
     "text": [
      "[0, 1, 2, 2, 3, 4, 5, 6, 7, 8, 9, 10, 11, 11, 11, 11, 11, 11, 11, 12, 12, 13, 14, 14, 15, 16, 17, 18, 18, 19, 20, 21, 22, 22, 23, 24, 25, 26, 27, 28, 29, 29, 30, 31, 32, 33, 34, 35, 36, 36, 37, 38, 38, 38, 39, 39, 39, 39, 40, 40, 40, 40, 40, 40, 41, 41, 41, 42, 42, 42, 43, 44, 45, 46, 47, 48, 49, 50, 51, 52, 53, 54, 55, 56, 56, 57, 58, 59, 2, 60, 61, 62, 63, 64, 63, 64, 65, 65, 65, 65, 65, 66, 67, 3, 3, 3, 3, 3, 3, 3, 3, 3, 3, 3, 68, 69, 70, 70, 70, 71, 72, 73, 74, 74, 75, 76, 77, 78, 79, 80, 81, 82, 83, 84, 85, 86, 87, 88, 89, 89, 90, 91, 27, 27, 26, 26, 26, 26, 26, 92, 93, 6, 6, 94, 53, 95, 27, 27, 26, 26, 96, 91, 91, 91, 91, 91, 91, 97, 98, 99, 99, 100, 99, 101, 102, 102, 102, 102, 102, 103, 102, 53, 104, 105, 105, 105, 106, 106, 106, 106, 106, 106, 107, 107, 93, 108, 109, 26, 110, 111, 112, 113, 114, 115, 115, 53, 93, 116, 116, 117, 117, 117, 118, 119, 120, 121, 122, 123, 124, 124, 124, 125, 125, 126, 126, 126, 126, 99, 127, 128, 129, 130, 131, 131, 131, 131, 131, 131, 131, 132, 132, 132, 132, 132, 132, 132, 132, 133, 134, 134, 134, 134, 134, 134, 134, 134, 134, 134, 134, 134, 134, 134, 134, 134, 134, 135, 135, 136, 134, 134, 137, 137, 137, 138, 139, 139, 140, 141, 142, 143, 144, 144, 145, 146, 146, 147, 148, 149, 150, 151, 151, 151, 151, 151, 151, 152, 152, 152, 152, 152, 152, 152, 152, 152, 152, 152, 152, 152, 153, 153, 153, 154, 155, 156, 156, 156, 157, 156, 156, 156, 156, 158, 158, 159, 159, 160, 161, 161, 161, 162, 163, 163, 162, 164, 165, 165, 106, 106, 106, 106, 106, 166, 165, 167, 106, 168, 168, 169, 170, 93, 93, 171, 171, 171, 171, 171, 171, 171, 172, 172, 172, 173, 174, 175, 172, 172, 172, 172, 172, 172, 176, 177, 178, 179, 180, 181, 134, 134, 182, 183, 134, 184, 185, 184, 184, 186, 187, 188, 189, 189, 190, 190, 191, 192, 193, 194, 194, 194, 194, 195, 196, 197, 197, 197, 197, 197, 197, 197, 197, 197, 197, 197, 197, 197, 197, 197, 197, 197, 198, 199, 8, 8, 8, 8, 8, 200, 201, 200, 200, 200, 200, 200, 202, 200, 200, 200, 200, 200, 200, 200, 200, 200, 200, 200, 200, 200, 200, 200, 200, 200, 200, 203, 204, 205, 206, 207, 208, 209, 210, 211, 212, 212, 213, 213, 213, 214, 215, 215, 215, 216, 217, 218, 219, 219, 220, 220, 220, 220, 220, 221, 222, 79, 223, 224, 224, 225, 226, 226, 227, 228, 229, 230, 231, 232, 233, 234, 234, 235, 236, 237]\n"
     ]
    }
   ],
   "source": [
    "print(renumber_labels(correct_labels))"
   ]
  },
  {
   "cell_type": "markdown",
   "id": "accredited-clause",
   "metadata": {},
   "source": [
    "<i>6. Czy masz jakiś pomysł na poprawę jakości klasteryzacji w tym zadaniu? </i>"
   ]
  },
  {
   "cell_type": "markdown",
   "id": "temporal-ambassador",
   "metadata": {},
   "source": [
    "Sprawozdanie powinno zawierać porównanie wyników wszystkich metryk z użyciem stoplisty i bez.\n",
    "Można jako wzorcową klasteryzację użyć pliku clusters.txt."
   ]
  },
  {
   "cell_type": "markdown",
   "id": "liked-concert",
   "metadata": {},
   "source": [
    "## Wnioski"
   ]
  },
  {
   "cell_type": "markdown",
   "id": "formed-hurricane",
   "metadata": {},
   "source": [
    "- \n",
    "- "
   ]
  },
  {
   "cell_type": "markdown",
   "id": "explicit-anime",
   "metadata": {},
   "source": [
    "M. Hawryluk 15.05.2021"
   ]
  }
 ],
 "metadata": {
  "kernelspec": {
   "display_name": "Python 3",
   "language": "python",
   "name": "python3"
  },
  "language_info": {
   "codemirror_mode": {
    "name": "ipython",
    "version": 3
   },
   "file_extension": ".py",
   "mimetype": "text/x-python",
   "name": "python",
   "nbconvert_exporter": "python",
   "pygments_lexer": "ipython3",
   "version": "3.8.6"
  }
 },
 "nbformat": 4,
 "nbformat_minor": 5
}
