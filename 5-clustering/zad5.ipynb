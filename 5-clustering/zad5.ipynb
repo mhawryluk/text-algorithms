{
 "cells": [
  {
   "cell_type": "markdown",
   "id": "productive-integral",
   "metadata": {},
   "source": [
    "# Zadanie nr 5 - metryki w przestrzeni napisów"
   ]
  },
  {
   "cell_type": "code",
   "execution_count": 113,
   "id": "front-directory",
   "metadata": {},
   "outputs": [],
   "source": [
    "from collections import Counter\n",
    "import sklearn.cluster\n",
    "import numpy as np\n",
    "import matplotlib.pyplot as plt\n",
    "from random import shuffle"
   ]
  },
  {
   "cell_type": "markdown",
   "id": "choice-morocco",
   "metadata": {},
   "source": [
    "## 1. Metryki"
   ]
  },
  {
   "cell_type": "markdown",
   "id": "hired-internet",
   "metadata": {},
   "source": [
    "<i>Zaimplementuj przynajmniej 3 metryki spośród wymienionych: cosinusowa, LCS, DICE, euklidesowa.</i>"
   ]
  },
  {
   "cell_type": "markdown",
   "id": "talented-musician",
   "metadata": {},
   "source": [
    "* LCS"
   ]
  },
  {
   "cell_type": "code",
   "execution_count": 2,
   "id": "quality-elements",
   "metadata": {},
   "outputs": [],
   "source": [
    "def lcs(x, y):\n",
    "    common = [[0 for _ in range(len(y)+1)] for _ in range(len(x)+1)]\n",
    "    max_lcs = 0\n",
    "\n",
    "    for i in range(1, len(x) + 1):\n",
    "        for j in range(1, len(y)+1):\n",
    "            common[i][j] = common[i-1][j-1] + 1 if x[i-1] == y[j-1] else 0\n",
    "            max_lcs = max(max_lcs, common[i][j])\n",
    "\n",
    "    return 1 - max_lcs/max(len(x), len(y))"
   ]
  },
  {
   "cell_type": "markdown",
   "id": "taken-penny",
   "metadata": {},
   "source": [
    "#### ngramy"
   ]
  },
  {
   "cell_type": "code",
   "execution_count": 3,
   "id": "separate-accused",
   "metadata": {},
   "outputs": [],
   "source": [
    "def ngrams(x, n):\n",
    "    ngrams = [x[i:i+n] for i in range(len(x)-n+1)]\n",
    "    return Counter(ngrams)"
   ]
  },
  {
   "cell_type": "markdown",
   "id": "coastal-detector",
   "metadata": {},
   "source": [
    "* Sorensena-Dice'a"
   ]
  },
  {
   "cell_type": "code",
   "execution_count": 4,
   "id": "august-producer",
   "metadata": {},
   "outputs": [],
   "source": [
    "def dice(x, y, n=2):\n",
    "    n = min([n, len(x), len(y)])\n",
    "    ngrams_x, ngrams_y = set(ngrams(x, n).keys()), set(ngrams(y, n).keys())\n",
    "    return 1 - 2*len(ngrams_x & ngrams_y)/(len(ngrams_x)+len(ngrams_y))"
   ]
  },
  {
   "cell_type": "markdown",
   "id": "private-oklahoma",
   "metadata": {},
   "source": [
    "* euklidesowa"
   ]
  },
  {
   "cell_type": "code",
   "execution_count": 5,
   "id": "naughty-feature",
   "metadata": {},
   "outputs": [],
   "source": [
    "def euclides(x, y, n=2):\n",
    "    n = min([n, len(x), len(y)])\n",
    "    ngrams_x, ngrams_y = ngrams(x, n), ngrams(y, n)\n",
    "\n",
    "    keys = set(ngrams_x.keys()) | set(ngrams_y.keys())\n",
    "    dist = sum((ngrams_x.get(key, 0) - ngrams_y.get(key, 0))**2 for key in keys) \n",
    "    len_x = sum(count**2 for key, count in ngrams_x.items())\n",
    "    len_y = sum(count**2 for key, count in ngrams_y.items())\n",
    "\n",
    "    return (dist/(len_x + len(y)))**0.5"
   ]
  },
  {
   "cell_type": "markdown",
   "id": "durable-increase",
   "metadata": {},
   "source": [
    "* cosinusowa"
   ]
  },
  {
   "cell_type": "code",
   "execution_count": 6,
   "id": "artificial-wireless",
   "metadata": {},
   "outputs": [],
   "source": [
    "def cosine(x, y, n=2):\n",
    "    n = min([n, len(x), len(y)])\n",
    "    ngrams_x, ngrams_y = ngrams(x, n), ngrams(y, n)\n",
    "    dot = lambda n_x, n_y: sum(n_x[key]*n_y[key] for key in n_x.keys() & n_y.keys())\n",
    "    return 1 - dot(ngrams_x, ngrams_y)/(dot(ngrams_x, ngrams_x)\n",
    "                                        *dot(ngrams_y, ngrams_y))**0.5"
   ]
  },
  {
   "cell_type": "markdown",
   "id": "crucial-circuit",
   "metadata": {},
   "source": [
    "* Levenshteina"
   ]
  },
  {
   "cell_type": "code",
   "execution_count": 7,
   "id": "pointed-witness",
   "metadata": {},
   "outputs": [],
   "source": [
    "def levenshtein(x, y):\n",
    "    edit = [[None for _ in range(len(y) + 1)]\n",
    "            for _ in range(len(x) + 1)]\n",
    "\n",
    "    def delta(char_a, char_b): return 0 if char_a == char_b else 1\n",
    "\n",
    "    for i in range(len(x) + 1):\n",
    "        edit[i][0] = i\n",
    "\n",
    "    for j in range(1, len(y) + 1):\n",
    "        edit[0][j] = j\n",
    "\n",
    "    for i in range(1, len(x)+1):\n",
    "        for j in range(1, len(y)+1):\n",
    "            edit[i][j] = min(edit[i-1][j] + 1, edit[i][j-1] + 1,\n",
    "                       edit[i-1][j-1] + delta(x[i-1], y[j-1]))\n",
    "\n",
    "    return edit[len(x)][len(y)]/max(len(x), len(y))"
   ]
  },
  {
   "cell_type": "markdown",
   "id": "pleasant-contrast",
   "metadata": {},
   "source": [
    "#### test metryk"
   ]
  },
  {
   "cell_type": "markdown",
   "id": "daily-grenada",
   "metadata": {},
   "source": [
    "Poniżej znajdują się przykładowe wartości poszczególnych metryk w trzech przypadkach dobranych tekstów. \n",
    "\n",
    "Wartości dla poszczególnych metryk często różnią się między sobą, jednak funkcje zostały zaimplementowane w taki sposób, aby wartości te były mniej więcej porównywalne. Dlatego w przypadku metryki Levenshteina, odległośc edycyjną podzieliłem przez maksymalną długość z obydwu tekstów, natomniast odległość euklidesową znormalizowałem przez sumę długości wektorów otrzymanych z liczby wystąpień poszczególnych ngramów. Dzięki temu dla każdej z metryk spełniony jest fakt, iż przyjmują one wartość 0 dla tożsamych napisów oraz wartość 1 dla zupełnie różniących się."
   ]
  },
  {
   "cell_type": "markdown",
   "id": "selected-transsexual",
   "metadata": {},
   "source": [
    "* podobne napisy"
   ]
  },
  {
   "cell_type": "code",
   "execution_count": 12,
   "id": "ranging-mississippi",
   "metadata": {},
   "outputs": [
    {
     "name": "stdout",
     "output_type": "stream",
     "text": [
      "lcs:  0.5\n",
      "dice:  0.5\n",
      "euclides:  0.6666666666666666\n",
      "cosine:  0.4836022205056778\n",
      "levenshtein:  0.3333333333333333\n"
     ]
    }
   ],
   "source": [
    "x = 'BCDF'\n",
    "y = 'ABCDEF'\n",
    "\n",
    "print('lcs: ', lcs(x, y))\n",
    "print('dice: ', dice(x, y))\n",
    "print('euclides: ', euclides(x, y))\n",
    "print('cosine: ', cosine(x, y))\n",
    "print('levenshtein: ', levenshtein(x, y))"
   ]
  },
  {
   "cell_type": "markdown",
   "id": "available-boundary",
   "metadata": {},
   "source": [
    "* napisy zupełnie różne"
   ]
  },
  {
   "cell_type": "code",
   "execution_count": 13,
   "id": "driving-alcohol",
   "metadata": {},
   "outputs": [
    {
     "name": "stdout",
     "output_type": "stream",
     "text": [
      "lcs:  1.0\n",
      "dice:  1.0\n",
      "euclides:  1.0\n",
      "cosine:  1.0\n",
      "levenshtein:  1.0\n"
     ]
    }
   ],
   "source": [
    "x = 'BCDF'\n",
    "y = 'A'\n",
    "\n",
    "print('lcs: ', lcs(x, y))\n",
    "print('dice: ', dice(x, y))\n",
    "print('euclides: ', euclides(x, y))\n",
    "print('cosine: ', cosine(x, y))\n",
    "print('levenshtein: ', levenshtein(x, y))"
   ]
  },
  {
   "cell_type": "markdown",
   "id": "durable-madagascar",
   "metadata": {},
   "source": [
    "* napisy tożsame"
   ]
  },
  {
   "cell_type": "code",
   "execution_count": 14,
   "id": "ready-pitch",
   "metadata": {},
   "outputs": [
    {
     "name": "stdout",
     "output_type": "stream",
     "text": [
      "lcs:  0.0\n",
      "dice:  0.0\n",
      "euclides:  0.0\n",
      "cosine:  0.0\n",
      "levenshtein:  0.0\n"
     ]
    }
   ],
   "source": [
    "x = 'BCDF'\n",
    "y = 'BCDF'\n",
    "\n",
    "print('lcs: ', lcs(x, y))\n",
    "print('dice: ', dice(x, y))\n",
    "print('euclides: ', euclides(x, y))\n",
    "print('cosine: ', cosine(x, y))\n",
    "print('levenshtein: ', levenshtein(x, y))"
   ]
  },
  {
   "cell_type": "markdown",
   "id": "explicit-soldier",
   "metadata": {},
   "source": [
    "## 2. Sposoby oceny jakości klasteryzacji"
   ]
  },
  {
   "cell_type": "markdown",
   "id": "postal-spare",
   "metadata": {},
   "source": [
    "<i>Zaimplementuj przynajmniej 2 sposoby oceny jakości klasteryzacji (np. indeks Daviesa-Bouldina).</i>"
   ]
  },
  {
   "cell_type": "markdown",
   "id": "descending-agency",
   "metadata": {},
   "source": [
    "* indeks Daviesa-Bouldina"
   ]
  },
  {
   "cell_type": "code",
   "execution_count": 21,
   "id": "facial-field",
   "metadata": {},
   "outputs": [],
   "source": [
    "def average_distance_in_cluster(cluster, metric):\n",
    "    sum_ = 0\n",
    "    n = len(cluster)\n",
    "    if n == 1:\n",
    "        return 0\n",
    "    \n",
    "    for i, text_i in enumerate(cluster):\n",
    "        for text_j in cluster[i+1:]:\n",
    "                sum_ += metric(text_i, text_j)\n",
    "                \n",
    "    return sum_ /(n*(n-1)/2)"
   ]
  },
  {
   "cell_type": "code",
   "execution_count": 199,
   "id": "discrete-reynolds",
   "metadata": {},
   "outputs": [],
   "source": [
    "def davies_bouldin(clusters, metric):\n",
    "    index = 0\n",
    "    sigmas = [average_distance_in_cluster(cluster, metric) for cluster in clusters]\n",
    "    \n",
    "    for i, cluster_i in enumerate(clusters):\n",
    "        max_ = 0\n",
    "        for j, cluster_j in enumerate(clusters):\n",
    "            if i == j: continue\n",
    "            if cluster_distance(cluster_i, cluster_j, metric) == 0:\n",
    "                print(cluster_i)\n",
    "                print(cluster_j)\n",
    "            max_ = max(max_, (sigmas[i] + sigmas[j])/cluster_distance(cluster_i, cluster_j, metric))\n",
    "        index += max_\n",
    "        \n",
    "    return index/len(clusters)        "
   ]
  },
  {
   "cell_type": "markdown",
   "id": "played-tradition",
   "metadata": {},
   "source": [
    "* indeks Dunna"
   ]
  },
  {
   "cell_type": "code",
   "execution_count": 24,
   "id": "absent-wisdom",
   "metadata": {},
   "outputs": [],
   "source": [
    "def cluster_distance(cluster_a, cluster_b, metric):\n",
    "    sum_ = 0\n",
    "    \n",
    "    return sum(metric(text_a, text_b) \n",
    "               for text_a in cluster_a \n",
    "               for text_b in cluster_b)/(len(cluster_a)\n",
    "                                         *len(cluster_b))\n",
    "\n",
    "def cluster_size(cluster, metric):\n",
    "    if len(cluster) == 1: return 0\n",
    "    return max(metric(text_i, text_j) for i, text_i in enumerate(cluster) for text_j in cluster[i+1:])"
   ]
  },
  {
   "cell_type": "code",
   "execution_count": 25,
   "id": "medical-import",
   "metadata": {},
   "outputs": [],
   "source": [
    "def dunn(clusters, metric):\n",
    "    min_dist = min((cluster_distance(cluster_a, cluster_b, metric) \\\n",
    "                    for cluster_a in clusters \\\n",
    "                    for cluster_b in clusters \\\n",
    "                    if cluster_a != cluster_b))\n",
    "    max_size = max((cluster_size(cluster, metric) \\\n",
    "                    for cluster in clusters))\n",
    "    return min_dist/max_size"
   ]
  },
  {
   "cell_type": "markdown",
   "id": "listed-daughter",
   "metadata": {},
   "source": [
    "## 3. Stoplista"
   ]
  },
  {
   "cell_type": "markdown",
   "id": "soviet-blowing",
   "metadata": {},
   "source": [
    "<i> Stwórz stoplistę najczęściej występujących słów. </i>"
   ]
  },
  {
   "cell_type": "markdown",
   "id": "wrong-somalia",
   "metadata": {},
   "source": [
    "Stop listę tworzę dzieląc linijki na tokeny w postaci słów, a następnie znajdując najczęściej powtarzające się słowa we wszystkich linijkach."
   ]
  },
  {
   "cell_type": "code",
   "execution_count": 30,
   "id": "meaningful-escape",
   "metadata": {},
   "outputs": [],
   "source": [
    "def get_stop_words(lines, min_count):\n",
    "    word_count = Counter(word for line in lines for word in line.split(' '))\n",
    "    word_count = list(word_count.items())\n",
    "    word_count.sort(key=lambda x: x[1], reverse=True)\n",
    "    return [word for word, count in word_count if count >= min_count]"
   ]
  },
  {
   "cell_type": "code",
   "execution_count": 31,
   "id": "contemporary-colon",
   "metadata": {},
   "outputs": [],
   "source": [
    "def remove_common(lines, num):\n",
    "    stop_list = get_stop_words(lines, num)\n",
    "    return [' '.join([word for word in line.split(' ') if word not in stop_list]) for line in lines], stop_list"
   ]
  },
  {
   "cell_type": "markdown",
   "id": "dental-secretary",
   "metadata": {},
   "source": [
    "## 4. Klasteryzacja"
   ]
  },
  {
   "cell_type": "markdown",
   "id": "accepted-adapter",
   "metadata": {},
   "source": [
    "<i> Wykonaj klasteryzację zawartości załączonego pliku (lines.txt) przy użyciu przynajmniej 2 algorytmów oraz metryk zaimplementowanych w pkt. 1. i metryki Levenshteina. Każda linia to adres pocztowy firmy, różne sposoby zapisu tego samego adresu powinny się znaleźć w jednym klastrze. </i>"
   ]
  },
  {
   "cell_type": "markdown",
   "id": "systematic-leisure",
   "metadata": {},
   "source": [
    "Do klasteryzacji używam funkcji DBSCAN z biblioteki sklearn.cluster."
   ]
  },
  {
   "cell_type": "code",
   "execution_count": 214,
   "id": "younger-climb",
   "metadata": {},
   "outputs": [],
   "source": [
    "def cluster(lines, metric):\n",
    "    distances = [[metric(line_a, line_b) for line_a in lines] for line_b in lines]\n",
    "    clustering = sklearn.cluster.DBSCAN(eps=0.8, min_samples=1).fit(distances)\n",
    "    return clustering.labels_"
   ]
  },
  {
   "cell_type": "markdown",
   "id": "otherwise-mills",
   "metadata": {},
   "source": [
    "## 5. Testy"
   ]
  },
  {
   "cell_type": "markdown",
   "id": "applied-night",
   "metadata": {},
   "source": [
    "<i> Porównaj jakość wyników sposobami zaimplementowanymi w pkt. 2. </i>"
   ]
  },
  {
   "cell_type": "markdown",
   "id": "ordered-flooring",
   "metadata": {},
   "source": [
    "#### odczytanie danych testowych"
   ]
  },
  {
   "cell_type": "markdown",
   "id": "controlled-fence",
   "metadata": {},
   "source": [
    "Z uwagi na duży czas działania programu, korzystam tylko ze 100 linijek. Dzięki temu najwolniejsze metody nie działają dłużej niż minutę."
   ]
  },
  {
   "cell_type": "code",
   "execution_count": 215,
   "id": "horizontal-marshall",
   "metadata": {},
   "outputs": [],
   "source": [
    "def get_example_lines(num):\n",
    "    with open('lines.txt', 'r') as file:\n",
    "        lines = list(file)\n",
    "        \n",
    "    lines = lines[:num]\n",
    "\n",
    "    with open('clusters.txt', 'r') as file:\n",
    "        clusters = list(file)\n",
    "    \n",
    "    correct_clustering = []\n",
    "    cluster_num = 0\n",
    "    \n",
    "    for line in lines:\n",
    "        cluster = 0\n",
    "        for cluster_line in clusters:\n",
    "            if cluster_line[0] == '#':\n",
    "                cluster += 1\n",
    "            elif cluster_line == line:\n",
    "                correct_clustering.append(cluster)\n",
    "                break\n",
    "    \n",
    "    return lines, np.array(correct_clustering)"
   ]
  },
  {
   "cell_type": "code",
   "execution_count": 216,
   "id": "julian-franchise",
   "metadata": {},
   "outputs": [],
   "source": [
    "def get_example_lines_clustered(num):\n",
    "    lines = []\n",
    "    current_cluster = 0\n",
    "    \n",
    "    with open('clusters.txt', 'r') as file:\n",
    "        for line in file:\n",
    "            if len(lines) == num: break\n",
    "            if line.strip() == '': continue\n",
    "            if line[0] == '#':\n",
    "                current_cluster += 1\n",
    "            else:\n",
    "                lines.append((line, current_cluster))\n",
    "    \n",
    "    shuffle(lines)\n",
    "    return [line[0] for line in lines], [line[1] for line in lines]"
   ]
  },
  {
   "cell_type": "code",
   "execution_count": 222,
   "id": "advised-recruitment",
   "metadata": {},
   "outputs": [],
   "source": [
    "lines, correct_labels = get_example_lines_clustered(100)"
   ]
  },
  {
   "cell_type": "markdown",
   "id": "similar-capital",
   "metadata": {},
   "source": [
    "#### testy krok po kroku"
   ]
  },
  {
   "cell_type": "markdown",
   "id": "increasing-annex",
   "metadata": {},
   "source": [
    "* klasteryzacja - znalezienie listy z indeksami klastrów poszczególnych linii danych:"
   ]
  },
  {
   "cell_type": "code",
   "execution_count": 223,
   "id": "wound-annex",
   "metadata": {},
   "outputs": [],
   "source": [
    "labels = cluster(lines, cosine)"
   ]
  },
  {
   "cell_type": "code",
   "execution_count": 224,
   "id": "quality-clinton",
   "metadata": {},
   "outputs": [
    {
     "name": "stdout",
     "output_type": "stream",
     "text": [
      "[ 0  1  2  3  4  5  6  7  8  9  6 10 11 12 13  6  6 14 15 16 17  6 18 11\n",
      " 18 19 20 21 22  6 23  5 24 18 25 26 27  4 28 29 10 18  6  5 12 30 31 18\n",
      " 32  2 10  0 33 34 35 36 37  9 31 38 39 32 11 31 40  5 18 18  9 41  5 31\n",
      " 42 43 44  6  5 45  9  6 12 18  5 36 32 43 18 15 46  5  5 47  5 12 48  5\n",
      "  5 18  6 49]\n"
     ]
    }
   ],
   "source": [
    "print(labels)"
   ]
  },
  {
   "cell_type": "code",
   "execution_count": 225,
   "id": "hundred-portsmouth",
   "metadata": {},
   "outputs": [],
   "source": [
    "def renumber_labels(labels):\n",
    "    seen = {}\n",
    "    current = 0\n",
    "    new_labels = []\n",
    "    for label in labels:\n",
    "        if label in seen:\n",
    "            new_labels.append(seen[label])\n",
    "        else:\n",
    "            new_labels.append(current)\n",
    "            seen[label] = current\n",
    "            current += 1\n",
    "    \n",
    "    return np.array(new_labels)"
   ]
  },
  {
   "cell_type": "code",
   "execution_count": 226,
   "id": "negative-completion",
   "metadata": {},
   "outputs": [
    {
     "name": "stdout",
     "output_type": "stream",
     "text": [
      "[ 0  1  2  0  3  4  4  5  6  4  4  7  2  8  9  4  4 10  4  4 11  4 12  2\n",
      " 13 14 15 16 17  4  4  4  4 18  9  4  4  3  4 17 19 18  4  4  8 13 13 13\n",
      " 20 17  7 13 10  3 21 22  4 11 13 14  5 10  2 13  8  4 23 24  4  9  4 13\n",
      " 22  4 13  4  4 10 25  4  8 12  4 22 20  4 18  4 26  4  4 27  4  8 22  4\n",
      "  4 13  4  8]\n"
     ]
    }
   ],
   "source": [
    "print(renumber_labels(correct_labels))"
   ]
  },
  {
   "cell_type": "markdown",
   "id": "talented-pipeline",
   "metadata": {},
   "source": [
    "* podzielenie linijek na klastry w postaci zbiorów"
   ]
  },
  {
   "cell_type": "code",
   "execution_count": 227,
   "id": "occupied-nebraska",
   "metadata": {},
   "outputs": [],
   "source": [
    "def get_clusters_from_labels(lines, labels):\n",
    "    clusters = {}\n",
    "    for i, label in enumerate(labels):\n",
    "        clusters[label] = clusters.get(label, []) + [lines[i]]\n",
    "        \n",
    "    return list(clusters.values())"
   ]
  },
  {
   "cell_type": "code",
   "execution_count": 228,
   "id": "anonymous-mention",
   "metadata": {},
   "outputs": [],
   "source": [
    "clusters = get_clusters_from_labels(lines, labels)"
   ]
  },
  {
   "cell_type": "code",
   "execution_count": 229,
   "id": "canadian-advance",
   "metadata": {},
   "outputs": [],
   "source": [
    "def print_clustering(clusters):\n",
    "    for cluster in clusters:\n",
    "        print('##########')\n",
    "        for line in cluster:\n",
    "            print(line)"
   ]
  },
  {
   "cell_type": "code",
   "execution_count": 230,
   "id": "nonprofit-examination",
   "metadata": {},
   "outputs": [
    {
     "name": "stdout",
     "output_type": "stream",
     "text": [
      "##########\n",
      "TO ORDER OF ANTEY LTD\n",
      "\n",
      "TO THE ORDER OF INTRANS LTD\n",
      "\n",
      "##########\n",
      "\"Goldens\" LLC\n",
      "\n",
      "##########\n",
      "FORTUM LTD\n",
      "\n",
      "FORUM LTD\n",
      "\n",
      "##########\n",
      "ANTEY OOO SOPHISKAYA 52 ST PETERSBURG 192214 RUSSIA ST PETERSBURG RU\n",
      "\n",
      "##########\n",
      "REALCO LOGISTICS LTD. 4TH FLOOR,NO.10,LANE 345,YANGKUANG STREET,NEI HU TAIPEI,TAIWAN R.O.C.114\n",
      "\n",
      "REALCO LOGISTICS LTDVDR 10 YANGKUANG STLANE 345 4F TAIWAN\n",
      "\n",
      "##########\n",
      "PANTOS LOGISTICS POLAND SP.    ZO.OUL. SZYSZKOWA 43, 02-285, WARSAW, POLAND  TEL: 0048 22 358 2737  -ATTN: PRZEMEK HOJDA\n",
      "\n",
      "PANTOS LOGISTICS POLAND SP.  ZO.OUL. SZYSZKOWA 43, 02-285, WARSAW,POLAND  TEL: 0048 22 358 2737  - ATTN: PRZEMEK HOJDA\n",
      "\n",
      "PANTOS LOGISTICS POLAND SP. ZO.OUL. SZYSZKOWA 43, 02-285, WARSAW, POLAND TEL: 0048 22 358 2737  - ATTN: PRZEMEK HOJDA\n",
      "\n",
      "PANTOS LOGISTICS POLLAND SP. Z.O.OUL SZYSKOWA 43 02-285 WARSAW, POLLAND TEL : +48 22 358 2750 FAX : +4822 358 2739\n",
      "\n",
      "PANTOS LOGISTICS POLAND SP. Z O.O.UL. SZYSZKOWA 43 WARSZAWA, POLAND ZIP: 02-285 TEL : 0048 22 358 2750 ATTN: PIOTR PADUCH--\n",
      "\n",
      "PANTOS LOGISTICS POLAND SP. Z O.O.UL.SZYSZKOWA 43 WARSZAWA, POLANDZIP:02-285TEL:0048 22 358 2750\n",
      "\n",
      "PANTOS LOGISTICS POLAND SP. Z O.O.UL.SZYSZKOWA 43 02-285, WARSAW, POLAND TEL :+48 22 358 27 50 FAX :+4822 358 27 39\n",
      "\n",
      "PANTOS LOGISTICS POLAND SP.Z.O.O SZYSZKOWA 43 STR. 02-285 WARSAW POLAND PHONE:+48-22-358-27-55\n",
      "\n",
      "PANTOS LOGISTICS POLAND SP. Z O.O.UL.SZYSZKOWA 43 WARSZAWA, POLANDZIP:02-285TEL:0048 22 358 2750@@@\n",
      "\n",
      "PANTOS LOGISTICS POLAND SP.Z.O.O UL.SZYSZKOWA 43,02-285,WARSAW POLANDTEL:+0048 22 358 2737 ATTN:PRZEMEKHOJDA\n",
      "\n",
      "PANTOS LOGISTICS POLAND SP.Z.O.O. UL.SZYSZKOWA 43,02-285,WARSAW, POLAND TEL: 0048 22 358 2737 ATTN:PRZEMEK HOJDA\n",
      "\n",
      "PANTOS LOGISTICS POLAND SP. Z O.O.UL. SZYSZKOWA 43 WARSZAWA, POLAND ZIP: 02-285 TEL : 0048 22 358 2750 ATTN: PIOTR PADUCH---\n",
      "\n",
      "##########\n",
      "PANTOS LOGISTICS CO.,LTD. O/B OF SSCP CO., LTD.\n",
      "\n",
      "PANTOS LOGISTICS CO.,LTD. O/B OF DONG YANG INDUSTRIAL CO., LT D\n",
      "\n",
      "PANTOS LOGISTICS CO.,LTD. O/B OF LGELECTRONICS INC\n",
      "\n",
      "PANTOS LOGISTICS CO.,LTD. O/B OF CANAAN ELECTRONICS CO.,LTD\n",
      "\n",
      "PANTOS LOGISTICS CO.,LTD. O/B OF AVATEC CO., LTD\n",
      "\n",
      "PANTOS LOGISTICS CO.,LTD. O/B OF FINE AL TECH CO.,LTD\n",
      "\n",
      "PANTOS LOGISTICS CO.,LTD. O/B OF PA R K ELECTRONICS CO.,LTD\n",
      "\n",
      "PANTOS LOGISTICS CO.,LTD. O/B OF YOO JIN ENG.\n",
      "\n",
      "PANTOS LOGISTICS CO.,LTD. O/B OF TOP   YANGJI CO.,LTD\n",
      "\n",
      "PANTOS LOGISTICS CO.,LTD. O/B OF LGCHEM, LTD.\n",
      "\n",
      "##########\n",
      "HAITIAN HUAYUAN (HONG KONG) LIMITEDUNIT 1105, 11/F, METROPLAZA TOWERII 223 HING FONG ROAD, KWAI FONG, N.T. HONG KONG\n",
      "\n",
      "##########\n",
      "SAME AS CONSIGNEE  TEL:48-58-690-00-00  FAX:48-58-690-0001\n",
      "\n",
      "##########\n",
      "PANTOS LOGISTICS(CHINA) CO.,LTD.\n",
      "\n",
      "NYK LOGISTICS (CHINA) CO., LTD\n",
      "\n",
      "PANTOS LOGISTICS (CHINA)CO.,LTD\n",
      "\n",
      "COSUN LOGISTICS CO., LTD.\n",
      "\n",
      "##########\n",
      "TO ORDER OF OOO NOVEX-M\n",
      "\n",
      "TO ORDER OF NOTIFY PARTY\n",
      "\n",
      "TO ORDER OF NOVEX-M\n",
      "\n",
      "##########\n",
      "FORTUM LTD ADDRESS: NEPOKORENNYH PR. 11. LIT. \"A\", OFFICE 12N, ST. PETERSBURG, RUSSIA, 195220   TEL:7-8122441705\n",
      "\n",
      "FORTUM LTD NEPOKORENNYH PR. 11,LIT.\"A\", OFFICE 12 N, ST.PETERSBURG, RUSSIA,195220 TEL/FAX: + 7 812 232 1010\n",
      "\n",
      "FORTUM LTD ADDRESS:NEPOKORENNYH PR.11,LIT.\"A \",OFFICE 12N,ST.PETERSBURG, RUSSIA,195220 INN 7804326502,++\n",
      "\n",
      "##########\n",
      "1 MCT\n",
      "\n",
      "1. MCT\n",
      "\n",
      "MCT\n",
      "\n",
      "1.MCT\n",
      "\n",
      "##########\n",
      "GAC ( TAIWAN )  LTD 11-F, NO. 328,CHANG CHUN ROAD, TAIPEI TAIWAN, ROC\n",
      "\n",
      "##########\n",
      "LOGICS CO.,LTD 198095,SANKT-PETERSBURG,MITROFANEVS KOE SHOSSE,D.2,KORP.1 BC<<ADMIRAL>>,OFF.322\n",
      "\n",
      "##########\n",
      "PANTOS LOGISTICS(CHINA) CO.,LTD. SHANGHAI BRANCH ROOM 601,BEA FINANCETOWER, HUA YUAN SHI QIAO ROAD 66,SHANGHAI PRC 200120 TEL:86-21-3856-82\n",
      "\n",
      "PANTOS LOGISTICS(CHINA) CO.,LTD. SHANGHAI BRANCH  ROOM 601,BEA FINANCETOWER, HUA YUAN SHI QIAO ROAD 66,SHANGHAI PRC 200120 TEL:86-21-3856-8200\n",
      "\n",
      "##########\n",
      "PANTOS LOGISTICS VIETNAM CO., LTD ROOM 801, 08TH FLOOR- SAILING TOWER111A PASTEUR ST., DIST.1, HCMC, VIETNAM   TEL: 848 3824 8811  FAX: 848 3824 8800\n",
      "\n",
      "##########\n",
      "NYK LOGISTICS (VIETNAM) CO., KTD ASAGENT FOR YUSEN LOGISTICS (HONG KONG) LIMITED\n",
      "\n",
      "##########\n",
      "SAME AS ABOVE\n",
      "\n",
      "SAME AS THE CONSIGNEE\n",
      "\n",
      "SAME AS  CNEE\n",
      "\n",
      "SAME AS CNEE CONTRACT # 224555\n",
      "\n",
      "THE SAME AS CONSIGNEE\n",
      "\n",
      "SAME AS CSNEE\n",
      "\n",
      "SAME AS CONSIGNEE  C/N#310915\n",
      "\n",
      "SAME AS ABOVE CONSIGNEE\n",
      "\n",
      "SAME AS CNEE\n",
      "\n",
      "THE SAME AS CNEE\n",
      "\n",
      "##########\n",
      "TO ORDER OF STOPOL LLC 208 W. STATESTREET, TRENTON, NJ, USA\n",
      "\n",
      "##########\n",
      "KELLY.INTERNATIONAL, CORP.\n",
      "\n",
      "##########\n",
      "NMC LOGISTICS INTL CO LTD (TAI)NMC LOGISTICS INTL CO LTD (TAI) 49915F-2 TAIWAN\n",
      "\n",
      "##########\n",
      "OOO \"FORUM\" INN/7838459860 Gorohovaya ul.,19, lit.B RU 190000 St.Petersburg\n",
      "\n",
      "##########\n",
      "PANTOS LOGISTICS (CHINA)CO.,LTD SHANGHAI BRANCH  ROOM 1201-1204, GREENLAND INTERNATIONAL COMMERCIAL CENTER,NO 88 GU LOU  STREET,NANJING CHINA,210008-\n",
      "\n",
      "##########\n",
      "PANTOS LOGISTICS (CHINA) CO., LTD.RM 15A1,FLAGSHIP TOWER,NEW WORLD CYBE PORT,NO.40 HONGKONG MIDDLE ROAD,QINGDAO, CHINA\n",
      "\n",
      "##########\n",
      "GAC ( TAIWAN )  LTD\n",
      "\n",
      "##########\n",
      "PANTOS LOGISTICS (SZ) CO.,LTD. RM05/06,10/F,TOWER B,TILEY CENTRAL PLAZA, NO.3 HAIDE ROAD,NANSHAN DISTRICT, SHENZHEN, CHINA . .\n",
      "\n",
      "##########\n",
      "PANTOS LOGISTICS INDIA PVT LTDSAGARTECH PLAZA ANDHERI KURLA ROADUNIT 315 316 3RD FLR SAKINAKABOMBAY (MUMBAI) 400072\n",
      "\n",
      "##########\n",
      "PANTOS LOGISTICS JAPAN INC.16F AKASAKA TWIN TOWER THE EAST,17-22, AKASAKA 2-CHOME, MINATO-KU,  TOKYO, JAPAN. 107-0052\n",
      "\n",
      "##########\n",
      "A.C. FORUM SP.Z O.O UL.KWIATKOWSKIEGO 60 81-127 GDYNIA,POLAND\n",
      "\n",
      "##########\n",
      "TO THE ORDER OF : TURK EKONOMI BANKASI ANTAKYA BR.\n",
      "\n",
      "##########\n",
      "TO THE ORDER\n",
      "\n",
      "TO ORDER OF THE SHIPPER\n",
      "\n",
      "TO THE ORDER OF SHIPPER\n",
      "\n",
      "TO THE OTHER\n",
      "\n",
      "##########\n",
      "BY ORDER OF ART LOGISTICS LLC\n",
      "\n",
      "TO ORDER OF LOGICS\n",
      "\n",
      "BY ORDER OF ART LOGISTICS\n",
      "\n",
      "##########\n",
      "OOO \"LOGICS\"\n",
      "\n",
      "##########\n",
      "REALCO LOGISTICS(SHANGHAI) LTD\n",
      "\n",
      "##########\n",
      "HUNAN DENKAI CO.,LTD\n",
      "\n",
      "##########\n",
      "MAXIMUM COMPANY LTD TEL: +7 (495) 436 02 76, 436 03 15, FAX: +7 (495)436 03 15\n",
      "\n",
      "MAXIMUM COMPANY LTD TEL:+7 (495) 436 02 76, 436 03 15, FAX:+7 (495)43603 15\n",
      "\n",
      "##########\n",
      "PANTOS LOGISTICS CO.,LTD. O/B OFSEE THE ATTACHED RIDER\n",
      "\n",
      "##########\n",
      "STOPOL LLC\n",
      "\n",
      "##########\n",
      "NINGBO HAITIAN INTERNATIONAL CO.,LTD\n",
      "\n",
      "##########\n",
      "MCT SHIPPING FINLAND OY\n",
      "\n",
      "##########\n",
      "GAC ( TAIWAN )  LTDGAC GLOBAL LOGISTICS TAIWAN LTD 32811 F TAIWAN\n",
      "\n",
      "##########\n",
      "MAXIMUM TEA COMPANY LIMITED 84/2 VERANDSKOGO PROSPECT MOSCOW 119606 RUSSIA TEL : 7095 436 0315 FAX : 7095436 0376\n",
      "\n",
      "##########\n",
      "PANTOS LOGISTICS GERMANY GMBH HAMBURG OFFICE KLEINE REICHENSTR.1, D-2045 7HAMBURG,GERMANY\n",
      "\n",
      "PANTOS LOGISTICS GERMANY GMBH HAMBURG OFFICE, KLEINE REICHEN STR.  1,HAMBURG, GERMANY ZIP 20457 EORI: DE6181716\n",
      "\n",
      "##########\n",
      "TO THE ORDER OF MPM PRODUT SP. Z O.O.\n",
      "\n",
      "##########\n",
      "LOGICS, ST.PETERSBURG,MIROPHANEVSKOE, SHOSSE 2/1,OFFICE 322, TEL:7(812)4413144\n",
      "\n",
      "##########\n",
      "AIDER COMPANY LTD\n",
      "\n",
      "##########\n",
      "MADISA CHINA LIMITED\n",
      "\n",
      "##########\n",
      "MAXIMUM COMPANY LTD\n",
      "\n",
      "##########\n",
      "1.MCT 2.VKASPB@GMAIL.COM\n",
      "\n"
     ]
    }
   ],
   "source": [
    "print_clustering(clusters)"
   ]
  },
  {
   "cell_type": "markdown",
   "id": "dynamic-census",
   "metadata": {},
   "source": [
    "* ocena klasteryzacji, znalezienie wartości obydwu indeksów"
   ]
  },
  {
   "cell_type": "code",
   "execution_count": 231,
   "id": "alternate-ordinance",
   "metadata": {},
   "outputs": [
    {
     "name": "stdout",
     "output_type": "stream",
     "text": [
      "\tdavies-bouldin index:  0.5846553591310301\n",
      "\t          dunn index:  0.33861980647272577\n"
     ]
    }
   ],
   "source": [
    "print('\\tdavies-bouldin index: ', davies_bouldin(clusters, cosine))\n",
    "print('\\t          dunn index: ', dunn(clusters, cosine))"
   ]
  },
  {
   "cell_type": "markdown",
   "id": "satisfactory-ability",
   "metadata": {},
   "source": [
    "#### wersja z zastosowaniem stoplisty "
   ]
  },
  {
   "cell_type": "markdown",
   "id": "split-cemetery",
   "metadata": {},
   "source": [
    "* usunięcie słów ze stoplisty"
   ]
  },
  {
   "cell_type": "code",
   "execution_count": 234,
   "id": "varied-territory",
   "metadata": {},
   "outputs": [
    {
     "name": "stdout",
     "output_type": "stream",
     "text": [
      "removed words:  ['LOGISTICS', 'PANTOS', '', 'OF', 'POLAND', 'CO.,LTD.', 'TO', 'ORDER', '358', 'THE', '22', 'O/B', 'SAME', 'AS', 'LTD\\n', 'SP.', 'LTD', 'CO.,', ':', '43']\n"
     ]
    }
   ],
   "source": [
    "lines_stop, common_words = remove_common(lines, 7)\n",
    "print('removed words: ', common_words)"
   ]
  },
  {
   "cell_type": "code",
   "execution_count": 235,
   "id": "urban-upgrade",
   "metadata": {},
   "outputs": [],
   "source": [
    "def show_differences(lines, lines_stop):\n",
    "    for line, line_stop in zip(lines, lines_stop):\n",
    "        if line != line_stop:\n",
    "            print(line)\n",
    "            print(line_stop, '\\n')"
   ]
  },
  {
   "cell_type": "markdown",
   "id": "alpha-software",
   "metadata": {},
   "source": [
    "* klasteryzacja"
   ]
  },
  {
   "cell_type": "code",
   "execution_count": 236,
   "id": "commercial-cloud",
   "metadata": {},
   "outputs": [],
   "source": [
    "labels = cluster(lines_stop, cosine)"
   ]
  },
  {
   "cell_type": "code",
   "execution_count": 237,
   "id": "taken-number",
   "metadata": {},
   "outputs": [
    {
     "name": "stdout",
     "output_type": "stream",
     "text": [
      "[ 0  1  2  3  4  5  6  7  8  9 10 11 12 13 14 15 16 17 18 19 20 21 22 12\n",
      " 23 24 25 26 27 28 29  5 30 31 32 33 34  4 35 36 37 38 16  5 13 39 40 23\n",
      " 41  2 11 42 43 44 45 46 47 48 49 50 51 52 12 49 53 54 31 55 56 32 54 57\n",
      " 58 59 60 61 54 62 63 64 13 23 54 46 65 59 31 18 66 67 54 68  5 13 69  5\n",
      " 54 31 70 71]\n"
     ]
    }
   ],
   "source": [
    "print(labels)"
   ]
  },
  {
   "cell_type": "markdown",
   "id": "taken-miller",
   "metadata": {},
   "source": [
    "* podzielenie linijek na klastry w postaci zbiorów"
   ]
  },
  {
   "cell_type": "code",
   "execution_count": 238,
   "id": "willing-sodium",
   "metadata": {},
   "outputs": [],
   "source": [
    "clusters = get_clusters_from_labels(lines_stop, labels)"
   ]
  },
  {
   "cell_type": "code",
   "execution_count": 239,
   "id": "chief-visiting",
   "metadata": {},
   "outputs": [],
   "source": [
    "def get_clusters_from_labels(lines, labels):\n",
    "    clusters = {}\n",
    "    for i, label in enumerate(labels):\n",
    "        clusters[label] = clusters.get(label, []) + [lines[i]]\n",
    "        \n",
    "    return list(clusters.values())"
   ]
  },
  {
   "cell_type": "code",
   "execution_count": 240,
   "id": "modified-shift",
   "metadata": {},
   "outputs": [
    {
     "name": "stdout",
     "output_type": "stream",
     "text": [
      "##########\n",
      "ANTEY\n",
      "##########\n",
      "\"Goldens\" LLC\n",
      "\n",
      "##########\n",
      "FORTUM\n",
      "FORUM\n",
      "##########\n",
      "ANTEY OOO SOPHISKAYA 52 ST PETERSBURG 192214 RUSSIA ST PETERSBURG RU\n",
      "\n",
      "##########\n",
      "REALCO LTD. 4TH FLOOR,NO.10,LANE 345,YANGKUANG STREET,NEI HU TAIPEI,TAIWAN R.O.C.114\n",
      "\n",
      "REALCO LTDVDR 10 YANGKUANG STLANE 345 4F TAIWAN\n",
      "\n",
      "##########\n",
      "ZO.OUL. SZYSZKOWA 43, 02-285, WARSAW, TEL: 0048 2737 -ATTN: PRZEMEK HOJDA\n",
      "\n",
      "ZO.OUL. SZYSZKOWA 43, 02-285, WARSAW,POLAND TEL: 0048 2737 - ATTN: PRZEMEK HOJDA\n",
      "\n",
      "ZO.OUL. SZYSZKOWA 43, 02-285, WARSAW, TEL: 0048 2737 - ATTN: PRZEMEK HOJDA\n",
      "\n",
      "SP.Z.O.O UL.SZYSZKOWA 43,02-285,WARSAW POLANDTEL:+0048 2737 ATTN:PRZEMEKHOJDA\n",
      "\n",
      "SP.Z.O.O. UL.SZYSZKOWA 43,02-285,WARSAW, TEL: 0048 2737 ATTN:PRZEMEK HOJDA\n",
      "\n",
      "##########\n",
      "SSCP LTD.\n",
      "\n",
      "##########\n",
      "HAITIAN HUAYUAN (HONG KONG) LIMITEDUNIT 1105, 11/F, METROPLAZA TOWERII 223 HING FONG ROAD, KWAI FONG, N.T. HONG KONG\n",
      "\n",
      "##########\n",
      "CONSIGNEE TEL:48-58-690-00-00 FAX:48-58-690-0001\n",
      "\n",
      "##########\n",
      "LOGISTICS(CHINA) CO.,LTD.\n",
      "\n",
      "##########\n",
      "DONG YANG INDUSTRIAL LT D\n",
      "\n",
      "##########\n",
      "OOO NOVEX-M\n",
      "\n",
      "NOVEX-M\n",
      "\n",
      "##########\n",
      "FORTUM ADDRESS: NEPOKORENNYH PR. 11. LIT. \"A\", OFFICE 12N, ST. PETERSBURG, RUSSIA, 195220 TEL:7-8122441705\n",
      "\n",
      "FORTUM NEPOKORENNYH PR. 11,LIT.\"A\", OFFICE 12 N, ST.PETERSBURG, RUSSIA,195220 TEL/FAX: + 7 812 232 1010\n",
      "\n",
      "FORTUM ADDRESS:NEPOKORENNYH PR.11,LIT.\"A \",OFFICE 12N,ST.PETERSBURG, RUSSIA,195220 INN 7804326502,++\n",
      "\n",
      "##########\n",
      "1 MCT\n",
      "\n",
      "1. MCT\n",
      "\n",
      "MCT\n",
      "\n",
      "1.MCT\n",
      "\n",
      "##########\n",
      "GAC ( TAIWAN ) 11-F, NO. 328,CHANG CHUN ROAD, TAIPEI TAIWAN, ROC\n",
      "\n",
      "##########\n",
      "LGELECTRONICS INC\n",
      "\n",
      "##########\n",
      "CANAAN ELECTRONICS CO.,LTD\n",
      "\n",
      "PA R K ELECTRONICS CO.,LTD\n",
      "\n",
      "##########\n",
      "LOGICS CO.,LTD 198095,SANKT-PETERSBURG,MITROFANEVS KOE SHOSSE,D.2,KORP.1 BC<<ADMIRAL>>,OFF.322\n",
      "\n",
      "##########\n",
      "LOGISTICS(CHINA) SHANGHAI BRANCH ROOM 601,BEA FINANCETOWER, HUA YUAN SHI QIAO ROAD 66,SHANGHAI PRC 200120 TEL:86-21-3856-82\n",
      "\n",
      "LOGISTICS(CHINA) SHANGHAI BRANCH ROOM 601,BEA FINANCETOWER, HUA YUAN SHI QIAO ROAD 66,SHANGHAI PRC 200120 TEL:86-21-3856-8200\n",
      "\n",
      "##########\n",
      "VIETNAM ROOM 801, 08TH FLOOR- SAILING TOWER111A PASTEUR ST., DIST.1, HCMC, VIETNAM TEL: 848 3824 8811 FAX: 848 3824 8800\n",
      "\n",
      "##########\n",
      "NYK (VIETNAM) KTD ASAGENT FOR YUSEN (HONG KONG) LIMITED\n",
      "\n",
      "##########\n",
      "AVATEC\n",
      "##########\n",
      "ABOVE\n",
      "\n",
      "##########\n",
      "CONSIGNEE\n",
      "\n",
      "CONSIGNEE\n",
      "\n",
      "ABOVE CONSIGNEE\n",
      "\n",
      "##########\n",
      "STOPOL LLC 208 W. STATESTREET, TRENTON, NJ, USA\n",
      "\n",
      "##########\n",
      "KELLY.INTERNATIONAL, CORP.\n",
      "\n",
      "##########\n",
      "NMC INTL CO (TAI)NMC INTL CO (TAI) 49915F-2 TAIWAN\n",
      "\n",
      "##########\n",
      "OOO \"FORUM\" INN/7838459860 Gorohovaya ul.,19, lit.B RU 190000 St.Petersburg\n",
      "\n",
      "##########\n",
      "FINE AL TECH CO.,LTD\n",
      "\n",
      "##########\n",
      "(CHINA)CO.,LTD SHANGHAI BRANCH ROOM 1201-1204, GREENLAND INTERNATIONAL COMMERCIAL CENTER,NO 88 GU LOU STREET,NANJING CHINA,210008-\n",
      "\n",
      "##########\n",
      "(CHINA) LTD.RM 15A1,FLAGSHIP TOWER,NEW WORLD CYBE PORT,NO.40 HONGKONG MIDDLE ROAD,QINGDAO, CHINA\n",
      "\n",
      "##########\n",
      "CNEE\n",
      "\n",
      "CSNEE\n",
      "\n",
      "CNEE\n",
      "\n",
      "CNEE\n",
      "\n",
      "##########\n",
      "GAC ( TAIWAN )\n",
      "GAC ( TAIWAN ) LTDGAC GLOBAL TAIWAN 32811 F TAIWAN\n",
      "\n",
      "##########\n",
      "(SZ) RM05/06,10/F,TOWER B,TILEY CENTRAL PLAZA, NO.3 HAIDE ROAD,NANSHAN DISTRICT, SHENZHEN, CHINA . .\n",
      "\n",
      "##########\n",
      "INDIA PVT LTDSAGARTECH PLAZA ANDHERI KURLA ROADUNIT 315 316 3RD FLR SAKINAKABOMBAY (MUMBAI) 400072\n",
      "\n",
      "##########\n",
      "JAPAN INC.16F AKASAKA TWIN TOWER EAST,17-22, AKASAKA 2-CHOME, MINATO-KU, TOKYO, JAPAN. 107-0052\n",
      "\n",
      "##########\n",
      "A.C. FORUM SP.Z O.O UL.KWIATKOWSKIEGO 60 81-127 GDYNIA,POLAND\n",
      "\n",
      "##########\n",
      "NOTIFY PARTY\n",
      "\n",
      "##########\n",
      "CNEE CONTRACT # 224555\n",
      "\n",
      "##########\n",
      "TURK EKONOMI BANKASI ANTAKYA BR.\n",
      "\n",
      "##########\n",
      "ORDER\n",
      "\n",
      "##########\n",
      "BY ART LLC\n",
      "\n",
      "##########\n",
      "INTRANS\n",
      "##########\n",
      "OOO \"LOGICS\"\n",
      "\n",
      "##########\n",
      "REALCO LOGISTICS(SHANGHAI)\n",
      "##########\n",
      "HUNAN DENKAI CO.,LTD\n",
      "\n",
      "##########\n",
      "MAXIMUM COMPANY TEL: +7 (495) 436 02 76, 436 03 15, FAX: +7 (495)436 03 15\n",
      "\n",
      "MAXIMUM COMPANY TEL:+7 (495) 436 02 76, 436 03 15, FAX:+7 (495)43603 15\n",
      "\n",
      "##########\n",
      "OFSEE ATTACHED RIDER\n",
      "\n",
      "##########\n",
      "NYK (CHINA)\n",
      "##########\n",
      "SHIPPER\n",
      "\n",
      "SHIPPER\n",
      "\n",
      "##########\n",
      "STOPOL LLC\n",
      "\n",
      "##########\n",
      "NINGBO HAITIAN INTERNATIONAL CO.,LTD\n",
      "\n",
      "##########\n",
      "LOGICS\n",
      "\n",
      "##########\n",
      "MCT SHIPPING FINLAND OY\n",
      "\n",
      "##########\n",
      "POLLAND Z.O.OUL SZYSKOWA 02-285 WARSAW, POLLAND TEL +48 2750 FAX +4822 2739\n",
      "\n",
      "Z O.O.UL. SZYSZKOWA WARSZAWA, ZIP: 02-285 TEL 0048 2750 ATTN: PIOTR PADUCH--\n",
      "\n",
      "Z O.O.UL.SZYSZKOWA WARSZAWA, POLANDZIP:02-285TEL:0048 2750\n",
      "\n",
      "Z O.O.UL.SZYSZKOWA 02-285, WARSAW, TEL :+48 27 50 FAX :+4822 27 39\n",
      "\n",
      "Z O.O.UL.SZYSZKOWA WARSZAWA, POLANDZIP:02-285TEL:0048 2750@@@\n",
      "\n",
      "Z O.O.UL. SZYSZKOWA WARSZAWA, ZIP: 02-285 TEL 0048 2750 ATTN: PIOTR PADUCH---\n",
      "\n",
      "##########\n",
      "CONSIGNEE C/N#310915\n",
      "\n",
      "##########\n",
      "(CHINA)CO.,LTD\n",
      "\n",
      "##########\n",
      "OTHER\n",
      "\n",
      "##########\n",
      "MAXIMUM TEA COMPANY LIMITED 84/2 VERANDSKOGO PROSPECT MOSCOW 119606 RUSSIA TEL 7095 436 0315 FAX 7095436 0376\n",
      "\n",
      "##########\n",
      "GERMANY GMBH HAMBURG OFFICE KLEINE REICHENSTR.1, D-2045 7HAMBURG,GERMANY\n",
      "\n",
      "GERMANY GMBH HAMBURG OFFICE, KLEINE REICHEN STR. 1,HAMBURG, GERMANY ZIP 20457 EORI: DE6181716\n",
      "\n",
      "##########\n",
      "MPM PRODUT Z O.O.\n",
      "\n",
      "##########\n",
      "YOO JIN ENG.\n",
      "\n",
      "##########\n",
      "LOGICS, ST.PETERSBURG,MIROPHANEVSKOE, SHOSSE 2/1,OFFICE 322, TEL:7(812)4413144\n",
      "\n",
      "##########\n",
      "COSUN LTD.\n",
      "\n",
      "##########\n",
      "TOP YANGJI CO.,LTD\n",
      "\n",
      "##########\n",
      "BY ART LOGISTICS\n",
      "\n",
      "##########\n",
      "AIDER COMPANY\n",
      "##########\n",
      "SP.Z.O.O SZYSZKOWA STR. 02-285 WARSAW PHONE:+48-22-358-27-55\n",
      "\n",
      "##########\n",
      "MADISA CHINA LIMITED\n",
      "\n",
      "##########\n",
      "MAXIMUM COMPANY\n",
      "##########\n",
      "LGCHEM, LTD.\n",
      "\n",
      "##########\n",
      "1.MCT 2.VKASPB@GMAIL.COM\n",
      "\n"
     ]
    }
   ],
   "source": [
    "print_clustering(clusters)"
   ]
  },
  {
   "cell_type": "markdown",
   "id": "dirty-yemen",
   "metadata": {},
   "source": [
    "* ocena klasteryzacji, znalezienie wartości obydwu indeksów"
   ]
  },
  {
   "cell_type": "code",
   "execution_count": 241,
   "id": "eleven-perception",
   "metadata": {},
   "outputs": [
    {
     "name": "stdout",
     "output_type": "stream",
     "text": [
      "\tdavies-bouldin index:  0.9156323697334017\n",
      "\t          dunn index:  0.6998542122237651\n"
     ]
    }
   ],
   "source": [
    "print('\\tdavies-bouldin index: ', davies_bouldin(clusters, euclides))\n",
    "print('\\t          dunn index: ', dunn(clusters, euclides))"
   ]
  },
  {
   "cell_type": "markdown",
   "id": "relevant-evidence",
   "metadata": {},
   "source": [
    "Wyniki są bardzo porównywalne i w tym przypadku nie można powiedzieć, iż zastosowanie stop listy pomogło dokonać skutecznej klasteryzacji."
   ]
  },
  {
   "cell_type": "markdown",
   "id": "compatible-aberdeen",
   "metadata": {},
   "source": [
    "#### porównanie wyników dla różnych metryk"
   ]
  },
  {
   "cell_type": "code",
   "execution_count": 242,
   "id": "paperback-permit",
   "metadata": {},
   "outputs": [],
   "source": [
    "def test(lines, metric):\n",
    "    print(metric.__name__)\n",
    "    labels = cluster(lines, metric)\n",
    "    clusters = get_clusters_from_labels(lines, labels)\n",
    "    \n",
    "    davies_index = davies_bouldin(clusters, metric)\n",
    "    dunn_index = dunn(clusters, metric)\n",
    "    print('\\tdavies-bouldin index: ', davies_index)\n",
    "    print('\\t          dunn index: ', dunn_index)\n",
    "    \n",
    "    return davies_index, dunn_index"
   ]
  },
  {
   "cell_type": "code",
   "execution_count": 243,
   "id": "instrumental-float",
   "metadata": {},
   "outputs": [],
   "source": [
    "def compare_metrics(lines, metrics):\n",
    "    davies_indices = []\n",
    "    dunn_indices = []\n",
    "    \n",
    "    for metric in metrics:\n",
    "        davies, dunn = test(lines, metric)\n",
    "        davies_indices.append(davies)\n",
    "        dunn_indices.append(dunn)\n",
    "        \n",
    "    lines_stop = remove_common(lines, 5)\n",
    "    print('\\n--with stoplist: ')\n",
    "    \n",
    "    for metric in metrics:\n",
    "        davies, dunn = test(lines, metric)\n",
    "        davies_indices.append(davies)\n",
    "        dunn_indices.append(dunn)\n",
    "    \n",
    "    return davies_indices, dunn_indices"
   ]
  },
  {
   "cell_type": "code",
   "execution_count": 244,
   "id": "blessed-silver",
   "metadata": {},
   "outputs": [],
   "source": [
    "metrics = [dice, cosine, euclides, levenshtein, lcs]"
   ]
  },
  {
   "cell_type": "code",
   "execution_count": 245,
   "id": "governmental-reaction",
   "metadata": {},
   "outputs": [
    {
     "name": "stdout",
     "output_type": "stream",
     "text": [
      "dice\n",
      "\tdavies-bouldin index:  0.6329626649136976\n",
      "\t          dunn index:  0.6363636363636364\n",
      "cosine\n",
      "\tdavies-bouldin index:  0.5846553591310301\n",
      "\t          dunn index:  0.33861980647272577\n",
      "euclides\n",
      "\tdavies-bouldin index:  0.6659032845022069\n",
      "\t          dunn index:  0.724202635966055\n",
      "levenshtein\n",
      "\tdavies-bouldin index:  0.6253617912593655\n",
      "\t          dunn index:  0.7445887445887445\n",
      "lcs\n",
      "\tdavies-bouldin index:  0.7416626723388757\n",
      "\t          dunn index:  0.8977272727272726\n",
      "\n",
      "--with stoplist: \n",
      "dice\n",
      "\tdavies-bouldin index:  0.6329626649136976\n",
      "\t          dunn index:  0.6363636363636364\n",
      "cosine\n",
      "\tdavies-bouldin index:  0.5846553591310301\n",
      "\t          dunn index:  0.33861980647272577\n",
      "euclides\n",
      "\tdavies-bouldin index:  0.6659032845022069\n",
      "\t          dunn index:  0.724202635966055\n",
      "levenshtein\n",
      "\tdavies-bouldin index:  0.6253617912593655\n",
      "\t          dunn index:  0.7445887445887445\n",
      "lcs\n",
      "\tdavies-bouldin index:  0.7416626723388757\n",
      "\t          dunn index:  0.8977272727272726\n"
     ]
    }
   ],
   "source": [
    "davies_indices, dunn_indices = compare_metrics(lines, metrics)"
   ]
  },
  {
   "cell_type": "markdown",
   "id": "turkish-resort",
   "metadata": {},
   "source": [
    "* wzorcowa klasteryzacja z pliku"
   ]
  },
  {
   "cell_type": "code",
   "execution_count": 246,
   "id": "italic-leadership",
   "metadata": {},
   "outputs": [
    {
     "name": "stdout",
     "output_type": "stream",
     "text": [
      "##########\n",
      "TO ORDER OF ANTEY LTD\n",
      "\n",
      "ANTEY OOO SOPHISKAYA 52 ST PETERSBURG 192214 RUSSIA ST PETERSBURG RU\n",
      "\n",
      "##########\n",
      "\"Goldens\" LLC\n",
      "\n",
      "##########\n",
      "FORTUM LTD\n",
      "\n",
      "FORTUM LTD ADDRESS: NEPOKORENNYH PR. 11. LIT. \"A\", OFFICE 12N, ST. PETERSBURG, RUSSIA, 195220   TEL:7-8122441705\n",
      "\n",
      "FORTUM LTD NEPOKORENNYH PR. 11,LIT.\"A\", OFFICE 12 N, ST.PETERSBURG, RUSSIA,195220 TEL/FAX: + 7 812 232 1010\n",
      "\n",
      "FORTUM LTD ADDRESS:NEPOKORENNYH PR.11,LIT.\"A \",OFFICE 12N,ST.PETERSBURG, RUSSIA,195220 INN 7804326502,++\n",
      "\n",
      "##########\n",
      "REALCO LOGISTICS LTD. 4TH FLOOR,NO.10,LANE 345,YANGKUANG STREET,NEI HU TAIPEI,TAIWAN R.O.C.114\n",
      "\n",
      "REALCO LOGISTICS LTDVDR 10 YANGKUANG STLANE 345 4F TAIWAN\n",
      "\n",
      "REALCO LOGISTICS(SHANGHAI) LTD\n",
      "\n",
      "##########\n",
      "PANTOS LOGISTICS POLAND SP.    ZO.OUL. SZYSZKOWA 43, 02-285, WARSAW, POLAND  TEL: 0048 22 358 2737  -ATTN: PRZEMEK HOJDA\n",
      "\n",
      "PANTOS LOGISTICS CO.,LTD. O/B OF SSCP CO., LTD.\n",
      "\n",
      "PANTOS LOGISTICS(CHINA) CO.,LTD.\n",
      "\n",
      "PANTOS LOGISTICS CO.,LTD. O/B OF DONG YANG INDUSTRIAL CO., LT D\n",
      "\n",
      "PANTOS LOGISTICS CO.,LTD. O/B OF LGELECTRONICS INC\n",
      "\n",
      "PANTOS LOGISTICS CO.,LTD. O/B OF CANAAN ELECTRONICS CO.,LTD\n",
      "\n",
      "PANTOS LOGISTICS(CHINA) CO.,LTD. SHANGHAI BRANCH ROOM 601,BEA FINANCETOWER, HUA YUAN SHI QIAO ROAD 66,SHANGHAI PRC 200120 TEL:86-21-3856-82\n",
      "\n",
      "PANTOS LOGISTICS VIETNAM CO., LTD ROOM 801, 08TH FLOOR- SAILING TOWER111A PASTEUR ST., DIST.1, HCMC, VIETNAM   TEL: 848 3824 8811  FAX: 848 3824 8800\n",
      "\n",
      "PANTOS LOGISTICS CO.,LTD. O/B OF AVATEC CO., LTD\n",
      "\n",
      "PANTOS LOGISTICS CO.,LTD. O/B OF FINE AL TECH CO.,LTD\n",
      "\n",
      "PANTOS LOGISTICS (CHINA)CO.,LTD SHANGHAI BRANCH  ROOM 1201-1204, GREENLAND INTERNATIONAL COMMERCIAL CENTER,NO 88 GU LOU  STREET,NANJING CHINA,210008-\n",
      "\n",
      "PANTOS LOGISTICS POLAND SP.  ZO.OUL. SZYSZKOWA 43, 02-285, WARSAW,POLAND  TEL: 0048 22 358 2737  - ATTN: PRZEMEK HOJDA\n",
      "\n",
      "PANTOS LOGISTICS (CHINA) CO., LTD.RM 15A1,FLAGSHIP TOWER,NEW WORLD CYBE PORT,NO.40 HONGKONG MIDDLE ROAD,QINGDAO, CHINA\n",
      "\n",
      "PANTOS LOGISTICS (SZ) CO.,LTD. RM05/06,10/F,TOWER B,TILEY CENTRAL PLAZA, NO.3 HAIDE ROAD,NANSHAN DISTRICT, SHENZHEN, CHINA . .\n",
      "\n",
      "PANTOS LOGISTICS INDIA PVT LTDSAGARTECH PLAZA ANDHERI KURLA ROADUNIT 315 316 3RD FLR SAKINAKABOMBAY (MUMBAI) 400072\n",
      "\n",
      "PANTOS LOGISTICS JAPAN INC.16F AKASAKA TWIN TOWER THE EAST,17-22, AKASAKA 2-CHOME, MINATO-KU,  TOKYO, JAPAN. 107-0052\n",
      "\n",
      "PANTOS LOGISTICS CO.,LTD. O/B OF PA R K ELECTRONICS CO.,LTD\n",
      "\n",
      "PANTOS LOGISTICS POLAND SP. ZO.OUL. SZYSZKOWA 43, 02-285, WARSAW, POLAND TEL: 0048 22 358 2737  - ATTN: PRZEMEK HOJDA\n",
      "\n",
      "PANTOS LOGISTICS CO.,LTD. O/B OFSEE THE ATTACHED RIDER\n",
      "\n",
      "PANTOS LOGISTICS POLLAND SP. Z.O.OUL SZYSKOWA 43 02-285 WARSAW, POLLAND TEL : +48 22 358 2750 FAX : +4822 358 2739\n",
      "\n",
      "PANTOS LOGISTICS (CHINA)CO.,LTD\n",
      "\n",
      "PANTOS LOGISTICS POLAND SP. Z O.O.UL. SZYSZKOWA 43 WARSZAWA, POLAND ZIP: 02-285 TEL : 0048 22 358 2750 ATTN: PIOTR PADUCH--\n",
      "\n",
      "PANTOS LOGISTICS GERMANY GMBH HAMBURG OFFICE KLEINE REICHENSTR.1, D-2045 7HAMBURG,GERMANY\n",
      "\n",
      "PANTOS LOGISTICS CO.,LTD. O/B OF YOO JIN ENG.\n",
      "\n",
      "PANTOS LOGISTICS POLAND SP. Z O.O.UL.SZYSZKOWA 43 WARSZAWA, POLANDZIP:02-285TEL:0048 22 358 2750\n",
      "\n",
      "PANTOS LOGISTICS CO.,LTD. O/B OF TOP   YANGJI CO.,LTD\n",
      "\n",
      "PANTOS LOGISTICS POLAND SP. Z O.O.UL.SZYSZKOWA 43 02-285, WARSAW, POLAND TEL :+48 22 358 27 50 FAX :+4822 358 27 39\n",
      "\n",
      "PANTOS LOGISTICS GERMANY GMBH HAMBURG OFFICE, KLEINE REICHEN STR.  1,HAMBURG, GERMANY ZIP 20457 EORI: DE6181716\n",
      "\n",
      "PANTOS LOGISTICS(CHINA) CO.,LTD. SHANGHAI BRANCH  ROOM 601,BEA FINANCETOWER, HUA YUAN SHI QIAO ROAD 66,SHANGHAI PRC 200120 TEL:86-21-3856-8200\n",
      "\n",
      "PANTOS LOGISTICS POLAND SP.Z.O.O SZYSZKOWA 43 STR. 02-285 WARSAW POLAND PHONE:+48-22-358-27-55\n",
      "\n",
      "PANTOS LOGISTICS POLAND SP. Z O.O.UL.SZYSZKOWA 43 WARSZAWA, POLANDZIP:02-285TEL:0048 22 358 2750@@@\n",
      "\n",
      "PANTOS LOGISTICS POLAND SP.Z.O.O UL.SZYSZKOWA 43,02-285,WARSAW POLANDTEL:+0048 22 358 2737 ATTN:PRZEMEKHOJDA\n",
      "\n",
      "PANTOS LOGISTICS POLAND SP.Z.O.O. UL.SZYSZKOWA 43,02-285,WARSAW, POLAND TEL: 0048 22 358 2737 ATTN:PRZEMEK HOJDA\n",
      "\n",
      "PANTOS LOGISTICS POLAND SP. Z O.O.UL. SZYSZKOWA 43 WARSZAWA, POLAND ZIP: 02-285 TEL : 0048 22 358 2750 ATTN: PIOTR PADUCH---\n",
      "\n",
      "PANTOS LOGISTICS CO.,LTD. O/B OF LGCHEM, LTD.\n",
      "\n",
      "##########\n",
      "HAITIAN HUAYUAN (HONG KONG) LIMITEDUNIT 1105, 11/F, METROPLAZA TOWERII 223 HING FONG ROAD, KWAI FONG, N.T. HONG KONG\n",
      "\n",
      "NINGBO HAITIAN INTERNATIONAL CO.,LTD\n",
      "\n",
      "##########\n",
      "SAME AS CONSIGNEE  TEL:48-58-690-00-00  FAX:48-58-690-0001\n",
      "\n",
      "##########\n",
      "TO ORDER OF OOO NOVEX-M\n",
      "\n",
      "TO ORDER OF NOVEX-M\n",
      "\n",
      "##########\n",
      "1 MCT\n",
      "\n",
      "1. MCT\n",
      "\n",
      "MCT SHIPPING FINLAND OY\n",
      "\n",
      "MCT\n",
      "\n",
      "1.MCT\n",
      "\n",
      "1.MCT 2.VKASPB@GMAIL.COM\n",
      "\n",
      "##########\n",
      "GAC ( TAIWAN )  LTD 11-F, NO. 328,CHANG CHUN ROAD, TAIPEI TAIWAN, ROC\n",
      "\n",
      "GAC ( TAIWAN )  LTD\n",
      "\n",
      "GAC ( TAIWAN )  LTDGAC GLOBAL LOGISTICS TAIWAN LTD 32811 F TAIWAN\n",
      "\n",
      "##########\n",
      "LOGICS CO.,LTD 198095,SANKT-PETERSBURG,MITROFANEVS KOE SHOSSE,D.2,KORP.1 BC<<ADMIRAL>>,OFF.322\n",
      "\n",
      "OOO \"LOGICS\"\n",
      "\n",
      "TO ORDER OF LOGICS\n",
      "\n",
      "LOGICS, ST.PETERSBURG,MIROPHANEVSKOE, SHOSSE 2/1,OFFICE 322, TEL:7(812)4413144\n",
      "\n",
      "##########\n",
      "NYK LOGISTICS (VIETNAM) CO., KTD ASAGENT FOR YUSEN LOGISTICS (HONG KONG) LIMITED\n",
      "\n",
      "NYK LOGISTICS (CHINA) CO., LTD\n",
      "\n",
      "##########\n",
      "SAME AS ABOVE\n",
      "\n",
      "SAME AS ABOVE CONSIGNEE\n",
      "\n",
      "##########\n",
      "SAME AS THE CONSIGNEE\n",
      "\n",
      "TO THE ORDER OF : TURK EKONOMI BANKASI ANTAKYA BR.\n",
      "\n",
      "TO THE ORDER\n",
      "\n",
      "THE SAME AS CONSIGNEE\n",
      "\n",
      "TO THE ORDER OF INTRANS LTD\n",
      "\n",
      "TO ORDER OF THE SHIPPER\n",
      "\n",
      "TO THE ORDER OF SHIPPER\n",
      "\n",
      "TO THE OTHER\n",
      "\n",
      "TO THE ORDER OF MPM PRODUT SP. Z O.O.\n",
      "\n",
      "THE SAME AS CNEE\n",
      "\n",
      "##########\n",
      "TO ORDER OF STOPOL LLC 208 W. STATESTREET, TRENTON, NJ, USA\n",
      "\n",
      "STOPOL LLC\n",
      "\n",
      "##########\n",
      "KELLY.INTERNATIONAL, CORP.\n",
      "\n",
      "##########\n",
      "NMC LOGISTICS INTL CO LTD (TAI)NMC LOGISTICS INTL CO LTD (TAI) 49915F-2 TAIWAN\n",
      "\n",
      "##########\n",
      "OOO \"FORUM\" INN/7838459860 Gorohovaya ul.,19, lit.B RU 190000 St.Petersburg\n",
      "\n",
      "A.C. FORUM SP.Z O.O UL.KWIATKOWSKIEGO 60 81-127 GDYNIA,POLAND\n",
      "\n",
      "FORUM LTD\n",
      "\n",
      "##########\n",
      "SAME AS  CNEE\n",
      "\n",
      "SAME AS CNEE CONTRACT # 224555\n",
      "\n",
      "SAME AS CNEE\n",
      "\n",
      "##########\n",
      "TO ORDER OF NOTIFY PARTY\n",
      "\n",
      "##########\n",
      "BY ORDER OF ART LOGISTICS LLC\n",
      "\n",
      "BY ORDER OF ART LOGISTICS\n",
      "\n",
      "##########\n",
      "HUNAN DENKAI CO.,LTD\n",
      "\n",
      "##########\n",
      "MAXIMUM COMPANY LTD TEL: +7 (495) 436 02 76, 436 03 15, FAX: +7 (495)436 03 15\n",
      "\n",
      "MAXIMUM TEA COMPANY LIMITED 84/2 VERANDSKOGO PROSPECT MOSCOW 119606 RUSSIA TEL : 7095 436 0315 FAX : 7095436 0376\n",
      "\n",
      "MAXIMUM COMPANY LTD TEL:+7 (495) 436 02 76, 436 03 15, FAX:+7 (495)43603 15\n",
      "\n",
      "MAXIMUM COMPANY LTD\n",
      "\n",
      "##########\n",
      "SAME AS CSNEE\n",
      "\n",
      "##########\n",
      "SAME AS CONSIGNEE  C/N#310915\n",
      "\n",
      "##########\n",
      "COSUN LOGISTICS CO., LTD.\n",
      "\n",
      "##########\n",
      "AIDER COMPANY LTD\n",
      "\n",
      "##########\n",
      "MADISA CHINA LIMITED\n",
      "\n",
      "\tdavies-bouldin index:  1.3385855085592249\n",
      "\t          dunn index:  0.2729041686589598\n"
     ]
    }
   ],
   "source": [
    "correct_clusters = get_clusters_from_labels(lines, correct_labels)\n",
    "print_clustering(correct_clusters)\n",
    "davies_index = davies_bouldin(correct_clusters, cosine)\n",
    "dunn_index = dunn(correct_clusters, cosine)\n",
    "\n",
    "print('\\tdavies-bouldin index: ', davies_index)\n",
    "print('\\t          dunn index: ', dunn_index)\n",
    "correct_indices = [davies_index, dunn_index]"
   ]
  },
  {
   "cell_type": "markdown",
   "id": "harmful-prefix",
   "metadata": {},
   "source": [
    "* wykres"
   ]
  },
  {
   "cell_type": "code",
   "execution_count": 247,
   "id": "united-voice",
   "metadata": {},
   "outputs": [],
   "source": [
    "def plot_comparison(metrics, davies_indices, dunn_indices):\n",
    "    fig, ax = plt.subplots(2, 2, figsize=(15,8))\n",
    "    \n",
    "    metric_names = list(map(lambda x: x.__name__, metrics))\n",
    "    \n",
    "    ax[0][0].bar(metric_names, davies_indices[:len(metrics)], color='coral')\n",
    "    ax[0][1].bar(metric_names, dunn_indices[:len(metrics)], color='darkblue')\n",
    "    \n",
    "    ax[0][0].set_title('davies-bouldin')\n",
    "    ax[0][1].set_title('dunn')\n",
    "    \n",
    "    ax[1][0].bar(metric_names, davies_indices[len(metrics):], color='coral')\n",
    "    ax[1][1].bar(metric_names, dunn_indices[:len(metrics):], color='darkblue')\n",
    "    \n",
    "    ax[1][0].set_title('davies-bouldin with stoplist')\n",
    "    ax[1][1].set_title('dunn with stoplist')\n",
    "    \n",
    "    plt.show()"
   ]
  },
  {
   "cell_type": "code",
   "execution_count": 248,
   "id": "quality-theorem",
   "metadata": {},
   "outputs": [
    {
     "data": {
      "image/png": "[encoded data removed]",
      "text/plain": [
       "<Figure size 1080x576 with 4 Axes>"
      ]
     },
     "metadata": {
      "needs_background": "light"
     },
     "output_type": "display_data"
    }
   ],
   "source": [
    "plot_comparison(metrics, davies_indices, dunn_indices)"
   ]
  },
  {
   "cell_type": "markdown",
   "id": "green-darkness",
   "metadata": {},
   "source": [
    "Im większy indeks dunna, tym lepiej, natomiast w przypadku indeksu Daviesa-Bouldina zależność jest odwrotna."
   ]
  },
  {
   "cell_type": "markdown",
   "id": "accredited-clause",
   "metadata": {},
   "source": [
    "<i>Czy masz jakiś pomysł na poprawę jakości klasteryzacji w tym zadaniu? </i>"
   ]
  },
  {
   "cell_type": "markdown",
   "id": "adequate-feeding",
   "metadata": {},
   "source": [
    "* Przeprowadzenie preprocessing linijek. Usunięcię niepotrzebnych białych znaków, cudzysłowów, kropek itd.\n",
    "* Lepsze dobranie parametrów modelu."
   ]
  },
  {
   "cell_type": "markdown",
   "id": "liked-concert",
   "metadata": {},
   "source": [
    "## Wnioski"
   ]
  },
  {
   "cell_type": "markdown",
   "id": "formed-hurricane",
   "metadata": {},
   "source": [
    "- Skuteczność klasyfikacji zależy od doboru metryki, jak również dobranych do niej parametrów.\n",
    "\n",
    "- Skuteczność klasteryzacji można zwiększyć stosując stoplistę najczęściej występujących elementów, jednak nie w każdym przypadku ma to sens, zależy to od rodzaju danych z jakimi mamy do czynienia"
   ]
  },
  {
   "cell_type": "markdown",
   "id": "explicit-anime",
   "metadata": {},
   "source": [
    "M. Hawryluk 20.05.2021"
   ]
  }
 ],
 "metadata": {
  "kernelspec": {
   "display_name": "Python 3",
   "language": "python",
   "name": "python3"
  },
  "language_info": {
   "codemirror_mode": {
    "name": "ipython",
    "version": 3
   },
   "file_extension": ".py",
   "mimetype": "text/x-python",
   "name": "python",
   "nbconvert_exporter": "python",
   "pygments_lexer": "ipython3",
   "version": "3.8.6"
  }
 },
 "nbformat": 4,
 "nbformat_minor": 5
}
