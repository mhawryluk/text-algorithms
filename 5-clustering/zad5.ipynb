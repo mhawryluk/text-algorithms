{
 "cells": [
  {
   "cell_type": "markdown",
   "id": "productive-integral",
   "metadata": {},
   "source": [
    "# Zadanie nr 5 - Metryki w przestrzeni napisów"
   ]
  },
  {
   "cell_type": "code",
   "execution_count": 1,
   "id": "front-directory",
   "metadata": {},
   "outputs": [],
   "source": [
    "import sklearn.cluster\n",
    "import numpy as np\n",
    "import matplotlib.pyplot as plt\n",
    "from math import inf\n",
    "from collections import Counter"
   ]
  },
  {
   "cell_type": "markdown",
   "id": "choice-morocco",
   "metadata": {},
   "source": [
    "## 1. Metryki"
   ]
  },
  {
   "cell_type": "markdown",
   "id": "hired-internet",
   "metadata": {},
   "source": [
    "<i>Zaimplementuj przynajmniej 3 metryki spośród wymienionych: cosinusowa, LCS, DICE, euklidesowa.</i>"
   ]
  },
  {
   "cell_type": "markdown",
   "id": "eleven-harvard",
   "metadata": {},
   "source": [
    "x, y - napisy/listy, których odległość szukamy. oznaczenie odpowiada temu w slajdach z laboratorium"
   ]
  },
  {
   "cell_type": "markdown",
   "id": "talented-musician",
   "metadata": {},
   "source": [
    "* LCS"
   ]
  },
  {
   "cell_type": "code",
   "execution_count": 2,
   "id": "quality-elements",
   "metadata": {},
   "outputs": [],
   "source": [
    "def lcs(x, y):\n",
    "    common = [[0 for _ in range(len(y)+1)] for _ in range(len(x)+1)]\n",
    "    max_lcs = 0\n",
    "\n",
    "    for i in range(1, len(x) + 1):\n",
    "        for j in range(1, len(y)+1):\n",
    "            common[i][j] = common[i-1][j-1] + 1 if x[i-1] == y[j-1] else 0\n",
    "            max_lcs = max(max_lcs, common[i][j])\n",
    "\n",
    "    return 1 - max_lcs/max(len(x), len(y))"
   ]
  },
  {
   "cell_type": "markdown",
   "id": "taken-penny",
   "metadata": {},
   "source": [
    "#### ngramy"
   ]
  },
  {
   "cell_type": "code",
   "execution_count": 3,
   "id": "separate-accused",
   "metadata": {},
   "outputs": [],
   "source": [
    "def ngrams(x, n):\n",
    "    ngrams = [x[i:i+n] for i in range(len(x)-n+1)]\n",
    "    return Counter(ngrams)"
   ]
  },
  {
   "cell_type": "markdown",
   "id": "coastal-detector",
   "metadata": {},
   "source": [
    "* Sorensena-Dice'a"
   ]
  },
  {
   "cell_type": "code",
   "execution_count": 4,
   "id": "august-producer",
   "metadata": {},
   "outputs": [],
   "source": [
    "def dice(x, y, n=2):\n",
    "    n = min([n, len(x), len(y)])\n",
    "    ngrams_x, ngrams_y = set(ngrams(x, n).keys()), set(ngrams(y, n).keys())\n",
    "    return 1 - 2*len(ngrams_x & ngrams_y)/(len(ngrams_x)+len(ngrams_y))"
   ]
  },
  {
   "cell_type": "markdown",
   "id": "private-oklahoma",
   "metadata": {},
   "source": [
    "* euklidesowa"
   ]
  },
  {
   "cell_type": "code",
   "execution_count": 5,
   "id": "naughty-feature",
   "metadata": {},
   "outputs": [],
   "source": [
    "def euclides(x, y, n=2):\n",
    "    n = min([n, len(x), len(y)])\n",
    "    ngrams_x, ngrams_y = ngrams(x, n), ngrams(y, n)\n",
    "\n",
    "    keys = set(ngrams_x.keys()) | set(ngrams_y.keys())\n",
    "    dist = sum((ngrams_x.get(key, 0) - ngrams_y.get(key, 0))**2 for key in keys) \n",
    "    len_x = sum(count**2 for key, count in ngrams_x.items())\n",
    "    len_y = sum(count**2 for key, count in ngrams_y.items())\n",
    "\n",
    "    return (dist/(len_x + len_y))**0.5"
   ]
  },
  {
   "cell_type": "markdown",
   "id": "durable-increase",
   "metadata": {},
   "source": [
    "* cosinusowa"
   ]
  },
  {
   "cell_type": "code",
   "execution_count": 6,
   "id": "artificial-wireless",
   "metadata": {},
   "outputs": [],
   "source": [
    "def cosine(x, y, n=2):\n",
    "    n = min([n, len(x), len(y)])\n",
    "    ngrams_x, ngrams_y = ngrams(x, n), ngrams(y, n)\n",
    "    dot = lambda n_x, n_y: sum(n_x[key]*n_y[key] for key in n_x.keys() & n_y.keys())\n",
    "    return 1 - dot(ngrams_x, ngrams_y)/(dot(ngrams_x, ngrams_x)\n",
    "                                        *dot(ngrams_y, ngrams_y))**0.5"
   ]
  },
  {
   "cell_type": "markdown",
   "id": "crucial-circuit",
   "metadata": {},
   "source": [
    "* Levenshteina"
   ]
  },
  {
   "cell_type": "code",
   "execution_count": 7,
   "id": "pointed-witness",
   "metadata": {},
   "outputs": [],
   "source": [
    "def levenshtein(x, y):\n",
    "    edit = [[max(i, j) for i in range(len(y) + 1)]\n",
    "            for j in range(len(x) + 1)]\n",
    "\n",
    "    def delta(char_a, char_b): \n",
    "        return 0 if char_a == char_b else 1\n",
    "    \n",
    "    for i in range(1, len(x)+1):\n",
    "        for j in range(1, len(y)+1):\n",
    "            edit[i][j] = min(edit[i-1][j] + 1, edit[i][j-1] + 1,\n",
    "                       edit[i-1][j-1] + delta(x[i-1], y[j-1]))\n",
    "\n",
    "    return edit[len(x)][len(y)]/max(len(x), len(y))"
   ]
  },
  {
   "cell_type": "markdown",
   "id": "pleasant-contrast",
   "metadata": {},
   "source": [
    "#### test metryk"
   ]
  },
  {
   "cell_type": "markdown",
   "id": "daily-grenada",
   "metadata": {},
   "source": [
    "Poniżej znajduję wartości poszczególnych metryk w trzech przypadkach dobranych tekstów. \n",
    "\n",
    "Wartości dla poszczególnych metryk często różnią się między sobą, jednak funkcje zostały zaimplementowane w taki sposób, aby wartości te były mniej więcej porównywalne. Dlatego w przypadku metryki Levenshteina odległośc edycyjną dzielę przez maksymalną długość obydwu tekstów, natomiast odległość euklidesową znormalizowałem przez pierwiastek sumy długości wektorów otrzymanych z liczby wystąpień poszczególnych ngramów. Dzięki temu dla każdej z metryk spełniony jest fakt, iż przyjmuje ona wartość 0 dla tożsamych napisów oraz wartość 1 dla zupełnie różniących się (w rozumieniu danej metryki)."
   ]
  },
  {
   "cell_type": "markdown",
   "id": "selected-transsexual",
   "metadata": {},
   "source": [
    "* podobne napisy"
   ]
  },
  {
   "cell_type": "code",
   "execution_count": 8,
   "id": "ranging-mississippi",
   "metadata": {},
   "outputs": [
    {
     "name": "stdout",
     "output_type": "stream",
     "text": [
      "lcs:  0.5\n",
      "dice:  0.5\n",
      "euclides:  0.7071067811865476\n",
      "cosine:  0.4836022205056778\n",
      "levenshtein:  0.3333333333333333\n"
     ]
    }
   ],
   "source": [
    "x = 'BCDF'\n",
    "y = 'ABCDEF'\n",
    "\n",
    "print('lcs: ', lcs(x, y))\n",
    "print('dice: ', dice(x, y))\n",
    "print('euclides: ', euclides(x, y))\n",
    "print('cosine: ', cosine(x, y))\n",
    "print('levenshtein: ', levenshtein(x, y))"
   ]
  },
  {
   "cell_type": "markdown",
   "id": "available-boundary",
   "metadata": {},
   "source": [
    "* napisy zupełnie różne"
   ]
  },
  {
   "cell_type": "code",
   "execution_count": 9,
   "id": "driving-alcohol",
   "metadata": {},
   "outputs": [
    {
     "name": "stdout",
     "output_type": "stream",
     "text": [
      "lcs:  1.0\n",
      "dice:  1.0\n",
      "euclides:  1.0\n",
      "cosine:  1.0\n",
      "levenshtein:  1.0\n"
     ]
    }
   ],
   "source": [
    "x = 'BCDF'\n",
    "y = 'A'\n",
    "\n",
    "print('lcs: ', lcs(x, y))\n",
    "print('dice: ', dice(x, y))\n",
    "print('euclides: ', euclides(x, y))\n",
    "print('cosine: ', cosine(x, y))\n",
    "print('levenshtein: ', levenshtein(x, y))"
   ]
  },
  {
   "cell_type": "markdown",
   "id": "durable-madagascar",
   "metadata": {},
   "source": [
    "* napisy tożsame"
   ]
  },
  {
   "cell_type": "code",
   "execution_count": 10,
   "id": "ready-pitch",
   "metadata": {},
   "outputs": [
    {
     "name": "stdout",
     "output_type": "stream",
     "text": [
      "lcs:  0.0\n",
      "dice:  0.0\n",
      "euclides:  0.0\n",
      "cosine:  0.0\n",
      "levenshtein:  0.0\n"
     ]
    }
   ],
   "source": [
    "x = 'BCDF'\n",
    "y = 'BCDF'\n",
    "\n",
    "print('lcs: ', lcs(x, y))\n",
    "print('dice: ', dice(x, y))\n",
    "print('euclides: ', euclides(x, y))\n",
    "print('cosine: ', cosine(x, y))\n",
    "print('levenshtein: ', levenshtein(x, y))"
   ]
  },
  {
   "cell_type": "markdown",
   "id": "explicit-soldier",
   "metadata": {},
   "source": [
    "## 2. Sposoby oceny jakości klasteryzacji"
   ]
  },
  {
   "cell_type": "markdown",
   "id": "postal-spare",
   "metadata": {},
   "source": [
    "<i>Zaimplementuj przynajmniej 2 sposoby oceny jakości klasteryzacji (np. indeks Daviesa-Bouldina).</i>"
   ]
  },
  {
   "cell_type": "markdown",
   "id": "descending-agency",
   "metadata": {},
   "source": [
    "* indeks Daviesa-Bouldina"
   ]
  },
  {
   "cell_type": "code",
   "execution_count": 11,
   "id": "facial-field",
   "metadata": {},
   "outputs": [],
   "source": [
    "def average_distance_in_cluster(cluster, metric):\n",
    "    sum_ = 0\n",
    "    n = len(cluster)\n",
    "    if n == 1: return 0\n",
    "    \n",
    "    for i, text_i in enumerate(cluster):\n",
    "        for text_j in cluster[i+1:]:\n",
    "                sum_ += metric(text_i, text_j)\n",
    "                \n",
    "    return sum_ /(n*(n-1)/2)\n",
    "\n",
    "def cluster_distance(cluster_a, cluster_b, metric):\n",
    "    sum_ = 0\n",
    "    \n",
    "    return sum(metric(text_a, text_b) \n",
    "               for text_a in cluster_a \n",
    "               for text_b in cluster_b)/(len(cluster_a)\n",
    "                                         *len(cluster_b))"
   ]
  },
  {
   "cell_type": "code",
   "execution_count": 12,
   "id": "discrete-reynolds",
   "metadata": {},
   "outputs": [],
   "source": [
    "def davies_bouldin(clusters, metric):\n",
    "    index = 0\n",
    "    sigmas = [average_distance_in_cluster(cluster, metric) for cluster in clusters]\n",
    "    \n",
    "    for i, cluster_i in enumerate(clusters):\n",
    "        max_ = 0\n",
    "        for j, cluster_j in enumerate(clusters):\n",
    "            if i == j: continue\n",
    "            max_ = max(max_, (sigmas[i] + sigmas[j])/cluster_distance(cluster_i, cluster_j, metric))\n",
    "        index += max_\n",
    "        \n",
    "    return index/len(clusters)        "
   ]
  },
  {
   "cell_type": "markdown",
   "id": "played-tradition",
   "metadata": {},
   "source": [
    "* indeks Dunna"
   ]
  },
  {
   "cell_type": "code",
   "execution_count": 13,
   "id": "absent-wisdom",
   "metadata": {},
   "outputs": [],
   "source": [
    "def cluster_size(cluster, metric):\n",
    "    if len(cluster) == 1: return 0\n",
    "    return max(metric(text_i, text_j) for i, text_i in enumerate(cluster) for text_j in cluster[i+1:])"
   ]
  },
  {
   "cell_type": "code",
   "execution_count": 14,
   "id": "medical-import",
   "metadata": {},
   "outputs": [],
   "source": [
    "def dunn(clusters, metric):\n",
    "    min_dist = min(cluster_distance(cluster_a, cluster_b, metric)\n",
    "                   for i, cluster_a in enumerate(clusters)\n",
    "                   for cluster_b in clusters[i+1:])\n",
    "    max_size = max(cluster_size(cluster, metric)\n",
    "                    for cluster in clusters)\n",
    "    \n",
    "    if max_size == 0: \n",
    "        return inf\n",
    "    \n",
    "    return min_dist/max_size"
   ]
  },
  {
   "cell_type": "markdown",
   "id": "sensitive-somerset",
   "metadata": {},
   "source": [
    "#### test indeksów"
   ]
  },
  {
   "cell_type": "markdown",
   "id": "referenced-denver",
   "metadata": {},
   "source": [
    "* odległe klastry"
   ]
  },
  {
   "cell_type": "code",
   "execution_count": 15,
   "id": "cathedral-protest",
   "metadata": {},
   "outputs": [],
   "source": [
    "clusters = [[\"AB\", \"CD\"], [\"xy\", \"wt\"]]"
   ]
  },
  {
   "cell_type": "code",
   "execution_count": 16,
   "id": "entitled-memory",
   "metadata": {},
   "outputs": [
    {
     "name": "stdout",
     "output_type": "stream",
     "text": [
      "\tdavies-bouldin index:  2.0\n",
      "\t          dunn index:  1.0\n"
     ]
    }
   ],
   "source": [
    "print('\\tdavies-bouldin index: ', davies_bouldin(clusters, cosine))\n",
    "print('\\t          dunn index: ', dunn(clusters, cosine))"
   ]
  },
  {
   "cell_type": "markdown",
   "id": "therapeutic-administrator",
   "metadata": {},
   "source": [
    "* bliskie klastry"
   ]
  },
  {
   "cell_type": "code",
   "execution_count": 17,
   "id": "former-basement",
   "metadata": {},
   "outputs": [],
   "source": [
    "clusters = [[\"AB\", \"CD\"], [\"ABc\", \"CDe\"]]"
   ]
  },
  {
   "cell_type": "code",
   "execution_count": 18,
   "id": "reported-uzbekistan",
   "metadata": {},
   "outputs": [
    {
     "name": "stdout",
     "output_type": "stream",
     "text": [
      "\tdavies-bouldin index:  3.0938363213560542\n",
      "\t          dunn index:  0.6464466094067263\n"
     ]
    }
   ],
   "source": [
    "print('\\tdavies-bouldin index: ', davies_bouldin(clusters, cosine))\n",
    "print('\\t          dunn index: ', dunn(clusters, cosine))"
   ]
  },
  {
   "cell_type": "markdown",
   "id": "secondary-beach",
   "metadata": {},
   "source": [
    "* odległe elementy w klastrze"
   ]
  },
  {
   "cell_type": "code",
   "execution_count": 19,
   "id": "designing-eugene",
   "metadata": {},
   "outputs": [],
   "source": [
    "clusters = [[\"ABC\", \"XYZ\"], [\"abc\", \"xyz\"]]"
   ]
  },
  {
   "cell_type": "code",
   "execution_count": 20,
   "id": "basic-albania",
   "metadata": {},
   "outputs": [
    {
     "name": "stdout",
     "output_type": "stream",
     "text": [
      "\tdavies-bouldin index:  2.0\n",
      "\t          dunn index:  1.0\n"
     ]
    }
   ],
   "source": [
    "print('\\tdavies-bouldin index: ', davies_bouldin(clusters, cosine))\n",
    "print('\\t          dunn index: ', dunn(clusters, cosine))"
   ]
  },
  {
   "cell_type": "markdown",
   "id": "adverse-apache",
   "metadata": {},
   "source": [
    "* bliskie elementy w klastrze"
   ]
  },
  {
   "cell_type": "code",
   "execution_count": 21,
   "id": "worst-carter",
   "metadata": {},
   "outputs": [],
   "source": [
    "clusters = [[\"ABCE\", \"ABCD\"], [\"abce\", \"abce\"]]"
   ]
  },
  {
   "cell_type": "code",
   "execution_count": 22,
   "id": "white-review",
   "metadata": {},
   "outputs": [
    {
     "name": "stdout",
     "output_type": "stream",
     "text": [
      "\tdavies-bouldin index:  0.33333333333333337\n",
      "\t          dunn index:  2.9999999999999996\n"
     ]
    }
   ],
   "source": [
    "print('\\tdavies-bouldin index: ', davies_bouldin(clusters, cosine))\n",
    "print('\\t          dunn index: ', dunn(clusters, cosine))"
   ]
  },
  {
   "cell_type": "markdown",
   "id": "chubby-decision",
   "metadata": {},
   "source": [
    "Z powyższych testów możemy zauważyć, iż im większa wartość indeksu Dunna tym lepsza jakość klasteryzacji, natomiast w przypadku indeksu Daviesa-Bouldina lepsza jest mniejsza wartość.\n",
    "\n",
    "Klasteryzacja jest uznawana za lepszą, gdy elementy w poszczególnych klastrach są blisko siebie, a klastry daleko od siebie nawzajem."
   ]
  },
  {
   "cell_type": "markdown",
   "id": "listed-daughter",
   "metadata": {},
   "source": [
    "## 3. Stoplista"
   ]
  },
  {
   "cell_type": "markdown",
   "id": "soviet-blowing",
   "metadata": {},
   "source": [
    "<i> Stwórz stoplistę najczęściej występujących słów. </i>"
   ]
  },
  {
   "cell_type": "markdown",
   "id": "wrong-somalia",
   "metadata": {},
   "source": [
    "Stoplistę tworzę dzieląc linijki na słowa, a następnie znajdując najczęściej powtarzające się słowa we wszystkich linijkach."
   ]
  },
  {
   "cell_type": "code",
   "execution_count": 23,
   "id": "meaningful-escape",
   "metadata": {},
   "outputs": [],
   "source": [
    "def get_stop_words(lines, min_count):\n",
    "    word_count = Counter(word for line in lines for word in line.replace('.', ' ').split(' '))\n",
    "    word_count = list(word_count.items())\n",
    "    word_count.sort(key=lambda x: x[1], reverse=True)\n",
    "    return [word for word, count in word_count if count >= min_count]"
   ]
  },
  {
   "cell_type": "code",
   "execution_count": 24,
   "id": "contemporary-colon",
   "metadata": {},
   "outputs": [],
   "source": [
    "def remove_common(lines, min_count):\n",
    "    stop_list = get_stop_words(lines, min_count)\n",
    "    return [' '.join([word for word in line.split(' ') if word not in stop_list]) for line in lines], stop_list"
   ]
  },
  {
   "cell_type": "markdown",
   "id": "dental-secretary",
   "metadata": {},
   "source": [
    "## 4. Klasteryzacja"
   ]
  },
  {
   "cell_type": "markdown",
   "id": "accepted-adapter",
   "metadata": {},
   "source": [
    "<i> Wykonaj klasteryzację zawartości załączonego pliku (lines.txt) przy użyciu metryk zaimplementowanych w pkt. 1. i metryki Levenshteina. Każda linia to adres pocztowy firmy, różne sposoby zapisu tego samego adresu powinny się znaleźć w jednym klastrze. </i>"
   ]
  },
  {
   "cell_type": "markdown",
   "id": "systematic-leisure",
   "metadata": {},
   "source": [
    "Do klasteryzacji używam funkcji DBSCAN z biblioteki sklearn.cluster."
   ]
  },
  {
   "cell_type": "code",
   "execution_count": 25,
   "id": "younger-climb",
   "metadata": {},
   "outputs": [],
   "source": [
    "def cluster(lines, metric, eps=0.86):\n",
    "    distances = [[metric(line_a, line_b) for line_a in lines] for line_b in lines]\n",
    "    clustering = sklearn.cluster.DBSCAN(eps=eps, min_samples=1).fit(distances)\n",
    "    return clustering.labels_"
   ]
  },
  {
   "cell_type": "markdown",
   "id": "otherwise-mills",
   "metadata": {},
   "source": [
    "## 5. Testy"
   ]
  },
  {
   "cell_type": "markdown",
   "id": "applied-night",
   "metadata": {},
   "source": [
    "<i> Porównaj jakość wyników sposobami zaimplementowanymi w pkt. 2. </i>"
   ]
  },
  {
   "cell_type": "markdown",
   "id": "ordered-flooring",
   "metadata": {},
   "source": [
    "#### odczytanie danych testowych"
   ]
  },
  {
   "cell_type": "markdown",
   "id": "controlled-fence",
   "metadata": {},
   "source": [
    "Z uwagi na duży czas działania programu, korzystam tylko ze 100 linijek. Dzięki temu najwolniejsze metody (lcs, levenshtein) nie działają dłużej niż parę minut."
   ]
  },
  {
   "cell_type": "code",
   "execution_count": 26,
   "id": "horizontal-marshall",
   "metadata": {},
   "outputs": [],
   "source": [
    "def get_example_lines(num):\n",
    "    with open('lines.txt', 'r') as file:\n",
    "        lines = list(file)\n",
    "        \n",
    "    lines = lines[:num]\n",
    "\n",
    "    with open('clusters.txt', 'r') as file:\n",
    "        clusters = list(file)\n",
    "    \n",
    "    correct_clustering = []\n",
    "    cluster_num = 0\n",
    "    \n",
    "    for line in lines:\n",
    "        cluster = 0\n",
    "        for cluster_line in clusters:\n",
    "            if cluster_line[0] == '#':\n",
    "                cluster += 1\n",
    "            elif cluster_line == line:\n",
    "                correct_clustering.append(cluster)\n",
    "                break\n",
    "    \n",
    "    return lines, np.array(correct_clustering)"
   ]
  },
  {
   "cell_type": "code",
   "execution_count": 27,
   "id": "advised-recruitment",
   "metadata": {},
   "outputs": [],
   "source": [
    "lines, correct_labels = get_example_lines(100)"
   ]
  },
  {
   "cell_type": "markdown",
   "id": "similar-capital",
   "metadata": {},
   "source": [
    "#### testy krok po kroku"
   ]
  },
  {
   "cell_type": "markdown",
   "id": "increasing-annex",
   "metadata": {},
   "source": [
    "* klasteryzacja - znalezienie listy z indeksami klastrów poszczególnych linii danych:"
   ]
  },
  {
   "cell_type": "code",
   "execution_count": 28,
   "id": "wound-annex",
   "metadata": {},
   "outputs": [],
   "source": [
    "labels = cluster(lines, cosine)"
   ]
  },
  {
   "cell_type": "code",
   "execution_count": 29,
   "id": "quality-clinton",
   "metadata": {
    "scrolled": true
   },
   "outputs": [
    {
     "name": "stdout",
     "output_type": "stream",
     "text": [
      "[ 0  1  2  2  3  4  5  6  7  8  9 10 11 11 11 11 11 11 11 12 12 13 14 15\n",
      " 16 17 18 19 19 20 21 22 23 23 24 25 26 27 17 28 29 30 31 32 33 34 35 36\n",
      " 37 37 17 38 38 38 39 40 39 40 41 41 41 41 41 41 11 11 11 42 42 42 43 44\n",
      " 45 46 47 48 49 50 51 15 52 52 17 53 53 54 17 55  2 17 56 57 17 58 59 58\n",
      " 60 60 60 60]\n"
     ]
    }
   ],
   "source": [
    "print(labels)"
   ]
  },
  {
   "cell_type": "markdown",
   "id": "acceptable-serve",
   "metadata": {},
   "source": [
    "Dla porównania wypisuję poprawne przyporządkowanie linijek na podstawie załączonego pliku (wartości mogą się różnić, ważna jest równość etykiet poszczególnych elementów)."
   ]
  },
  {
   "cell_type": "code",
   "execution_count": 30,
   "id": "hundred-portsmouth",
   "metadata": {},
   "outputs": [],
   "source": [
    "def renumber_labels(labels):\n",
    "    seen = {}\n",
    "    current = 0\n",
    "    new_labels = []\n",
    "    for label in labels:\n",
    "        if label in seen:\n",
    "            new_labels.append(seen[label])\n",
    "        else:\n",
    "            new_labels.append(current)\n",
    "            seen[label] = current\n",
    "            current += 1\n",
    "    \n",
    "    return np.array(new_labels)"
   ]
  },
  {
   "cell_type": "code",
   "execution_count": 31,
   "id": "negative-completion",
   "metadata": {},
   "outputs": [
    {
     "name": "stdout",
     "output_type": "stream",
     "text": [
      "[ 0  1  2  2  3  4  5  6  7  8  9 10 11 11 11 11 11 11 11 12 12 13 14 14\n",
      " 15 16 17 18 18 19 20 21 22 22 23 24 25 26 27 28 29 29 30 31 32 33 34 35\n",
      " 36 36 37 38 38 38 39 39 39 39 40 40 40 40 40 40 41 41 41 42 42 42 43 44\n",
      " 45 46 47 48 49 50 51 52 53 54 55 56 56 57 58 59  2 60 61 62 63 64 63 64\n",
      " 65 65 65 65]\n"
     ]
    }
   ],
   "source": [
    "print(renumber_labels(correct_labels))"
   ]
  },
  {
   "cell_type": "markdown",
   "id": "talented-pipeline",
   "metadata": {},
   "source": [
    "* podzielenie linijek na klastry na podstawie etykiet"
   ]
  },
  {
   "cell_type": "code",
   "execution_count": 32,
   "id": "occupied-nebraska",
   "metadata": {},
   "outputs": [],
   "source": [
    "def get_clusters_from_labels(lines, labels):\n",
    "    clusters = {}\n",
    "    for i, label in enumerate(labels):\n",
    "        clusters[label] = clusters.get(label, []) + [lines[i]]\n",
    "        \n",
    "    return list(clusters.values())"
   ]
  },
  {
   "cell_type": "code",
   "execution_count": 33,
   "id": "anonymous-mention",
   "metadata": {},
   "outputs": [],
   "source": [
    "clusters = get_clusters_from_labels(lines, labels)"
   ]
  },
  {
   "cell_type": "code",
   "execution_count": 34,
   "id": "canadian-advance",
   "metadata": {},
   "outputs": [],
   "source": [
    "def print_clustering(clusters):\n",
    "    for cluster in clusters:\n",
    "        print('##########')\n",
    "        for line in cluster:\n",
    "            print(line)"
   ]
  },
  {
   "cell_type": "code",
   "execution_count": 35,
   "id": "nonprofit-examination",
   "metadata": {},
   "outputs": [
    {
     "name": "stdout",
     "output_type": "stream",
     "text": [
      "##########\n",
      "/11692589 RD TUNA CANNERS, LTD. PORTION 1004, SIAR NORTH COAST ROAD, P.O.BOX 2113, MADANG, PAPUA NEW GUINEA\n",
      "\n",
      "##########\n",
      "''PA INTERIOR'' LTD BOLSHAYA LUBYANKA STREET, 16/4 MOSCOW, 101000, RUSSIA INN/KPP 7704550148//770801001 495-984-8611\n",
      "\n",
      "##########\n",
      "''SSONTEX''  Sp.ZO.O.IMPORT-EXPORTUL:PRZECLAWSKA 5 03-879 WARSZAWA,POLAND NIP 113-01-17-669\n",
      "\n",
      "''SSONTEX''SP.ZO.O.IMPORT-EXPORT UL:PRZECLAWSKA 5 03-879 WARSZAWA,POLAND NIP 113-01-17-669 TEL./FAX.:0048(022)217 6532--\n",
      "\n",
      "\"SSONTEX\" SP.ZO.O IMPORT-EXPORT 03-879 WARSZAWA UL PRZECLAWSKA 5 NIP:113-01-17-669\n",
      "\n",
      "##########\n",
      "''TOPEX SP. Z O.O.'' SPOLKA KOMANDYTOWA UL. POGRANICZNA 2/4  02-285 WARSZAWA POLAND\n",
      "\n",
      "##########\n",
      "'MASTER PLUS CO.,LTD.' 143000,RUSSIA,MO,ODINSOVO, MOJAISKOE, SHOSSE,153G TEL:+7495 7273939\n",
      "\n",
      "##########\n",
      "\"2TIGERS GROUP LIMITED\"  ROOM 504 JINSHAZHOU SHANGSHUI ROAD,  GUANGZHOU 510160\n",
      "\n",
      "##########\n",
      "\"ALDETRANS\" LLC, 105066, MOSCOW, RUSSIA, TOKMAKOV LANE, 11. TEL:+7(495)641-03-89\n",
      "\n",
      "##########\n",
      "\"A-LIFT\",JSC 1 PROSPEKT MARSHALA ZHUKOVA,MOSCOW 123308,RUSSIA  T: +7(495)784-7961\n",
      "\n",
      "##########\n",
      "\"ALISA\" LTD, 1/5 Derbenevskaya str., Moscow, Russia Tel./Fax: (495) 987-13-07 postal code: 115114\n",
      "\n",
      "##########\n",
      "\"ALLIANCE-TRADE\" LLC INN: 7816391055 / KPP: 784601001 190020, Saint Petersburg, quay of the Obvodny channel, 138, bulk 1, liter.B\n",
      "\n",
      "##########\n",
      "\"ALTAIR\" LIMITED COMPANY 199004,SAINT-PETERSBURG, 1 LINE,H.20 LIT A,OF.8-H\n",
      "\n",
      "##########\n",
      "\"ARIVIST\", 198035,RUSSIA,SAINT-PETERSBURG, GAPSALSKAYA STR.,5,OFFICE 1-3; TEL:+78123277732,FAX:+781 23277729.VOLOKNO@YAHOO.COM\n",
      "\n",
      "\"ARIVIST\", 198035,RUSSIA,SAINT-PETERSBURG, GAPSALSKAYA STR.,5,OFFICE 1-3; TEL.:+78123277732,FAX+ 78123277729.\n",
      "\n",
      "\"ARIVIST\", 198035,RUSSIA,SAINT-PETERSBURG,  GAPSALSKAYA STR.,5,OFFICE1-3; TEL.:+78123277732,FAX+ 78123277729.\n",
      "\n",
      "\"ARIVIST\", 198035,RUSSIA,SAINT-PETERSBURG,  GAPSALSKAYA STR.,5,OFFICE1-3; TEL.:+78123277732,FAX + 78123277729.\n",
      "\n",
      "\"ARIVIST\", 198035, RUSSIA,  SAINT-PETERSBURG,  GAPSALSKAYA STR.,5,OFFICE1-3;  TEL.+78123277732, FAX  +78123277729.\n",
      "\n",
      "\"ARIVIST\", 198035, RUSSIA, SAINT-PETERSBURG, GAPSALSKAYA STR.,5, OFFICE1-3; TEL.+78123277732, FAX +78123277729. VOLOKNO@YAHOO.COM\n",
      "\n",
      "\"ARIVIST\", 198035, RUSSIA, SAINT-PETERSBURG. GAPSALSKAYA STR.,5. OFFICE1-3; TEL.+78123277732, FAX+78123277729. VOLOKNO@YAHOO.COM\n",
      "\n",
      "\"NFC\" LTD GAPSALSKAYA STR., 5 198035 ST. PETERSBURG, RUSSIA TEL: +7 812 327 77 41  FAX: +7 812 327 77 29\n",
      "\n",
      "\"NFC\"LTD GAPSALSKAYA STR., 5 198035ST.PETERSBURG,RUSSIA TEL.+78123277741 FAX +78123277729\n",
      "\n",
      "\"NFC\" LTD GAPSALSKAYA STR., 5 198035 ST.PETERSBURG, RUSSIA TEL. +7 812327 77 41 FAX +7 812 327 77 29\n",
      "\n",
      "##########\n",
      "\"AVANPORT\"  LLC INN: 7839413675 KPP: 783901001 190020, SAINT PETERSBURG, QUAY OF THE OBVODNY CHANNEL, 134-136-138, BUILD. 101, LIT. A\"\n",
      "\n",
      "\"AVANPORT\"  LLC INN: 7839413675 KPP: 783901001 190020, SAINT PETERSBURG, QUAY OF  THE OBVODNY CHANNEL,134-136-138,  BUILD. 101, LIT. A\"\n",
      "\n",
      "##########\n",
      "\"AVENTA\"LTD. ADDRESS:129 110,MOSCOW,PROSPEKT MIRA,H.52,STR.3,POM,III Tel: 8-968-808-80-11\n",
      "\n",
      "##########\n",
      "\"AVSON-GROUP\" COMPANY LIMITED 190008, ST. PETERSBURG,  RIMSKOGO-KORSAKOVA,  73/33, LIT. A-1\n",
      "\n",
      "##########\n",
      "\"Avson-group\" Company Limited  190008, St. Petersburg, Rimskogo-Korsakova, 73/33, lit. A-1\n",
      "\n",
      "\"Rimal\" LTD \"Grazdansky prospect, 22.  St. Petersburg, 195220,  Russian Federation\"\n",
      "\n",
      "##########\n",
      "\"BIO plus LTD\" INN 7805166210 198303, S-Petersburg, Leninskiy Pr.,110/1, lit B, app.53-H, RUSSIA\n",
      "\n",
      "##########\n",
      "\"CARGOIMPORT\" LTD VNUKOVSKAYA STREET, BUILDING 2, R.43-H-1, SAINT-PETERSBURG, RUSSIA .\n",
      "\n",
      "\"FMG SHIPPING AND FORWARDING, LTD.\"190020 ST.PETERSBURG, RUSSIA BUMAZHNAYA STR., 18, OFF. 310\n",
      "\n",
      "\"KONTUR\" LLC STR. SHPALERNAYA 51, LIT. A, APP. 2-N 191015 ST. PETERSBURG, RUSSIA INN 7842437789\n",
      "\n",
      "\"SERVICE-EXPRESS\" LTD 197110, RUSSIA, SAINT-PETERSBURG, GLUHAYA ZELENINA STREET,H.4, LIT B,OFFICE 19-H\n",
      "\n",
      "\"SILMET\" COMPANY LIMITED 196084, RUSSIA, ST.PETERSBURG, ZAOZERNAYA STR., 4. LETTER A, 9H. TEL /FAX: 7 812334 35 74\n",
      "\n",
      "\"STEP TRADE\" LLC KUBINSKAYA ST., 38, BUILDING A, ROOM 4-H,ST.PETERSBURG, 196247, RUSSIAN FEDERATION\n",
      "\n",
      "\"SUNTIRE\" CO. LTD, M. BALKANSKAYA STREET, 58, LIT.A 192289, ST.-PETERSBURG, RUSSIA\n",
      "\n",
      "##########\n",
      "\"COLOS\"COMPLEX LOGISTICS,SOLUTIONSPIOTR KACZMAREK I PAWEL WILK SP.J.ZACHODNIA STREET NO 3 55-011 SIECHNICE POLAND\n",
      "\n",
      "##########\n",
      "\"ELECTROGROUP\" (OOO),190068.RUSSIA,SAINT-PETERSBURG,UL.BOLSHAYA PODYACHESKAYA,5,LIT.A,POM.4-N\n",
      "\n",
      "\"ELECTROGROUP\" (OOO),190068.RUSSIA,SAINT-PETERSBURG,UL.BOLSHAYA  PODYACHESKAYA,5,LIT.A,POM.4-N\n",
      "\n",
      "##########\n",
      "\"ELEKTROAPPARAT\" PLC   24th LiniyaV.O.,St.Petersburg. Sup.office No.1of Kirovsky RUSSIA TEL: 0079-219646264\n",
      "\n",
      "##########\n",
      "\"ENS\" LTD ADDRESS: STAROPETROVSKIYPASSAGE, BLD 7A,  CONSTRUCTION 3 125130, MOSCOW, RUSSIA TEL: (499) 130-7336\n",
      "\n",
      "##########\n",
      "\"EVROTRANSIT\" LLC 105005, RUSSIAN FEDERATION, MOSCOW, BAUMANSKAYA STR., 33/2, BLD.1 E-MAIL:EVROTRANZIT-LOGL@INBOX.RU TEL:8-495-665-34-68\n",
      "\n",
      "##########\n",
      "\"EXPRESS CO. LTD.\" RUSSIA 155101 IVANOVSKAYA REGION, LEZHNEVSKIY RAION, D. KOROVIHA, CENTRALNAYA STR. 4ARUSSIA\n",
      "\n",
      "\"EXPRESS CO. LTD.\"  RUSSIA 155101 IVANOVSKAYA REGION, LEZHNEVSKIY RAION, D. KOROVIHA, CENTRALNAYA STR. 4ARUSSIA\n",
      "\n",
      "##########\n",
      "\"FILITA\" LTD, UKRAINE, 83004, DONETSK, ARTEMA STR. 193G    TEL/FAX:+380563705563\n",
      "\n",
      "##########\n",
      "\"FILLOGISTIK\" PP ZHOVKIVSKA 22 STREET 79019 LVOV,UKRAINE TEL:+380322458030 FAX:+380322458030\n",
      "\n",
      "##########\n",
      "\"FINANS AKTIV\",LTD. 111250,RUSSIA,MOSCOW, KRASNOKAZARMENNAYA STR.11+7495 665 6001\n",
      "\n",
      "##########\n",
      "\"FMG SHIPPING AND FORWARDING, LTD.\"190020, SAINT PETERSBURG,LIFLYANDSKAYA STR., 6,LITERA \"A\",BUILDING 31H,OFFICE 310 POST CODE:190020 TEL:+7 812 448 82 83 FAX:+7 812 448 04 9\n",
      "\n",
      "##########\n",
      "\"FORWARD EXPEDITION LIMITED HKG\" SUCCES COMM.BLDG.,6B,251, HENNESSY ROAD, HONGKONG ARRIVAL@FORWARD-HKG.COM\n",
      "\n",
      "##########\n",
      "\"FRUITIMPEX\" LLC 121170, Moscow, Russia, Kulneva st, 3 bld. 1 INN 7737514219 KPP773001001\n",
      "\n",
      "##########\n",
      "\"FRUITIMPEX\" LLC TEL. (495) 926-74-49\n",
      "\n",
      "##########\n",
      "\"FT-LINE\"LLC RUSSIA 115230,MOSCOW,ELECTROLYTNIY PROEZD,3G/2 TEL:+79851607522\n",
      "\n",
      "##########\n",
      "\"GARANTTRANS SERVICE\" MOSCOW,RUSSIAUl.GILYAROVSKOGO,57.OFFICE 514 TEL:(495) 748 02 87 FAX:(495) 684 12 01\n",
      "\n",
      "##########\n",
      "\"Goldens\" LLC\n",
      "\n",
      "##########\n",
      "\"INTERLINK LTD SP ZOO UI.  POMORSKA50A 81-314 GDYNIA BIELSKA@INTERLINK.BIZ.PL SIEJKOWSKA@INTERLINK.BIZ.PL...+++\n",
      "\n",
      "##########\n",
      "\"INTERTRANS\" CO LTD. ST.PETERSBURG,198035,RUSSIA GAPSALSKAIA STREET,OFFICE 502, TEL 3242144, FAX:3242145\n",
      "\n",
      "##########\n",
      "\"KM\" LTD 197183 RUSSIA,ST. PETERSBURG,SABIROVSKAYA STR.,50,OFF,115 OLEG TEREKHOV ZIP CODE:197183 PHONE:7911239-3109  FAX:7911239-3109\n",
      "\n",
      "##########\n",
      "\"KOBI-LIGHT\" SPOLKA KOMANDYTOWA UL.T.BOYA ZELENSKIEGO 25 35-105 RZESZOW,POLAND NIP:813-34-99-669\n",
      "\n",
      "\"KOBI-LIGHT\" SPOLKA KOMANDYTOWA UL.T.BOYA ZELENSKIEGO 25 35-105 RZESZOW,POLAND NIP:813-34-99-699\n",
      "\n",
      "##########\n",
      "\"LIGA-IMPORT\" LTD DOROGA NA TURUHTANNIE OSTROVA, D.24, KORP.5, SAINT-PETERSBURG, 198096, RUSSIA\n",
      "\n",
      "\"LIGA-IMPORT\" LTD DOROGA NA TURUHTANNIE OSTROVA, D.24, KORP.5, SAINT-PETERSBURG, 198096, RUSSIA TEL/FAX:+7 (911) 812 89 88\n",
      "\n",
      "\"LIGA-IMPORT\" LTD DOROGA NA TURUHTANNIE OSTROVA, D. 24, KORP. 5, SAINT-PETERSBURG, 198096, RUSSIA TEL/FAX:+7 (911) 812 89 88\n",
      "\n",
      "##########\n",
      "\"LTC SOLUTION OY\" FINLAND, HAMINA 49420, PILARITIE 2 ON BEHALF \"AETZ REKORD\" CO., LTD 2, GAGARINA STR., ALEXANDROV,--\n",
      "\n",
      "\"LTC SOLUTION OY\" FINLAND, HAMINA 49420, SYVASATAMANTIE 18 ON BEHALF \"AETZ REKORD\" CO., LTD--\n",
      "\n",
      "##########\n",
      "\"LTC SOLUTION OY\" FINLAND, HAMINA 49420, PILARITIE 2 TEL. +358 (0) 522-66-130 FAX: +358 (0) 522-66-120\n",
      "\n",
      "\"LTC SOLUTION OY\" FINLAND, HAMINA 49420, SYVASATAMANTIE 18 TEL. +358 (0) 522-66-130 FAX: +358 (0) 522-66-120\n",
      "\n",
      "##########\n",
      "\"MEAT TRADE COMPANY \"ST.PETERSBURG\"LTD.  191015 SAINT-PETERSBURG, SHPALERNAYA STREET, 51 RUSSIAN FEDERATION\n",
      "\n",
      "\"MEAT TRADE COMPANY \"ST.PETERSBURG\"LTD. 191015 SAINT-PETERSBURG,  SHPALERNAYA STREET, 51 RUSSIAN FEDERATION TEL +7 (812) 329-42-62 PYLAEVATATIANA\n",
      "\n",
      "\"MEAT TRADE COMPANY \"ST.PETERSBURG\"LTD 191015 SAINT-PETERSBURG, SHPALERNAYA STREET, 51 RUSSIAN FEDERATION\n",
      "\n",
      "\"MEAT TRADE COMPANY \"ST.PETERSBURG\"LTD 191015 SAINT-PETERSBURG, SHPALERNAYA STREET, 51 RUSSIAN FEDERATION INN 7842339206\n",
      "\n",
      "\"MEAT TRADE COMPANY \"ST.PETERSBURG\"LTD 191015 SAINT-PETERSBURG, SHPALERNAYA STREET, 51 RUSSIAN FEDERATION TEL +7 (812) 329-42-62 PASHKEVICHANNA\n",
      "\n",
      "\"MEAT TRADE COMPANY \"ST.PETERSBURG\"LTD 191015 SAINT-PETERSBURG, SHPALERNAYA STREET, 51 RUSSIAN FEDERATION TEL +7 (812) 329-42-62 PYLAEVA TATIANA\n",
      "\n",
      "##########\n",
      "\"OCEAN WORLD\" LLC 198099 RUSSIA, ST.PETERSBURG KALININ STREET, 57, LIT.A, OF.307 LEDENEVA ELENA. TEL./FAX.+7-812-336-65-88\n",
      "\n",
      "\"OCEAN WORLD\" LLC KALININ STREET, 57, LIT. A, OFFICE 307, ST. PETERSBURG, RUSSIA, 198099 LEDENEVA ELENA.TEL./FAX.+7-812-336-65-88\n",
      "\n",
      "\"OCEAN WORLD\" LLC LIT A, OF 307, 57KALININ STREET ST PETERSBURG 198099, RUSSIA MERKOVA MARIYA TEL/FAX: +7-812-336-65-88\n",
      "\n",
      "##########\n",
      "\"OMEGA TOYS GRUP\"CO.,LTD. AVTOZAVODSKAY STR.23,STRUCTURE 8 MOSCOW,RUSSIAN FEDERATION,P.O.X:115280 TEL/FAX:+7-495-674-60-62 TITARENKO ALEXANDR E-mail serinity-toys@mail.ru INN\n",
      "\n",
      "##########\n",
      "\"OOO\" BALTIYSKIY EKSPEDITOR\" EUGENIY KOMRAKOV (812) 676-16-03\"\n",
      "\n",
      "##########\n",
      "\"OOO\" TECHNOLINE\" 191123,ST.-PETERSBURG,UL. FURSCHTATSKAYA 48,LITER A\"\n",
      "\n",
      "##########\n",
      "\"OTL\" LLC KOROTIN@OTLSPB.RU TEL: +7(812) 326-42-52 VIP 13171-1 ST.PETERSBURG\n",
      "\n",
      "##########\n",
      "\"OY VAER LOG LTD\"  Y-TUNNUS:2066533-3  Adres: Merituulentie, 424  48310, Kotka  TEL: +358 5 21 21 33  Fax: +358 5 21 21 30  Vanhala Olga  Ershova Ekaterina\n",
      "\n",
      "##########\n",
      "\"PARTNER\" LTD INN/KPP 7801080258/780101001 POM/1-N, HOUSE 1-2, 1-LINE;V. 0. , ST. PETERSBURG, 199053, RUSSIA TEL. : +7 812 600 20 22 FAX: +7 812 600 20 33\n",
      "\n",
      "##########\n",
      "\"PETERSBURG CHEMICAL COMPANY\" COMPANY LIMITED(<<PCC>>CO.,LTD.) 197374,RUSSIAN FEDERATION,SAINT PETERSBURG,TORFYANAYA ROAD, 7,LIT.F OFFICE 925.\n",
      "\n",
      "##########\n",
      "\"PO\"SVET \"LTD PODREZOVA STR.,16,LIT.A,ROOM 5-H 197136 SAINT-PETERSBURG,RUSSIA. ITN 7813445827 TEL:+7-812-716-21-76\n",
      "\n",
      "##########\n",
      "\"PRANT\" LLC 603159 RUSSIA, NIZHNY NOVGOROD AKIMOVA-STR. 41, SUITE 63 INN 5257120394 KPP 525701001 TEL/FAX. +7 (831) 423-45-33\n",
      "\n",
      "##########\n",
      "\"SAME AS CONSIGNEE\"\n",
      "\n",
      "\"SAME AS CONSIGNEE\"  AS AGENT OF BLUE ANCHOR LINE\n",
      "\n",
      "##########\n",
      "\"SEVROLL-SYSTEM\" SP.Z O.O. PLAC CZERWCA 1976 ROKU NR 1B  02-495 WARSZAWA URSUS  TEL: (022) 312-31-39\n",
      "\n",
      "\"SEVROLL-SYSTEM\" SP.Z O.O. PLAC CZERWCA 1976 ROKU NR 1B  02-495 WARSZAWA URSUS   TEL: (022) 312-31-39\n",
      "\n",
      "##########\n",
      "\"SHIP-MASTER DELTA\"LLC RIGSKY PR.,19,SAINT-PETERSBURG, 190103,RUSSIA TEL:+7(812)251-81-11; +7(812)575-33-38;+7(812)251-73-03 FAX: +7 (812) 575-33-40\n",
      "\n",
      "##########\n",
      "\"Spike Rus\" Limited Liability Company, The Yakovlevskyi per., H.8 a of. 5-n, 196105 S.Petersburg, Russia.TEL: 007-812-476-15-62 FAX: 007-812-476-15-62\n",
      "\n",
      "##########\n",
      "\"STEVECO OY\" STEVECO LOGISTICS MERITUULENTIE 424 48310 KOTKA, FONLANDPIC: ANNE LEPPANEN\n",
      "\n",
      "##########\n",
      "\"STUDIO MODERNA\" UL. PERERVA 54 109369 MOSCOW RUSSIA\n",
      "\n",
      "##########\n",
      "\"SUNTIRE\" CO. LTD. TEL.: + 7 (812)458 54 38 E-MAIL: CLIENT@S-LOGISTIC.RU\n",
      "\n",
      "\"SUNTIRE\"CO.LTD TEL:+7(812)458 54 38 E-MAIL:CLIENT@S-LOGISTIC.RU\n",
      "\n",
      "##########\n",
      "\"SUNTIRE\"CO.LTD M.BALKANSKAYA STREET,58,LIT.A 192289,ST.PETERSBURG,RUSSIA\n",
      "\n",
      "##########\n",
      "\"TC \"\"UNOTRANS\"\" LTD\" \"190020 ST.PETERSBURG,\" \"BUMAZHNAYA STR.9, K.1,OFFICE 305\" \"TEL/FAX: +7 812 445 2843\"\n",
      "\n",
      "\"TC\"UNOTRANS\"LTD 190020 ST.PETERSBURG,BUMAZHNAYA STR.9,K.1,OFF.305 TEL/FAX:+7 812 445 28 43\n",
      "\n",
      "\"TC\"UNOTRANS\"LTD 190020 ST.PETERSBURG, BUMAZHNAYA STR.9,K.1,OFF.305 TEL/FAX:+7 812 445 28 43\n",
      "\n",
      "\"TC \"UNOTRANS\" LTD 190020 ST.PETERSBURG, BUMAZHNAYA STR.9, K.1, OFF. 305 TEL/FAX: +7 812 445 28 43\n",
      "\n"
     ]
    }
   ],
   "source": [
    "print_clustering(clusters)"
   ]
  },
  {
   "cell_type": "markdown",
   "id": "dynamic-census",
   "metadata": {},
   "source": [
    "* ocena klasteryzacji, znalezienie wartości obydwu indeksów"
   ]
  },
  {
   "cell_type": "markdown",
   "id": "selective-prior",
   "metadata": {},
   "source": [
    "dla znalezionych klastrów:"
   ]
  },
  {
   "cell_type": "code",
   "execution_count": 36,
   "id": "alternate-ordinance",
   "metadata": {},
   "outputs": [
    {
     "name": "stdout",
     "output_type": "stream",
     "text": [
      "\tdavies-bouldin index:  0.7477794160582196\n",
      "\t          dunn index:  0.7400810281179782\n"
     ]
    }
   ],
   "source": [
    "print('\\tdavies-bouldin index: ', davies_bouldin(clusters, cosine))\n",
    "print('\\t          dunn index: ', dunn(clusters, cosine))"
   ]
  },
  {
   "cell_type": "markdown",
   "id": "weird-barrier",
   "metadata": {},
   "source": [
    "dla poprawnych klastrów:"
   ]
  },
  {
   "cell_type": "code",
   "execution_count": 37,
   "id": "unauthorized-sunday",
   "metadata": {},
   "outputs": [
    {
     "name": "stdout",
     "output_type": "stream",
     "text": [
      "\tdavies-bouldin index:  0.9600618831700587\n",
      "\t          dunn index:  0.4148461875933154\n"
     ]
    }
   ],
   "source": [
    "correct_clusters = get_clusters_from_labels(lines, correct_labels)\n",
    "print('\\tdavies-bouldin index: ', davies_bouldin(correct_clusters, cosine))\n",
    "print('\\t          dunn index: ', dunn(correct_clusters, cosine))"
   ]
  },
  {
   "cell_type": "markdown",
   "id": "front-bikini",
   "metadata": {},
   "source": [
    "Poprawna klasteryzacja ma gorsze wartości indeksów niż uzyskana. Może to oznaczać, iż użyta metryka nie najlepiej opisuje podobieństwo powiązanych linijek."
   ]
  },
  {
   "cell_type": "markdown",
   "id": "satisfactory-ability",
   "metadata": {},
   "source": [
    "#### wersja z zastosowaniem stoplisty "
   ]
  },
  {
   "cell_type": "markdown",
   "id": "split-cemetery",
   "metadata": {},
   "source": [
    "* usunięcie słów ze stoplisty"
   ]
  },
  {
   "cell_type": "code",
   "execution_count": 38,
   "id": "varied-territory",
   "metadata": {},
   "outputs": [
    {
     "name": "stdout",
     "output_type": "stream",
     "text": [
      "removed words:  ['', 'STR', 'LTD', 'TEL', 'ST', 'RUSSIA', ',', 'LLC', 'SAINT-PETERSBURG,', 'PETERSBURG,', '812', '+7', 'O', 'STREET,', 'COMPANY', 'LIT', 'GAPSALSKAYA', 'RUSSIA,', '5', 'CO', 'TEL:', 'RUSSIAN', '\"ARIVIST\",', 'SHPALERNAYA', '191015', 'SP', '\\n', 'A,', '+358', 'FAX:', '\"MEAT', 'TRADE', '\"ST', 'PETERSBURG\"LTD', '51', 'UL', 'OF', 'INN', 'D', 'OY\"', '(812)']\n"
     ]
    }
   ],
   "source": [
    "lines_stop, common_words = remove_common(lines, 5)\n",
    "print('removed words: ', common_words)"
   ]
  },
  {
   "cell_type": "code",
   "execution_count": 39,
   "id": "urban-upgrade",
   "metadata": {},
   "outputs": [],
   "source": [
    "def show_differences(lines, lines_stop):\n",
    "    for line, line_stop in zip(lines, lines_stop):\n",
    "        if line != line_stop:\n",
    "            print(line)\n",
    "            print(line_stop, '\\n')"
   ]
  },
  {
   "cell_type": "markdown",
   "id": "alpha-software",
   "metadata": {},
   "source": [
    "* klasteryzacja"
   ]
  },
  {
   "cell_type": "code",
   "execution_count": 40,
   "id": "commercial-cloud",
   "metadata": {},
   "outputs": [],
   "source": [
    "labels = cluster(lines_stop, cosine)"
   ]
  },
  {
   "cell_type": "code",
   "execution_count": 41,
   "id": "taken-number",
   "metadata": {},
   "outputs": [
    {
     "name": "stdout",
     "output_type": "stream",
     "text": [
      "[ 0  1  2  2  3  4  5  6  7  8  9 10 11 11 11 11 11 11 11 12 12 13 14 15\n",
      " 16 17 18 19 19 20 21 22 23 23 24 25 26 27 27 28 29 30 31 32 33 34 35 36\n",
      " 37 37 38 39 39 39 40 41 40 41 42 42 42 42 42 42 43 11 44 45 45 45 46 47\n",
      " 48 49 50 51 52 53 54 55 56 56 57 58 58 59 60 61  2 62 63 64 65 66 67 66\n",
      " 68 68 68 68]\n"
     ]
    }
   ],
   "source": [
    "print(labels)"
   ]
  },
  {
   "cell_type": "markdown",
   "id": "taken-miller",
   "metadata": {},
   "source": [
    "* podzielenie linijek na klastry w postaci zbiorów"
   ]
  },
  {
   "cell_type": "code",
   "execution_count": 42,
   "id": "willing-sodium",
   "metadata": {},
   "outputs": [],
   "source": [
    "clusters = get_clusters_from_labels(lines_stop, labels)"
   ]
  },
  {
   "cell_type": "code",
   "execution_count": 43,
   "id": "chief-visiting",
   "metadata": {},
   "outputs": [],
   "source": [
    "def get_clusters_from_labels(lines, labels):\n",
    "    clusters = {}\n",
    "    for i, label in enumerate(labels):\n",
    "        clusters[label] = clusters.get(label, []) + [lines[i]]\n",
    "        \n",
    "    return list(clusters.values())"
   ]
  },
  {
   "cell_type": "code",
   "execution_count": 44,
   "id": "modified-shift",
   "metadata": {},
   "outputs": [
    {
     "name": "stdout",
     "output_type": "stream",
     "text": [
      "##########\n",
      "/11692589 RD TUNA CANNERS, LTD. PORTION 1004, SIAR NORTH COAST ROAD, P.O.BOX 2113, MADANG, PAPUA NEW GUINEA\n",
      "\n",
      "##########\n",
      "''PA INTERIOR'' BOLSHAYA LUBYANKA 16/4 MOSCOW, 101000, INN/KPP 7704550148//770801001 495-984-8611\n",
      "\n",
      "##########\n",
      "''SSONTEX'' Sp.ZO.O.IMPORT-EXPORTUL:PRZECLAWSKA 03-879 WARSZAWA,POLAND NIP 113-01-17-669\n",
      "\n",
      "''SSONTEX''SP.ZO.O.IMPORT-EXPORT UL:PRZECLAWSKA 03-879 WARSZAWA,POLAND NIP 113-01-17-669 TEL./FAX.:0048(022)217 6532--\n",
      "\n",
      "\"SSONTEX\" SP.ZO.O IMPORT-EXPORT 03-879 WARSZAWA PRZECLAWSKA NIP:113-01-17-669\n",
      "\n",
      "##########\n",
      "''TOPEX SP. Z O.O.'' SPOLKA KOMANDYTOWA UL. POGRANICZNA 2/4 02-285 WARSZAWA POLAND\n",
      "\n",
      "##########\n",
      "'MASTER PLUS CO.,LTD.' 143000,RUSSIA,MO,ODINSOVO, MOJAISKOE, SHOSSE,153G TEL:+7495 7273939\n",
      "\n",
      "##########\n",
      "\"2TIGERS GROUP LIMITED\" ROOM 504 JINSHAZHOU SHANGSHUI ROAD, GUANGZHOU 510160\n",
      "\n",
      "##########\n",
      "\"ALDETRANS\" LLC, 105066, MOSCOW, TOKMAKOV LANE, 11. TEL:+7(495)641-03-89\n",
      "\n",
      "##########\n",
      "\"A-LIFT\",JSC 1 PROSPEKT MARSHALA ZHUKOVA,MOSCOW 123308,RUSSIA T: +7(495)784-7961\n",
      "\n",
      "##########\n",
      "\"ALISA\" LTD, 1/5 Derbenevskaya str., Moscow, Russia Tel./Fax: (495) 987-13-07 postal code: 115114\n",
      "\n",
      "##########\n",
      "\"ALLIANCE-TRADE\" INN: 7816391055 / KPP: 784601001 190020, Saint Petersburg, quay of the Obvodny channel, 138, bulk 1, liter.B\n",
      "\n",
      "##########\n",
      "\"ALTAIR\" LIMITED 199004,SAINT-PETERSBURG, 1 LINE,H.20 A,OF.8-H\n",
      "\n",
      "##########\n",
      "198035,RUSSIA,SAINT-PETERSBURG, STR.,5,OFFICE 1-3; TEL:+78123277732,FAX:+781 23277729.VOLOKNO@YAHOO.COM\n",
      "\n",
      "198035,RUSSIA,SAINT-PETERSBURG, STR.,5,OFFICE 1-3; TEL.:+78123277732,FAX+ 78123277729.\n",
      "\n",
      "198035,RUSSIA,SAINT-PETERSBURG, STR.,5,OFFICE1-3; TEL.:+78123277732,FAX+ 78123277729.\n",
      "\n",
      "198035,RUSSIA,SAINT-PETERSBURG, STR.,5,OFFICE1-3; TEL.:+78123277732,FAX + 78123277729.\n",
      "\n",
      "198035, STR.,5,OFFICE1-3; TEL.+78123277732, FAX +78123277729.\n",
      "\n",
      "198035, STR.,5, OFFICE1-3; TEL.+78123277732, FAX +78123277729. VOLOKNO@YAHOO.COM\n",
      "\n",
      "198035, SAINT-PETERSBURG. STR.,5. OFFICE1-3; TEL.+78123277732, FAX+78123277729. VOLOKNO@YAHOO.COM\n",
      "\n",
      "\"NFC\"LTD STR., 198035ST.PETERSBURG,RUSSIA TEL.+78123277741 FAX +78123277729\n",
      "\n",
      "##########\n",
      "\"AVANPORT\" INN: 7839413675 KPP: 783901001 190020, SAINT QUAY THE OBVODNY CHANNEL, 134-136-138, BUILD. 101, LIT. A\"\n",
      "\n",
      "\"AVANPORT\" INN: 7839413675 KPP: 783901001 190020, SAINT QUAY THE OBVODNY CHANNEL,134-136-138, BUILD. 101, LIT. A\"\n",
      "\n",
      "##########\n",
      "\"AVENTA\"LTD. ADDRESS:129 110,MOSCOW,PROSPEKT MIRA,H.52,STR.3,POM,III Tel: 8-968-808-80-11\n",
      "\n",
      "##########\n",
      "\"AVSON-GROUP\" LIMITED 190008, ST. RIMSKOGO-KORSAKOVA, 73/33, LIT. A-1\n",
      "\n",
      "##########\n",
      "\"Avson-group\" Company Limited 190008, St. Petersburg, Rimskogo-Korsakova, 73/33, lit. A-1\n",
      "\n",
      "##########\n",
      "\"BIO plus LTD\" 7805166210 198303, S-Petersburg, Leninskiy Pr.,110/1, lit B, app.53-H, RUSSIA\n",
      "\n",
      "##########\n",
      "\"CARGOIMPORT\" VNUKOVSKAYA BUILDING 2, R.43-H-1, .\n",
      "\n",
      "##########\n",
      "\"COLOS\"COMPLEX LOGISTICS,SOLUTIONSPIOTR KACZMAREK I PAWEL WILK SP.J.ZACHODNIA STREET NO 3 55-011 SIECHNICE POLAND\n",
      "\n",
      "##########\n",
      "\"ELECTROGROUP\" (OOO),190068.RUSSIA,SAINT-PETERSBURG,UL.BOLSHAYA PODYACHESKAYA,5,LIT.A,POM.4-N\n",
      "\n",
      "\"ELECTROGROUP\" (OOO),190068.RUSSIA,SAINT-PETERSBURG,UL.BOLSHAYA PODYACHESKAYA,5,LIT.A,POM.4-N\n",
      "\n",
      "##########\n",
      "\"ELEKTROAPPARAT\" PLC 24th LiniyaV.O.,St.Petersburg. Sup.office No.1of Kirovsky 0079-219646264\n",
      "\n",
      "##########\n",
      "\"ENS\" ADDRESS: STAROPETROVSKIYPASSAGE, BLD 7A, CONSTRUCTION 3 125130, MOSCOW, (499) 130-7336\n",
      "\n",
      "##########\n",
      "\"EVROTRANSIT\" 105005, FEDERATION, MOSCOW, BAUMANSKAYA STR., 33/2, BLD.1 E-MAIL:EVROTRANZIT-LOGL@INBOX.RU TEL:8-495-665-34-68\n",
      "\n",
      "##########\n",
      "\"EXPRESS CO. LTD.\" 155101 IVANOVSKAYA REGION, LEZHNEVSKIY RAION, D. KOROVIHA, CENTRALNAYA STR. 4ARUSSIA\n",
      "\n",
      "\"EXPRESS CO. LTD.\" 155101 IVANOVSKAYA REGION, LEZHNEVSKIY RAION, D. KOROVIHA, CENTRALNAYA STR. 4ARUSSIA\n",
      "\n",
      "##########\n",
      "\"FILITA\" LTD, UKRAINE, 83004, DONETSK, ARTEMA STR. 193G TEL/FAX:+380563705563\n",
      "\n",
      "##########\n",
      "\"FILLOGISTIK\" PP ZHOVKIVSKA 22 STREET 79019 LVOV,UKRAINE TEL:+380322458030 FAX:+380322458030\n",
      "\n",
      "##########\n",
      "\"FINANS AKTIV\",LTD. 111250,RUSSIA,MOSCOW, KRASNOKAZARMENNAYA STR.11+7495 665 6001\n",
      "\n",
      "##########\n",
      "\"FMG SHIPPING AND FORWARDING, LTD.\"190020, SAINT PETERSBURG,LIFLYANDSKAYA STR., 6,LITERA \"A\",BUILDING 31H,OFFICE 310 POST CODE:190020 TEL:+7 448 82 83 FAX:+7 448 04 9\n",
      "\n",
      "\"FMG SHIPPING AND FORWARDING, LTD.\"190020 ST.PETERSBURG, BUMAZHNAYA STR., 18, OFF. 310\n",
      "\n",
      "##########\n",
      "\"FORWARD EXPEDITION LIMITED HKG\" SUCCES COMM.BLDG.,6B,251, HENNESSY ROAD, HONGKONG ARRIVAL@FORWARD-HKG.COM\n",
      "\n",
      "##########\n",
      "\"FRUITIMPEX\" 121170, Moscow, Russia, Kulneva st, 3 bld. 1 7737514219 KPP773001001\n",
      "\n",
      "##########\n",
      "\"FRUITIMPEX\" TEL. (495) 926-74-49\n",
      "\n",
      "##########\n",
      "\"FT-LINE\"LLC 115230,MOSCOW,ELECTROLYTNIY PROEZD,3G/2 TEL:+79851607522\n",
      "\n",
      "##########\n",
      "\"GARANTTRANS SERVICE\" MOSCOW,RUSSIAUl.GILYAROVSKOGO,57.OFFICE 514 TEL:(495) 748 02 87 FAX:(495) 684 12 01\n",
      "\n",
      "##########\n",
      "\"Goldens\" LLC\n",
      "\n",
      "##########\n",
      "\"INTERLINK ZOO UI. POMORSKA50A 81-314 GDYNIA BIELSKA@INTERLINK.BIZ.PL SIEJKOWSKA@INTERLINK.BIZ.PL...+++\n",
      "\n",
      "##########\n",
      "\"INTERTRANS\" LTD. ST.PETERSBURG,198035,RUSSIA GAPSALSKAIA STREET,OFFICE 502, 3242144, FAX:3242145\n",
      "\n",
      "##########\n",
      "\"KM\" 197183 RUSSIA,ST. PETERSBURG,SABIROVSKAYA STR.,50,OFF,115 OLEG TEREKHOV ZIP CODE:197183 PHONE:7911239-3109 FAX:7911239-3109\n",
      "\n",
      "##########\n",
      "\"KOBI-LIGHT\" SPOLKA KOMANDYTOWA UL.T.BOYA ZELENSKIEGO 25 35-105 RZESZOW,POLAND NIP:813-34-99-669\n",
      "\n",
      "\"KOBI-LIGHT\" SPOLKA KOMANDYTOWA UL.T.BOYA ZELENSKIEGO 25 35-105 RZESZOW,POLAND NIP:813-34-99-699\n",
      "\n",
      "##########\n",
      "\"KONTUR\" STR. 51, LIT. APP. 2-N ST. 7842437789\n",
      "\n",
      "##########\n",
      "\"LIGA-IMPORT\" DOROGA NA TURUHTANNIE OSTROVA, D.24, KORP.5, 198096, RUSSIA\n",
      "\n",
      "\"LIGA-IMPORT\" DOROGA NA TURUHTANNIE OSTROVA, D.24, KORP.5, 198096, TEL/FAX:+7 (911) 89 88\n",
      "\n",
      "\"LIGA-IMPORT\" DOROGA NA TURUHTANNIE OSTROVA, D. 24, KORP. 5, 198096, TEL/FAX:+7 (911) 89 88\n",
      "\n",
      "##########\n",
      "\"LTC SOLUTION FINLAND, HAMINA 49420, PILARITIE 2 ON BEHALF \"AETZ REKORD\" CO., 2, GAGARINA STR., ALEXANDROV,--\n",
      "\n",
      "\"LTC SOLUTION FINLAND, HAMINA 49420, SYVASATAMANTIE 18 ON BEHALF \"AETZ REKORD\" CO., LTD--\n",
      "\n",
      "##########\n",
      "\"LTC SOLUTION FINLAND, HAMINA 49420, PILARITIE 2 TEL. (0) 522-66-130 (0) 522-66-120\n",
      "\n",
      "\"LTC SOLUTION FINLAND, HAMINA 49420, SYVASATAMANTIE 18 TEL. (0) 522-66-130 (0) 522-66-120\n",
      "\n",
      "##########\n",
      "\"ST.PETERSBURG\"LTD. FEDERATION\n",
      "\n",
      "\"ST.PETERSBURG\"LTD. FEDERATION 329-42-62 PYLAEVATATIANA\n",
      "\n",
      "\"ST.PETERSBURG\"LTD FEDERATION\n",
      "\n",
      "\"ST.PETERSBURG\"LTD FEDERATION 7842339206\n",
      "\n",
      "\"ST.PETERSBURG\"LTD FEDERATION 329-42-62 PASHKEVICHANNA\n",
      "\n",
      "\"ST.PETERSBURG\"LTD FEDERATION 329-42-62 PYLAEVA TATIANA\n",
      "\n",
      "##########\n",
      "\"NFC\" STR., 198035 ST. 327 77 41 327 77 29\n",
      "\n",
      "##########\n",
      "\"NFC\" STR., 198035 ST.PETERSBURG, TEL. 812327 77 41 FAX 327 77 29\n",
      "\n",
      "##########\n",
      "\"OCEAN WORLD\" 198099 ST.PETERSBURG KALININ 57, LIT.A, OF.307 LEDENEVA ELENA. TEL./FAX.+7-812-336-65-88\n",
      "\n",
      "\"OCEAN WORLD\" KALININ 57, LIT. OFFICE 307, ST. 198099 LEDENEVA ELENA.TEL./FAX.+7-812-336-65-88\n",
      "\n",
      "\"OCEAN WORLD\" 307, 57KALININ STREET PETERSBURG 198099, MERKOVA MARIYA TEL/FAX: +7-812-336-65-88\n",
      "\n",
      "##########\n",
      "\"OMEGA TOYS GRUP\"CO.,LTD. AVTOZAVODSKAY STR.23,STRUCTURE 8 MOSCOW,RUSSIAN FEDERATION,P.O.X:115280 TEL/FAX:+7-495-674-60-62 TITARENKO ALEXANDR E-mail serinity-toys@mail.ru INN\n",
      "\n",
      "##########\n",
      "\"OOO\" BALTIYSKIY EKSPEDITOR\" EUGENIY KOMRAKOV 676-16-03\"\n",
      "\n",
      "##########\n",
      "\"OOO\" TECHNOLINE\" 191123,ST.-PETERSBURG,UL. FURSCHTATSKAYA 48,LITER A\"\n",
      "\n",
      "##########\n",
      "\"OTL\" KOROTIN@OTLSPB.RU +7(812) 326-42-52 VIP 13171-1 ST.PETERSBURG\n",
      "\n",
      "##########\n",
      "\"OY VAER LOG LTD\" Y-TUNNUS:2066533-3 Adres: Merituulentie, 424 48310, Kotka 21 21 33 Fax: 21 21 30 Vanhala Olga Ershova Ekaterina\n",
      "\n",
      "##########\n",
      "\"PARTNER\" INN/KPP 7801080258/780101001 POM/1-N, HOUSE 1-2, 1-LINE;V. 0. ST. 199053, TEL. : 600 20 22 600 20 33\n",
      "\n",
      "##########\n",
      "\"PETERSBURG CHEMICAL COMPANY\" LIMITED(<<PCC>>CO.,LTD.) 197374,RUSSIAN FEDERATION,SAINT PETERSBURG,TORFYANAYA ROAD, 7,LIT.F OFFICE 925.\n",
      "\n",
      "##########\n",
      "\"PO\"SVET \"LTD PODREZOVA STR.,16,LIT.A,ROOM 5-H 197136 SAINT-PETERSBURG,RUSSIA. ITN 7813445827 TEL:+7-812-716-21-76\n",
      "\n",
      "##########\n",
      "\"PRANT\" 603159 NIZHNY NOVGOROD AKIMOVA-STR. 41, SUITE 63 5257120394 KPP 525701001 TEL/FAX. (831) 423-45-33\n",
      "\n",
      "##########\n",
      "\"Rimal\" \"Grazdansky prospect, 22. St. Petersburg, 195220, Russian Federation\"\n",
      "\n",
      "##########\n",
      "\"SAME AS CONSIGNEE\"\n",
      "\n",
      "\"SAME AS CONSIGNEE\" AS AGENT BLUE ANCHOR LINE\n",
      "\n",
      "##########\n",
      "\"SERVICE-EXPRESS\" 197110, GLUHAYA ZELENINA STREET,H.4, B,OFFICE 19-H\n",
      "\n",
      "##########\n",
      "\"SEVROLL-SYSTEM\" SP.Z O.O. PLAC CZERWCA 1976 ROKU NR 1B 02-495 WARSZAWA URSUS (022) 312-31-39\n",
      "\n",
      "\"SEVROLL-SYSTEM\" SP.Z O.O. PLAC CZERWCA 1976 ROKU NR 1B 02-495 WARSZAWA URSUS (022) 312-31-39\n",
      "\n",
      "##########\n",
      "\"SHIP-MASTER DELTA\"LLC RIGSKY PR.,19,SAINT-PETERSBURG, 190103,RUSSIA TEL:+7(812)251-81-11; +7(812)575-33-38;+7(812)251-73-03 575-33-40\n",
      "\n",
      "##########\n",
      "\"SILMET\" LIMITED 196084, ST.PETERSBURG, ZAOZERNAYA STR., 4. LETTER 9H. /FAX: 7 812334 35 74\n",
      "\n",
      "##########\n",
      "\"Spike Rus\" Limited Liability Company, The Yakovlevskyi per., H.8 a of. 5-n, 196105 S.Petersburg, Russia.TEL: 007-812-476-15-62 007-812-476-15-62\n",
      "\n",
      "##########\n",
      "\"STEP TRADE\" KUBINSKAYA ST., 38, BUILDING ROOM 4-H,ST.PETERSBURG, 196247, FEDERATION\n",
      "\n",
      "##########\n",
      "\"STEVECO STEVECO LOGISTICS MERITUULENTIE 424 48310 KOTKA, FONLANDPIC: ANNE LEPPANEN\n",
      "\n",
      "##########\n",
      "\"STUDIO MODERNA\" UL. PERERVA 54 109369 MOSCOW RUSSIA\n",
      "\n",
      "##########\n",
      "\"SUNTIRE\" CO. LTD, M. BALKANSKAYA 58, LIT.A 192289, ST.-PETERSBURG, RUSSIA\n",
      "\n",
      "##########\n",
      "\"SUNTIRE\" CO. LTD. TEL.: + 7 (812)458 54 38 E-MAIL: CLIENT@S-LOGISTIC.RU\n",
      "\n",
      "\"SUNTIRE\"CO.LTD TEL:+7(812)458 54 38 E-MAIL:CLIENT@S-LOGISTIC.RU\n",
      "\n",
      "##########\n",
      "\"SUNTIRE\"CO.LTD M.BALKANSKAYA STREET,58,LIT.A 192289,ST.PETERSBURG,RUSSIA\n",
      "\n",
      "##########\n",
      "\"TC \"\"UNOTRANS\"\" LTD\" \"190020 ST.PETERSBURG,\" \"BUMAZHNAYA STR.9, K.1,OFFICE 305\" \"TEL/FAX: 445 2843\"\n",
      "\n",
      "\"TC\"UNOTRANS\"LTD 190020 ST.PETERSBURG,BUMAZHNAYA STR.9,K.1,OFF.305 TEL/FAX:+7 445 28 43\n",
      "\n",
      "\"TC\"UNOTRANS\"LTD 190020 ST.PETERSBURG, BUMAZHNAYA STR.9,K.1,OFF.305 TEL/FAX:+7 445 28 43\n",
      "\n",
      "\"TC \"UNOTRANS\" 190020 ST.PETERSBURG, BUMAZHNAYA STR.9, K.1, OFF. 305 TEL/FAX: 445 28 43\n",
      "\n"
     ]
    }
   ],
   "source": [
    "print_clustering(clusters)"
   ]
  },
  {
   "cell_type": "markdown",
   "id": "dirty-yemen",
   "metadata": {},
   "source": [
    "* ocena klasteryzacji, znalezienie wartości obydwu indeksów"
   ]
  },
  {
   "cell_type": "code",
   "execution_count": 45,
   "id": "eleven-perception",
   "metadata": {},
   "outputs": [
    {
     "name": "stdout",
     "output_type": "stream",
     "text": [
      "\tdavies-bouldin index:  0.48159410887310217\n",
      "\t          dunn index:  0.42208365522200003\n"
     ]
    }
   ],
   "source": [
    "print('\\tdavies-bouldin index: ', davies_bouldin(clusters, cosine))\n",
    "print('\\t          dunn index: ', dunn(clusters, cosine))"
   ]
  },
  {
   "cell_type": "markdown",
   "id": "relevant-evidence",
   "metadata": {},
   "source": [
    "W tym przypadku, usunięcie najczęściej występujących słów nie poprawiło klasteryzacji."
   ]
  },
  {
   "cell_type": "markdown",
   "id": "compatible-aberdeen",
   "metadata": {},
   "source": [
    "#### porównanie wyników dla różnych metryk"
   ]
  },
  {
   "cell_type": "code",
   "execution_count": 46,
   "id": "paperback-permit",
   "metadata": {},
   "outputs": [],
   "source": [
    "def test(lines, metric):\n",
    "    print(metric.__name__)\n",
    "    labels = cluster(lines, metric)\n",
    "    clusters = get_clusters_from_labels(lines, labels)\n",
    "    \n",
    "    davies_index = davies_bouldin(clusters, metric)\n",
    "    dunn_index = dunn(clusters, metric)\n",
    "    print('\\tdavies-bouldin index: ', davies_index)\n",
    "    print('\\t          dunn index: ', dunn_index)\n",
    "    \n",
    "    return davies_index, dunn_index"
   ]
  },
  {
   "cell_type": "code",
   "execution_count": 47,
   "id": "instrumental-float",
   "metadata": {},
   "outputs": [],
   "source": [
    "def compare_metrics(lines, metrics):\n",
    "    davies_indices = []\n",
    "    dunn_indices = []\n",
    "    \n",
    "    for metric in metrics:\n",
    "        davies, dunn = test(lines, metric)\n",
    "        davies_indices.append(davies)\n",
    "        dunn_indices.append(dunn)\n",
    "        \n",
    "    print('\\n\\n---with stoplist---')\n",
    "    lines_stop = remove_common(lines, 5)\n",
    "    for metric in metrics:\n",
    "        davies, dunn = test(lines, metric)\n",
    "        davies_indices.append(davies)\n",
    "        dunn_indices.append(dunn)\n",
    "    \n",
    "    return davies_indices, dunn_indices"
   ]
  },
  {
   "cell_type": "code",
   "execution_count": 48,
   "id": "blessed-silver",
   "metadata": {},
   "outputs": [],
   "source": [
    "metrics = [dice, cosine, euclides, levenshtein, lcs]"
   ]
  },
  {
   "cell_type": "code",
   "execution_count": 49,
   "id": "governmental-reaction",
   "metadata": {},
   "outputs": [
    {
     "name": "stdout",
     "output_type": "stream",
     "text": [
      "dice\n",
      "\tdavies-bouldin index:  0.7667990839471491\n",
      "\t          dunn index:  0.7613930140572199\n",
      "cosine\n",
      "\tdavies-bouldin index:  0.7477794160582196\n",
      "\t          dunn index:  0.7400810281179782\n",
      "euclides\n",
      "\tdavies-bouldin index:  0.5997238554017978\n",
      "\t          dunn index:  0.9426037036635696\n",
      "levenshtein\n",
      "\tdavies-bouldin index:  0.6107574836919204\n",
      "\t          dunn index:  0.857097238804556\n",
      "lcs\n",
      "\tdavies-bouldin index:  0.6480094789187549\n",
      "\t          dunn index:  0.8795031055900621\n",
      "\n",
      "\n",
      "---with stoplist---\n",
      "dice\n",
      "\tdavies-bouldin index:  0.7667990839471491\n",
      "\t          dunn index:  0.7613930140572199\n",
      "cosine\n",
      "\tdavies-bouldin index:  0.7477794160582196\n",
      "\t          dunn index:  0.7400810281179782\n",
      "euclides\n",
      "\tdavies-bouldin index:  0.5997238554017978\n",
      "\t          dunn index:  0.9426037036635696\n",
      "levenshtein\n",
      "\tdavies-bouldin index:  0.6107574836919204\n",
      "\t          dunn index:  0.857097238804556\n",
      "lcs\n",
      "\tdavies-bouldin index:  0.6480094789187549\n",
      "\t          dunn index:  0.8795031055900621\n"
     ]
    }
   ],
   "source": [
    "davies_indices, dunn_indices = compare_metrics(lines, metrics)"
   ]
  },
  {
   "cell_type": "markdown",
   "id": "turkish-resort",
   "metadata": {},
   "source": [
    "* wzorcowa klasteryzacja z pliku"
   ]
  },
  {
   "cell_type": "code",
   "execution_count": 50,
   "id": "incorporated-federal",
   "metadata": {},
   "outputs": [],
   "source": [
    "def get_indices_correct_clustering(lines, correct_labels, metrics):\n",
    "    correct_clusters = get_clusters_from_labels(lines, correct_labels)\n",
    "    correct_davies = []\n",
    "    correct_dunn = []\n",
    "    \n",
    "    for metric in metrics:\n",
    "        davies_index = davies_bouldin(correct_clusters, metric)\n",
    "        dunn_index = dunn(correct_clusters, metric)\n",
    "        print(metric.__name__)\n",
    "        print('\\tdavies-bouldin index: ', davies_index)\n",
    "        print('\\t          dunn index: ', dunn_index)\n",
    "        correct_davies.append(davies_index)\n",
    "        correct_dunn.append(dunn_index)\n",
    "    \n",
    "    return correct_davies, correct_dunn"
   ]
  },
  {
   "cell_type": "code",
   "execution_count": 51,
   "id": "italic-leadership",
   "metadata": {},
   "outputs": [
    {
     "name": "stdout",
     "output_type": "stream",
     "text": [
      "dice\n",
      "\tdavies-bouldin index:  0.8892659116999325\n",
      "\t          dunn index:  0.5504428023309978\n",
      "cosine\n",
      "\tdavies-bouldin index:  0.9600618831700587\n",
      "\t          dunn index:  0.4148461875933154\n",
      "euclides\n",
      "\tdavies-bouldin index:  1.0630485855555134\n",
      "\t          dunn index:  0.6972860692469977\n",
      "levenshtein\n",
      "\tdavies-bouldin index:  0.947804783049698\n",
      "\t          dunn index:  0.6948018528049409\n",
      "lcs\n",
      "\tdavies-bouldin index:  1.0905759199429839\n",
      "\t          dunn index:  0.695609756097561\n"
     ]
    }
   ],
   "source": [
    "correct_davies, correct_dunn = get_indices_correct_clustering(lines, correct_labels, metrics)"
   ]
  },
  {
   "cell_type": "markdown",
   "id": "harmful-prefix",
   "metadata": {},
   "source": [
    "* wykres"
   ]
  },
  {
   "cell_type": "code",
   "execution_count": 52,
   "id": "united-voice",
   "metadata": {},
   "outputs": [],
   "source": [
    "def plot_comparison(metrics, davies_indices, dunn_indices, correct_davies, correct_dunn):\n",
    "    fig, ax = plt.subplots(1, 2, figsize=(15,8))\n",
    "    \n",
    "    metric_names = list(map(lambda x: x.__name__, metrics))\n",
    "    \n",
    "    x = np.arange(len(metrics))\n",
    "    width = 0.3\n",
    "    \n",
    "    ax[0].bar(x-width, davies_indices[:len(metrics)], color='coral', width=width, label='regular clustering')\n",
    "    ax[0].bar(x, davies_indices[len(metrics):], color='orange', width=width, label='with stoplist')\n",
    "    ax[0].bar(x+width, correct_davies, color='goldenrod', width=width, label='correct labels from the file')\n",
    "    \n",
    "    ax[1].bar(x-width, dunn_indices[:len(metrics)], color='coral', width=width, label='regular clustering')\n",
    "    ax[1].bar(x, dunn_indices[len(metrics):], color='orange', width=width, label='with stoplist')\n",
    "    ax[1].bar(x+width, correct_dunn, color='goldenrod', width=width, label='correct labels from the file')\n",
    "    \n",
    "    ax[0].set_xticks(x)\n",
    "    ax[0].set_xticklabels(metric_names)\n",
    "    \n",
    "    ax[1].set_xticks(x)\n",
    "    ax[1].set_xticklabels(metric_names)\n",
    "    \n",
    "    ax[0].legend()\n",
    "    ax[1].legend()\n",
    "    ax[0].set_title('davies-bouldin')\n",
    "    ax[1].set_title('dunn')\n",
    "    \n",
    "    plt.show()"
   ]
  },
  {
   "cell_type": "code",
   "execution_count": 53,
   "id": "quality-theorem",
   "metadata": {},
   "outputs": [
    {
     "data": {
      "image/png": "[encoded data removed]",
      "text/plain": [
       "<Figure size 1080x576 with 2 Axes>"
      ]
     },
     "metadata": {
      "needs_background": "light"
     },
     "output_type": "display_data"
    }
   ],
   "source": [
    "plot_comparison(metrics, davies_indices, dunn_indices, correct_davies, correct_dunn)"
   ]
  },
  {
   "cell_type": "markdown",
   "id": "explicit-organizer",
   "metadata": {},
   "source": [
    "Z powyższej zależności możemy zauważyć, iż zastosowanie stoplisty nie zmieniło jakości klasteryzacji.\n",
    "\n",
    "Porównując wartości indeksów dla klasteryzacji otrzymanej algorytmem DBSCAN, a klasteryzacją z pliku, zawsze lepiej wypada klasteryzacja znaleziona algorytmicznie. Wynika to z faktu, że żadna metryka nie przedstawia w pełni rzeczywistego podobieństwa tekstu. Dlatego dla danej metryki znaleziona klasteryzacja zadaną procedurą jest możliwie najbardziej optymalna, zakładając skuteczność algorytmu. \n",
    "\n",
    "Z wykresu można by chcieć wnioskować, iż do klasteryzacji najlepiej sprawdziły się metryki lcs, euklidesowa i levenshteina, jednak obliczając indeksy dla tych metryk korzystamy z odległości wyznaczonych tymże metodami. "
   ]
  },
  {
   "cell_type": "markdown",
   "id": "accredited-clause",
   "metadata": {},
   "source": [
    "<i>Czy masz jakiś pomysł na poprawę jakości klasteryzacji w tym zadaniu? </i>"
   ]
  },
  {
   "cell_type": "markdown",
   "id": "adequate-feeding",
   "metadata": {},
   "source": [
    "* Przeprowadzenie preprocessingu pliku wejściowego. Usunięcię niepotrzebnych białych znaków, cudzysłowów, kropek itd.\n",
    "* Lepsze dobranie parametrów modelu. W powyższych rozważaniach dla każdej metryki zostały użyte te same parametry modelu. Lepsze wyniki uzyskalibyśmy analizując wartości w macierzy odległości i wybierając odpowiednią wartość chociażby parametru eps. Moglibyśmy także przetestować wyniki dla zmieniających się parametrów i wybrać najlepszy rezultat."
   ]
  },
  {
   "cell_type": "markdown",
   "id": "liked-concert",
   "metadata": {},
   "source": [
    "## Wnioski"
   ]
  },
  {
   "cell_type": "markdown",
   "id": "formed-hurricane",
   "metadata": {},
   "source": [
    "- Skuteczność klasteryzacji zależy od doboru metryki, jak również dobranych do niej parametrów.\n",
    "\n",
    "- Skuteczność klasteryzacji można zwiększyć stosując stoplistę najczęściej występujących elementów, jednak nie w każdym przypadku ma to sens, zależy to od rodzaju danych z jakimi mamy do czynienia\n",
    "\n",
    "- Stosowanie zagadnienia klasteryzacji dla tekstów jest problematyczne. Nie dysponując łatwą do znalezienia lokalizacją centroidy klastra czy rozmiaru klastra, wymagana jest spora złożoność czasowa lub jakieś heurystyczne podejście, które mogłoby przybliżyć te wartości."
   ]
  },
  {
   "cell_type": "markdown",
   "id": "explicit-anime",
   "metadata": {},
   "source": [
    "M. Hawryluk 21.05.2021"
   ]
  }
 ],
 "metadata": {
  "kernelspec": {
   "display_name": "Python 3",
   "language": "python",
   "name": "python3"
  },
  "language_info": {
   "codemirror_mode": {
    "name": "ipython",
    "version": 3
   },
   "file_extension": ".py",
   "mimetype": "text/x-python",
   "name": "python",
   "nbconvert_exporter": "python",
   "pygments_lexer": "ipython3",
   "version": "3.8.6"
  }
 },
 "nbformat": 4,
 "nbformat_minor": 5
}
