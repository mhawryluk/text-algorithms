{
 "cells": [
  {
   "cell_type": "markdown",
   "id": "latin-homework",
   "metadata": {},
   "source": [
    "# Zadanie nr 6 - Wzorce dwuwymiarowe"
   ]
  },
  {
   "cell_type": "code",
   "execution_count": 26,
   "id": "yellow-sacrifice",
   "metadata": {},
   "outputs": [],
   "source": [
    "import networkx as nx\n",
    "import matplotlib.pyplot as plt\n",
    "from time import time"
   ]
  },
  {
   "cell_type": "markdown",
   "id": "returning-manhattan",
   "metadata": {},
   "source": [
    "## 0. Funkcje pomocnicze"
   ]
  },
  {
   "cell_type": "code",
   "execution_count": 16,
   "id": "united-juice",
   "metadata": {},
   "outputs": [],
   "source": [
    "def print2d(l): \n",
    "    print('\\n'.join(map(''.join, list(map(lambda x: str(x).replace(\"'\", \"\"), l)))), '\\n')"
   ]
  },
  {
   "cell_type": "code",
   "execution_count": 17,
   "id": "aggressive-finger",
   "metadata": {},
   "outputs": [],
   "source": [
    "def show_graph(head):\n",
    "    graph = nx.DiGraph()\n",
    "    stack = [head]\n",
    "\n",
    "    while stack:\n",
    "        node = stack.pop()\n",
    "        for key, edge_node in node.edges.items():\n",
    "            graph.add_edge(node, edge_node, label=key)\n",
    "\n",
    "            if not edge_node.visited:\n",
    "                stack.append(edge_node)\n",
    "\n",
    "        if node.fail_link:\n",
    "            graph.add_edge(node, node.fail_link)\n",
    "\n",
    "        node.visited = True\n",
    "\n",
    "    pos = nx.spectral_layout(graph)\n",
    "    nx.draw_networkx(\n",
    "        graph, pos, connectionstyle='arc3, rad = 0.2', node_color='turquoise')\n",
    "    labels = nx.get_edge_attributes(graph, 'label')\n",
    "    nx.draw_networkx_edge_labels(graph, pos, edge_labels=labels)\n",
    "    plt.show()"
   ]
  },
  {
   "cell_type": "code",
   "execution_count": 18,
   "id": "presidential-metro",
   "metadata": {},
   "outputs": [],
   "source": [
    "def kmp(text, pattern):\n",
    "    result = []\n",
    "\n",
    "    pi = prefix_function(pattern)\n",
    "    q = 0\n",
    "\n",
    "    for i in range(0, len(text)):\n",
    "        while q > 0 and pattern[q] != text[i]:\n",
    "            q = pi[q-1]\n",
    "\n",
    "        if pattern[q] == text[i]:\n",
    "            q = q + 1\n",
    "\n",
    "        if q == len(pattern):\n",
    "            result.append(i + 1 - q)\n",
    "            q = pi[q-1]\n",
    "\n",
    "    return result\n",
    "\n",
    "\n",
    "def prefix_function(pattern):\n",
    "    pi = [0]\n",
    "    k = 0\n",
    "\n",
    "    for q in range(1, len(pattern)):\n",
    "        while(k > 0 and pattern[k] != pattern[q]):\n",
    "            k = pi[k-1]\n",
    "\n",
    "        if(pattern[k] == pattern[q]):\n",
    "            k = k + 1\n",
    "\n",
    "        pi.append(k)\n",
    "\n",
    "    return pi"
   ]
  },
  {
   "cell_type": "markdown",
   "id": "addressed-imaging",
   "metadata": {},
   "source": [
    "## 1. Algorytm"
   ]
  },
  {
   "cell_type": "markdown",
   "id": "arranged-andorra",
   "metadata": {},
   "source": [
    "<i>1. Zaimplementuj algorytm wyszukiwania wzorca 2-wymiarowego </i>"
   ]
  },
  {
   "cell_type": "code",
   "execution_count": 19,
   "id": "tough-nicaragua",
   "metadata": {},
   "outputs": [],
   "source": [
    "class Node:\n",
    "    index = 0\n",
    "\n",
    "    def __init__(self, parent=None, char=None):\n",
    "        self.edges = {}\n",
    "        self.fail_link = None\n",
    "        self.parent = parent\n",
    "        self.char = char\n",
    "        self.visited = False\n",
    "        self.id = Node.index\n",
    "        Node.index += 1\n",
    "        self.pattern_end = None\n",
    "\n",
    "    def __lt__(self, other):\n",
    "        return self.char < other.char\n",
    "\n",
    "    def __str__(self):\n",
    "        return str(self.id)"
   ]
  },
  {
   "cell_type": "code",
   "execution_count": 20,
   "id": "broken-brooklyn",
   "metadata": {},
   "outputs": [],
   "source": [
    "def build_trie(patterns):\n",
    "    head = Node()\n",
    "\n",
    "    for i, pattern in enumerate(patterns):\n",
    "        current_node = head\n",
    "        for char in pattern:\n",
    "            if char in current_node.edges:\n",
    "                current_node = current_node.edges[char]\n",
    "            else:\n",
    "                current_node.edges[char] = Node(char=char, parent=current_node)\n",
    "                current_node = current_node.edges[char]\n",
    "\n",
    "        current_node.pattern_end = i+1\n",
    "\n",
    "    return head"
   ]
  },
  {
   "cell_type": "code",
   "execution_count": 21,
   "id": "amateur-sector",
   "metadata": {},
   "outputs": [],
   "source": [
    "def build_automaton(patterns):\n",
    "    head = build_trie(patterns)\n",
    "    # show_graph(head)\n",
    "\n",
    "    queue = [head]\n",
    "    visited = []\n",
    "\n",
    "    def assign_fail_links(node):\n",
    "        if node is not head:\n",
    "            current_node = node.parent.fail_link\n",
    "            while current_node:\n",
    "                if node.char in current_node.edges:\n",
    "                    node.fail_link = current_node.edges[node.char]\n",
    "                    break\n",
    "                current_node = current_node.fail_link\n",
    "            else:\n",
    "                node.fail_link = head\n",
    "\n",
    "        for edge in node.edges.values():\n",
    "            if edge not in visited:\n",
    "                queue.append(edge)\n",
    "\n",
    "        visited.append(node)\n",
    "\n",
    "    while queue:\n",
    "        node = queue.pop(0)\n",
    "        assign_fail_links(node)\n",
    "\n",
    "    return head"
   ]
  },
  {
   "cell_type": "code",
   "execution_count": 22,
   "id": "defined-trunk",
   "metadata": {},
   "outputs": [],
   "source": [
    "def modify_automaton(head):\n",
    "\n",
    "    queue = [head]\n",
    "    visited = []\n",
    "\n",
    "    def copy_edges(node):\n",
    "        if node is not head:\n",
    "            for key, node_edge in node.fail_link.edges.items():\n",
    "                if key not in node.edges:\n",
    "                    node.edges[key] = node_edge\n",
    "\n",
    "        for edge in node.edges.values():\n",
    "            if edge not in visited and edge not in queue:\n",
    "                queue.append(edge)\n",
    "                visited.append(edge)\n",
    "\n",
    "        visited.append(node)\n",
    "        node.fail_link = None\n",
    "\n",
    "    while queue:\n",
    "        node = queue.pop(0)\n",
    "        copy_edges(node)\n",
    "\n",
    "    return head"
   ]
  },
  {
   "cell_type": "code",
   "execution_count": 23,
   "id": "incoming-heavy",
   "metadata": {},
   "outputs": [],
   "source": [
    "def pattern_match_2d(text, pattern):\n",
    "    head = build_automaton(pattern)\n",
    "    # show_graph(head)\n",
    "    head = modify_automaton(head)\n",
    "    # show_graph(head)\n",
    "\n",
    "    patterns_matrix = [[0 for _ in range(len(text[0]))]\n",
    "                       for _ in range(len(text))]\n",
    "\n",
    "    for i, line in enumerate(text):\n",
    "        current_node = head\n",
    "        for j, char in enumerate(line):\n",
    "            if char in current_node.edges:\n",
    "                current_node = current_node.edges[char]\n",
    "            else:\n",
    "                current_node = head\n",
    "\n",
    "            if current_node.pattern_end:\n",
    "                patterns_matrix[i][j] = current_node.pattern_end\n",
    "\n",
    "    print2d(patterns_matrix)\n",
    "\n",
    "    col_pattern = [i+1 for i in range(len(pattern[0]))]\n",
    "\n",
    "    result = []\n",
    "\n",
    "    for i in range(len(text[0])):\n",
    "        line = [patterns_matrix[j][i] for j in range(len(text))]\n",
    "        print(line, col_pattern)\n",
    "        for j in kmp(line, col_pattern):\n",
    "            result.append((j, i-len(pattern[0])+1))\n",
    "\n",
    "    print2d(result)\n",
    "    return result"
   ]
  },
  {
   "cell_type": "code",
   "execution_count": 25,
   "id": "scientific-context",
   "metadata": {},
   "outputs": [
    {
     "name": "stdout",
     "output_type": "stream",
     "text": [
      "[0, 0, 1]\n",
      "[0, 0, 2]\n",
      "[0, 0, 0]\n",
      "[0, 0, 0] \n",
      "\n",
      "[0, 0, 0, 0] [1, 2]\n",
      "[0, 0, 0, 0] [1, 2]\n",
      "[1, 2, 0, 0] [1, 2]\n",
      "(0, 1) \n",
      "\n"
     ]
    },
    {
     "data": {
      "text/plain": [
       "[(0, 1)]"
      ]
     },
     "execution_count": 25,
     "metadata": {},
     "output_type": "execute_result"
    }
   ],
   "source": [
    "text = [[0, 1, 2], [3, 4, 5], [6, 7, 8], [9, 9, 9]]\n",
    "pattern = [[1, 2], [4, 5]]\n",
    "\n",
    "pattern_match_2d(text, pattern)"
   ]
  },
  {
   "cell_type": "markdown",
   "id": "metropolitan-instruction",
   "metadata": {},
   "source": [
    "## 2. Testy"
   ]
  },
  {
   "cell_type": "markdown",
   "id": "static-clock",
   "metadata": {},
   "source": [
    "<i>2. Znajdź w załączonym pliku \"haystack.txt\" wszyskie sytuacje, gdy taka sama litera występuje na tej samej pozycji w dwóch kolejnych linijkach. Zwróć uwagę, na nierówną długość linii w pliku.</i>"
   ]
  },
  {
   "cell_type": "code",
   "execution_count": null,
   "id": "departmental-census",
   "metadata": {},
   "outputs": [],
   "source": []
  },
  {
   "cell_type": "markdown",
   "id": "pacific-hospital",
   "metadata": {},
   "source": [
    "<i>3. Znajdź wszystkie wystąpienia \"th\" oraz \"t h\" w dwóch kolejnych liniach na tej samej pozycji.</i>"
   ]
  },
  {
   "cell_type": "code",
   "execution_count": null,
   "id": "cardiac-arthritis",
   "metadata": {},
   "outputs": [],
   "source": []
  },
  {
   "cell_type": "markdown",
   "id": "clean-albany",
   "metadata": {},
   "source": [
    "<i>4. Wybierz przynajmniej 3 litery (małe). Znajdź wszystkie wystąpienia tej litery w załączonym pliku \"haystack.png\"</i>"
   ]
  },
  {
   "cell_type": "code",
   "execution_count": null,
   "id": "vocal-helen",
   "metadata": {},
   "outputs": [],
   "source": []
  },
  {
   "cell_type": "markdown",
   "id": "tired-divide",
   "metadata": {},
   "source": [
    "<i>5. Znajdź wszystkie wystąpienia słowa \"p a t t e r n\" w haystack.png.</i>"
   ]
  },
  {
   "cell_type": "code",
   "execution_count": null,
   "id": "bearing-grocery",
   "metadata": {},
   "outputs": [],
   "source": []
  },
  {
   "cell_type": "markdown",
   "id": "dominant-princeton",
   "metadata": {},
   "source": [
    "## 3. Porównanie czasów"
   ]
  },
  {
   "cell_type": "markdown",
   "id": "olympic-kentucky",
   "metadata": {},
   "source": [
    "<i>6. Porównaj czas budowania automatu i czas wyszukiwania dla różnych rozmiarów wzorca</i>"
   ]
  },
  {
   "cell_type": "code",
   "execution_count": null,
   "id": "spread-obligation",
   "metadata": {},
   "outputs": [],
   "source": []
  },
  {
   "cell_type": "markdown",
   "id": "packed-tattoo",
   "metadata": {},
   "source": [
    "<i>7. Podziel plik na 2, 4 i 8 fragmentów (w poziomie) i porównaj czas przeszukiwania</i>"
   ]
  },
  {
   "cell_type": "code",
   "execution_count": null,
   "id": "compact-hampshire",
   "metadata": {},
   "outputs": [],
   "source": []
  },
  {
   "cell_type": "markdown",
   "id": "dietary-track",
   "metadata": {},
   "source": [
    "## Wnioski"
   ]
  },
  {
   "cell_type": "markdown",
   "id": "recent-turkish",
   "metadata": {},
   "source": [
    "- \n",
    "- "
   ]
  },
  {
   "cell_type": "markdown",
   "id": "extensive-scholarship",
   "metadata": {},
   "source": [
    "M. Hawryluk 03.06.2021"
   ]
  }
 ],
 "metadata": {
  "kernelspec": {
   "display_name": "Python 3",
   "language": "python",
   "name": "python3"
  },
  "language_info": {
   "codemirror_mode": {
    "name": "ipython",
    "version": 3
   },
   "file_extension": ".py",
   "mimetype": "text/x-python",
   "name": "python",
   "nbconvert_exporter": "python",
   "pygments_lexer": "ipython3",
   "version": "3.8.6"
  }
 },
 "nbformat": 4,
 "nbformat_minor": 5
}
