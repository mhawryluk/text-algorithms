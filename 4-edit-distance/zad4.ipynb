{
 "cells": [
  {
   "cell_type": "markdown",
   "id": "exposed-yugoslavia",
   "metadata": {},
   "source": [
    "# Zadanie nr 4 - Odległość edycyjna"
   ]
  },
  {
   "cell_type": "code",
   "execution_count": 16,
   "id": "twelve-interaction",
   "metadata": {},
   "outputs": [],
   "source": [
    "import numpy as np\n",
    "import matplotlib.pyplot as plt\n",
    "from matplotlib import animation"
   ]
  },
  {
   "cell_type": "code",
   "execution_count": 17,
   "id": "faced-appraisal",
   "metadata": {},
   "outputs": [],
   "source": [
    "def print_2d(l): return print(\n",
    "    '\\n'.join(map(''.join, list(map(lambda x: str(x).replace(\"'\", \"\"), l)))))"
   ]
  },
  {
   "cell_type": "markdown",
   "id": "noble-grocery",
   "metadata": {},
   "source": [
    "## 1. Odległość Levenshteina"
   ]
  },
  {
   "cell_type": "code",
   "execution_count": 5,
   "id": "opening-office",
   "metadata": {},
   "outputs": [],
   "source": [
    "LEFT = '\\u2190'\n",
    "UP = '\\u2191'\n",
    "DIAG = '\\u2B09'"
   ]
  },
  {
   "cell_type": "code",
   "execution_count": 6,
   "id": "english-allah",
   "metadata": {},
   "outputs": [],
   "source": [
    "def levensheit(text_a, text_b):\n",
    "    edit = [[None for _ in range(len(text_b) + 1)]\n",
    "            for _ in range(len(text_a) + 1)]\n",
    "    path = [[None for _ in range(len(text_b) + 1)]\n",
    "            for _ in range(len(text_a) + 1)]\n",
    "\n",
    "    def delta(char_a, char_b): return 0 if char_a == char_b else 1\n",
    "\n",
    "    for i in range(len(text_a) + 1):\n",
    "        edit[i][0] = i\n",
    "        path[i][0] = UP\n",
    "\n",
    "    for j in range(1, len(text_b) + 1):\n",
    "        edit[0][j] = j\n",
    "        path[0][j] = LEFT\n",
    "\n",
    "    for i in range(1, len(text_a)+1):\n",
    "        for j in range(1, len(text_b)+1):\n",
    "            options = [edit[i-1][j] + 1, edit[i][j-1] + 1,\n",
    "                       edit[i-1][j-1] + delta(text_a[i-1], text_b[j-1])]\n",
    "            edit[i][j] = min(options)\n",
    "\n",
    "            if edit[i][j] == options[0]:\n",
    "                path[i][j] = UP\n",
    "            elif edit[i][j] == options[1]:\n",
    "                path[i][j] = LEFT\n",
    "            else:\n",
    "                path[i][j] = DIAG\n",
    "\n",
    "    return edit[len(text_a)][len(text_b)], edit, path"
   ]
  },
  {
   "cell_type": "code",
   "execution_count": 7,
   "id": "surrounded-compound",
   "metadata": {},
   "outputs": [],
   "source": [
    "NEXT = 0\n",
    "INSERT = 1\n",
    "DELETE = 2\n",
    "REPLACE = 3"
   ]
  },
  {
   "cell_type": "code",
   "execution_count": 8,
   "id": "instructional-capture",
   "metadata": {},
   "outputs": [],
   "source": [
    "def get_changes(text_a, text_b, edit, path):\n",
    "    i, j = len(text_a), len(text_b)\n",
    "    changes = []\n",
    "\n",
    "    while i > 0 or j > 0:\n",
    "        if path[i][j] == LEFT:\n",
    "            changes.append([INSERT, text_b[j-1]])\n",
    "            j -= 1\n",
    "        elif path[i][j] == UP:\n",
    "            changes.append([DELETE, text_a[i-1]])\n",
    "            i -= 1\n",
    "        else:\n",
    "            if path[i][j] == DIAG and edit[i][j] != edit[i-1][j-1]:\n",
    "                changes.append([REPLACE, text_a[i-1], text_b[j-1]])\n",
    "            else:\n",
    "                changes.append([NEXT])\n",
    "\n",
    "            i -= 1\n",
    "            j -= 1\n",
    "    return changes"
   ]
  },
  {
   "cell_type": "code",
   "execution_count": 9,
   "id": "emotional-sleep",
   "metadata": {},
   "outputs": [],
   "source": [
    "def transform(text_a, text_b, changes):\n",
    "    i = 0\n",
    "    current = text_a\n",
    "    states = [current]\n",
    "\n",
    "    for change in reversed(changes):\n",
    "        if change[0] == INSERT:\n",
    "            current = current[:i] + change[1] + current[i:]\n",
    "            states.append(current[:i] + '*' + current[i] + '*' + current[i+1:])\n",
    "        elif change[0] == REPLACE:\n",
    "            current = current[:i] + change[2] + current[i+1:]\n",
    "            states.append(current[:i] + '*' + current[i] + '*' + current[i+1:])\n",
    "        elif change[0] == DELETE:\n",
    "            current = current[:i] + current[i+1:] if i + \\\n",
    "                1 < len(current) else current[:i]\n",
    "            states.append(current[:i]+'**'+current[i:])\n",
    "            i -= 1\n",
    "\n",
    "        i += 1\n",
    "\n",
    "    return states"
   ]
  },
  {
   "cell_type": "code",
   "execution_count": 42,
   "id": "automotive-exchange",
   "metadata": {},
   "outputs": [],
   "source": [
    "def animate(states):\n",
    "    fig, ax = plt.subplots()\n",
    "    time_text = ax.text(0.5, 0.5, '', fontsize=40)\n",
    "    plt.axis('off')\n",
    "\n",
    "    def updatefig(num):\n",
    "        time_text.set_text(states[num])\n",
    "        return time_text,\n",
    "\n",
    "    return animation.FuncAnimation(fig, updatefig, interval=5, frames=len(states))"
   ]
  },
  {
   "cell_type": "code",
   "execution_count": 50,
   "id": "following-baltimore",
   "metadata": {},
   "outputs": [
    {
     "name": "stdout",
     "output_type": "stream",
     "text": [
      "5\n",
      "kwintesencja\n",
      "*q*wintesencja\n",
      "q*u*intesencja\n",
      "quintes*s*encja\n",
      "quintessenc*e*a\n",
      "quintessence**\n"
     ]
    },
    {
     "data": {
      "image/png": "[encoded data removed]",
      "text/plain": [
       "<Figure size 432x288 with 1 Axes>"
      ]
     },
     "metadata": {
      "needs_background": "light"
     },
     "output_type": "display_data"
    }
   ],
   "source": [
    "text_a, text_b = \"kwintesencja\", \"quintessence\"\n",
    "value, edit, path = levensheit(text_a, text_b)\n",
    "changes = get_changes(text_a, text_b, edit, path)\n",
    "print(value)\n",
    "# print_2d(changes)\n",
    "# print_2d(edit)\n",
    "# print_2d(path)\n",
    "states = transform(text_a, text_b, changes)\n",
    "print_2d(states)\n",
    "animated = animate(states)\n",
    "plt.draw()\n",
    "plt.show()"
   ]
  },
  {
   "cell_type": "markdown",
   "id": "copyrighted-eating",
   "metadata": {},
   "source": [
    "## 2. Najdłuższy wspólny podciąg"
   ]
  },
  {
   "cell_type": "code",
   "execution_count": null,
   "id": "average-soccer",
   "metadata": {},
   "outputs": [],
   "source": []
  },
  {
   "cell_type": "markdown",
   "id": "thorough-inventory",
   "metadata": {},
   "source": [
    "## Wnioski"
   ]
  },
  {
   "cell_type": "markdown",
   "id": "ahead-slide",
   "metadata": {},
   "source": []
  },
  {
   "cell_type": "markdown",
   "id": "dress-coach",
   "metadata": {},
   "source": [
    "M. Hawryluk 30.04.2021"
   ]
  }
 ],
 "metadata": {
  "kernelspec": {
   "display_name": "Python 3",
   "language": "python",
   "name": "python3"
  },
  "language_info": {
   "codemirror_mode": {
    "name": "ipython",
    "version": 3
   },
   "file_extension": ".py",
   "mimetype": "text/x-python",
   "name": "python",
   "nbconvert_exporter": "python",
   "pygments_lexer": "ipython3",
   "version": "3.8.6"
  }
 },
 "nbformat": 4,
 "nbformat_minor": 5
}
